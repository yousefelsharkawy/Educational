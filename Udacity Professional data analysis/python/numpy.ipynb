{
 "cells": [
  {
   "cell_type": "markdown",
   "id": "af7b2241",
   "metadata": {},
   "source": [
    "# Numpy"
   ]
  },
  {
   "cell_type": "markdown",
   "id": "1f6127c7",
   "metadata": {},
   "source": [
    "- is short for numerical numpy\n",
    "- designed for efficient scientific computation\n",
    "- built on top of c (which works on a lower level than python)\n",
    "- means it is very fast\n",
    "- the core of numpy is n-dimentional array object (multidimensional array that holds a group of elements of the same type) \n",
    "- it's like a grid that can take any shape and forces all of it's elements to be of the same type \n",
    "- making it that way helps numpy to do many vector operations with very high speed"
   ]
  },
  {
   "cell_type": "markdown",
   "id": "2fc38f6e",
   "metadata": {},
   "source": [
    "## why use numpy"
   ]
  },
  {
   "cell_type": "code",
   "execution_count": 1,
   "id": "a5e65171",
   "metadata": {},
   "outputs": [],
   "source": [
    "import time\n",
    "import numpy as np"
   ]
  },
  {
   "cell_type": "code",
   "execution_count": 2,
   "id": "889e7fea",
   "metadata": {},
   "outputs": [
    {
     "data": {
      "text/plain": [
       "array([0.46613199, 0.96010145, 0.75994646, ..., 0.82172784, 0.28200051,\n",
       "       0.94051219])"
      ]
     },
     "execution_count": 2,
     "metadata": {},
     "output_type": "execute_result"
    }
   ],
   "source": [
    "# creat an array of 100,000,000 floats between 0 and 1\n",
    "x = np.random.random(100000000)\n",
    "x"
   ]
  },
  {
   "cell_type": "code",
   "execution_count": 3,
   "id": "d26837f7",
   "metadata": {},
   "outputs": [
    {
     "data": {
      "text/plain": [
       "(100000000,)"
      ]
     },
     "execution_count": 3,
     "metadata": {},
     "output_type": "execute_result"
    }
   ],
   "source": [
    "x.shape"
   ]
  },
  {
   "cell_type": "code",
   "execution_count": 4,
   "id": "6c88db99",
   "metadata": {},
   "outputs": [
    {
     "name": "stdout",
     "output_type": "stream",
     "text": [
      "22.25968337059021 seconds\n"
     ]
    }
   ],
   "source": [
    "# the time used for finding the mean of that array using python\n",
    "start = time.time()\n",
    "sum(x)/len(x)\n",
    "print(time.time() - start , \"seconds\")"
   ]
  },
  {
   "cell_type": "code",
   "execution_count": 7,
   "id": "ef5c95f4",
   "metadata": {},
   "outputs": [
    {
     "name": "stdout",
     "output_type": "stream",
     "text": [
      "0.15560364723205566 seconds\n"
     ]
    }
   ],
   "source": [
    "# the time for calculating the mean using numpy\n",
    "start = time.time()\n",
    "np.mean(x)\n",
    "print(time.time()-start, \"seconds\")"
   ]
  },
  {
   "cell_type": "markdown",
   "id": "673f20aa",
   "metadata": {},
   "source": [
    "- numpy is extremely faster \n",
    "- also useful functions for machine learning problems (ex. holding pixel values for image calssification)\n",
    "- pandas is built on top of numpy and useful for manipulating datasets"
   ]
  },
  {
   "cell_type": "markdown",
   "id": "acdada46",
   "metadata": {},
   "source": [
    "## creating numpy arrays"
   ]
  },
  {
   "cell_type": "markdown",
   "id": "1372652b",
   "metadata": {},
   "source": [
    "### 1- use `numpy.array()` function to create them from other array-like objects (ex. regular lists)"
   ]
  },
  {
   "cell_type": "code",
   "execution_count": 8,
   "id": "b0c3ceb3",
   "metadata": {},
   "outputs": [
    {
     "name": "stdout",
     "output_type": "stream",
     "text": [
      "[1 2 3 4 5]\n",
      "<class 'numpy.ndarray'>\n"
     ]
    }
   ],
   "source": [
    "#creating ndarray from a list\n",
    "x = np.array([1, 2, 3, 4, 5])\n",
    "print(x)\n",
    "print(type(x))"
   ]
  },
  {
   "cell_type": "code",
   "execution_count": 9,
   "id": "40c793e9",
   "metadata": {},
   "outputs": [
    {
     "data": {
      "text/plain": [
       "dtype('int32')"
      ]
     },
     "execution_count": 9,
     "metadata": {},
     "output_type": "execute_result"
    }
   ],
   "source": [
    "#useful attributes\n",
    "x.dtype #returns the datatype of the elements in the arrary"
   ]
  },
  {
   "cell_type": "markdown",
   "id": "b2da7dba",
   "metadata": {},
   "source": [
    "- numpy handles more data types than python (check the documentation)"
   ]
  },
  {
   "cell_type": "code",
   "execution_count": 10,
   "id": "601f44eb",
   "metadata": {},
   "outputs": [
    {
     "data": {
      "text/plain": [
       "(5,)"
      ]
     },
     "execution_count": 10,
     "metadata": {},
     "output_type": "execute_result"
    }
   ],
   "source": [
    "x.shape #returns a tuple of n integers representing the size (of dimension n) "
   ]
  },
  {
   "cell_type": "markdown",
   "id": "6728ab86",
   "metadata": {},
   "source": [
    "- here it returned only 1 integer (5,) because it's 1D array"
   ]
  },
  {
   "cell_type": "code",
   "execution_count": 11,
   "id": "cb28d355",
   "metadata": {},
   "outputs": [
    {
     "data": {
      "text/plain": [
       "array([[ 1,  2,  3],\n",
       "       [ 4,  5,  6],\n",
       "       [ 7,  8,  9],\n",
       "       [10, 11, 12]])"
      ]
     },
     "execution_count": 11,
     "metadata": {},
     "output_type": "execute_result"
    }
   ],
   "source": [
    "# create a 2D array of nested python list \n",
    "y = np.array([[1,2,3],[4,5,6],[7,8,9],[10,11,12]])\n",
    "y"
   ]
  },
  {
   "cell_type": "code",
   "execution_count": 13,
   "id": "f1a8f2be",
   "metadata": {},
   "outputs": [
    {
     "name": "stdout",
     "output_type": "stream",
     "text": [
      "int32\n",
      "(4, 3)\n",
      "12\n"
     ]
    }
   ],
   "source": [
    "#attributes\n",
    "print(y.dtype)\n",
    "print(y.shape)\n",
    "print(y.size)"
   ]
  },
  {
   "cell_type": "markdown",
   "id": "098f74e4",
   "metadata": {},
   "source": [
    "### example 3"
   ]
  },
  {
   "cell_type": "code",
   "execution_count": 16,
   "id": "47792481",
   "metadata": {},
   "outputs": [
    {
     "data": {
      "text/plain": [
       "array(['hellooo', 'world', '!'], dtype='<U7')"
      ]
     },
     "execution_count": 16,
     "metadata": {},
     "output_type": "execute_result"
    }
   ],
   "source": [
    "z = np.array([\"hellooo\",\"world\",\"!\"])\n",
    "z"
   ]
  },
  {
   "cell_type": "code",
   "execution_count": 17,
   "id": "30bc08cc",
   "metadata": {},
   "outputs": [
    {
     "name": "stdout",
     "output_type": "stream",
     "text": [
      "<U7\n",
      "(3,)\n",
      "3\n"
     ]
    }
   ],
   "source": [
    "print(z.dtype) #u5 is unicode strings of 7 characters (mine: the longest number of characters in the array)\n",
    "print(z.shape)\n",
    "print(z.size)"
   ]
  },
  {
   "cell_type": "code",
   "execution_count": 19,
   "id": "0d0f492c",
   "metadata": {},
   "outputs": [
    {
     "data": {
      "text/plain": [
       "array(['1', 'hello', '2.3'], dtype='<U32')"
      ]
     },
     "execution_count": 19,
     "metadata": {},
     "output_type": "execute_result"
    }
   ],
   "source": [
    "c = np.array([1,\"hello\",2.3])\n",
    "c"
   ]
  },
  {
   "cell_type": "markdown",
   "id": "319a9ecb",
   "metadata": {},
   "source": [
    "- notice here that the elements are still of the same type (unicode of 32 characters)"
   ]
  },
  {
   "cell_type": "code",
   "execution_count": 21,
   "id": "f7ca4868",
   "metadata": {},
   "outputs": [
    {
     "data": {
      "text/plain": [
       "'1'"
      ]
     },
     "execution_count": 21,
     "metadata": {},
     "output_type": "execute_result"
    }
   ],
   "source": [
    "c[0] # notice that it upcasted all of the types to the most general type"
   ]
  },
  {
   "cell_type": "code",
   "execution_count": 22,
   "id": "4a5d1070",
   "metadata": {},
   "outputs": [
    {
     "data": {
      "text/plain": [
       "array([1. , 2.3])"
      ]
     },
     "execution_count": 22,
     "metadata": {},
     "output_type": "execute_result"
    }
   ],
   "source": [
    "w = np.array([1,2.3])\n",
    "w"
   ]
  },
  {
   "cell_type": "code",
   "execution_count": 23,
   "id": "18534586",
   "metadata": {},
   "outputs": [
    {
     "data": {
      "text/plain": [
       "dtype('float64')"
      ]
     },
     "execution_count": 23,
     "metadata": {},
     "output_type": "execute_result"
    }
   ],
   "source": [
    "w.dtype"
   ]
  },
  {
   "cell_type": "markdown",
   "id": "a6275a9a",
   "metadata": {},
   "source": [
    "- numpy upcasts the integers to floats to avoid losing precision"
   ]
  },
  {
   "cell_type": "code",
   "execution_count": 24,
   "id": "d166cf68",
   "metadata": {},
   "outputs": [
    {
     "data": {
      "text/plain": [
       "array([1, 2, 5], dtype=int64)"
      ]
     },
     "execution_count": 24,
     "metadata": {},
     "output_type": "execute_result"
    }
   ],
   "source": [
    "#to specify the dtype yourself\n",
    "x = np.array([1,2.2,5.7], dtype = np.int64)\n",
    "x"
   ]
  },
  {
   "cell_type": "code",
   "execution_count": 25,
   "id": "3e1db74a",
   "metadata": {},
   "outputs": [
    {
     "data": {
      "text/plain": [
       "dtype('int64')"
      ]
     },
     "execution_count": 25,
     "metadata": {},
     "output_type": "execute_result"
    }
   ],
   "source": [
    "x.dtype"
   ]
  },
  {
   "cell_type": "markdown",
   "id": "eac52cb2",
   "metadata": {},
   "source": [
    "## after craeting the array we may save it to be read later or used by another program"
   ]
  },
  {
   "cell_type": "code",
   "execution_count": 26,
   "id": "d9e32806",
   "metadata": {},
   "outputs": [],
   "source": [
    "np.save(\"my_array\",y)"
   ]
  },
  {
   "cell_type": "code",
   "execution_count": 27,
   "id": "2c198fde",
   "metadata": {},
   "outputs": [
    {
     "name": "stdout",
     "output_type": "stream",
     "text": [
      "[[ 1  2  3]\n",
      " [ 4  5  6]\n",
      " [ 7  8  9]\n",
      " [10 11 12]]\n"
     ]
    }
   ],
   "source": [
    "#to load it into a variable\n",
    "o = np.load(\"my_array.npy\")\n",
    "print(o)"
   ]
  },
  {
   "cell_type": "markdown",
   "id": "81ac80c3",
   "metadata": {},
   "source": [
    "### 2- using varity of built-in functions "
   ]
  },
  {
   "cell_type": "markdown",
   "id": "e0ac56c0",
   "metadata": {},
   "source": [
    "## array of zeros"
   ]
  },
  {
   "cell_type": "code",
   "execution_count": 28,
   "id": "1cba7c8e",
   "metadata": {},
   "outputs": [
    {
     "data": {
      "text/plain": [
       "array([[0., 0., 0., 0.],\n",
       "       [0., 0., 0., 0.],\n",
       "       [0., 0., 0., 0.]])"
      ]
     },
     "execution_count": 28,
     "metadata": {},
     "output_type": "execute_result"
    }
   ],
   "source": [
    "# generating numpy arrays\n",
    "x = np.zeros((3,4)) #takes a tuple of the shape 3x4 and produce array of zeros\n",
    "x"
   ]
  },
  {
   "cell_type": "code",
   "execution_count": 29,
   "id": "3882a295",
   "metadata": {},
   "outputs": [
    {
     "name": "stdout",
     "output_type": "stream",
     "text": [
      "float64 (3, 4) 12\n"
     ]
    }
   ],
   "source": [
    "print(x.dtype,x.shape,x.size)"
   ]
  },
  {
   "cell_type": "markdown",
   "id": "0330a27f",
   "metadata": {},
   "source": [
    "- by default the dtype is float64 but we can change it"
   ]
  },
  {
   "cell_type": "code",
   "execution_count": 30,
   "id": "d0b184f3",
   "metadata": {},
   "outputs": [
    {
     "data": {
      "text/plain": [
       "array([[0, 0, 0, 0],\n",
       "       [0, 0, 0, 0],\n",
       "       [0, 0, 0, 0]])"
      ]
     },
     "execution_count": 30,
     "metadata": {},
     "output_type": "execute_result"
    }
   ],
   "source": [
    "x = np.zeros((3,4), dtype =int)\n",
    "x"
   ]
  },
  {
   "cell_type": "markdown",
   "id": "9bf3bcd5",
   "metadata": {},
   "source": [
    "## array of ones"
   ]
  },
  {
   "cell_type": "code",
   "execution_count": 31,
   "id": "a96f53f8",
   "metadata": {},
   "outputs": [
    {
     "data": {
      "text/plain": [
       "array([[1., 1., 1., 1., 1., 1.],\n",
       "       [1., 1., 1., 1., 1., 1.],\n",
       "       [1., 1., 1., 1., 1., 1.],\n",
       "       [1., 1., 1., 1., 1., 1.],\n",
       "       [1., 1., 1., 1., 1., 1.]])"
      ]
     },
     "execution_count": 31,
     "metadata": {},
     "output_type": "execute_result"
    }
   ],
   "source": [
    "x = np.ones((5,6))\n",
    "x"
   ]
  },
  {
   "cell_type": "markdown",
   "id": "8dfaa69d",
   "metadata": {},
   "source": [
    "## array of certain constant"
   ]
  },
  {
   "cell_type": "code",
   "execution_count": 44,
   "id": "c66a998f",
   "metadata": {},
   "outputs": [
    {
     "name": "stdout",
     "output_type": "stream",
     "text": [
      "[[7 7 7 7]\n",
      " [7 7 7 7]\n",
      " [7 7 7 7]] int32\n"
     ]
    }
   ],
   "source": [
    "x = np.full((3,4),7) \n",
    "print(x,x.dtype)"
   ]
  },
  {
   "cell_type": "code",
   "execution_count": 45,
   "id": "432a846d",
   "metadata": {},
   "outputs": [],
   "source": [
    "x[0,0] = 5"
   ]
  },
  {
   "cell_type": "code",
   "execution_count": 46,
   "id": "344100c4",
   "metadata": {},
   "outputs": [
    {
     "data": {
      "text/plain": [
       "array([[5, 7, 7, 7],\n",
       "       [7, 7, 7, 7],\n",
       "       [7, 7, 7, 7]])"
      ]
     },
     "execution_count": 46,
     "metadata": {},
     "output_type": "execute_result"
    }
   ],
   "source": [
    "x"
   ]
  },
  {
   "cell_type": "markdown",
   "id": "e762139c",
   "metadata": {},
   "source": [
    "- takes as input the tuple of the shape and the constant to be used\n",
    "- the dtype of the array is the type of the constant we give it"
   ]
  },
  {
   "cell_type": "code",
   "execution_count": 48,
   "id": "123fde28",
   "metadata": {},
   "outputs": [
    {
     "name": "stdout",
     "output_type": "stream",
     "text": [
      "[['y' 'y' 'y' 'y']\n",
      " ['y' 'y' 'y' 'y']\n",
      " ['y' 'y' 'y' 'y']]\n",
      "<U1\n"
     ]
    }
   ],
   "source": [
    "x = np.full((3,4),'y')\n",
    "print(x)\n",
    "print(x.dtype)"
   ]
  },
  {
   "cell_type": "code",
   "execution_count": 55,
   "id": "d142dee8",
   "metadata": {},
   "outputs": [],
   "source": [
    "x[0,0] = \"you\""
   ]
  },
  {
   "cell_type": "code",
   "execution_count": 56,
   "id": "f5c7cc17",
   "metadata": {},
   "outputs": [
    {
     "data": {
      "text/plain": [
       "array([['y', 'y', 'y', 'y'],\n",
       "       ['y', 'y', 'y', 'y'],\n",
       "       ['y', 'y', 'y', 'y']], dtype='<U1')"
      ]
     },
     "execution_count": 56,
     "metadata": {},
     "output_type": "execute_result"
    }
   ],
   "source": [
    "x"
   ]
  },
  {
   "cell_type": "markdown",
   "id": "97b5b916",
   "metadata": {},
   "source": [
    "- notice that since the dtype is U1, you was casted to y"
   ]
  },
  {
   "cell_type": "code",
   "execution_count": 57,
   "id": "0c0d5dbe",
   "metadata": {},
   "outputs": [],
   "source": [
    "x[0,0] = \"be you\""
   ]
  },
  {
   "cell_type": "code",
   "execution_count": 58,
   "id": "ee68e7cd",
   "metadata": {},
   "outputs": [
    {
     "data": {
      "text/plain": [
       "array([['b', 'y', 'y', 'y'],\n",
       "       ['y', 'y', 'y', 'y'],\n",
       "       ['y', 'y', 'y', 'y']], dtype='<U1')"
      ]
     },
     "execution_count": 58,
     "metadata": {},
     "output_type": "execute_result"
    }
   ],
   "source": [
    "x"
   ]
  },
  {
   "cell_type": "markdown",
   "id": "9fa2c17b",
   "metadata": {},
   "source": [
    "## identity matrix"
   ]
  },
  {
   "cell_type": "code",
   "execution_count": 59,
   "id": "02df4dc8",
   "metadata": {},
   "outputs": [
    {
     "data": {
      "text/plain": [
       "array([[1., 0., 0., 0., 0.],\n",
       "       [0., 1., 0., 0., 0.],\n",
       "       [0., 0., 1., 0., 0.],\n",
       "       [0., 0., 0., 1., 0.],\n",
       "       [0., 0., 0., 0., 1.]])"
      ]
     },
     "execution_count": 59,
     "metadata": {},
     "output_type": "execute_result"
    }
   ],
   "source": [
    "x = np.eye(5)\n",
    "x"
   ]
  },
  {
   "cell_type": "markdown",
   "id": "38b7d301",
   "metadata": {},
   "source": [
    "- takes a single integer because it's a square matrix"
   ]
  },
  {
   "cell_type": "markdown",
   "id": "9159cf63",
   "metadata": {},
   "source": [
    "## diagonal matrix"
   ]
  },
  {
   "cell_type": "code",
   "execution_count": 60,
   "id": "ef4f1b90",
   "metadata": {},
   "outputs": [
    {
     "data": {
      "text/plain": [
       "array([[1, 0, 0, 0],\n",
       "       [0, 2, 0, 0],\n",
       "       [0, 0, 3, 0],\n",
       "       [0, 0, 0, 4]])"
      ]
     },
     "execution_count": 60,
     "metadata": {},
     "output_type": "execute_result"
    }
   ],
   "source": [
    "x = np.diag([1,2,3,4])\n",
    "x"
   ]
  },
  {
   "cell_type": "markdown",
   "id": "b52ff2e5",
   "metadata": {},
   "source": [
    "## array with specific numerical ranges "
   ]
  },
  {
   "cell_type": "markdown",
   "id": "5b691f62",
   "metadata": {},
   "source": [
    "- 1D array of evenly spaced values\n",
    " -   arange(start (enclusive) = 0,stop (execlusive) ,step = 1)"
   ]
  },
  {
   "cell_type": "code",
   "execution_count": 61,
   "id": "48592aef",
   "metadata": {},
   "outputs": [
    {
     "name": "stdout",
     "output_type": "stream",
     "text": [
      "[0 1 2 3 4 5 6 7 8 9] <class 'numpy.ndarray'> int32\n"
     ]
    }
   ],
   "source": [
    "x = np.arange(10)\n",
    "print(x,type(x),x.dtype)"
   ]
  },
  {
   "cell_type": "code",
   "execution_count": 62,
   "id": "b53414cc",
   "metadata": {},
   "outputs": [
    {
     "data": {
      "text/plain": [
       "array([5, 6, 7, 8, 9])"
      ]
     },
     "execution_count": 62,
     "metadata": {},
     "output_type": "execute_result"
    }
   ],
   "source": [
    "x = np.arange(5,10) #start and stop only\n",
    "x"
   ]
  },
  {
   "cell_type": "code",
   "execution_count": 63,
   "id": "ad0d7950",
   "metadata": {},
   "outputs": [
    {
     "data": {
      "text/plain": [
       "array([5, 7, 9])"
      ]
     },
     "execution_count": 63,
     "metadata": {},
     "output_type": "execute_result"
    }
   ],
   "source": [
    "x = np.arange(5,10,2)\n",
    "x"
   ]
  },
  {
   "cell_type": "code",
   "execution_count": 64,
   "id": "d2f6a72c",
   "metadata": {},
   "outputs": [
    {
     "data": {
      "text/plain": [
       "array([5. , 5.5, 6. , 6.5, 7. , 7.5, 8. , 8.5, 9. , 9.5])"
      ]
     },
     "execution_count": 64,
     "metadata": {},
     "output_type": "execute_result"
    }
   ],
   "source": [
    "x = np.arange(5,10,0.5)\n",
    "x"
   ]
  },
  {
   "cell_type": "markdown",
   "id": "8dd13032",
   "metadata": {},
   "source": [
    "- when we use floating point steps, the output is incinsistent due to finite floating point precision\n",
    "- so it's better to use linspace for non integer steps"
   ]
  },
  {
   "cell_type": "markdown",
   "id": "88dc5db7",
   "metadata": {},
   "source": [
    "- 2 - linespace(start (inclusive) , stop(inclusive) , n = 50)\n",
    " - returns n evenly spaced numbers from start to stop \n",
    " - at least 2 arguments are required"
   ]
  },
  {
   "cell_type": "code",
   "execution_count": 65,
   "id": "0b60c910",
   "metadata": {},
   "outputs": [
    {
     "data": {
      "text/plain": [
       "array([ 0.        ,  2.77777778,  5.55555556,  8.33333333, 11.11111111,\n",
       "       13.88888889, 16.66666667, 19.44444444, 22.22222222, 25.        ])"
      ]
     },
     "execution_count": 65,
     "metadata": {},
     "output_type": "execute_result"
    }
   ],
   "source": [
    "x = np.linspace(0 ,25, 10)\n",
    "x"
   ]
  },
  {
   "cell_type": "code",
   "execution_count": 66,
   "id": "0383f5f4",
   "metadata": {},
   "outputs": [
    {
     "data": {
      "text/plain": [
       "2.7777777777777777"
      ]
     },
     "execution_count": 66,
     "metadata": {},
     "output_type": "execute_result"
    }
   ],
   "source": [
    "x[1] - x[0]"
   ]
  },
  {
   "cell_type": "code",
   "execution_count": 67,
   "id": "fb98116f",
   "metadata": {},
   "outputs": [
    {
     "data": {
      "text/plain": [
       "2.7777777777777777"
      ]
     },
     "execution_count": 67,
     "metadata": {},
     "output_type": "execute_result"
    }
   ],
   "source": [
    "x[2] - x[1]"
   ]
  },
  {
   "cell_type": "code",
   "execution_count": 68,
   "id": "29a31987",
   "metadata": {},
   "outputs": [
    {
     "data": {
      "text/plain": [
       "2.7777777777777786"
      ]
     },
     "execution_count": 68,
     "metadata": {},
     "output_type": "execute_result"
    }
   ],
   "source": [
    "x[-1] - x[-2]"
   ]
  },
  {
   "cell_type": "markdown",
   "id": "5d379425",
   "metadata": {},
   "source": [
    "- that is what we mean by evenly spaced, np.linspace() means linearly spaced"
   ]
  },
  {
   "cell_type": "code",
   "execution_count": 69,
   "id": "258f2aff",
   "metadata": {},
   "outputs": [
    {
     "data": {
      "text/plain": [
       "array([ 0. ,  2.5,  5. ,  7.5, 10. , 12.5, 15. , 17.5, 20. , 22.5])"
      ]
     },
     "execution_count": 69,
     "metadata": {},
     "output_type": "execute_result"
    }
   ],
   "source": [
    "# we can make the end exclusive \n",
    "x = np.linspace(0 ,25, 10, endpoint = False)\n",
    "x"
   ]
  },
  {
   "cell_type": "markdown",
   "id": "52b5a49c",
   "metadata": {},
   "source": [
    "## using arange and linspace combined with reshape to make multidimensional arrays "
   ]
  },
  {
   "cell_type": "markdown",
   "id": "f14391af",
   "metadata": {},
   "source": [
    "### reshape combines any numpy array to specified shape \n",
    "- but both of them should have the total number of elements to be able to get reshaped correctly"
   ]
  },
  {
   "cell_type": "code",
   "execution_count": 70,
   "id": "18dcff0a",
   "metadata": {},
   "outputs": [
    {
     "data": {
      "text/plain": [
       "(10,)"
      ]
     },
     "execution_count": 70,
     "metadata": {},
     "output_type": "execute_result"
    }
   ],
   "source": [
    "x.shape"
   ]
  },
  {
   "cell_type": "code",
   "execution_count": 71,
   "id": "282fe605",
   "metadata": {},
   "outputs": [
    {
     "data": {
      "text/plain": [
       "(array([[ 0. ,  2.5,  5. ,  7.5, 10. ],\n",
       "        [12.5, 15. , 17.5, 20. , 22.5]]),\n",
       " (2, 5))"
      ]
     },
     "execution_count": 71,
     "metadata": {},
     "output_type": "execute_result"
    }
   ],
   "source": [
    "x = np.reshape(x,(2,5))\n",
    "x, x.shape"
   ]
  },
  {
   "cell_type": "markdown",
   "id": "e1bfbc09",
   "metadata": {},
   "source": [
    "- a great feature about numpy is that some functions can be applied as methods \n",
    "- this allows us to apply different functions in sequence in just 1 line"
   ]
  },
  {
   "cell_type": "code",
   "execution_count": 72,
   "id": "b40b70d9",
   "metadata": {},
   "outputs": [
    {
     "data": {
      "text/plain": [
       "array([[ 0,  1,  2,  3,  4],\n",
       "       [ 5,  6,  7,  8,  9],\n",
       "       [10, 11, 12, 13, 14],\n",
       "       [15, 16, 17, 18, 19]])"
      ]
     },
     "execution_count": 72,
     "metadata": {},
     "output_type": "execute_result"
    }
   ],
   "source": [
    "y = np.arange(20).reshape((4,5))\n",
    "y"
   ]
  },
  {
   "cell_type": "markdown",
   "id": "917cdf0a",
   "metadata": {},
   "source": [
    "## arrays of random numbers"
   ]
  },
  {
   "cell_type": "markdown",
   "id": "c4165d81",
   "metadata": {},
   "source": [
    "- useful in data analysis"
   ]
  },
  {
   "cell_type": "markdown",
   "id": "12a51302",
   "metadata": {},
   "source": [
    "## 1 - `random()` to creat array of random numbers between 0 and 1\n",
    "- 0 is inclusive and 1 is exclusive\n",
    "- random function contained in the random module in numpy "
   ]
  },
  {
   "cell_type": "code",
   "execution_count": 73,
   "id": "153ec541",
   "metadata": {},
   "outputs": [
    {
     "data": {
      "text/plain": [
       "array([[0.93943482, 0.82054704, 0.92590428],\n",
       "       [0.95031107, 0.26014343, 0.91824049],\n",
       "       [0.54523346, 0.49881694, 0.49165422]])"
      ]
     },
     "execution_count": 73,
     "metadata": {},
     "output_type": "execute_result"
    }
   ],
   "source": [
    "x = np.random.random((3,3))\n",
    "x"
   ]
  },
  {
   "cell_type": "markdown",
   "id": "13c5e48b",
   "metadata": {},
   "source": [
    "## 2- randint for random numbers between 2 integers\n",
    "- randint(lower bound (inclusive), upperbound (exclusive) ,tuple of shape)"
   ]
  },
  {
   "cell_type": "code",
   "execution_count": 74,
   "id": "7ab4ab91",
   "metadata": {},
   "outputs": [
    {
     "data": {
      "text/plain": [
       "array([[ 9, 10, 11],\n",
       "       [ 5,  8, 14],\n",
       "       [ 5,  4, 10]])"
      ]
     },
     "execution_count": 74,
     "metadata": {},
     "output_type": "execute_result"
    }
   ],
   "source": [
    "x = np.random.randint(4,15,(3,3))\n",
    "x"
   ]
  },
  {
   "cell_type": "markdown",
   "id": "9855640c",
   "metadata": {},
   "source": [
    "### 3 - random numbers to satisfy statistical properties"
   ]
  },
  {
   "cell_type": "markdown",
   "id": "a2b8168c",
   "metadata": {},
   "source": [
    "### random numbers of normal distribution given certain mean and standard deviation\n",
    "- normal(mean, standard deviation, shape)\n",
    "- if the mean and standard deviation are not given, the default is 0 and 1 (standard normal distribution)\n",
    "- if the shape is not given, the default is 1"
   ]
  },
  {
   "cell_type": "code",
   "execution_count": 77,
   "id": "0c3e5197",
   "metadata": {},
   "outputs": [
    {
     "data": {
      "text/plain": [
       "array([[-0.08885936, -0.06413818,  0.03291731],\n",
       "       [ 0.13058545, -0.04959204,  0.15201374],\n",
       "       [ 0.00723745, -0.57587298, -0.0964994 ]])"
      ]
     },
     "execution_count": 77,
     "metadata": {},
     "output_type": "execute_result"
    }
   ],
   "source": [
    "x = np.random.normal(0,0.2,size = (3,3))\n",
    "x"
   ]
  },
  {
   "cell_type": "code",
   "execution_count": 78,
   "id": "466d0de3",
   "metadata": {},
   "outputs": [
    {
     "data": {
      "text/plain": [
       "-0.061356444394779955"
      ]
     },
     "execution_count": 78,
     "metadata": {},
     "output_type": "execute_result"
    }
   ],
   "source": [
    "x.mean()"
   ]
  },
  {
   "cell_type": "code",
   "execution_count": 79,
   "id": "7d270326",
   "metadata": {},
   "outputs": [
    {
     "data": {
      "text/plain": [
       "0.20078347421395"
      ]
     },
     "execution_count": 79,
     "metadata": {},
     "output_type": "execute_result"
    }
   ],
   "source": [
    "x.std()"
   ]
  },
  {
   "cell_type": "markdown",
   "id": "a59597ad",
   "metadata": {},
   "source": [
    "notice they aren't so precise because the size is small, the larger the sampled numbers the more precise the distribution will be "
   ]
  },
  {
   "cell_type": "code",
   "execution_count": 82,
   "id": "5ba5ac31",
   "metadata": {},
   "outputs": [
    {
     "data": {
      "text/plain": [
       "0.2655500236203892"
      ]
     },
     "execution_count": 82,
     "metadata": {},
     "output_type": "execute_result"
    }
   ],
   "source": [
    "x = np.random.normal()\n",
    "x"
   ]
  },
  {
   "cell_type": "markdown",
   "id": "cd29d0c5",
   "metadata": {},
   "source": [
    "# manipulate numpy arrays"
   ]
  },
  {
   "cell_type": "markdown",
   "id": "eaf4f0f0",
   "metadata": {},
   "source": [
    "- numpy arrays are mutable (elements can be changed)\n",
    "- can also be sliced to retreive any subset of the array (we often slice to separate data)\n",
    " - example like when we divide the data into training,validation and testing set"
   ]
  },
  {
   "cell_type": "markdown",
   "id": "1dbd4809",
   "metadata": {},
   "source": [
    "## access and modify the elements by indexing"
   ]
  },
  {
   "cell_type": "markdown",
   "id": "f7bdacad",
   "metadata": {},
   "source": [
    "### access the elements"
   ]
  },
  {
   "cell_type": "code",
   "execution_count": 83,
   "id": "629a2324",
   "metadata": {},
   "outputs": [
    {
     "data": {
      "text/plain": [
       "array([1, 2, 3, 4, 5])"
      ]
     },
     "execution_count": 83,
     "metadata": {},
     "output_type": "execute_result"
    }
   ],
   "source": [
    "x = np.array([1,2,3,4,5])\n",
    "x"
   ]
  },
  {
   "cell_type": "code",
   "execution_count": 84,
   "id": "248be35c",
   "metadata": {},
   "outputs": [
    {
     "name": "stdout",
     "output_type": "stream",
     "text": [
      "First element: 1\n",
      "Last element: 5\n"
     ]
    }
   ],
   "source": [
    "print(\"First element: {}\".format(x[0]))\n",
    "print(\"Last element: {}\".format(x[-1]))"
   ]
  },
  {
   "cell_type": "markdown",
   "id": "fdf16dc6",
   "metadata": {},
   "source": [
    "### modify the accessed elements"
   ]
  },
  {
   "cell_type": "code",
   "execution_count": 85,
   "id": "5af9a72c",
   "metadata": {},
   "outputs": [
    {
     "data": {
      "text/plain": [
       "array([ 1,  2,  3,  4, 20])"
      ]
     },
     "execution_count": 85,
     "metadata": {},
     "output_type": "execute_result"
    }
   ],
   "source": [
    "x[4] = 20\n",
    "x"
   ]
  },
  {
   "cell_type": "markdown",
   "id": "e0b8bc02",
   "metadata": {},
   "source": [
    "example 2"
   ]
  },
  {
   "cell_type": "code",
   "execution_count": 86,
   "id": "0b363b9b",
   "metadata": {},
   "outputs": [
    {
     "data": {
      "text/plain": [
       "array([[1, 2, 3],\n",
       "       [4, 5, 6],\n",
       "       [7, 8, 9]])"
      ]
     },
     "execution_count": 86,
     "metadata": {},
     "output_type": "execute_result"
    }
   ],
   "source": [
    "x = np.arange(1,10).reshape((3,3))\n",
    "x"
   ]
  },
  {
   "cell_type": "markdown",
   "id": "6c4d16bc",
   "metadata": {},
   "source": [
    "x[row number,column number] both 0 indexed"
   ]
  },
  {
   "cell_type": "code",
   "execution_count": 87,
   "id": "4468a998",
   "metadata": {},
   "outputs": [
    {
     "data": {
      "text/plain": [
       "(1, 2, 4)"
      ]
     },
     "execution_count": 87,
     "metadata": {},
     "output_type": "execute_result"
    }
   ],
   "source": [
    "x[0,0],x[0,1],x[1,0]"
   ]
  },
  {
   "cell_type": "code",
   "execution_count": 88,
   "id": "e16a6891",
   "metadata": {},
   "outputs": [
    {
     "data": {
      "text/plain": [
       "array([[20,  2,  3],\n",
       "       [ 4,  5,  6],\n",
       "       [ 7,  8,  9]])"
      ]
     },
     "execution_count": 88,
     "metadata": {},
     "output_type": "execute_result"
    }
   ],
   "source": [
    "x[0,0] = 20\n",
    "x"
   ]
  },
  {
   "cell_type": "markdown",
   "id": "d57b9652",
   "metadata": {},
   "source": [
    "## delete elements from the array \n",
    " - using delete(array, list of indicies to delete from, axis to delete from-for 2D arrays-) function\n",
    " - for 1D it deletes elements, for 2D it deletes entire rows or columns using the axis attribute \n",
    "  - axis = 0 means we use the horizontal axis -of rows-\n",
    "  - axis = 1 means we use the vertical axis -of columns-\n",
    "- it doesn't delete it in place -instead it returns a copy of that array with the elements deleted-, so we have to assign it back to the variable"
   ]
  },
  {
   "cell_type": "code",
   "execution_count": 89,
   "id": "e20a20c2",
   "metadata": {},
   "outputs": [
    {
     "data": {
      "text/plain": [
       "array([1, 2, 3, 4, 5])"
      ]
     },
     "execution_count": 89,
     "metadata": {},
     "output_type": "execute_result"
    }
   ],
   "source": [
    "x = np.array([1,2,3,4,5])\n",
    "x"
   ]
  },
  {
   "cell_type": "code",
   "execution_count": 90,
   "id": "9a0d372b",
   "metadata": {},
   "outputs": [
    {
     "data": {
      "text/plain": [
       "array([2, 3, 4])"
      ]
     },
     "execution_count": 90,
     "metadata": {},
     "output_type": "execute_result"
    }
   ],
   "source": [
    "np.delete(x,[0,-1])"
   ]
  },
  {
   "cell_type": "code",
   "execution_count": 91,
   "id": "e619fb2f",
   "metadata": {},
   "outputs": [
    {
     "data": {
      "text/plain": [
       "array([1, 2, 3, 4, 5])"
      ]
     },
     "execution_count": 91,
     "metadata": {},
     "output_type": "execute_result"
    }
   ],
   "source": [
    "x"
   ]
  },
  {
   "cell_type": "code",
   "execution_count": 92,
   "id": "1040432d",
   "metadata": {},
   "outputs": [
    {
     "data": {
      "text/plain": [
       "array([2, 3, 4])"
      ]
     },
     "execution_count": 92,
     "metadata": {},
     "output_type": "execute_result"
    }
   ],
   "source": [
    "x = np.delete(x,[0,-1]) # reassign it to the variable to make it in place\n",
    "x"
   ]
  },
  {
   "cell_type": "code",
   "execution_count": 93,
   "id": "b8585d84",
   "metadata": {},
   "outputs": [
    {
     "data": {
      "text/plain": [
       "array([[1, 2, 3],\n",
       "       [4, 5, 6],\n",
       "       [7, 8, 9]])"
      ]
     },
     "execution_count": 93,
     "metadata": {},
     "output_type": "execute_result"
    }
   ],
   "source": [
    "x = np.arange(1,10).reshape((3,3))\n",
    "x"
   ]
  },
  {
   "cell_type": "code",
   "execution_count": 94,
   "id": "396c750c",
   "metadata": {},
   "outputs": [
    {
     "data": {
      "text/plain": [
       "array([[4, 5, 6],\n",
       "       [7, 8, 9]])"
      ]
     },
     "execution_count": 94,
     "metadata": {},
     "output_type": "execute_result"
    }
   ],
   "source": [
    "np.delete(x,0,axis = 0)"
   ]
  },
  {
   "cell_type": "code",
   "execution_count": 95,
   "id": "eb057a04",
   "metadata": {},
   "outputs": [
    {
     "data": {
      "text/plain": [
       "array([[1, 2, 3],\n",
       "       [4, 5, 6],\n",
       "       [7, 8, 9]])"
      ]
     },
     "execution_count": 95,
     "metadata": {},
     "output_type": "execute_result"
    }
   ],
   "source": [
    "x"
   ]
  },
  {
   "cell_type": "code",
   "execution_count": 96,
   "id": "b71911da",
   "metadata": {},
   "outputs": [
    {
     "data": {
      "text/plain": [
       "array([[2],\n",
       "       [5],\n",
       "       [8]])"
      ]
     },
     "execution_count": 96,
     "metadata": {},
     "output_type": "execute_result"
    }
   ],
   "source": [
    "np.delete(x,[0,2],axis = 1)"
   ]
  },
  {
   "cell_type": "code",
   "execution_count": 97,
   "id": "ceeb9fba",
   "metadata": {},
   "outputs": [
    {
     "data": {
      "text/plain": [
       "array([[1, 2, 3],\n",
       "       [4, 5, 6],\n",
       "       [7, 8, 9]])"
      ]
     },
     "execution_count": 97,
     "metadata": {},
     "output_type": "execute_result"
    }
   ],
   "source": [
    "x"
   ]
  },
  {
   "cell_type": "markdown",
   "id": "529588ab",
   "metadata": {},
   "source": [
    "## adding elements"
   ]
  },
  {
   "cell_type": "markdown",
   "id": "8c51b977",
   "metadata": {},
   "source": [
    "## 1.append elements to the array \n",
    " - using the append(array, list of elements to append, axis to append it on -for 2D arrays- )\n",
    "     - for 1D arrays, values will be appended to the last \n",
    "     - for 2D arrays, we append entire row or entire column therefore the sizes must match\n",
    " - it also returns a copy of that array with the elements appended"
   ]
  },
  {
   "cell_type": "code",
   "execution_count": 98,
   "id": "ed201a00",
   "metadata": {},
   "outputs": [
    {
     "data": {
      "text/plain": [
       "array([1, 2, 3, 4, 5])"
      ]
     },
     "execution_count": 98,
     "metadata": {},
     "output_type": "execute_result"
    }
   ],
   "source": [
    "x = np.array([1,2,3,4,5])\n",
    "x"
   ]
  },
  {
   "cell_type": "code",
   "execution_count": 99,
   "id": "a024f02b",
   "metadata": {},
   "outputs": [
    {
     "data": {
      "text/plain": [
       "array([1, 2, 3, 4, 5, 6])"
      ]
     },
     "execution_count": 99,
     "metadata": {},
     "output_type": "execute_result"
    }
   ],
   "source": [
    "np.append(x,6)"
   ]
  },
  {
   "cell_type": "code",
   "execution_count": 100,
   "id": "e7609c7a",
   "metadata": {},
   "outputs": [
    {
     "data": {
      "text/plain": [
       "array([1, 2, 3, 4, 5])"
      ]
     },
     "execution_count": 100,
     "metadata": {},
     "output_type": "execute_result"
    }
   ],
   "source": [
    "x"
   ]
  },
  {
   "cell_type": "code",
   "execution_count": 101,
   "id": "8ddf0069",
   "metadata": {},
   "outputs": [
    {
     "data": {
      "text/plain": [
       "array([1, 2, 3, 4, 5, 6, 7, 8])"
      ]
     },
     "execution_count": 101,
     "metadata": {},
     "output_type": "execute_result"
    }
   ],
   "source": [
    "np.append(x,[6,7,8])"
   ]
  },
  {
   "cell_type": "markdown",
   "id": "540e2967",
   "metadata": {},
   "source": [
    "### append for 2D arrays "
   ]
  },
  {
   "cell_type": "code",
   "execution_count": 102,
   "id": "e8072c47",
   "metadata": {},
   "outputs": [
    {
     "data": {
      "text/plain": [
       "array([[1, 2, 3],\n",
       "       [4, 5, 6],\n",
       "       [7, 8, 9]])"
      ]
     },
     "execution_count": 102,
     "metadata": {},
     "output_type": "execute_result"
    }
   ],
   "source": [
    "x = np.arange(1,10).reshape((3,3))\n",
    "x"
   ]
  },
  {
   "cell_type": "code",
   "execution_count": 103,
   "id": "4439c164",
   "metadata": {},
   "outputs": [
    {
     "data": {
      "text/plain": [
       "array([[ 1,  2,  3],\n",
       "       [ 4,  5,  6],\n",
       "       [ 7,  8,  9],\n",
       "       [10, 11, 12]])"
      ]
     },
     "execution_count": 103,
     "metadata": {},
     "output_type": "execute_result"
    }
   ],
   "source": [
    "np.append(x,[[10,11,12]],axis = 0) #our list is 1x3 and x is 3x3 so the number of columns match "
   ]
  },
  {
   "cell_type": "code",
   "execution_count": 104,
   "id": "802457b1",
   "metadata": {},
   "outputs": [
    {
     "data": {
      "text/plain": [
       "array([[ 1,  2,  3,  4],\n",
       "       [ 4,  5,  6,  7],\n",
       "       [ 7,  8,  9, 10]])"
      ]
     },
     "execution_count": 104,
     "metadata": {},
     "output_type": "execute_result"
    }
   ],
   "source": [
    "np.append(x, [[4],[7],[10]], axis=1) #our list is 3x1 and x is 3x3 so the rows match "
   ]
  },
  {
   "cell_type": "code",
   "execution_count": 105,
   "id": "91698c6f",
   "metadata": {},
   "outputs": [
    {
     "data": {
      "text/plain": [
       "array([[1, 2, 3],\n",
       "       [4, 5, 6],\n",
       "       [7, 8, 9]])"
      ]
     },
     "execution_count": 105,
     "metadata": {},
     "output_type": "execute_result"
    }
   ],
   "source": [
    "x"
   ]
  },
  {
   "cell_type": "markdown",
   "id": "0e47c07f",
   "metadata": {},
   "source": [
    "- notice that in all the previous example x didn't change so, in order to change it assign it back"
   ]
  },
  {
   "cell_type": "code",
   "execution_count": 106,
   "id": "0d8de030",
   "metadata": {},
   "outputs": [
    {
     "data": {
      "text/plain": [
       "array([[ 1,  2,  3,  4],\n",
       "       [ 4,  5,  6,  7],\n",
       "       [ 7,  8,  9, 10]])"
      ]
     },
     "execution_count": 106,
     "metadata": {},
     "output_type": "execute_result"
    }
   ],
   "source": [
    "x = np.append(x, [[4],[7],[10]], axis=1)\n",
    "x"
   ]
  },
  {
   "cell_type": "markdown",
   "id": "cd857e66",
   "metadata": {},
   "source": [
    "## insert into numpy array\n",
    "- it is different than append as in here we specify where to add it (in append it is always to the last of the array)\n",
    " - for 1D inserting values \n",
    " - for 2D inserting a whole row or column using axis attribute\n",
    " - using `insert(array, index, elements, axis -for 2D- )` **axis** is the new parameter here to append as in here we can specify where to insert the elements\n",
    "  - inserts the elements to the array right before the index, along the specific axis"
   ]
  },
  {
   "cell_type": "code",
   "execution_count": 107,
   "id": "0ad534fe",
   "metadata": {},
   "outputs": [
    {
     "data": {
      "text/plain": [
       "array([1, 2, 3, 4, 5])"
      ]
     },
     "execution_count": 107,
     "metadata": {},
     "output_type": "execute_result"
    }
   ],
   "source": [
    "x = np.array([1,2,3,4,5])\n",
    "x"
   ]
  },
  {
   "cell_type": "code",
   "execution_count": 108,
   "id": "e5281d68",
   "metadata": {},
   "outputs": [
    {
     "data": {
      "text/plain": [
       "array([  1,   2,  99, 100,   3,   4,   5])"
      ]
     },
     "execution_count": 108,
     "metadata": {},
     "output_type": "execute_result"
    }
   ],
   "source": [
    "x = np.insert(x, 2, [99,100])\n",
    "x"
   ]
  },
  {
   "cell_type": "code",
   "execution_count": 109,
   "id": "bfd56066",
   "metadata": {},
   "outputs": [
    {
     "data": {
      "text/plain": [
       "array([[1, 2, 3],\n",
       "       [4, 5, 6],\n",
       "       [7, 8, 9]])"
      ]
     },
     "execution_count": 109,
     "metadata": {},
     "output_type": "execute_result"
    }
   ],
   "source": [
    "x = np.arange(1,10).reshape((3,3))\n",
    "x"
   ]
  },
  {
   "cell_type": "code",
   "execution_count": 110,
   "id": "b076e25f",
   "metadata": {},
   "outputs": [
    {
     "data": {
      "text/plain": [
       "array([[ 1,  2,  3],\n",
       "       [ 4,  5,  6],\n",
       "       [99, 99, 99],\n",
       "       [ 7,  8,  9]])"
      ]
     },
     "execution_count": 110,
     "metadata": {},
     "output_type": "execute_result"
    }
   ],
   "source": [
    "np.insert(x,-1,[99,99,99],axis = 0)"
   ]
  },
  {
   "cell_type": "code",
   "execution_count": 111,
   "id": "1befb0a9",
   "metadata": {},
   "outputs": [
    {
     "data": {
      "text/plain": [
       "array([[ 1,  2, 99,  3],\n",
       "       [ 4,  5, 99,  6],\n",
       "       [ 7,  8, 99,  9]])"
      ]
     },
     "execution_count": 111,
     "metadata": {},
     "output_type": "execute_result"
    }
   ],
   "source": [
    "np.insert(x,-1,[99,99,99],axis = 1)"
   ]
  },
  {
   "cell_type": "code",
   "execution_count": 112,
   "id": "13127aab",
   "metadata": {},
   "outputs": [
    {
     "data": {
      "text/plain": [
       "array([[ 1,  2,  3],\n",
       "       [ 4,  5,  6],\n",
       "       [ 7,  8,  9],\n",
       "       [99, 99, 99]])"
      ]
     },
     "execution_count": 112,
     "metadata": {},
     "output_type": "execute_result"
    }
   ],
   "source": [
    "np.insert(x,3,[99,99,99],axis = 0)"
   ]
  },
  {
   "cell_type": "markdown",
   "id": "b3dcbadf",
   "metadata": {},
   "source": [
    "## stack numpy arrays"
   ]
  },
  {
   "cell_type": "markdown",
   "id": "d12b7318",
   "metadata": {},
   "source": [
    "### on top of each other \n",
    "- using `np.vstack(tuple of arrays to be stacked)` for vertical stacking \n",
    "- the shape of the arrays must match (to stack arrays below each other, they must have the same number of columns)"
   ]
  },
  {
   "cell_type": "code",
   "execution_count": 113,
   "id": "41c60317",
   "metadata": {},
   "outputs": [
    {
     "data": {
      "text/plain": [
       "array([1, 2, 3])"
      ]
     },
     "execution_count": 113,
     "metadata": {},
     "output_type": "execute_result"
    }
   ],
   "source": [
    "x = np.array([1,2,3])\n",
    "x"
   ]
  },
  {
   "cell_type": "code",
   "execution_count": 114,
   "id": "a72933ae",
   "metadata": {},
   "outputs": [
    {
     "data": {
      "text/plain": [
       "array([[4, 5, 6],\n",
       "       [7, 8, 9]])"
      ]
     },
     "execution_count": 114,
     "metadata": {},
     "output_type": "execute_result"
    }
   ],
   "source": [
    "y = np.array([[4,5,6],[7,8,9]])\n",
    "y"
   ]
  },
  {
   "cell_type": "code",
   "execution_count": 115,
   "id": "f5787bbd",
   "metadata": {},
   "outputs": [
    {
     "data": {
      "text/plain": [
       "array([[1, 2, 3],\n",
       "       [4, 5, 6],\n",
       "       [7, 8, 9]])"
      ]
     },
     "execution_count": 115,
     "metadata": {},
     "output_type": "execute_result"
    }
   ],
   "source": [
    "z = np.vstack((x,y))\n",
    "z"
   ]
  },
  {
   "cell_type": "markdown",
   "id": "dbdc3ab5",
   "metadata": {},
   "source": [
    "## beside each other "
   ]
  },
  {
   "cell_type": "code",
   "execution_count": 118,
   "id": "5ca7dba8",
   "metadata": {},
   "outputs": [
    {
     "data": {
      "text/plain": [
       "(array([[99],\n",
       "        [99],\n",
       "        [99]]),\n",
       " (3, 1))"
      ]
     },
     "execution_count": 118,
     "metadata": {},
     "output_type": "execute_result"
    }
   ],
   "source": [
    "y = np.array([[99],[99],[99]])\n",
    "y, y.shape"
   ]
  },
  {
   "cell_type": "code",
   "execution_count": 120,
   "id": "3e365fee",
   "metadata": {},
   "outputs": [
    {
     "data": {
      "text/plain": [
       "array([[ 1,  2,  3, 99],\n",
       "       [ 4,  5,  6, 99],\n",
       "       [ 7,  8,  9, 99]])"
      ]
     },
     "execution_count": 120,
     "metadata": {},
     "output_type": "execute_result"
    }
   ],
   "source": [
    "z = np.hstack((z,y))\n",
    "z"
   ]
  },
  {
   "cell_type": "markdown",
   "id": "3fee55c9",
   "metadata": {},
   "source": [
    "- to stack arrays beside each other, they must have the same number of rows\n",
    "- in here 3x3 and 3x1 have the same number of rows -3- so we can stack them beside each other, and the result will be 3x(1+3) -> 3x4"
   ]
  },
  {
   "cell_type": "markdown",
   "id": "00393f05",
   "metadata": {},
   "source": [
    "# slicing numpy arrays"
   ]
  },
  {
   "cell_type": "markdown",
   "id": "2b5c701e",
   "metadata": {},
   "source": [
    "- in addition to accessing individual elements using indexing \n",
    "- we can also access a subset of the array with slicing\n",
    "- we have 3 ways of slicing\n",
    " - ndarray[start index : end index] end exluded \n",
    " - ndarray[start index :] we didn't specify end index so it takes till the end (included)\n",
    " - ndarray[: end index] end excluded\n",
    "- if we slice a multidimensional array, we have to specify the slice for each dimension \n",
    " - for 2D array[start:end (indices to grab from the row) , start:end (indicies to grab from the columns)]\n",
    "- slicing creates a window of the same object even if we assign the slice to another variable "
   ]
  },
  {
   "cell_type": "code",
   "execution_count": 121,
   "id": "e3e4d861",
   "metadata": {},
   "outputs": [
    {
     "data": {
      "text/plain": [
       "array([[ 1,  2,  3,  4,  5],\n",
       "       [ 6,  7,  8,  9, 10],\n",
       "       [11, 12, 13, 14, 15],\n",
       "       [16, 17, 18, 19, 20]])"
      ]
     },
     "execution_count": 121,
     "metadata": {},
     "output_type": "execute_result"
    }
   ],
   "source": [
    "x = np.arange(1,21).reshape((4,5))\n",
    "x"
   ]
  },
  {
   "cell_type": "markdown",
   "id": "7d3dffa5",
   "metadata": {},
   "source": [
    "here it's 2D so if we will slice we specify it in the 2 dimensions"
   ]
  },
  {
   "cell_type": "code",
   "execution_count": 122,
   "id": "29705c21",
   "metadata": {},
   "outputs": [
    {
     "data": {
      "text/plain": [
       "array([[ 8,  9, 10],\n",
       "       [13, 14, 15],\n",
       "       [18, 19, 20]])"
      ]
     },
     "execution_count": 122,
     "metadata": {},
     "output_type": "execute_result"
    }
   ],
   "source": [
    "z = x[1:4 , 2:5] \n",
    "z"
   ]
  },
  {
   "cell_type": "code",
   "execution_count": 123,
   "id": "e489bfe1",
   "metadata": {},
   "outputs": [
    {
     "data": {
      "text/plain": [
       "array([[ 8,  9, 10],\n",
       "       [13, 14, 15],\n",
       "       [18, 19, 20]])"
      ]
     },
     "execution_count": 123,
     "metadata": {},
     "output_type": "execute_result"
    }
   ],
   "source": [
    "z = x[1: , 2:]\n",
    "z"
   ]
  },
  {
   "cell_type": "code",
   "execution_count": 124,
   "id": "a2810ecd",
   "metadata": {},
   "outputs": [
    {
     "data": {
      "text/plain": [
       "array([[ 1,  2],\n",
       "       [ 6,  7],\n",
       "       [11, 12]])"
      ]
     },
     "execution_count": 124,
     "metadata": {},
     "output_type": "execute_result"
    }
   ],
   "source": [
    "#slice the first 3 rows and first 2 columns\n",
    "z = x[:3 , :2] #take row 0,1,2 and columns 0,1\n",
    "z"
   ]
  },
  {
   "cell_type": "markdown",
   "id": "3ee908ca",
   "metadata": {},
   "source": [
    "- common practice"
   ]
  },
  {
   "cell_type": "code",
   "execution_count": 125,
   "id": "f9741103",
   "metadata": {},
   "outputs": [
    {
     "data": {
      "text/plain": [
       "array([[ 1,  2,  3,  4,  5],\n",
       "       [ 6,  7,  8,  9, 10],\n",
       "       [11, 12, 13, 14, 15],\n",
       "       [16, 17, 18, 19, 20]])"
      ]
     },
     "execution_count": 125,
     "metadata": {},
     "output_type": "execute_result"
    }
   ],
   "source": [
    "x"
   ]
  },
  {
   "cell_type": "code",
   "execution_count": 126,
   "id": "c3da4cd7",
   "metadata": {},
   "outputs": [
    {
     "data": {
      "text/plain": [
       "(array([ 2,  7, 12]), (3,))"
      ]
     },
     "execution_count": 126,
     "metadata": {},
     "output_type": "execute_result"
    }
   ],
   "source": [
    "indicies = np.array([0,1,2])\n",
    "z = x[indicies,1]\n",
    "z, z.shape"
   ]
  },
  {
   "cell_type": "code",
   "execution_count": 127,
   "id": "d1f0bd34",
   "metadata": {},
   "outputs": [
    {
     "data": {
      "text/plain": [
       "array([11, 12, 13])"
      ]
     },
     "execution_count": 127,
     "metadata": {},
     "output_type": "execute_result"
    }
   ],
   "source": [
    "z = x[2,indicies]\n",
    "z"
   ]
  },
  {
   "cell_type": "code",
   "execution_count": 128,
   "id": "b70e353e",
   "metadata": {},
   "outputs": [
    {
     "data": {
      "text/plain": [
       "array([ 5, 10, 15, 20])"
      ]
     },
     "execution_count": 128,
     "metadata": {},
     "output_type": "execute_result"
    }
   ],
   "source": [
    "#slice all the elements in the last column\n",
    "z = x[: , 4] #or -1 instead of 4\n",
    "z"
   ]
  },
  {
   "cell_type": "markdown",
   "id": "e657e2a4",
   "metadata": {},
   "source": [
    "- notice that we got it as a rank1 array \n",
    "- if we want it as a rank 2 array"
   ]
  },
  {
   "cell_type": "code",
   "execution_count": 129,
   "id": "cc299268",
   "metadata": {},
   "outputs": [
    {
     "data": {
      "text/plain": [
       "array([[ 5],\n",
       "       [10],\n",
       "       [15],\n",
       "       [20]])"
      ]
     },
     "execution_count": 129,
     "metadata": {},
     "output_type": "execute_result"
    }
   ],
   "source": [
    "z = x[: , 4:5]\n",
    "z"
   ]
  },
  {
   "cell_type": "markdown",
   "id": "00c6073d",
   "metadata": {},
   "source": [
    "# important!\n",
    "- when we slice an array and save it to a new variable, the slice isn't deeply copied\n",
    "- changing in the slice also changes the original array \n",
    "- slicing only creates a view of the original data to work with"
   ]
  },
  {
   "cell_type": "code",
   "execution_count": 131,
   "id": "45f2e36e",
   "metadata": {},
   "outputs": [
    {
     "data": {
      "text/plain": [
       "(array([[ 1,  2,  3,  4,  5],\n",
       "        [ 6,  7,  8,  9, 10],\n",
       "        [11, 12, 13, 14, 15],\n",
       "        [16, 17, 18, 19, 20]]),\n",
       " array([[ 5],\n",
       "        [10],\n",
       "        [15],\n",
       "        [20]]))"
      ]
     },
     "execution_count": 131,
     "metadata": {},
     "output_type": "execute_result"
    }
   ],
   "source": [
    "x,z"
   ]
  },
  {
   "cell_type": "code",
   "execution_count": 132,
   "id": "74eba44d",
   "metadata": {},
   "outputs": [
    {
     "data": {
      "text/plain": [
       "array([[ 5],\n",
       "       [10],\n",
       "       [15],\n",
       "       [99]])"
      ]
     },
     "execution_count": 132,
     "metadata": {},
     "output_type": "execute_result"
    }
   ],
   "source": [
    "z[3,0] = 99\n",
    "z"
   ]
  },
  {
   "cell_type": "code",
   "execution_count": 133,
   "id": "34f8e021",
   "metadata": {},
   "outputs": [
    {
     "data": {
      "text/plain": [
       "array([[ 1,  2,  3,  4,  5],\n",
       "       [ 6,  7,  8,  9, 10],\n",
       "       [11, 12, 13, 14, 15],\n",
       "       [16, 17, 18, 19, 99]])"
      ]
     },
     "execution_count": 133,
     "metadata": {},
     "output_type": "execute_result"
    }
   ],
   "source": [
    "x"
   ]
  },
  {
   "cell_type": "markdown",
   "id": "064dee41",
   "metadata": {},
   "source": [
    "## to deep copy it use `np.copy()` or `array.copy()`\n",
    "- it can be used as a function of as a method like reshape()"
   ]
  },
  {
   "cell_type": "code",
   "execution_count": 134,
   "id": "9daf06d2",
   "metadata": {},
   "outputs": [
    {
     "data": {
      "text/plain": [
       "array([[ 1,  2,  3,  4,  5],\n",
       "       [ 6,  7,  8,  9, 10],\n",
       "       [11, 12, 13, 14, 15],\n",
       "       [16, 17, 18, 19, 20]])"
      ]
     },
     "execution_count": 134,
     "metadata": {},
     "output_type": "execute_result"
    }
   ],
   "source": [
    "x = np.arange(1,21).reshape((4,5))\n",
    "x"
   ]
  },
  {
   "cell_type": "markdown",
   "id": "87b4474d",
   "metadata": {},
   "source": [
    "### as a function"
   ]
  },
  {
   "cell_type": "code",
   "execution_count": 135,
   "id": "e559170a",
   "metadata": {},
   "outputs": [
    {
     "data": {
      "text/plain": [
       "array([[ 8,  9, 10],\n",
       "       [13, 14, 15],\n",
       "       [18, 19, 20]])"
      ]
     },
     "execution_count": 135,
     "metadata": {},
     "output_type": "execute_result"
    }
   ],
   "source": [
    "z = np.copy(x[1: , 2:])\n",
    "z"
   ]
  },
  {
   "cell_type": "code",
   "execution_count": 136,
   "id": "05f559d6",
   "metadata": {},
   "outputs": [
    {
     "data": {
      "text/plain": [
       "array([[  8,   9,  10],\n",
       "       [ 13,  14,  15],\n",
       "       [ 18,  19, 100]])"
      ]
     },
     "execution_count": 136,
     "metadata": {},
     "output_type": "execute_result"
    }
   ],
   "source": [
    "z[-1,-1] = 100\n",
    "z"
   ]
  },
  {
   "cell_type": "code",
   "execution_count": 137,
   "id": "c7d65487",
   "metadata": {},
   "outputs": [
    {
     "data": {
      "text/plain": [
       "array([[ 1,  2,  3,  4,  5],\n",
       "       [ 6,  7,  8,  9, 10],\n",
       "       [11, 12, 13, 14, 15],\n",
       "       [16, 17, 18, 19, 20]])"
      ]
     },
     "execution_count": 137,
     "metadata": {},
     "output_type": "execute_result"
    }
   ],
   "source": [
    "x"
   ]
  },
  {
   "cell_type": "markdown",
   "id": "d733a5ed",
   "metadata": {},
   "source": [
    "### as a method"
   ]
  },
  {
   "cell_type": "code",
   "execution_count": 138,
   "id": "eb967fb7",
   "metadata": {},
   "outputs": [
    {
     "data": {
      "text/plain": [
       "array([[ 8,  9, 10],\n",
       "       [13, 14, 15],\n",
       "       [18, 19, 20]])"
      ]
     },
     "execution_count": 138,
     "metadata": {},
     "output_type": "execute_result"
    }
   ],
   "source": [
    "w = x[1:, 2:].copy()\n",
    "w"
   ]
  },
  {
   "cell_type": "markdown",
   "id": "0f0e9af5",
   "metadata": {},
   "source": [
    "## functions to slice specific elements"
   ]
  },
  {
   "cell_type": "markdown",
   "id": "e6965749",
   "metadata": {},
   "source": [
    "## diag() for diagonal elements\n",
    "- retrieves the diagonal elements of the array\n",
    "- np.diag(array, k = 0) k is the offset of the diagonal\n",
    "- if k > 0, it is above the main diagonal\n",
    "- if k < 0, it is below the main diagonal"
   ]
  },
  {
   "cell_type": "code",
   "execution_count": 141,
   "id": "999face0",
   "metadata": {},
   "outputs": [
    {
     "data": {
      "text/plain": [
       "array([[ 1,  2,  3,  4,  5],\n",
       "       [ 6,  7,  8,  9, 10],\n",
       "       [11, 12, 13, 14, 15],\n",
       "       [16, 17, 18, 19, 20]])"
      ]
     },
     "execution_count": 141,
     "metadata": {},
     "output_type": "execute_result"
    }
   ],
   "source": [
    "x = np.arange(1,21).reshape((4,5))\n",
    "x"
   ]
  },
  {
   "cell_type": "code",
   "execution_count": 142,
   "id": "f1d778bd",
   "metadata": {},
   "outputs": [
    {
     "data": {
      "text/plain": [
       "array([ 1,  7, 13, 19])"
      ]
     },
     "execution_count": 142,
     "metadata": {},
     "output_type": "execute_result"
    }
   ],
   "source": [
    "diagonal_elements = np.diag(x)\n",
    "diagonal_elements"
   ]
  },
  {
   "cell_type": "markdown",
   "id": "5dadb43e",
   "metadata": {},
   "source": [
    "### using offset to grab diagonals with respect to the main diagonal"
   ]
  },
  {
   "cell_type": "code",
   "execution_count": 143,
   "id": "e20b30ae",
   "metadata": {},
   "outputs": [
    {
     "data": {
      "text/plain": [
       "array([ 2,  8, 14, 20])"
      ]
     },
     "execution_count": 143,
     "metadata": {},
     "output_type": "execute_result"
    }
   ],
   "source": [
    "above_diagonal = np.diag(x,k=1)\n",
    "above_diagonal"
   ]
  },
  {
   "cell_type": "code",
   "execution_count": 145,
   "id": "156c1024",
   "metadata": {},
   "outputs": [
    {
     "data": {
      "text/plain": [
       "array([ 6, 12, 18])"
      ]
     },
     "execution_count": 145,
     "metadata": {},
     "output_type": "execute_result"
    }
   ],
   "source": [
    "under_diagonal = np.diag(x,k=-1) # -1 means below the main diagonal by one not the last index \n",
    "under_diagonal"
   ]
  },
  {
   "cell_type": "markdown",
   "id": "f219c8c8",
   "metadata": {},
   "source": [
    "## unique() for unique elements in an array"
   ]
  },
  {
   "cell_type": "code",
   "execution_count": 146,
   "id": "6a1cd422",
   "metadata": {},
   "outputs": [
    {
     "data": {
      "text/plain": [
       "[[1, 1, 1], [2, 2, 2], [3, 3, 3]]"
      ]
     },
     "execution_count": 146,
     "metadata": {},
     "output_type": "execute_result"
    }
   ],
   "source": [
    "x = [[1,1,1],[2,2,2],[3,3,3]]\n",
    "x"
   ]
  },
  {
   "cell_type": "code",
   "execution_count": 147,
   "id": "a801c26a",
   "metadata": {},
   "outputs": [
    {
     "data": {
      "text/plain": [
       "array([[1, 1, 1],\n",
       "       [2, 2, 2],\n",
       "       [3, 3, 3]])"
      ]
     },
     "execution_count": 147,
     "metadata": {},
     "output_type": "execute_result"
    }
   ],
   "source": [
    "x = np.array(x)\n",
    "x"
   ]
  },
  {
   "cell_type": "code",
   "execution_count": 148,
   "id": "411c289e",
   "metadata": {},
   "outputs": [
    {
     "data": {
      "text/plain": [
       "array([1, 2, 3])"
      ]
     },
     "execution_count": 148,
     "metadata": {},
     "output_type": "execute_result"
    }
   ],
   "source": [
    "np.unique(x)"
   ]
  },
  {
   "cell_type": "markdown",
   "id": "710ad4c6",
   "metadata": {},
   "source": [
    "# boolean indexing "
   ]
  },
  {
   "cell_type": "markdown",
   "id": "42017327",
   "metadata": {},
   "source": [
    "- so far we have selected elements using indicies \n",
    "- this is useful when we know the exact indicies to be selected \n",
    "- but sometimes,we don't know the indicies of the elements we want, we only know a logical condition to select the elements based upon \n",
    " - ex. 10,000x10,000 array and we want to selected all integers less than 20\n",
    "- in this case, we use boolean indexing to select elements based on logical arguments rather than explicit indicies\n",
    "- the syntax is `array[logical condition]`"
   ]
  },
  {
   "cell_type": "code",
   "execution_count": 149,
   "id": "a8c86f90",
   "metadata": {},
   "outputs": [
    {
     "data": {
      "text/plain": [
       "array([[ 0,  1,  2,  3,  4],\n",
       "       [ 5,  6,  7,  8,  9],\n",
       "       [10, 11, 12, 13, 14],\n",
       "       [15, 16, 17, 18, 19],\n",
       "       [20, 21, 22, 23, 24]])"
      ]
     },
     "execution_count": 149,
     "metadata": {},
     "output_type": "execute_result"
    }
   ],
   "source": [
    "x = np.arange(25).reshape((5,5))\n",
    "x"
   ]
  },
  {
   "cell_type": "code",
   "execution_count": 150,
   "id": "b014c6e1",
   "metadata": {},
   "outputs": [
    {
     "data": {
      "text/plain": [
       "array([11, 12, 13, 14, 15, 16, 17, 18, 19, 20, 21, 22, 23, 24])"
      ]
     },
     "execution_count": 150,
     "metadata": {},
     "output_type": "execute_result"
    }
   ],
   "source": [
    "# To select all elements > 10\n",
    "x[x > 10]"
   ]
  },
  {
   "cell_type": "code",
   "execution_count": 151,
   "id": "5d8b40d8",
   "metadata": {},
   "outputs": [
    {
     "data": {
      "text/plain": [
       "array([11, 12, 13, 14, 15, 16, 17, 18, 19, 20])"
      ]
     },
     "execution_count": 151,
     "metadata": {},
     "output_type": "execute_result"
    }
   ],
   "source": [
    "x[(x > 10) & (x <= 20)]"
   ]
  },
  {
   "cell_type": "markdown",
   "id": "ebb3959e",
   "metadata": {},
   "source": [
    "we can even use it to assign the elements"
   ]
  },
  {
   "cell_type": "code",
   "execution_count": 152,
   "id": "4a0df6a8",
   "metadata": {},
   "outputs": [
    {
     "data": {
      "text/plain": [
       "array([[ 0,  1,  2,  3,  4],\n",
       "       [ 5,  6,  7,  8,  9],\n",
       "       [10,  0,  0,  0,  0],\n",
       "       [ 0,  0,  0,  0,  0],\n",
       "       [ 0, 21, 22, 23, 24]])"
      ]
     },
     "execution_count": 152,
     "metadata": {},
     "output_type": "execute_result"
    }
   ],
   "source": [
    "x[(x > 10) & (x <= 20)] = 0\n",
    "x"
   ]
  },
  {
   "cell_type": "markdown",
   "id": "1d4f22e1",
   "metadata": {},
   "source": [
    "# set operations on numpy arrays\n",
    "- allow us to do set operations on the arrays\n",
    "- useful when comparing 2 numpy arrays"
   ]
  },
  {
   "cell_type": "code",
   "execution_count": 153,
   "id": "3a135bb6",
   "metadata": {},
   "outputs": [],
   "source": [
    "x = np.array([1,2,3,4,5])\n",
    "y = np.array([4,5,6,7,8])"
   ]
  },
  {
   "cell_type": "code",
   "execution_count": 154,
   "id": "2f72a0d5",
   "metadata": {},
   "outputs": [
    {
     "data": {
      "text/plain": [
       "array([4, 5])"
      ]
     },
     "execution_count": 154,
     "metadata": {},
     "output_type": "execute_result"
    }
   ],
   "source": [
    "# to find the intersections between the sets (arrays)\n",
    "np.intersect1d(x,y)"
   ]
  },
  {
   "cell_type": "code",
   "execution_count": 155,
   "id": "7feef3b6",
   "metadata": {},
   "outputs": [
    {
     "data": {
      "text/plain": [
       "array([1, 2, 3])"
      ]
     },
     "execution_count": 155,
     "metadata": {},
     "output_type": "execute_result"
    }
   ],
   "source": [
    "np.setdiff1d(x,y) # differencce (what is in x and not in y)"
   ]
  },
  {
   "cell_type": "code",
   "execution_count": 156,
   "id": "141a242b",
   "metadata": {},
   "outputs": [
    {
     "data": {
      "text/plain": [
       "array([6, 7, 8])"
      ]
     },
     "execution_count": 156,
     "metadata": {},
     "output_type": "execute_result"
    }
   ],
   "source": [
    "np.setdiff1d(y,x) # difference (what is in y and not in x)"
   ]
  },
  {
   "cell_type": "code",
   "execution_count": 157,
   "id": "09550a05",
   "metadata": {},
   "outputs": [
    {
     "data": {
      "text/plain": [
       "array([1, 2, 3, 4, 5, 6, 7, 8])"
      ]
     },
     "execution_count": 157,
     "metadata": {},
     "output_type": "execute_result"
    }
   ],
   "source": [
    "np.union1d(x,y) #find the union "
   ]
  },
  {
   "cell_type": "markdown",
   "id": "21fcd3e4",
   "metadata": {},
   "source": [
    "## Set operations for 2D arrays"
   ]
  },
  {
   "cell_type": "code",
   "execution_count": 165,
   "id": "7f96c070",
   "metadata": {},
   "outputs": [
    {
     "data": {
      "text/plain": [
       "(array([[3, 3, 3],\n",
       "        [4, 5, 6]]),\n",
       " array([[4, 5, 6],\n",
       "        [7, 8, 9]]))"
      ]
     },
     "execution_count": 165,
     "metadata": {},
     "output_type": "execute_result"
    }
   ],
   "source": [
    "u = np.array( [[3,3,3],[4,5,6]])\n",
    "o = np.array([[4,5,6],[7,8,9]])\n",
    "u,o"
   ]
  },
  {
   "cell_type": "code",
   "execution_count": 166,
   "id": "65a2853d",
   "metadata": {},
   "outputs": [
    {
     "data": {
      "text/plain": [
       "array([4, 5, 6])"
      ]
     },
     "execution_count": 166,
     "metadata": {},
     "output_type": "execute_result"
    }
   ],
   "source": [
    "np.intersect1d(u,o)"
   ]
  },
  {
   "cell_type": "code",
   "execution_count": 167,
   "id": "b4546d34",
   "metadata": {},
   "outputs": [
    {
     "data": {
      "text/plain": [
       "array([3, 4, 5, 6, 7, 8, 9])"
      ]
     },
     "execution_count": 167,
     "metadata": {},
     "output_type": "execute_result"
    }
   ],
   "source": [
    "np.union1d(o,u)"
   ]
  },
  {
   "cell_type": "markdown",
   "id": "71aff301",
   "metadata": {},
   "source": [
    "# sorting numpy arrays\n",
    "- we can use the `np.sort()` function, can also be applied as a method\n",
    " - when we use the sort as a **function**, it is sorted **out of place**\n",
    " - when we use sort as a **method**,it is sorted **in place** (the original array is changed)"
   ]
  },
  {
   "cell_type": "markdown",
   "id": "36b905b4",
   "metadata": {},
   "source": [
    "## as a function"
   ]
  },
  {
   "cell_type": "code",
   "execution_count": 168,
   "id": "18fe578f",
   "metadata": {},
   "outputs": [
    {
     "data": {
      "text/plain": [
       "array([2, 1, 4, 3, 5])"
      ]
     },
     "execution_count": 168,
     "metadata": {},
     "output_type": "execute_result"
    }
   ],
   "source": [
    "x = np.array([2,1,4,3,5])\n",
    "x"
   ]
  },
  {
   "cell_type": "code",
   "execution_count": 169,
   "id": "565744bf",
   "metadata": {},
   "outputs": [
    {
     "data": {
      "text/plain": [
       "array([1, 2, 3, 4, 5])"
      ]
     },
     "execution_count": 169,
     "metadata": {},
     "output_type": "execute_result"
    }
   ],
   "source": [
    "np.sort(x)"
   ]
  },
  {
   "cell_type": "code",
   "execution_count": 170,
   "id": "747fd471",
   "metadata": {},
   "outputs": [
    {
     "data": {
      "text/plain": [
       "array([2, 1, 4, 3, 5])"
      ]
     },
     "execution_count": 170,
     "metadata": {},
     "output_type": "execute_result"
    }
   ],
   "source": [
    "x"
   ]
  },
  {
   "cell_type": "code",
   "execution_count": 171,
   "id": "2339bba4",
   "metadata": {},
   "outputs": [
    {
     "data": {
      "text/plain": [
       "array([1, 2, 3, 4, 5])"
      ]
     },
     "execution_count": 171,
     "metadata": {},
     "output_type": "execute_result"
    }
   ],
   "source": [
    "x = np.sort(x)\n",
    "x"
   ]
  },
  {
   "cell_type": "markdown",
   "id": "2eb5bcba",
   "metadata": {},
   "source": [
    "## as a method"
   ]
  },
  {
   "cell_type": "code",
   "execution_count": 172,
   "id": "6f15c5e8",
   "metadata": {},
   "outputs": [
    {
     "data": {
      "text/plain": [
       "array([2, 1, 4, 3, 5])"
      ]
     },
     "execution_count": 172,
     "metadata": {},
     "output_type": "execute_result"
    }
   ],
   "source": [
    "x = np.array([2,1,4,3,5])\n",
    "x"
   ]
  },
  {
   "cell_type": "code",
   "execution_count": 173,
   "id": "474eda4d",
   "metadata": {},
   "outputs": [
    {
     "data": {
      "text/plain": [
       "array([1, 2, 3, 4, 5])"
      ]
     },
     "execution_count": 173,
     "metadata": {},
     "output_type": "execute_result"
    }
   ],
   "source": [
    "x.sort()\n",
    "x"
   ]
  },
  {
   "cell_type": "markdown",
   "id": "60d16c12",
   "metadata": {},
   "source": [
    "## sorting 2D array \n",
    "- either by rows or by columns \n",
    "    - for rows `axis = 0`, we will loop over the columns and sort all the rows \n",
    "- we use the axis attribute "
   ]
  },
  {
   "cell_type": "code",
   "execution_count": 175,
   "id": "cabc2f72",
   "metadata": {},
   "outputs": [
    {
     "data": {
      "text/plain": [
       "array([[7, 4, 4, 9, 9],\n",
       "       [7, 1, 2, 3, 1],\n",
       "       [6, 4, 1, 5, 6],\n",
       "       [3, 1, 8, 4, 2],\n",
       "       [8, 3, 2, 9, 3]])"
      ]
     },
     "execution_count": 175,
     "metadata": {},
     "output_type": "execute_result"
    }
   ],
   "source": [
    "x = np.random.randint(1,10,(5,5))\n",
    "x"
   ]
  },
  {
   "cell_type": "markdown",
   "id": "1fee8add",
   "metadata": {},
   "source": [
    "## sort by rows"
   ]
  },
  {
   "cell_type": "code",
   "execution_count": 176,
   "id": "7a2257d0",
   "metadata": {},
   "outputs": [
    {
     "data": {
      "text/plain": [
       "array([[3, 1, 1, 3, 1],\n",
       "       [6, 1, 2, 4, 2],\n",
       "       [7, 3, 2, 5, 3],\n",
       "       [7, 4, 4, 9, 6],\n",
       "       [8, 4, 8, 9, 9]])"
      ]
     },
     "execution_count": 176,
     "metadata": {},
     "output_type": "execute_result"
    }
   ],
   "source": [
    "np.sort(x,axis = 0)"
   ]
  },
  {
   "cell_type": "markdown",
   "id": "9bb05d34",
   "metadata": {},
   "source": [
    "## sort by columns\n",
    "- we will loop over the rows, and for each row, we will sort the columns"
   ]
  },
  {
   "cell_type": "code",
   "execution_count": 177,
   "id": "9ac2e79d",
   "metadata": {},
   "outputs": [
    {
     "data": {
      "text/plain": [
       "array([[4, 4, 7, 9, 9],\n",
       "       [1, 1, 2, 3, 7],\n",
       "       [1, 4, 5, 6, 6],\n",
       "       [1, 2, 3, 4, 8],\n",
       "       [2, 3, 3, 8, 9]])"
      ]
     },
     "execution_count": 177,
     "metadata": {},
     "output_type": "execute_result"
    }
   ],
   "source": [
    "np.sort(x,axis = 1)"
   ]
  },
  {
   "cell_type": "markdown",
   "id": "cb670549",
   "metadata": {},
   "source": [
    "# arithmetic operations on arrays\n",
    "- numpy allows element wise operations and matrix operations"
   ]
  },
  {
   "cell_type": "markdown",
   "id": "85ab3608",
   "metadata": {},
   "source": [
    "## element wise operations"
   ]
  },
  {
   "cell_type": "code",
   "execution_count": 178,
   "id": "00a4a14b",
   "metadata": {},
   "outputs": [],
   "source": [
    "x = np.array([1,2,3,4])\n",
    "y = np.array([5,6,7,8])"
   ]
  },
  {
   "cell_type": "markdown",
   "id": "0759a009",
   "metadata": {},
   "source": [
    "### using symbols"
   ]
  },
  {
   "cell_type": "code",
   "execution_count": 179,
   "id": "c1e00c1f",
   "metadata": {},
   "outputs": [
    {
     "data": {
      "text/plain": [
       "array([ 6,  8, 10, 12])"
      ]
     },
     "execution_count": 179,
     "metadata": {},
     "output_type": "execute_result"
    }
   ],
   "source": [
    "x + y"
   ]
  },
  {
   "cell_type": "code",
   "execution_count": 180,
   "id": "e758e612",
   "metadata": {},
   "outputs": [
    {
     "data": {
      "text/plain": [
       "array([-4, -4, -4, -4])"
      ]
     },
     "execution_count": 180,
     "metadata": {},
     "output_type": "execute_result"
    }
   ],
   "source": [
    "x - y"
   ]
  },
  {
   "cell_type": "code",
   "execution_count": 181,
   "id": "314df393",
   "metadata": {},
   "outputs": [
    {
     "data": {
      "text/plain": [
       "array([ 5, 12, 21, 32])"
      ]
     },
     "execution_count": 181,
     "metadata": {},
     "output_type": "execute_result"
    }
   ],
   "source": [
    "x * y"
   ]
  },
  {
   "cell_type": "code",
   "execution_count": 182,
   "id": "0810d5d8",
   "metadata": {},
   "outputs": [
    {
     "data": {
      "text/plain": [
       "array([0.2       , 0.33333333, 0.42857143, 0.5       ])"
      ]
     },
     "execution_count": 182,
     "metadata": {},
     "output_type": "execute_result"
    }
   ],
   "source": [
    "x / y"
   ]
  },
  {
   "cell_type": "markdown",
   "id": "b5803181",
   "metadata": {},
   "source": [
    "for 2D arrays"
   ]
  },
  {
   "cell_type": "code",
   "execution_count": 183,
   "id": "d946526a",
   "metadata": {},
   "outputs": [
    {
     "data": {
      "text/plain": [
       "array([[1, 2],\n",
       "       [3, 4]])"
      ]
     },
     "execution_count": 183,
     "metadata": {},
     "output_type": "execute_result"
    }
   ],
   "source": [
    "x = np.array([1,2,3,4]).reshape((2,2))\n",
    "x"
   ]
  },
  {
   "cell_type": "code",
   "execution_count": 184,
   "id": "072b791f",
   "metadata": {},
   "outputs": [
    {
     "data": {
      "text/plain": [
       "array([[5, 6],\n",
       "       [7, 8]])"
      ]
     },
     "execution_count": 184,
     "metadata": {},
     "output_type": "execute_result"
    }
   ],
   "source": [
    "y = np.array([5,6,7,8]).reshape(2,2)\n",
    "y"
   ]
  },
  {
   "cell_type": "code",
   "execution_count": 185,
   "id": "fd123a71",
   "metadata": {},
   "outputs": [
    {
     "data": {
      "text/plain": [
       "array([[ 6,  8],\n",
       "       [10, 12]])"
      ]
     },
     "execution_count": 185,
     "metadata": {},
     "output_type": "execute_result"
    }
   ],
   "source": [
    "x+y"
   ]
  },
  {
   "cell_type": "code",
   "execution_count": 186,
   "id": "bb749898",
   "metadata": {},
   "outputs": [
    {
     "data": {
      "text/plain": [
       "array([[-4, -4],\n",
       "       [-4, -4]])"
      ]
     },
     "execution_count": 186,
     "metadata": {},
     "output_type": "execute_result"
    }
   ],
   "source": [
    "x-y"
   ]
  },
  {
   "cell_type": "code",
   "execution_count": 187,
   "id": "a86945e4",
   "metadata": {},
   "outputs": [
    {
     "data": {
      "text/plain": [
       "array([[ 5, 12],\n",
       "       [21, 32]])"
      ]
     },
     "execution_count": 187,
     "metadata": {},
     "output_type": "execute_result"
    }
   ],
   "source": [
    "x*y"
   ]
  },
  {
   "cell_type": "code",
   "execution_count": 188,
   "id": "7162f1a0",
   "metadata": {},
   "outputs": [
    {
     "data": {
      "text/plain": [
       "array([[0.2       , 0.33333333],\n",
       "       [0.42857143, 0.5       ]])"
      ]
     },
     "execution_count": 188,
     "metadata": {},
     "output_type": "execute_result"
    }
   ],
   "source": [
    "x/y"
   ]
  },
  {
   "cell_type": "markdown",
   "id": "c9630b08",
   "metadata": {},
   "source": [
    "### using functions\n",
    "- both of them do the same operations\n",
    "- but here, the functions have options that we can tweak using attributes and methods"
   ]
  },
  {
   "cell_type": "code",
   "execution_count": 193,
   "id": "d69e52c0",
   "metadata": {},
   "outputs": [
    {
     "data": {
      "text/plain": [
       "array([[ 6,  8],\n",
       "       [10, 12]])"
      ]
     },
     "execution_count": 193,
     "metadata": {},
     "output_type": "execute_result"
    }
   ],
   "source": [
    "np.add(x,y)"
   ]
  },
  {
   "cell_type": "code",
   "execution_count": 194,
   "id": "23bc6ec5",
   "metadata": {},
   "outputs": [
    {
     "data": {
      "text/plain": [
       "array([[-4, -4],\n",
       "       [-4, -4]])"
      ]
     },
     "execution_count": 194,
     "metadata": {},
     "output_type": "execute_result"
    }
   ],
   "source": [
    "np.subtract(x,y)"
   ]
  },
  {
   "cell_type": "code",
   "execution_count": 195,
   "id": "33df717c",
   "metadata": {},
   "outputs": [
    {
     "data": {
      "text/plain": [
       "array([[ 5, 12],\n",
       "       [21, 32]])"
      ]
     },
     "execution_count": 195,
     "metadata": {},
     "output_type": "execute_result"
    }
   ],
   "source": [
    "np.multiply(x,y)"
   ]
  },
  {
   "cell_type": "code",
   "execution_count": 196,
   "id": "22b634d2",
   "metadata": {},
   "outputs": [
    {
     "data": {
      "text/plain": [
       "array([[0.2       , 0.33333333],\n",
       "       [0.42857143, 0.5       ]])"
      ]
     },
     "execution_count": 196,
     "metadata": {},
     "output_type": "execute_result"
    }
   ],
   "source": [
    "np.divide(x,y)"
   ]
  },
  {
   "cell_type": "markdown",
   "id": "a1dd551c",
   "metadata": {},
   "source": [
    "for 2D"
   ]
  },
  {
   "cell_type": "code",
   "execution_count": 197,
   "id": "96a77803",
   "metadata": {},
   "outputs": [
    {
     "data": {
      "text/plain": [
       "array([[1, 2],\n",
       "       [3, 4]])"
      ]
     },
     "execution_count": 197,
     "metadata": {},
     "output_type": "execute_result"
    }
   ],
   "source": [
    "x = np.array([1,2,3,4]).reshape((2,2))\n",
    "x"
   ]
  },
  {
   "cell_type": "code",
   "execution_count": 198,
   "id": "e24429be",
   "metadata": {},
   "outputs": [
    {
     "data": {
      "text/plain": [
       "array([[5, 6],\n",
       "       [7, 8]])"
      ]
     },
     "execution_count": 198,
     "metadata": {},
     "output_type": "execute_result"
    }
   ],
   "source": [
    "y = np.array([5,6,7,8]).reshape(2,2)\n",
    "y"
   ]
  },
  {
   "cell_type": "code",
   "execution_count": 199,
   "id": "23b635c0",
   "metadata": {},
   "outputs": [
    {
     "data": {
      "text/plain": [
       "array([[ 6,  8],\n",
       "       [10, 12]])"
      ]
     },
     "execution_count": 199,
     "metadata": {},
     "output_type": "execute_result"
    }
   ],
   "source": [
    "np.add(x,y) #and so on"
   ]
  },
  {
   "cell_type": "markdown",
   "id": "84aa09c9",
   "metadata": {},
   "source": [
    "## apply mathematical functions "
   ]
  },
  {
   "cell_type": "markdown",
   "id": "b84ce0a3",
   "metadata": {},
   "source": [
    "### square root"
   ]
  },
  {
   "cell_type": "code",
   "execution_count": 200,
   "id": "1c8dc5e6",
   "metadata": {},
   "outputs": [
    {
     "data": {
      "text/plain": [
       "array([[1, 2],\n",
       "       [3, 4]])"
      ]
     },
     "execution_count": 200,
     "metadata": {},
     "output_type": "execute_result"
    }
   ],
   "source": [
    "x"
   ]
  },
  {
   "cell_type": "code",
   "execution_count": 201,
   "id": "a95f9f90",
   "metadata": {},
   "outputs": [
    {
     "data": {
      "text/plain": [
       "array([[1.        , 1.41421356],\n",
       "       [1.73205081, 2.        ]])"
      ]
     },
     "execution_count": 201,
     "metadata": {},
     "output_type": "execute_result"
    }
   ],
   "source": [
    "np.sqrt(x)"
   ]
  },
  {
   "cell_type": "markdown",
   "id": "daf6a0ad",
   "metadata": {},
   "source": [
    "### exponential "
   ]
  },
  {
   "cell_type": "code",
   "execution_count": 202,
   "id": "e1f31b26",
   "metadata": {},
   "outputs": [
    {
     "data": {
      "text/plain": [
       "array([[ 2.71828183,  7.3890561 ],\n",
       "       [20.08553692, 54.59815003]])"
      ]
     },
     "execution_count": 202,
     "metadata": {},
     "output_type": "execute_result"
    }
   ],
   "source": [
    "np.exp(x)"
   ]
  },
  {
   "cell_type": "markdown",
   "id": "00e3a6e8",
   "metadata": {},
   "source": [
    "### power"
   ]
  },
  {
   "cell_type": "code",
   "execution_count": 203,
   "id": "d52e7067",
   "metadata": {},
   "outputs": [
    {
     "data": {
      "text/plain": [
       "array([[ 1,  4],\n",
       "       [ 9, 16]], dtype=int32)"
      ]
     },
     "execution_count": 203,
     "metadata": {},
     "output_type": "execute_result"
    }
   ],
   "source": [
    "np.power(x,2)"
   ]
  },
  {
   "cell_type": "markdown",
   "id": "0c901431",
   "metadata": {},
   "source": [
    "## apply statistical functions"
   ]
  },
  {
   "cell_type": "markdown",
   "id": "f8ccbc86",
   "metadata": {},
   "source": [
    "### average"
   ]
  },
  {
   "cell_type": "code",
   "execution_count": 204,
   "id": "9067e13e",
   "metadata": {},
   "outputs": [
    {
     "data": {
      "text/plain": [
       "2.5"
      ]
     },
     "execution_count": 204,
     "metadata": {},
     "output_type": "execute_result"
    }
   ],
   "source": [
    "np.mean(x)"
   ]
  },
  {
   "cell_type": "code",
   "execution_count": 205,
   "id": "19f1a4c2",
   "metadata": {},
   "outputs": [
    {
     "data": {
      "text/plain": [
       "2.5"
      ]
     },
     "execution_count": 205,
     "metadata": {},
     "output_type": "execute_result"
    }
   ],
   "source": [
    "x.mean()"
   ]
  },
  {
   "cell_type": "markdown",
   "id": "0fd56ded",
   "metadata": {},
   "source": [
    "### average of rows or columns"
   ]
  },
  {
   "cell_type": "code",
   "execution_count": 206,
   "id": "89b9910a",
   "metadata": {},
   "outputs": [
    {
     "data": {
      "text/plain": [
       "array([[1, 2],\n",
       "       [3, 4]])"
      ]
     },
     "execution_count": 206,
     "metadata": {},
     "output_type": "execute_result"
    }
   ],
   "source": [
    "x"
   ]
  },
  {
   "cell_type": "code",
   "execution_count": 207,
   "id": "bf209c68",
   "metadata": {},
   "outputs": [
    {
     "name": "stdout",
     "output_type": "stream",
     "text": [
      "the average of each column -we average the rows for each column-: [2. 3.]\n"
     ]
    }
   ],
   "source": [
    "print(\"the average of each column -we average the rows for each column-: {}\".format(x.mean(axis = 0))) #note axis = 0!!!"
   ]
  },
  {
   "cell_type": "code",
   "execution_count": 208,
   "id": "3c618099",
   "metadata": {},
   "outputs": [
    {
     "name": "stdout",
     "output_type": "stream",
     "text": [
      "average of each row: [1.5 3.5]\n"
     ]
    }
   ],
   "source": [
    "print(\"average of each row: {}\".format(x.mean(axis = 1))) # we work on the columns for each row"
   ]
  },
  {
   "cell_type": "markdown",
   "id": "c8ba9c9b",
   "metadata": {},
   "source": [
    "### sum "
   ]
  },
  {
   "cell_type": "code",
   "execution_count": 209,
   "id": "929e5f97",
   "metadata": {},
   "outputs": [
    {
     "data": {
      "text/plain": [
       "(array([4, 6]), array([3, 7]))"
      ]
     },
     "execution_count": 209,
     "metadata": {},
     "output_type": "execute_result"
    }
   ],
   "source": [
    "x.sum()\n",
    "x.sum(axis = 0), x.sum(axis = 1)"
   ]
  },
  {
   "cell_type": "markdown",
   "id": "1e45bdff",
   "metadata": {},
   "source": [
    "### standard deviation of an array "
   ]
  },
  {
   "cell_type": "code",
   "execution_count": 210,
   "id": "23e53b96",
   "metadata": {},
   "outputs": [
    {
     "data": {
      "text/plain": [
       "1.118033988749895"
      ]
     },
     "execution_count": 210,
     "metadata": {},
     "output_type": "execute_result"
    }
   ],
   "source": [
    "x.std()"
   ]
  },
  {
   "cell_type": "code",
   "execution_count": 211,
   "id": "d605f8ee",
   "metadata": {},
   "outputs": [
    {
     "data": {
      "text/plain": [
       "2.5"
      ]
     },
     "execution_count": 211,
     "metadata": {},
     "output_type": "execute_result"
    }
   ],
   "source": [
    "np.median(x)"
   ]
  },
  {
   "cell_type": "code",
   "execution_count": 212,
   "id": "0ec9d8c7",
   "metadata": {},
   "outputs": [
    {
     "data": {
      "text/plain": [
       "4"
      ]
     },
     "execution_count": 212,
     "metadata": {},
     "output_type": "execute_result"
    }
   ],
   "source": [
    "x.max()"
   ]
  },
  {
   "cell_type": "code",
   "execution_count": 213,
   "id": "e15a3bf3",
   "metadata": {},
   "outputs": [
    {
     "data": {
      "text/plain": [
       "1"
      ]
     },
     "execution_count": 213,
     "metadata": {},
     "output_type": "execute_result"
    }
   ],
   "source": [
    "x.min()"
   ]
  },
  {
   "cell_type": "markdown",
   "id": "e073d0cc",
   "metadata": {},
   "source": [
    "## braodcasting \n",
    "- numpy sometimes use it to complete the operations\n",
    "- numpy use it to handle element wise operations for arrays of different shapes\n",
    "- so in order to do element wise operations, the arrays must have the same shape or be broadcastable"
   ]
  },
  {
   "cell_type": "markdown",
   "id": "01263d78",
   "metadata": {},
   "source": [
    "### braodcast a constant "
   ]
  },
  {
   "cell_type": "code",
   "execution_count": 214,
   "id": "6e67c22d",
   "metadata": {},
   "outputs": [
    {
     "data": {
      "text/plain": [
       "array([[1, 2],\n",
       "       [3, 4]])"
      ]
     },
     "execution_count": 214,
     "metadata": {},
     "output_type": "execute_result"
    }
   ],
   "source": [
    "x = np.array([1,2,3,4]).reshape((2,2))\n",
    "x"
   ]
  },
  {
   "cell_type": "code",
   "execution_count": 215,
   "id": "104f84b2",
   "metadata": {},
   "outputs": [
    {
     "data": {
      "text/plain": [
       "array([[5, 6],\n",
       "       [7, 8]])"
      ]
     },
     "execution_count": 215,
     "metadata": {},
     "output_type": "execute_result"
    }
   ],
   "source": [
    "y = np.array([5,6,7,8]).reshape(2,2)\n",
    "y"
   ]
  },
  {
   "cell_type": "code",
   "execution_count": 216,
   "id": "3004f3f9",
   "metadata": {},
   "outputs": [
    {
     "data": {
      "text/plain": [
       "array([[4, 5],\n",
       "       [6, 7]])"
      ]
     },
     "execution_count": 216,
     "metadata": {},
     "output_type": "execute_result"
    }
   ],
   "source": [
    "x+3 # 3 is braodcasted to be the same shape as x"
   ]
  },
  {
   "cell_type": "code",
   "execution_count": 217,
   "id": "b495c199",
   "metadata": {},
   "outputs": [
    {
     "data": {
      "text/plain": [
       "array([[-2, -1],\n",
       "       [ 0,  1]])"
      ]
     },
     "execution_count": 217,
     "metadata": {},
     "output_type": "execute_result"
    }
   ],
   "source": [
    "x-3"
   ]
  },
  {
   "cell_type": "code",
   "execution_count": 218,
   "id": "2c3f5901",
   "metadata": {},
   "outputs": [
    {
     "data": {
      "text/plain": [
       "array([[ 3,  6],\n",
       "       [ 9, 12]])"
      ]
     },
     "execution_count": 218,
     "metadata": {},
     "output_type": "execute_result"
    }
   ],
   "source": [
    "x*3"
   ]
  },
  {
   "cell_type": "code",
   "execution_count": 219,
   "id": "76246b03",
   "metadata": {},
   "outputs": [
    {
     "data": {
      "text/plain": [
       "array([[0.33333333, 0.66666667],\n",
       "       [1.        , 1.33333333]])"
      ]
     },
     "execution_count": 219,
     "metadata": {},
     "output_type": "execute_result"
    }
   ],
   "source": [
    "x/3"
   ]
  },
  {
   "cell_type": "markdown",
   "id": "70b19fbd",
   "metadata": {},
   "source": [
    "## broadcast a matrix for another\n",
    "- either we match the rows and it is broadcasted along the columns\n",
    "- or match the columns and it is broadcasted among the rows\n",
    "- in general if we can expand the smaller array to fit the larger's shape"
   ]
  },
  {
   "cell_type": "code",
   "execution_count": 220,
   "id": "a3c66d55",
   "metadata": {},
   "outputs": [
    {
     "data": {
      "text/plain": [
       "array([[0, 1, 2],\n",
       "       [3, 4, 5],\n",
       "       [6, 7, 8]])"
      ]
     },
     "execution_count": 220,
     "metadata": {},
     "output_type": "execute_result"
    }
   ],
   "source": [
    "x = np.arange(9).reshape(3,3)\n",
    "x"
   ]
  },
  {
   "cell_type": "code",
   "execution_count": 221,
   "id": "21b8de54",
   "metadata": {},
   "outputs": [
    {
     "data": {
      "text/plain": [
       "array([0, 1, 2])"
      ]
     },
     "execution_count": 221,
     "metadata": {},
     "output_type": "execute_result"
    }
   ],
   "source": [
    "y = np.arange(3)\n",
    "y"
   ]
  },
  {
   "cell_type": "code",
   "execution_count": 222,
   "id": "5bcb0c0f",
   "metadata": {},
   "outputs": [
    {
     "data": {
      "text/plain": [
       "((3, 3), (3,))"
      ]
     },
     "execution_count": 222,
     "metadata": {},
     "output_type": "execute_result"
    }
   ],
   "source": [
    "x.shape,y.shape"
   ]
  },
  {
   "cell_type": "code",
   "execution_count": 223,
   "id": "a3017d51",
   "metadata": {},
   "outputs": [
    {
     "data": {
      "text/plain": [
       "array([[ 0,  2,  4],\n",
       "       [ 3,  5,  7],\n",
       "       [ 6,  8, 10]])"
      ]
     },
     "execution_count": 223,
     "metadata": {},
     "output_type": "execute_result"
    }
   ],
   "source": [
    "x+y # y is broadcasted to be [[0,1,2],[0,1,2],[0,1,2]]"
   ]
  },
  {
   "cell_type": "code",
   "execution_count": 224,
   "id": "f71b72c0",
   "metadata": {},
   "outputs": [
    {
     "data": {
      "text/plain": [
       "array([[0, 1, 2],\n",
       "       [3, 4, 5],\n",
       "       [6, 7, 8]])"
      ]
     },
     "execution_count": 224,
     "metadata": {},
     "output_type": "execute_result"
    }
   ],
   "source": [
    "x = np.arange(9).reshape(3,3)\n",
    "x"
   ]
  },
  {
   "cell_type": "code",
   "execution_count": 225,
   "id": "1cc8b0b8",
   "metadata": {},
   "outputs": [
    {
     "data": {
      "text/plain": [
       "array([[0],\n",
       "       [1],\n",
       "       [2]])"
      ]
     },
     "execution_count": 225,
     "metadata": {},
     "output_type": "execute_result"
    }
   ],
   "source": [
    "z = np.arange(3).reshape(3,1)\n",
    "z"
   ]
  },
  {
   "cell_type": "code",
   "execution_count": 226,
   "id": "50a2acf7",
   "metadata": {},
   "outputs": [
    {
     "data": {
      "text/plain": [
       "array([[ 0,  1,  2],\n",
       "       [ 4,  5,  6],\n",
       "       [ 8,  9, 10]])"
      ]
     },
     "execution_count": 226,
     "metadata": {},
     "output_type": "execute_result"
    }
   ],
   "source": [
    "x+z"
   ]
  }
 ],
 "metadata": {
  "kernelspec": {
   "display_name": "dl_torch",
   "language": "python",
   "name": "python3"
  },
  "language_info": {
   "codemirror_mode": {
    "name": "ipython",
    "version": 3
   },
   "file_extension": ".py",
   "mimetype": "text/x-python",
   "name": "python",
   "nbconvert_exporter": "python",
   "pygments_lexer": "ipython3",
   "version": "3.11.5"
  }
 },
 "nbformat": 4,
 "nbformat_minor": 5
}
