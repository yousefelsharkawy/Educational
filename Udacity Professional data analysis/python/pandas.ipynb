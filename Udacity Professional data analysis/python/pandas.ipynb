{
 "cells": [
  {
   "cell_type": "markdown",
   "id": "9648856c",
   "metadata": {},
   "source": [
    "# pandas"
   ]
  },
  {
   "cell_type": "markdown",
   "id": "b187078e",
   "metadata": {},
   "source": [
    "- powerful tool for data analysis and manipulation \n",
    "- built on top of numpy (makes it very fast and efficient)\n",
    "- have 2 main data structures : pandas series and pandas dataframe"
   ]
  },
  {
   "cell_type": "markdown",
   "id": "c665c6cc",
   "metadata": {},
   "source": [
    "# pandas series "
   ]
  },
  {
   "cell_type": "markdown",
   "id": "f1c0580f",
   "metadata": {},
   "source": [
    "## creating pandas series \n",
    "- using `pd.Series(data, indicies)`\n",
    "- it's a 1D array-like object that can hold many data types\n",
    " - this is different than a numpy array that could hold only 1 Datatype \n",
    " - another difference is that we can assign index label to each element in the pandas series (we have labels as indices in here) "
   ]
  },
  {
   "cell_type": "code",
   "execution_count": 1,
   "id": "ccf38d65",
   "metadata": {},
   "outputs": [],
   "source": [
    "import pandas as pd"
   ]
  },
  {
   "cell_type": "code",
   "execution_count": 2,
   "id": "64d975a6",
   "metadata": {},
   "outputs": [
    {
     "data": {
      "text/plain": [
       "eggs       30\n",
       "apples      6\n",
       "milk      yes\n",
       "bread      no\n",
       "dtype: object"
      ]
     },
     "execution_count": 2,
     "metadata": {},
     "output_type": "execute_result"
    }
   ],
   "source": [
    "groceries = pd.Series(data=[30 ,6 ,\"yes\" ,\"no\"], index = [\"eggs\",\"apples\",\"milk\",\"bread\"])\n",
    "groceries "
   ]
  },
  {
   "cell_type": "markdown",
   "id": "f290faf9",
   "metadata": {},
   "source": [
    "the series is displayed with the indicies (that we assigned) and the values (of different types) "
   ]
  },
  {
   "cell_type": "markdown",
   "id": "39dbc739",
   "metadata": {},
   "source": [
    "## attributes of information in the data series"
   ]
  },
  {
   "cell_type": "code",
   "execution_count": 3,
   "id": "7ceccb43",
   "metadata": {},
   "outputs": [
    {
     "data": {
      "text/plain": [
       "(4,)"
      ]
     },
     "execution_count": 3,
     "metadata": {},
     "output_type": "execute_result"
    }
   ],
   "source": [
    "groceries.shape # Gives us the sizes of each dimension of the data (here we have 1D with 4 elements)"
   ]
  },
  {
   "cell_type": "code",
   "execution_count": 4,
   "id": "0f2ccd5a",
   "metadata": {},
   "outputs": [
    {
     "data": {
      "text/plain": [
       "1"
      ]
     },
     "execution_count": 4,
     "metadata": {},
     "output_type": "execute_result"
    }
   ],
   "source": [
    "groceries.ndim # Gives us the number of dimensions in the data, it is 1D"
   ]
  },
  {
   "cell_type": "code",
   "execution_count": 5,
   "id": "9abf067e",
   "metadata": {},
   "outputs": [
    {
     "data": {
      "text/plain": [
       "4"
      ]
     },
     "execution_count": 5,
     "metadata": {},
     "output_type": "execute_result"
    }
   ],
   "source": [
    "groceries.size #Gives us the total number of values in the data series "
   ]
  },
  {
   "cell_type": "markdown",
   "id": "8ae7fdae",
   "metadata": {},
   "source": [
    "### print the index label separately "
   ]
  },
  {
   "cell_type": "code",
   "execution_count": 6,
   "id": "3d300e4a",
   "metadata": {},
   "outputs": [
    {
     "data": {
      "text/plain": [
       "Index(['eggs', 'apples', 'milk', 'bread'], dtype='object')"
      ]
     },
     "execution_count": 6,
     "metadata": {},
     "output_type": "execute_result"
    }
   ],
   "source": [
    "groceries.index # If we recieved a new data in this structure and we don't know what the labels are b"
   ]
  },
  {
   "cell_type": "markdown",
   "id": "a7c5a340",
   "metadata": {},
   "source": [
    "### print the values separately "
   ]
  },
  {
   "cell_type": "code",
   "execution_count": 7,
   "id": "de2068e1",
   "metadata": {},
   "outputs": [
    {
     "data": {
      "text/plain": [
       "array([30, 6, 'yes', 'no'], dtype=object)"
      ]
     },
     "execution_count": 7,
     "metadata": {},
     "output_type": "execute_result"
    }
   ],
   "source": [
    "groceries.values"
   ]
  },
  {
   "cell_type": "markdown",
   "id": "f5c7cdc4",
   "metadata": {},
   "source": [
    "## dataseries supports in operator for the labels"
   ]
  },
  {
   "cell_type": "code",
   "execution_count": 8,
   "id": "4b24a157",
   "metadata": {},
   "outputs": [
    {
     "data": {
      "text/plain": [
       "False"
      ]
     },
     "execution_count": 8,
     "metadata": {},
     "output_type": "execute_result"
    }
   ],
   "source": [
    "# To check wither a certain index is among the indicies for a large data series \n",
    "\"bananas\" in groceries"
   ]
  },
  {
   "cell_type": "code",
   "execution_count": 9,
   "id": "8f1e62f3",
   "metadata": {},
   "outputs": [
    {
     "data": {
      "text/plain": [
       "True"
      ]
     },
     "execution_count": 9,
     "metadata": {},
     "output_type": "execute_result"
    }
   ],
   "source": [
    "\"eggs\" in groceries"
   ]
  },
  {
   "cell_type": "markdown",
   "id": "5ea553e3",
   "metadata": {},
   "source": [
    "## access the elements of a data series \n",
    "1. accessing elements using index labels\n",
    "- we can do that using `series['label']` \n",
    "2. using numeric indicies (similar to accessing elements in numpy arrays)\n",
    "- we can do that using `series[idx]`"
   ]
  },
  {
   "cell_type": "markdown",
   "id": "caf0b3fd",
   "metadata": {},
   "source": [
    "1. accessing elements using index labels"
   ]
  },
  {
   "cell_type": "code",
   "execution_count": 10,
   "id": "b6db493a",
   "metadata": {},
   "outputs": [
    {
     "data": {
      "text/plain": [
       "30"
      ]
     },
     "execution_count": 10,
     "metadata": {},
     "output_type": "execute_result"
    }
   ],
   "source": [
    "groceries[\"eggs\"]"
   ]
  },
  {
   "cell_type": "markdown",
   "id": "cd735cf1",
   "metadata": {},
   "source": [
    "provide a list of index labels to get multiple elements"
   ]
  },
  {
   "cell_type": "code",
   "execution_count": 11,
   "id": "cc4de2d2",
   "metadata": {},
   "outputs": [
    {
     "data": {
      "text/plain": [
       "eggs     30\n",
       "milk    yes\n",
       "dtype: object"
      ]
     },
     "execution_count": 11,
     "metadata": {},
     "output_type": "execute_result"
    }
   ],
   "source": [
    "groceries[[\"eggs\",\"milk\"]]"
   ]
  },
  {
   "cell_type": "markdown",
   "id": "13504709",
   "metadata": {},
   "source": [
    "2. using numeric indicies"
   ]
  },
  {
   "cell_type": "code",
   "execution_count": 12,
   "id": "d22b9480",
   "metadata": {},
   "outputs": [
    {
     "name": "stderr",
     "output_type": "stream",
     "text": [
      "C:\\Users\\TOSHIBA\\AppData\\Local\\Temp\\ipykernel_10500\\71887072.py:1: FutureWarning: Series.__getitem__ treating keys as positions is deprecated. In a future version, integer keys will always be treated as labels (consistent with DataFrame behavior). To access a value by position, use `ser.iloc[pos]`\n",
      "  groceries[0]\n"
     ]
    },
    {
     "data": {
      "text/plain": [
       "30"
      ]
     },
     "execution_count": 12,
     "metadata": {},
     "output_type": "execute_result"
    }
   ],
   "source": [
    "groceries[0]"
   ]
  },
  {
   "cell_type": "code",
   "execution_count": 13,
   "id": "cf633551",
   "metadata": {},
   "outputs": [
    {
     "name": "stderr",
     "output_type": "stream",
     "text": [
      "C:\\Users\\TOSHIBA\\AppData\\Local\\Temp\\ipykernel_10500\\2373390433.py:1: FutureWarning: Series.__getitem__ treating keys as positions is deprecated. In a future version, integer keys will always be treated as labels (consistent with DataFrame behavior). To access a value by position, use `ser.iloc[pos]`\n",
      "  groceries[-1]\n"
     ]
    },
    {
     "data": {
      "text/plain": [
       "'no'"
      ]
     },
     "execution_count": 13,
     "metadata": {},
     "output_type": "execute_result"
    }
   ],
   "source": [
    "groceries[-1]"
   ]
  },
  {
   "cell_type": "markdown",
   "id": "863b2d78",
   "metadata": {},
   "source": [
    "use a list of numerical indicies to get multiple elements"
   ]
  },
  {
   "cell_type": "code",
   "execution_count": 14,
   "id": "40990f81",
   "metadata": {},
   "outputs": [
    {
     "name": "stderr",
     "output_type": "stream",
     "text": [
      "C:\\Users\\TOSHIBA\\AppData\\Local\\Temp\\ipykernel_10500\\2448839165.py:1: FutureWarning: Series.__getitem__ treating keys as positions is deprecated. In a future version, integer keys will always be treated as labels (consistent with DataFrame behavior). To access a value by position, use `ser.iloc[pos]`\n",
      "  groceries[[0,2]]\n"
     ]
    },
    {
     "data": {
      "text/plain": [
       "eggs     30\n",
       "milk    yes\n",
       "dtype: object"
      ]
     },
     "execution_count": 14,
     "metadata": {},
     "output_type": "execute_result"
    }
   ],
   "source": [
    "groceries[[0,2]]"
   ]
  },
  {
   "cell_type": "markdown",
   "id": "673b8072",
   "metadata": {},
   "source": [
    "## important!\n",
    "- what if our named labels were also integers? if there is a label that is integer, then when we use series[integer], pd will not know if we mean integer index or the integer label\n",
    "    - and therefore, if there is any label that is integer, series[idx] won't work and we have to use series.loc[idx] to specify that we are using the index\n",
    "- to remove any ambiguity from rather we refer to index label or numerical index, we use loc[ ] and iloc[ ]\n",
    "- loc[ ] -for location- we use it to explicitly state that we want a labelled index, even if it's an integer it will understand that\n",
    "- iloc[ ] -for integer location- we use it to explicity state that we are using numerical index "
   ]
  },
  {
   "cell_type": "code",
   "execution_count": 15,
   "id": "33379f21",
   "metadata": {},
   "outputs": [
    {
     "data": {
      "text/plain": [
       "eggs     30\n",
       "milk    yes\n",
       "dtype: object"
      ]
     },
     "execution_count": 15,
     "metadata": {},
     "output_type": "execute_result"
    }
   ],
   "source": [
    "groceries.loc[[\"eggs\",\"milk\"]]"
   ]
  },
  {
   "cell_type": "code",
   "execution_count": 16,
   "id": "3dc58e29",
   "metadata": {},
   "outputs": [
    {
     "data": {
      "text/plain": [
       "eggs     30\n",
       "milk    yes\n",
       "dtype: object"
      ]
     },
     "execution_count": 16,
     "metadata": {},
     "output_type": "execute_result"
    }
   ],
   "source": [
    "groceries.iloc[[0,2]]"
   ]
  },
  {
   "cell_type": "markdown",
   "id": "16d4d5a4",
   "metadata": {},
   "source": [
    "## change values of a data series \n",
    "- pandas data series are mutable -just like numpy arrays- so we can change the elements of a series after it has been created "
   ]
  },
  {
   "cell_type": "code",
   "execution_count": 17,
   "id": "abd6becb",
   "metadata": {},
   "outputs": [
    {
     "data": {
      "text/plain": [
       "eggs       30\n",
       "apples      6\n",
       "milk      yes\n",
       "bread      no\n",
       "dtype: object"
      ]
     },
     "execution_count": 17,
     "metadata": {},
     "output_type": "execute_result"
    }
   ],
   "source": [
    "groceries"
   ]
  },
  {
   "cell_type": "code",
   "execution_count": 18,
   "id": "8130c8c5",
   "metadata": {},
   "outputs": [
    {
     "data": {
      "text/plain": [
       "eggs        2\n",
       "apples      6\n",
       "milk      yes\n",
       "bread      no\n",
       "dtype: object"
      ]
     },
     "execution_count": 18,
     "metadata": {},
     "output_type": "execute_result"
    }
   ],
   "source": [
    "groceries[\"eggs\"] = 2\n",
    "groceries"
   ]
  },
  {
   "cell_type": "markdown",
   "id": "3f5e4f50",
   "metadata": {},
   "source": [
    "## delete items in a data series\n",
    "- using `.drop(given label or index)` method\n",
    "- but drops it out of place (gives us a copy with the item deleted)\n",
    "    - to drop it in place, either assign it back to the variable or set the `inplace` argument to `true` (was not there in numpy)"
   ]
  },
  {
   "cell_type": "code",
   "execution_count": 19,
   "id": "44b8df87",
   "metadata": {},
   "outputs": [
    {
     "data": {
      "text/plain": [
       "eggs       2\n",
       "milk     yes\n",
       "bread     no\n",
       "dtype: object"
      ]
     },
     "execution_count": 19,
     "metadata": {},
     "output_type": "execute_result"
    }
   ],
   "source": [
    "groceries.drop(\"apples\")"
   ]
  },
  {
   "cell_type": "code",
   "execution_count": 20,
   "id": "c54e6b7f",
   "metadata": {},
   "outputs": [
    {
     "data": {
      "text/plain": [
       "eggs        2\n",
       "apples      6\n",
       "milk      yes\n",
       "bread      no\n",
       "dtype: object"
      ]
     },
     "execution_count": 20,
     "metadata": {},
     "output_type": "execute_result"
    }
   ],
   "source": [
    "groceries"
   ]
  },
  {
   "cell_type": "code",
   "execution_count": 21,
   "id": "279fd89b",
   "metadata": {},
   "outputs": [
    {
     "data": {
      "text/plain": [
       "eggs       2\n",
       "milk     yes\n",
       "bread     no\n",
       "dtype: object"
      ]
     },
     "execution_count": 21,
     "metadata": {},
     "output_type": "execute_result"
    }
   ],
   "source": [
    "groceries = groceries.drop(\"apples\")\n",
    "groceries"
   ]
  },
  {
   "cell_type": "code",
   "execution_count": 22,
   "id": "20116839",
   "metadata": {},
   "outputs": [
    {
     "data": {
      "text/plain": [
       "eggs      2\n",
       "milk    yes\n",
       "dtype: object"
      ]
     },
     "execution_count": 22,
     "metadata": {},
     "output_type": "execute_result"
    }
   ],
   "source": [
    "# or instead you can use this \n",
    "groceries.drop(\"bread\", inplace=True)\n",
    "groceries"
   ]
  },
  {
   "cell_type": "markdown",
   "id": "b32d2115",
   "metadata": {},
   "source": [
    "## Additional Reading - Pandas Series Documentation"
   ]
  },
  {
   "cell_type": "markdown",
   "id": "24291a94",
   "metadata": {},
   "source": [
    "Refer to the list of available functions in the following two sections:\n",
    "\n",
    "- Reindexing / selection / label manipulation\n",
    "https://pandas.pydata.org/pandas-docs/stable/reference/series.html#reindexing-selection-label-manipulation\n",
    "- Indexing and iteration\n",
    "https://pandas.pydata.org/pandas-docs/stable/reference/series.html#indexing-iteration"
   ]
  },
  {
   "cell_type": "markdown",
   "id": "3580bff0",
   "metadata": {},
   "source": [
    "## arithmetic operations on pandas series\n",
    "- perform element wise arithmetic operations (like numpy arrays) "
   ]
  },
  {
   "cell_type": "markdown",
   "id": "b011e2ee",
   "metadata": {},
   "source": [
    "## arithmetic operations between pandas series and single numbers"
   ]
  },
  {
   "cell_type": "code",
   "execution_count": 23,
   "id": "f1782946",
   "metadata": {},
   "outputs": [
    {
     "data": {
      "text/plain": [
       "apples     10\n",
       "oranges     6\n",
       "bananas     3\n",
       "dtype: int64"
      ]
     },
     "execution_count": 23,
     "metadata": {},
     "output_type": "execute_result"
    }
   ],
   "source": [
    "fruits = pd.Series(data=[10,6,3], index=[\"apples\",\"oranges\",\"bananas\"] )\n",
    "fruits"
   ]
  },
  {
   "cell_type": "markdown",
   "id": "0892c60c",
   "metadata": {},
   "source": [
    "### element wise operations\n",
    "- the result will be a new series with the operation applied to each element in the series, we can re-assign it to the original series "
   ]
  },
  {
   "cell_type": "code",
   "execution_count": 24,
   "id": "0de48717",
   "metadata": {},
   "outputs": [
    {
     "data": {
      "text/plain": [
       "apples     12\n",
       "oranges     8\n",
       "bananas     5\n",
       "dtype: int64"
      ]
     },
     "execution_count": 24,
     "metadata": {},
     "output_type": "execute_result"
    }
   ],
   "source": [
    "fruits + 2"
   ]
  },
  {
   "cell_type": "code",
   "execution_count": 25,
   "id": "bac19290",
   "metadata": {},
   "outputs": [
    {
     "data": {
      "text/plain": [
       "apples     8\n",
       "oranges    4\n",
       "bananas    1\n",
       "dtype: int64"
      ]
     },
     "execution_count": 25,
     "metadata": {},
     "output_type": "execute_result"
    }
   ],
   "source": [
    "fruits - 2"
   ]
  },
  {
   "cell_type": "code",
   "execution_count": 26,
   "id": "86c93dc5",
   "metadata": {},
   "outputs": [
    {
     "data": {
      "text/plain": [
       "apples     20\n",
       "oranges    12\n",
       "bananas     6\n",
       "dtype: int64"
      ]
     },
     "execution_count": 26,
     "metadata": {},
     "output_type": "execute_result"
    }
   ],
   "source": [
    "fruits * 2"
   ]
  },
  {
   "cell_type": "code",
   "execution_count": 27,
   "id": "f5d21e60",
   "metadata": {},
   "outputs": [
    {
     "data": {
      "text/plain": [
       "apples     5.0\n",
       "oranges    3.0\n",
       "bananas    1.5\n",
       "dtype: float64"
      ]
     },
     "execution_count": 27,
     "metadata": {},
     "output_type": "execute_result"
    }
   ],
   "source": [
    "fruits/2"
   ]
  },
  {
   "cell_type": "markdown",
   "id": "6f156734",
   "metadata": {},
   "source": [
    "## apply mathematical functions from numpy on the dataSeries"
   ]
  },
  {
   "cell_type": "code",
   "execution_count": 28,
   "id": "ab4d5868",
   "metadata": {},
   "outputs": [
    {
     "data": {
      "text/plain": [
       "apples     10\n",
       "oranges     6\n",
       "bananas     3\n",
       "dtype: int64"
      ]
     },
     "execution_count": 28,
     "metadata": {},
     "output_type": "execute_result"
    }
   ],
   "source": [
    "fruits = pd.Series(data=[10,6,3], index=[\"apples\",\"oranges\",\"bananas\"] )\n",
    "fruits"
   ]
  },
  {
   "cell_type": "code",
   "execution_count": 29,
   "id": "291198f1",
   "metadata": {},
   "outputs": [],
   "source": [
    "import numpy as np"
   ]
  },
  {
   "cell_type": "code",
   "execution_count": 30,
   "id": "ff57c18d",
   "metadata": {},
   "outputs": [
    {
     "data": {
      "text/plain": [
       "apples     3.162278\n",
       "oranges    2.449490\n",
       "bananas    1.732051\n",
       "dtype: float64"
      ]
     },
     "execution_count": 30,
     "metadata": {},
     "output_type": "execute_result"
    }
   ],
   "source": [
    "np.sqrt(fruits)"
   ]
  },
  {
   "cell_type": "code",
   "execution_count": 31,
   "id": "f60fa4a3",
   "metadata": {},
   "outputs": [
    {
     "data": {
      "text/plain": [
       "apples     22026.465795\n",
       "oranges      403.428793\n",
       "bananas       20.085537\n",
       "dtype: float64"
      ]
     },
     "execution_count": 31,
     "metadata": {},
     "output_type": "execute_result"
    }
   ],
   "source": [
    "np.exp(fruits)"
   ]
  },
  {
   "cell_type": "code",
   "execution_count": 32,
   "id": "92faa5b4",
   "metadata": {},
   "outputs": [
    {
     "data": {
      "text/plain": [
       "apples     100\n",
       "oranges     36\n",
       "bananas      9\n",
       "dtype: int64"
      ]
     },
     "execution_count": 32,
     "metadata": {},
     "output_type": "execute_result"
    }
   ],
   "source": [
    "np.power(fruits,2)"
   ]
  },
  {
   "cell_type": "markdown",
   "id": "249bf585",
   "metadata": {},
   "source": [
    "## apply arithmetic operations on selected items \n",
    "- we can select items using indices or labels -as we have studied above- and apply the operation on them"
   ]
  },
  {
   "cell_type": "code",
   "execution_count": 33,
   "id": "f5fe2c43",
   "metadata": {},
   "outputs": [
    {
     "data": {
      "text/plain": [
       "apples     10\n",
       "oranges     6\n",
       "bananas     3\n",
       "dtype: int64"
      ]
     },
     "execution_count": 33,
     "metadata": {},
     "output_type": "execute_result"
    }
   ],
   "source": [
    "fruits"
   ]
  },
  {
   "cell_type": "code",
   "execution_count": 34,
   "id": "961607af",
   "metadata": {},
   "outputs": [
    {
     "data": {
      "text/plain": [
       "5"
      ]
     },
     "execution_count": 34,
     "metadata": {},
     "output_type": "execute_result"
    }
   ],
   "source": [
    "fruits[\"bananas\"] + 2"
   ]
  },
  {
   "cell_type": "code",
   "execution_count": 35,
   "id": "b47936bf",
   "metadata": {},
   "outputs": [
    {
     "data": {
      "text/plain": [
       "apples     10\n",
       "oranges     6\n",
       "bananas     3\n",
       "dtype: int64"
      ]
     },
     "execution_count": 35,
     "metadata": {},
     "output_type": "execute_result"
    }
   ],
   "source": [
    "fruits"
   ]
  },
  {
   "cell_type": "code",
   "execution_count": 36,
   "id": "27946c1c",
   "metadata": {},
   "outputs": [],
   "source": [
    "# we can re-assing it to be in place\n",
    "fruits[\"bananas\"] += 2"
   ]
  },
  {
   "cell_type": "code",
   "execution_count": 37,
   "id": "76da9951",
   "metadata": {},
   "outputs": [
    {
     "data": {
      "text/plain": [
       "apples     10\n",
       "oranges     6\n",
       "bananas     5\n",
       "dtype: int64"
      ]
     },
     "execution_count": 37,
     "metadata": {},
     "output_type": "execute_result"
    }
   ],
   "source": [
    "fruits"
   ]
  },
  {
   "cell_type": "code",
   "execution_count": 38,
   "id": "be371624",
   "metadata": {},
   "outputs": [
    {
     "data": {
      "text/plain": [
       "8"
      ]
     },
     "execution_count": 38,
     "metadata": {},
     "output_type": "execute_result"
    }
   ],
   "source": [
    "fruits.iloc[0] - 2"
   ]
  },
  {
   "cell_type": "code",
   "execution_count": 39,
   "id": "63c964b9",
   "metadata": {},
   "outputs": [
    {
     "data": {
      "text/plain": [
       "apples     20\n",
       "oranges    12\n",
       "dtype: int64"
      ]
     },
     "execution_count": 39,
     "metadata": {},
     "output_type": "execute_result"
    }
   ],
   "source": [
    "fruits.loc[[\"apples\",\"oranges\"]] * 2"
   ]
  },
  {
   "cell_type": "markdown",
   "id": "3eb027cf",
   "metadata": {},
   "source": [
    "## apply arithmetic operations on mixed data types\n",
    "- we can apply arithmetic operations on mixed data types, as long as that each datatype supports the operation"
   ]
  },
  {
   "cell_type": "code",
   "execution_count": 40,
   "id": "9ea19ee7",
   "metadata": {},
   "outputs": [
    {
     "data": {
      "text/plain": [
       "eggs       30\n",
       "apples      6\n",
       "milk      yes\n",
       "bread      no\n",
       "dtype: object"
      ]
     },
     "execution_count": 40,
     "metadata": {},
     "output_type": "execute_result"
    }
   ],
   "source": [
    "groceries = pd.Series(data=[30,6,\"yes\",\"no\"], index = [\"eggs\",\"apples\",\"milk\",\"bread\"])\n",
    "groceries "
   ]
  },
  {
   "cell_type": "code",
   "execution_count": 41,
   "id": "f379ceec",
   "metadata": {},
   "outputs": [
    {
     "data": {
      "text/plain": [
       "eggs          60\n",
       "apples        12\n",
       "milk      yesyes\n",
       "bread       nono\n",
       "dtype: object"
      ]
     },
     "execution_count": 41,
     "metadata": {},
     "output_type": "execute_result"
    }
   ],
   "source": [
    "groceries * 2"
   ]
  },
  {
   "cell_type": "code",
   "execution_count": 42,
   "id": "235045d7",
   "metadata": {},
   "outputs": [
    {
     "name": "stdout",
     "output_type": "stream",
     "text": [
      "can only concatenate str (not \"int\") to str\n"
     ]
    }
   ],
   "source": [
    "try:\n",
    "    groceries + 2\n",
    "except Exception as e:\n",
    "    print(e)"
   ]
  },
  {
   "cell_type": "code",
   "execution_count": 43,
   "id": "36a4139f",
   "metadata": {},
   "outputs": [
    {
     "name": "stdout",
     "output_type": "stream",
     "text": [
      "unsupported operand type(s) for /: 'str' and 'int'\n"
     ]
    }
   ],
   "source": [
    "try:\n",
    "    groceries/2\n",
    "except Exception as e:\n",
    "    print(e)"
   ]
  },
  {
   "cell_type": "markdown",
   "id": "d69227fd",
   "metadata": {},
   "source": [
    "- the above exceptions happened because the operations are not supported for strings"
   ]
  },
  {
   "cell_type": "markdown",
   "id": "46709d29",
   "metadata": {},
   "source": [
    "## Additional Reading - Pandas Series Documentation"
   ]
  },
  {
   "cell_type": "markdown",
   "id": "65ab0822",
   "metadata": {},
   "source": [
    "Refer to the Series documentation to have a quick glance at the different attributes of Series, and the optional arguments of the constructor.\n",
    "https://pandas.pydata.org/pandas-docs/stable/reference/series.html"
   ]
  },
  {
   "cell_type": "markdown",
   "id": "8ddaee6f",
   "metadata": {},
   "source": [
    "Example"
   ]
  },
  {
   "cell_type": "code",
   "execution_count": 44,
   "id": "2878fccc",
   "metadata": {},
   "outputs": [
    {
     "name": "stdout",
     "output_type": "stream",
     "text": [
      "Earth       8.311111\n",
      "Saturn     79.638889\n",
      "Venus       6.011111\n",
      "Mars       12.661111\n",
      "Jupiter    43.255556\n",
      "dtype: float64\n",
      "Earth     8.311111\n",
      "Venus     6.011111\n",
      "Mars     12.661111\n",
      "dtype: float64\n"
     ]
    },
    {
     "data": {
      "text/plain": [
       "Index(['Earth', 'Venus', 'Mars'], dtype='object')"
      ]
     },
     "execution_count": 44,
     "metadata": {},
     "output_type": "execute_result"
    }
   ],
   "source": [
    "import pandas as pd\n",
    "\n",
    "# DO NOT CHANGE THE VARIABLE NAMES\n",
    "\n",
    "# Given a list representing a few planets\n",
    "planets = ['Earth', 'Saturn', 'Venus', 'Mars', 'Jupiter']\n",
    "\n",
    "# Given another list representing the distance of each of these planets from the Sun\n",
    "# The distance from the Sun is in units of 10^6 km\n",
    "distance_from_sun = [149.6, 1433.5, 108.2, 227.9, 778.6]\n",
    "\n",
    "\n",
    "# TO DO: Create a Pandas Series \"dist_planets\" using the lists above, representing the distance of the planet from the Sun.\n",
    "# Use the `distance_from_sun` as your data, and `planets` as your index.\n",
    "dist_planets = pd.Series(data=distance_from_sun,index=planets)\n",
    "\n",
    "\n",
    "# TO DO: Calculate the time (minutes) it takes light from the Sun to reach each planet. \n",
    "# You can do this by dividing each planet's distance from the Sun by the speed of light.\n",
    "# Use the speed of light, c = 18, since light travels 18 x 10^6 km/minute.\n",
    "\n",
    "# method 1 time_light = [dist_planets[planet]/18 for planet in planets]\n",
    "# method 2 time_light = dist_planets.loc[planets] / 18\n",
    "time_light = dist_planets / 18\n",
    "print(time_light)\n",
    "# TO DO: Use Boolean indexing to select only those planets for which sunlight takes less\n",
    "# than 40 minutes to reach them.\n",
    "# We'll check your work by printing out these close planets.\n",
    "close_planets = time_light[time_light < 40]\n",
    "print(close_planets)\n",
    "close_planets.index"
   ]
  },
  {
   "cell_type": "markdown",
   "id": "296b43b9",
   "metadata": {},
   "source": [
    "##### notice that we could use boolean indexing with pandas data series as we did with  numpy!!!!"
   ]
  },
  {
   "cell_type": "markdown",
   "id": "0057314d",
   "metadata": {},
   "source": [
    "# pandas Data frame\n",
    "- the second main data structure in pandas\n",
    "- it is a 2D object with labelled rows and columns \n",
    "- can also hold multiple data types\n",
    "- it is like a really powerful excil spreadsheet\n",
    "- mine: it is like the 2D of the data series\n"
   ]
  },
  {
   "cell_type": "markdown",
   "id": "d14a3661",
   "metadata": {},
   "source": [
    "## create pandas data frame \n",
    "- manually \n",
    "- by loading data from a file"
   ]
  },
  {
   "cell_type": "markdown",
   "id": "2993690f",
   "metadata": {},
   "source": [
    "### creating dataframes manually \n"
   ]
  },
  {
   "cell_type": "markdown",
   "id": "a1a30819",
   "metadata": {},
   "source": [
    "- from a dictionary containing several pandas series \n",
    "     - using pd.DataFrame(dictionary)\n",
    "     - the dictionary keys will be the columns, and the dictionary values are the dataseries themselves\n",
    "         - it will apply union on the dataseries labels to be the rows labels, and use Nans for the labels that are missing from any series of them\n",
    "- from a dictionary containing lists or arrays\n",
    "- from a list of dictionaries "
   ]
  },
  {
   "cell_type": "markdown",
   "id": "dae868f6",
   "metadata": {},
   "source": [
    "### 1. dictionary of dataSeries "
   ]
  },
  {
   "cell_type": "code",
   "execution_count": 45,
   "id": "ff5d7a2d",
   "metadata": {},
   "outputs": [
    {
     "data": {
      "text/plain": [
       "{'Bob': bike     245\n",
       " pants     25\n",
       " watch     55\n",
       " dtype: int64,\n",
       " 'Alice': book        40\n",
       " glasses    110\n",
       " bike       500\n",
       " pants       45\n",
       " dtype: int64}"
      ]
     },
     "execution_count": 45,
     "metadata": {},
     "output_type": "execute_result"
    }
   ],
   "source": [
    "# a dictionary containing shopping carts of 2 people\n",
    "# the key is the person's name and the value is a pandas series\n",
    "# the series labels are the product names and the values are the price of each product\n",
    "items = {\"Bob\":pd.Series(data = [245,25,55],index = [\"bike\",'pants','watch']),\n",
    "         'Alice':pd.Series(data=[40,110,500,45],index=['book','glasses',\"bike\",'pants'])}\n",
    "items"
   ]
  },
  {
   "cell_type": "code",
   "execution_count": 46,
   "id": "eb9d8c0a",
   "metadata": {},
   "outputs": [
    {
     "data": {
      "text/html": [
       "<div>\n",
       "<style scoped>\n",
       "    .dataframe tbody tr th:only-of-type {\n",
       "        vertical-align: middle;\n",
       "    }\n",
       "\n",
       "    .dataframe tbody tr th {\n",
       "        vertical-align: top;\n",
       "    }\n",
       "\n",
       "    .dataframe thead th {\n",
       "        text-align: right;\n",
       "    }\n",
       "</style>\n",
       "<table border=\"1\" class=\"dataframe\">\n",
       "  <thead>\n",
       "    <tr style=\"text-align: right;\">\n",
       "      <th></th>\n",
       "      <th>Bob</th>\n",
       "      <th>Alice</th>\n",
       "    </tr>\n",
       "  </thead>\n",
       "  <tbody>\n",
       "    <tr>\n",
       "      <th>bike</th>\n",
       "      <td>245.0</td>\n",
       "      <td>500.0</td>\n",
       "    </tr>\n",
       "    <tr>\n",
       "      <th>book</th>\n",
       "      <td>NaN</td>\n",
       "      <td>40.0</td>\n",
       "    </tr>\n",
       "    <tr>\n",
       "      <th>glasses</th>\n",
       "      <td>NaN</td>\n",
       "      <td>110.0</td>\n",
       "    </tr>\n",
       "    <tr>\n",
       "      <th>pants</th>\n",
       "      <td>25.0</td>\n",
       "      <td>45.0</td>\n",
       "    </tr>\n",
       "    <tr>\n",
       "      <th>watch</th>\n",
       "      <td>55.0</td>\n",
       "      <td>NaN</td>\n",
       "    </tr>\n",
       "  </tbody>\n",
       "</table>\n",
       "</div>"
      ],
      "text/plain": [
       "           Bob  Alice\n",
       "bike     245.0  500.0\n",
       "book       NaN   40.0\n",
       "glasses    NaN  110.0\n",
       "pants     25.0   45.0\n",
       "watch     55.0    NaN"
      ]
     },
     "execution_count": 46,
     "metadata": {},
     "output_type": "execute_result"
    }
   ],
   "source": [
    "shopping_carts = pd.DataFrame(items)\n",
    "shopping_carts"
   ]
  },
  {
   "cell_type": "markdown",
   "id": "7c90ddd9",
   "metadata": {},
   "source": [
    "### Notes\n",
    "- dataframes are displayed in tabular form with the labels of the rows and columns in Bold\n",
    "- the row labels are built from the union of the index labels of all the series \n",
    "- the column labels are built from the keys of the dictionary \n",
    "- the NAN values that appeared (stands for not a number)\n",
    " - for example Alice doesn't have a value for the index \"watch\"\n",
    "- we have to remove these Nan values before feeding the data into a machine learning algorithm "
   ]
  },
  {
   "cell_type": "markdown",
   "id": "1689dee5",
   "metadata": {},
   "source": [
    "- if we didn't define indicies for the pandas series, pandas will use numerical row indicies\n",
    "    - and in union they will be alligned in order"
   ]
  },
  {
   "cell_type": "code",
   "execution_count": 47,
   "id": "87022405",
   "metadata": {},
   "outputs": [
    {
     "data": {
      "text/plain": [
       "{'Bob': 0    245\n",
       " 1     25\n",
       " 2     55\n",
       " dtype: int64,\n",
       " 'Alice': 0     40\n",
       " 1    110\n",
       " 2    500\n",
       " 3     45\n",
       " dtype: int64}"
      ]
     },
     "execution_count": 47,
     "metadata": {},
     "output_type": "execute_result"
    }
   ],
   "source": [
    "items = {\"Bob\":pd.Series(data = [245,25,55]),\n",
    "         'Alice':pd.Series(data=[40,110,500,45])}\n",
    "items"
   ]
  },
  {
   "cell_type": "code",
   "execution_count": 48,
   "id": "02de33a1",
   "metadata": {},
   "outputs": [
    {
     "data": {
      "text/html": [
       "<div>\n",
       "<style scoped>\n",
       "    .dataframe tbody tr th:only-of-type {\n",
       "        vertical-align: middle;\n",
       "    }\n",
       "\n",
       "    .dataframe tbody tr th {\n",
       "        vertical-align: top;\n",
       "    }\n",
       "\n",
       "    .dataframe thead th {\n",
       "        text-align: right;\n",
       "    }\n",
       "</style>\n",
       "<table border=\"1\" class=\"dataframe\">\n",
       "  <thead>\n",
       "    <tr style=\"text-align: right;\">\n",
       "      <th></th>\n",
       "      <th>Bob</th>\n",
       "      <th>Alice</th>\n",
       "    </tr>\n",
       "  </thead>\n",
       "  <tbody>\n",
       "    <tr>\n",
       "      <th>0</th>\n",
       "      <td>245.0</td>\n",
       "      <td>40</td>\n",
       "    </tr>\n",
       "    <tr>\n",
       "      <th>1</th>\n",
       "      <td>25.0</td>\n",
       "      <td>110</td>\n",
       "    </tr>\n",
       "    <tr>\n",
       "      <th>2</th>\n",
       "      <td>55.0</td>\n",
       "      <td>500</td>\n",
       "    </tr>\n",
       "    <tr>\n",
       "      <th>3</th>\n",
       "      <td>NaN</td>\n",
       "      <td>45</td>\n",
       "    </tr>\n",
       "  </tbody>\n",
       "</table>\n",
       "</div>"
      ],
      "text/plain": [
       "     Bob  Alice\n",
       "0  245.0     40\n",
       "1   25.0    110\n",
       "2   55.0    500\n",
       "3    NaN     45"
      ]
     },
     "execution_count": 48,
     "metadata": {},
     "output_type": "execute_result"
    }
   ],
   "source": [
    "shopping_carts = pd.DataFrame(items)\n",
    "shopping_carts"
   ]
  },
  {
   "cell_type": "markdown",
   "id": "1988b294",
   "metadata": {},
   "source": [
    "#### creating a data frame with a subset of the dictionary\n",
    "- if we don't want all the dictionary's items and we want only subset of them \n",
    "    - we pass the keys of these items -dataseries- to the parameter `columns`\n",
    "    - we pass the desired labels to the parameter `index` if we want the dataSeries but don't want the whole labels inside it \n",
    "- using DataFrame() attributes column and index"
   ]
  },
  {
   "cell_type": "code",
   "execution_count": 49,
   "id": "db93bdfc",
   "metadata": {},
   "outputs": [
    {
     "data": {
      "text/plain": [
       "{'Bob': bike     245\n",
       " pants     25\n",
       " watch     55\n",
       " dtype: int64,\n",
       " 'Alice': book        40\n",
       " glasses    110\n",
       " bike       500\n",
       " pants       45\n",
       " dtype: int64}"
      ]
     },
     "execution_count": 49,
     "metadata": {},
     "output_type": "execute_result"
    }
   ],
   "source": [
    "# a dictionary containing shopping carts of 2 people\n",
    "# the key is the person's name and the value is a pandas series\n",
    "# the series labels are the product names and the values are the price of each product\n",
    "items = {\"Bob\":pd.Series(data = [245,25,55],index = [\"bike\",'pants','watch']),\n",
    "         'Alice':pd.Series(data=[40,110,500,45],index=['book','glasses',\"bike\",'pants'])}\n",
    "items"
   ]
  },
  {
   "cell_type": "code",
   "execution_count": 50,
   "id": "ac9a4cd7",
   "metadata": {},
   "outputs": [
    {
     "data": {
      "text/html": [
       "<div>\n",
       "<style scoped>\n",
       "    .dataframe tbody tr th:only-of-type {\n",
       "        vertical-align: middle;\n",
       "    }\n",
       "\n",
       "    .dataframe tbody tr th {\n",
       "        vertical-align: top;\n",
       "    }\n",
       "\n",
       "    .dataframe thead th {\n",
       "        text-align: right;\n",
       "    }\n",
       "</style>\n",
       "<table border=\"1\" class=\"dataframe\">\n",
       "  <thead>\n",
       "    <tr style=\"text-align: right;\">\n",
       "      <th></th>\n",
       "      <th>Bob</th>\n",
       "    </tr>\n",
       "  </thead>\n",
       "  <tbody>\n",
       "    <tr>\n",
       "      <th>bike</th>\n",
       "      <td>245</td>\n",
       "    </tr>\n",
       "    <tr>\n",
       "      <th>pants</th>\n",
       "      <td>25</td>\n",
       "    </tr>\n",
       "    <tr>\n",
       "      <th>watch</th>\n",
       "      <td>55</td>\n",
       "    </tr>\n",
       "  </tbody>\n",
       "</table>\n",
       "</div>"
      ],
      "text/plain": [
       "       Bob\n",
       "bike   245\n",
       "pants   25\n",
       "watch   55"
      ]
     },
     "execution_count": 50,
     "metadata": {},
     "output_type": "execute_result"
    }
   ],
   "source": [
    "bob_shopping_cart = pd.DataFrame(items, columns = [\"Bob\"] )\n",
    "bob_shopping_cart"
   ]
  },
  {
   "cell_type": "markdown",
   "id": "9b48f5fa",
   "metadata": {},
   "source": [
    "- specifying a certain key of the dictionary -column- in `columns` attribute"
   ]
  },
  {
   "cell_type": "code",
   "execution_count": 51,
   "id": "0c598cda",
   "metadata": {},
   "outputs": [
    {
     "data": {
      "text/html": [
       "<div>\n",
       "<style scoped>\n",
       "    .dataframe tbody tr th:only-of-type {\n",
       "        vertical-align: middle;\n",
       "    }\n",
       "\n",
       "    .dataframe tbody tr th {\n",
       "        vertical-align: top;\n",
       "    }\n",
       "\n",
       "    .dataframe thead th {\n",
       "        text-align: right;\n",
       "    }\n",
       "</style>\n",
       "<table border=\"1\" class=\"dataframe\">\n",
       "  <thead>\n",
       "    <tr style=\"text-align: right;\">\n",
       "      <th></th>\n",
       "      <th>Bob</th>\n",
       "      <th>Alice</th>\n",
       "    </tr>\n",
       "  </thead>\n",
       "  <tbody>\n",
       "    <tr>\n",
       "      <th>bike</th>\n",
       "      <td>245</td>\n",
       "      <td>500</td>\n",
       "    </tr>\n",
       "    <tr>\n",
       "      <th>pants</th>\n",
       "      <td>25</td>\n",
       "      <td>45</td>\n",
       "    </tr>\n",
       "  </tbody>\n",
       "</table>\n",
       "</div>"
      ],
      "text/plain": [
       "       Bob  Alice\n",
       "bike   245    500\n",
       "pants   25     45"
      ]
     },
     "execution_count": 51,
     "metadata": {},
     "output_type": "execute_result"
    }
   ],
   "source": [
    "sel_shopping_cart = pd.DataFrame(items, index=[\"bike\",'pants'])\n",
    "sel_shopping_cart"
   ]
  },
  {
   "cell_type": "markdown",
   "id": "be946430",
   "metadata": {},
   "source": [
    "- specifying a certain label of the dataSeries -rows- in `index` attribute"
   ]
  },
  {
   "cell_type": "code",
   "execution_count": 52,
   "id": "d7176fe6",
   "metadata": {},
   "outputs": [
    {
     "data": {
      "text/html": [
       "<div>\n",
       "<style scoped>\n",
       "    .dataframe tbody tr th:only-of-type {\n",
       "        vertical-align: middle;\n",
       "    }\n",
       "\n",
       "    .dataframe tbody tr th {\n",
       "        vertical-align: top;\n",
       "    }\n",
       "\n",
       "    .dataframe thead th {\n",
       "        text-align: right;\n",
       "    }\n",
       "</style>\n",
       "<table border=\"1\" class=\"dataframe\">\n",
       "  <thead>\n",
       "    <tr style=\"text-align: right;\">\n",
       "      <th></th>\n",
       "      <th>Alice</th>\n",
       "    </tr>\n",
       "  </thead>\n",
       "  <tbody>\n",
       "    <tr>\n",
       "      <th>bike</th>\n",
       "      <td>500</td>\n",
       "    </tr>\n",
       "    <tr>\n",
       "      <th>pants</th>\n",
       "      <td>45</td>\n",
       "    </tr>\n",
       "  </tbody>\n",
       "</table>\n",
       "</div>"
      ],
      "text/plain": [
       "       Alice\n",
       "bike     500\n",
       "pants     45"
      ]
     },
     "execution_count": 52,
     "metadata": {},
     "output_type": "execute_result"
    }
   ],
   "source": [
    "sel_shopping_cart_alice = pd.DataFrame(items, columns=[\"Alice\"], index=['bike','pants'])\n",
    "sel_shopping_cart_alice"
   ]
  },
  {
   "cell_type": "markdown",
   "id": "200fcf40",
   "metadata": {},
   "source": [
    "- combining the two previous points"
   ]
  },
  {
   "cell_type": "markdown",
   "id": "3d8bb7c7",
   "metadata": {},
   "source": [
    "## 2. create dataframes from dictionary of lists or arrays\n",
    "- we can also create data frames from a dictionary of lists or arrays (instead of dictionary of dataSeries)\n",
    "- but the lists and arrays must have the same length\n",
    "- the keys of the dictionary will be the columns of the data frame as before\n",
    "- the values of the dictionary will be the rows of the data frame, and the rows indices will be numerical by default (same as pandas series if we didn't define the labels)\n",
    "    - but unlike the pandas series with no labels, they didn't have to have the same length like in here "
   ]
  },
  {
   "cell_type": "code",
   "execution_count": 53,
   "id": "1408d4c3",
   "metadata": {},
   "outputs": [
    {
     "data": {
      "text/html": [
       "<div>\n",
       "<style scoped>\n",
       "    .dataframe tbody tr th:only-of-type {\n",
       "        vertical-align: middle;\n",
       "    }\n",
       "\n",
       "    .dataframe tbody tr th {\n",
       "        vertical-align: top;\n",
       "    }\n",
       "\n",
       "    .dataframe thead th {\n",
       "        text-align: right;\n",
       "    }\n",
       "</style>\n",
       "<table border=\"1\" class=\"dataframe\">\n",
       "  <thead>\n",
       "    <tr style=\"text-align: right;\">\n",
       "      <th></th>\n",
       "      <th>integers</th>\n",
       "      <th>floats</th>\n",
       "    </tr>\n",
       "  </thead>\n",
       "  <tbody>\n",
       "    <tr>\n",
       "      <th>0</th>\n",
       "      <td>1</td>\n",
       "      <td>1.5</td>\n",
       "    </tr>\n",
       "    <tr>\n",
       "      <th>1</th>\n",
       "      <td>2</td>\n",
       "      <td>2.5</td>\n",
       "    </tr>\n",
       "    <tr>\n",
       "      <th>2</th>\n",
       "      <td>3</td>\n",
       "      <td>3.5</td>\n",
       "    </tr>\n",
       "  </tbody>\n",
       "</table>\n",
       "</div>"
      ],
      "text/plain": [
       "   integers  floats\n",
       "0         1     1.5\n",
       "1         2     2.5\n",
       "2         3     3.5"
      ]
     },
     "execution_count": 53,
     "metadata": {},
     "output_type": "execute_result"
    }
   ],
   "source": [
    "numbers = {'integers':[1,2,3],\n",
    "          'floats':[1.5,2.5,3.5]}\n",
    "numbers_dataframe = pd.DataFrame(numbers)\n",
    "numbers_dataframe"
   ]
  },
  {
   "cell_type": "markdown",
   "id": "f71173cb",
   "metadata": {},
   "source": [
    "- since the lists doesn't have labelled indicies, the data framed index column is created numerically \n",
    "- but we can still insert them as well using the `index` attribute"
   ]
  },
  {
   "cell_type": "code",
   "execution_count": 54,
   "id": "00acccab",
   "metadata": {},
   "outputs": [
    {
     "data": {
      "text/html": [
       "<div>\n",
       "<style scoped>\n",
       "    .dataframe tbody tr th:only-of-type {\n",
       "        vertical-align: middle;\n",
       "    }\n",
       "\n",
       "    .dataframe tbody tr th {\n",
       "        vertical-align: top;\n",
       "    }\n",
       "\n",
       "    .dataframe thead th {\n",
       "        text-align: right;\n",
       "    }\n",
       "</style>\n",
       "<table border=\"1\" class=\"dataframe\">\n",
       "  <thead>\n",
       "    <tr style=\"text-align: right;\">\n",
       "      <th></th>\n",
       "      <th>integers</th>\n",
       "      <th>floats</th>\n",
       "    </tr>\n",
       "  </thead>\n",
       "  <tbody>\n",
       "    <tr>\n",
       "      <th>label1</th>\n",
       "      <td>1</td>\n",
       "      <td>1.5</td>\n",
       "    </tr>\n",
       "    <tr>\n",
       "      <th>label2</th>\n",
       "      <td>2</td>\n",
       "      <td>2.5</td>\n",
       "    </tr>\n",
       "    <tr>\n",
       "      <th>label3</th>\n",
       "      <td>3</td>\n",
       "      <td>3.5</td>\n",
       "    </tr>\n",
       "  </tbody>\n",
       "</table>\n",
       "</div>"
      ],
      "text/plain": [
       "        integers  floats\n",
       "label1         1     1.5\n",
       "label2         2     2.5\n",
       "label3         3     3.5"
      ]
     },
     "execution_count": 54,
     "metadata": {},
     "output_type": "execute_result"
    }
   ],
   "source": [
    "numbers_dataframe = pd.DataFrame(numbers, index=[\"label1\",\"label2\",\"label3\"])\n",
    "numbers_dataframe"
   ]
  },
  {
   "cell_type": "markdown",
   "id": "3a8c822c",
   "metadata": {},
   "source": [
    "## create a dataframe from a list of dictionaries \n",
    "- each item in the list will be a row, and the keys of the dictionaries will be the columns\n",
    "- the columns of the dataframe will be the union of the keys of all the dictionaries in the list\n",
    "- the rows will be numerical by default, but we can pass the `index` attribute to `pd.DataFrame()` "
   ]
  },
  {
   "cell_type": "code",
   "execution_count": 55,
   "id": "49ceb262",
   "metadata": {},
   "outputs": [
    {
     "data": {
      "text/html": [
       "<div>\n",
       "<style scoped>\n",
       "    .dataframe tbody tr th:only-of-type {\n",
       "        vertical-align: middle;\n",
       "    }\n",
       "\n",
       "    .dataframe tbody tr th {\n",
       "        vertical-align: top;\n",
       "    }\n",
       "\n",
       "    .dataframe thead th {\n",
       "        text-align: right;\n",
       "    }\n",
       "</style>\n",
       "<table border=\"1\" class=\"dataframe\">\n",
       "  <thead>\n",
       "    <tr style=\"text-align: right;\">\n",
       "      <th></th>\n",
       "      <th>bikes</th>\n",
       "      <th>watches</th>\n",
       "      <th>pants</th>\n",
       "      <th>glasses</th>\n",
       "    </tr>\n",
       "  </thead>\n",
       "  <tbody>\n",
       "    <tr>\n",
       "      <th>store 1</th>\n",
       "      <td>10</td>\n",
       "      <td>50</td>\n",
       "      <td>30</td>\n",
       "      <td>NaN</td>\n",
       "    </tr>\n",
       "    <tr>\n",
       "      <th>store 2</th>\n",
       "      <td>15</td>\n",
       "      <td>60</td>\n",
       "      <td>7</td>\n",
       "      <td>10.0</td>\n",
       "    </tr>\n",
       "  </tbody>\n",
       "</table>\n",
       "</div>"
      ],
      "text/plain": [
       "         bikes  watches  pants  glasses\n",
       "store 1     10       50     30      NaN\n",
       "store 2     15       60      7     10.0"
      ]
     },
     "execution_count": 55,
     "metadata": {},
     "output_type": "execute_result"
    }
   ],
   "source": [
    "items = [{\"bikes\":10,\"watches\":50,\"pants\":30},\n",
    "         {\"watches\":60,\"glasses\":10,\"bikes\":15,\"pants\":7}]\n",
    "items_dataframe = pd.DataFrame(items,index=[\"store 1\",\"store 2\"])\n",
    "items_dataframe"
   ]
  },
  {
   "cell_type": "markdown",
   "id": "758ac399",
   "metadata": {},
   "source": [
    "## attributes of information in the data frame "
   ]
  },
  {
   "cell_type": "code",
   "execution_count": 56,
   "id": "94bf018b",
   "metadata": {},
   "outputs": [
    {
     "data": {
      "text/html": [
       "<div>\n",
       "<style scoped>\n",
       "    .dataframe tbody tr th:only-of-type {\n",
       "        vertical-align: middle;\n",
       "    }\n",
       "\n",
       "    .dataframe tbody tr th {\n",
       "        vertical-align: top;\n",
       "    }\n",
       "\n",
       "    .dataframe thead th {\n",
       "        text-align: right;\n",
       "    }\n",
       "</style>\n",
       "<table border=\"1\" class=\"dataframe\">\n",
       "  <thead>\n",
       "    <tr style=\"text-align: right;\">\n",
       "      <th></th>\n",
       "      <th>Bob</th>\n",
       "      <th>Alice</th>\n",
       "    </tr>\n",
       "  </thead>\n",
       "  <tbody>\n",
       "    <tr>\n",
       "      <th>bike</th>\n",
       "      <td>245.0</td>\n",
       "      <td>500.0</td>\n",
       "    </tr>\n",
       "    <tr>\n",
       "      <th>book</th>\n",
       "      <td>NaN</td>\n",
       "      <td>40.0</td>\n",
       "    </tr>\n",
       "    <tr>\n",
       "      <th>glasses</th>\n",
       "      <td>NaN</td>\n",
       "      <td>110.0</td>\n",
       "    </tr>\n",
       "    <tr>\n",
       "      <th>pants</th>\n",
       "      <td>25.0</td>\n",
       "      <td>45.0</td>\n",
       "    </tr>\n",
       "    <tr>\n",
       "      <th>watch</th>\n",
       "      <td>55.0</td>\n",
       "      <td>NaN</td>\n",
       "    </tr>\n",
       "  </tbody>\n",
       "</table>\n",
       "</div>"
      ],
      "text/plain": [
       "           Bob  Alice\n",
       "bike     245.0  500.0\n",
       "book       NaN   40.0\n",
       "glasses    NaN  110.0\n",
       "pants     25.0   45.0\n",
       "watch     55.0    NaN"
      ]
     },
     "execution_count": 56,
     "metadata": {},
     "output_type": "execute_result"
    }
   ],
   "source": [
    "items = {\"Bob\":pd.Series(data = [245,25,55],index = [\"bike\",'pants','watch']),\n",
    "         'Alice':pd.Series(data=[40,110,500,45],index=['book','glasses',\"bike\",'pants'])}\n",
    "shopping_carts = pd.DataFrame(items)\n",
    "shopping_carts"
   ]
  },
  {
   "cell_type": "markdown",
   "id": "10a7b56e",
   "metadata": {},
   "source": [
    "### get index labels (row labels)\n",
    "- rows labels are mainly an identifier in real life for the data rows"
   ]
  },
  {
   "cell_type": "code",
   "execution_count": 57,
   "id": "a39e856d",
   "metadata": {},
   "outputs": [
    {
     "data": {
      "text/plain": [
       "Index(['bike', 'book', 'glasses', 'pants', 'watch'], dtype='object')"
      ]
     },
     "execution_count": 57,
     "metadata": {},
     "output_type": "execute_result"
    }
   ],
   "source": [
    "shopping_carts.index"
   ]
  },
  {
   "cell_type": "markdown",
   "id": "3953a217",
   "metadata": {},
   "source": [
    "### get column labels "
   ]
  },
  {
   "cell_type": "code",
   "execution_count": 58,
   "id": "76ba6540",
   "metadata": {},
   "outputs": [
    {
     "data": {
      "text/plain": [
       "Index(['Bob', 'Alice'], dtype='object')"
      ]
     },
     "execution_count": 58,
     "metadata": {},
     "output_type": "execute_result"
    }
   ],
   "source": [
    "shopping_carts.columns"
   ]
  },
  {
   "cell_type": "markdown",
   "id": "7ab02251",
   "metadata": {},
   "source": [
    "### get the data "
   ]
  },
  {
   "cell_type": "code",
   "execution_count": 59,
   "id": "f8933e75",
   "metadata": {},
   "outputs": [
    {
     "data": {
      "text/plain": [
       "array([[245., 500.],\n",
       "       [ nan,  40.],\n",
       "       [ nan, 110.],\n",
       "       [ 25.,  45.],\n",
       "       [ 55.,  nan]])"
      ]
     },
     "execution_count": 59,
     "metadata": {},
     "output_type": "execute_result"
    }
   ],
   "source": [
    "shopping_carts.values"
   ]
  },
  {
   "cell_type": "markdown",
   "id": "d1f854b5",
   "metadata": {},
   "source": [
    "### information about the shape "
   ]
  },
  {
   "cell_type": "code",
   "execution_count": 60,
   "id": "de9ce983",
   "metadata": {},
   "outputs": [
    {
     "data": {
      "text/plain": [
       "(5, 2)"
      ]
     },
     "execution_count": 60,
     "metadata": {},
     "output_type": "execute_result"
    }
   ],
   "source": [
    "shopping_carts.shape #5 rows and 2 columns"
   ]
  },
  {
   "cell_type": "code",
   "execution_count": 61,
   "id": "f12f7e33",
   "metadata": {},
   "outputs": [
    {
     "data": {
      "text/plain": [
       "2"
      ]
     },
     "execution_count": 61,
     "metadata": {},
     "output_type": "execute_result"
    }
   ],
   "source": [
    "shopping_carts.ndim # The data is 2D"
   ]
  },
  {
   "cell_type": "code",
   "execution_count": 62,
   "id": "9e697669",
   "metadata": {},
   "outputs": [
    {
     "data": {
      "text/plain": [
       "10"
      ]
     },
     "execution_count": 62,
     "metadata": {},
     "output_type": "execute_result"
    }
   ],
   "source": [
    "shopping_carts.size # The total elements in the data"
   ]
  },
  {
   "cell_type": "markdown",
   "id": "9d4333e9",
   "metadata": {},
   "source": [
    "### Additional Reading - Pandas Documentation\n",
    "- Check out the Intro to data structures documentation for an overview of both of the key pandas data structures - Series and DataFrames.\n",
    "https://pandas.pydata.org/pandas-docs/stable/user_guide/dsintro.html#intro-to-data-structures\n",
    "\n",
    "- Check out the Attributes and underlying data section in the DataFrame documentation.\n",
    "https://pandas.pydata.org/pandas-docs/stable/reference/frame.html#dataframe"
   ]
  },
  {
   "cell_type": "markdown",
   "id": "ba016f75",
   "metadata": {},
   "source": [
    "## accessing elements in pandas data frames\n",
    "- using row and column labels we can access\n",
    "    - rows\n",
    "    - columns \n",
    "    - individual elements\n",
    " "
   ]
  },
  {
   "cell_type": "code",
   "execution_count": 63,
   "id": "893e248d",
   "metadata": {},
   "outputs": [
    {
     "data": {
      "text/html": [
       "<div>\n",
       "<style scoped>\n",
       "    .dataframe tbody tr th:only-of-type {\n",
       "        vertical-align: middle;\n",
       "    }\n",
       "\n",
       "    .dataframe tbody tr th {\n",
       "        vertical-align: top;\n",
       "    }\n",
       "\n",
       "    .dataframe thead th {\n",
       "        text-align: right;\n",
       "    }\n",
       "</style>\n",
       "<table border=\"1\" class=\"dataframe\">\n",
       "  <thead>\n",
       "    <tr style=\"text-align: right;\">\n",
       "      <th></th>\n",
       "      <th>bikes</th>\n",
       "      <th>watches</th>\n",
       "      <th>pants</th>\n",
       "      <th>glasses</th>\n",
       "    </tr>\n",
       "  </thead>\n",
       "  <tbody>\n",
       "    <tr>\n",
       "      <th>store 1</th>\n",
       "      <td>10</td>\n",
       "      <td>50</td>\n",
       "      <td>30</td>\n",
       "      <td>NaN</td>\n",
       "    </tr>\n",
       "    <tr>\n",
       "      <th>store 2</th>\n",
       "      <td>15</td>\n",
       "      <td>60</td>\n",
       "      <td>7</td>\n",
       "      <td>10.0</td>\n",
       "    </tr>\n",
       "  </tbody>\n",
       "</table>\n",
       "</div>"
      ],
      "text/plain": [
       "         bikes  watches  pants  glasses\n",
       "store 1     10       50     30      NaN\n",
       "store 2     15       60      7     10.0"
      ]
     },
     "execution_count": 63,
     "metadata": {},
     "output_type": "execute_result"
    }
   ],
   "source": [
    "items = [{\"bikes\":10,\"watches\":50,\"pants\":30},\n",
    "         {\"watches\":60,\"glasses\":10,\"bikes\":15,\"pants\":7}]\n",
    "store_items = pd.DataFrame(items,index=[\"store 1\",\"store 2\"])\n",
    "store_items"
   ]
  },
  {
   "cell_type": "markdown",
   "id": "c3cdab77",
   "metadata": {},
   "source": [
    "access columns using the column label `df['column label']`"
   ]
  },
  {
   "cell_type": "code",
   "execution_count": 64,
   "id": "271c30a9",
   "metadata": {},
   "outputs": [
    {
     "data": {
      "text/html": [
       "<div>\n",
       "<style scoped>\n",
       "    .dataframe tbody tr th:only-of-type {\n",
       "        vertical-align: middle;\n",
       "    }\n",
       "\n",
       "    .dataframe tbody tr th {\n",
       "        vertical-align: top;\n",
       "    }\n",
       "\n",
       "    .dataframe thead th {\n",
       "        text-align: right;\n",
       "    }\n",
       "</style>\n",
       "<table border=\"1\" class=\"dataframe\">\n",
       "  <thead>\n",
       "    <tr style=\"text-align: right;\">\n",
       "      <th></th>\n",
       "      <th>bikes</th>\n",
       "    </tr>\n",
       "  </thead>\n",
       "  <tbody>\n",
       "    <tr>\n",
       "      <th>store 1</th>\n",
       "      <td>10</td>\n",
       "    </tr>\n",
       "    <tr>\n",
       "      <th>store 2</th>\n",
       "      <td>15</td>\n",
       "    </tr>\n",
       "  </tbody>\n",
       "</table>\n",
       "</div>"
      ],
      "text/plain": [
       "         bikes\n",
       "store 1     10\n",
       "store 2     15"
      ]
     },
     "execution_count": 64,
     "metadata": {},
     "output_type": "execute_result"
    }
   ],
   "source": [
    "store_items[[\"bikes\"]]"
   ]
  },
  {
   "cell_type": "code",
   "execution_count": 65,
   "id": "43874f8d",
   "metadata": {},
   "outputs": [
    {
     "data": {
      "text/html": [
       "<div>\n",
       "<style scoped>\n",
       "    .dataframe tbody tr th:only-of-type {\n",
       "        vertical-align: middle;\n",
       "    }\n",
       "\n",
       "    .dataframe tbody tr th {\n",
       "        vertical-align: top;\n",
       "    }\n",
       "\n",
       "    .dataframe thead th {\n",
       "        text-align: right;\n",
       "    }\n",
       "</style>\n",
       "<table border=\"1\" class=\"dataframe\">\n",
       "  <thead>\n",
       "    <tr style=\"text-align: right;\">\n",
       "      <th></th>\n",
       "      <th>bikes</th>\n",
       "      <th>pants</th>\n",
       "    </tr>\n",
       "  </thead>\n",
       "  <tbody>\n",
       "    <tr>\n",
       "      <th>store 1</th>\n",
       "      <td>10</td>\n",
       "      <td>30</td>\n",
       "    </tr>\n",
       "    <tr>\n",
       "      <th>store 2</th>\n",
       "      <td>15</td>\n",
       "      <td>7</td>\n",
       "    </tr>\n",
       "  </tbody>\n",
       "</table>\n",
       "</div>"
      ],
      "text/plain": [
       "         bikes  pants\n",
       "store 1     10     30\n",
       "store 2     15      7"
      ]
     },
     "execution_count": 65,
     "metadata": {},
     "output_type": "execute_result"
    }
   ],
   "source": [
    "store_items[[\"bikes\",\"pants\"]]"
   ]
  },
  {
   "cell_type": "markdown",
   "id": "7c8e60a6",
   "metadata": {},
   "source": [
    "access rows using the row label `df.loc['row label']` or `df.iloc[row index]`"
   ]
  },
  {
   "cell_type": "code",
   "execution_count": 66,
   "id": "72a0b2ef",
   "metadata": {},
   "outputs": [
    {
     "data": {
      "text/html": [
       "<div>\n",
       "<style scoped>\n",
       "    .dataframe tbody tr th:only-of-type {\n",
       "        vertical-align: middle;\n",
       "    }\n",
       "\n",
       "    .dataframe tbody tr th {\n",
       "        vertical-align: top;\n",
       "    }\n",
       "\n",
       "    .dataframe thead th {\n",
       "        text-align: right;\n",
       "    }\n",
       "</style>\n",
       "<table border=\"1\" class=\"dataframe\">\n",
       "  <thead>\n",
       "    <tr style=\"text-align: right;\">\n",
       "      <th></th>\n",
       "      <th>bikes</th>\n",
       "      <th>watches</th>\n",
       "      <th>pants</th>\n",
       "      <th>glasses</th>\n",
       "    </tr>\n",
       "  </thead>\n",
       "  <tbody>\n",
       "    <tr>\n",
       "      <th>store 1</th>\n",
       "      <td>10</td>\n",
       "      <td>50</td>\n",
       "      <td>30</td>\n",
       "      <td>NaN</td>\n",
       "    </tr>\n",
       "  </tbody>\n",
       "</table>\n",
       "</div>"
      ],
      "text/plain": [
       "         bikes  watches  pants  glasses\n",
       "store 1     10       50     30      NaN"
      ]
     },
     "execution_count": 66,
     "metadata": {},
     "output_type": "execute_result"
    }
   ],
   "source": [
    "store_items.loc[[\"store 1\"]]"
   ]
  },
  {
   "cell_type": "code",
   "execution_count": 67,
   "id": "edcb2d24",
   "metadata": {},
   "outputs": [
    {
     "data": {
      "text/plain": [
       "bikes      10.0\n",
       "watches    50.0\n",
       "pants      30.0\n",
       "glasses     NaN\n",
       "Name: store 1, dtype: float64"
      ]
     },
     "execution_count": 67,
     "metadata": {},
     "output_type": "execute_result"
    }
   ],
   "source": [
    "store_items.iloc[0]"
   ]
  },
  {
   "cell_type": "markdown",
   "id": "b136e5b7",
   "metadata": {},
   "source": [
    "access individual element either by selecting the column first then the row or the row then the column \n",
    "- `df['column label']['row label']` \n",
    "- `df.loc['row label']['column label']` or `df.iloc[row index][column index]`"
   ]
  },
  {
   "cell_type": "code",
   "execution_count": 68,
   "id": "4511777f",
   "metadata": {},
   "outputs": [
    {
     "data": {
      "text/plain": [
       "10"
      ]
     },
     "execution_count": 68,
     "metadata": {},
     "output_type": "execute_result"
    }
   ],
   "source": [
    "store_items['bikes']['store 1']"
   ]
  },
  {
   "cell_type": "code",
   "execution_count": 69,
   "id": "9577baa8",
   "metadata": {},
   "outputs": [
    {
     "name": "stdout",
     "output_type": "stream",
     "text": [
      "Key Error: 'store 1'\n"
     ]
    }
   ],
   "source": [
    "try:\n",
    "    store_items['store 1'][\"bikes\"]\n",
    "except Exception as e:\n",
    "    print(f\"Key Error: {e}\")"
   ]
  },
  {
   "cell_type": "markdown",
   "id": "5707bec4",
   "metadata": {},
   "source": [
    "- but we can access an entire row first -using either loc or iloc- then access the column "
   ]
  },
  {
   "cell_type": "code",
   "execution_count": 70,
   "id": "b66346f5",
   "metadata": {},
   "outputs": [
    {
     "data": {
      "text/plain": [
       "10.0"
      ]
     },
     "execution_count": 70,
     "metadata": {},
     "output_type": "execute_result"
    }
   ],
   "source": [
    "store_items.loc['store 1'][\"bikes\"]"
   ]
  },
  {
   "cell_type": "code",
   "execution_count": 71,
   "id": "bb1970ca",
   "metadata": {},
   "outputs": [
    {
     "data": {
      "text/plain": [
       "10.0"
      ]
     },
     "execution_count": 71,
     "metadata": {},
     "output_type": "execute_result"
    }
   ],
   "source": [
    "store_items.iloc[0][\"bikes\"]"
   ]
  },
  {
   "cell_type": "markdown",
   "id": "3f486a09",
   "metadata": {},
   "source": [
    "## modify data frames (adding rows or columns)"
   ]
  },
  {
   "cell_type": "markdown",
   "id": "4b1965e0",
   "metadata": {},
   "source": [
    "##### add a column using `df['new column label'] = new data series or list or array`"
   ]
  },
  {
   "cell_type": "code",
   "execution_count": 72,
   "id": "3cdcbee3",
   "metadata": {},
   "outputs": [
    {
     "data": {
      "text/html": [
       "<div>\n",
       "<style scoped>\n",
       "    .dataframe tbody tr th:only-of-type {\n",
       "        vertical-align: middle;\n",
       "    }\n",
       "\n",
       "    .dataframe tbody tr th {\n",
       "        vertical-align: top;\n",
       "    }\n",
       "\n",
       "    .dataframe thead th {\n",
       "        text-align: right;\n",
       "    }\n",
       "</style>\n",
       "<table border=\"1\" class=\"dataframe\">\n",
       "  <thead>\n",
       "    <tr style=\"text-align: right;\">\n",
       "      <th></th>\n",
       "      <th>bikes</th>\n",
       "      <th>watches</th>\n",
       "      <th>pants</th>\n",
       "      <th>glasses</th>\n",
       "      <th>shirts</th>\n",
       "    </tr>\n",
       "  </thead>\n",
       "  <tbody>\n",
       "    <tr>\n",
       "      <th>store 1</th>\n",
       "      <td>10</td>\n",
       "      <td>50</td>\n",
       "      <td>30</td>\n",
       "      <td>NaN</td>\n",
       "      <td>22</td>\n",
       "    </tr>\n",
       "    <tr>\n",
       "      <th>store 2</th>\n",
       "      <td>15</td>\n",
       "      <td>60</td>\n",
       "      <td>7</td>\n",
       "      <td>10.0</td>\n",
       "      <td>22</td>\n",
       "    </tr>\n",
       "  </tbody>\n",
       "</table>\n",
       "</div>"
      ],
      "text/plain": [
       "         bikes  watches  pants  glasses  shirts\n",
       "store 1     10       50     30      NaN      22\n",
       "store 2     15       60      7     10.0      22"
      ]
     },
     "execution_count": 72,
     "metadata": {},
     "output_type": "execute_result"
    }
   ],
   "source": [
    "store_items['shirts'] = [22,22]\n",
    "store_items"
   ]
  },
  {
   "cell_type": "markdown",
   "id": "84673b8f",
   "metadata": {},
   "source": [
    "##### add a column using arithmetic operations on another columns"
   ]
  },
  {
   "cell_type": "code",
   "execution_count": 73,
   "id": "8d432e9c",
   "metadata": {},
   "outputs": [
    {
     "data": {
      "text/html": [
       "<div>\n",
       "<style scoped>\n",
       "    .dataframe tbody tr th:only-of-type {\n",
       "        vertical-align: middle;\n",
       "    }\n",
       "\n",
       "    .dataframe tbody tr th {\n",
       "        vertical-align: top;\n",
       "    }\n",
       "\n",
       "    .dataframe thead th {\n",
       "        text-align: right;\n",
       "    }\n",
       "</style>\n",
       "<table border=\"1\" class=\"dataframe\">\n",
       "  <thead>\n",
       "    <tr style=\"text-align: right;\">\n",
       "      <th></th>\n",
       "      <th>bikes</th>\n",
       "      <th>watches</th>\n",
       "      <th>pants</th>\n",
       "      <th>glasses</th>\n",
       "      <th>shirts</th>\n",
       "      <th>suits</th>\n",
       "    </tr>\n",
       "  </thead>\n",
       "  <tbody>\n",
       "    <tr>\n",
       "      <th>store 1</th>\n",
       "      <td>10</td>\n",
       "      <td>50</td>\n",
       "      <td>30</td>\n",
       "      <td>NaN</td>\n",
       "      <td>22</td>\n",
       "      <td>52</td>\n",
       "    </tr>\n",
       "    <tr>\n",
       "      <th>store 2</th>\n",
       "      <td>15</td>\n",
       "      <td>60</td>\n",
       "      <td>7</td>\n",
       "      <td>10.0</td>\n",
       "      <td>22</td>\n",
       "      <td>29</td>\n",
       "    </tr>\n",
       "  </tbody>\n",
       "</table>\n",
       "</div>"
      ],
      "text/plain": [
       "         bikes  watches  pants  glasses  shirts  suits\n",
       "store 1     10       50     30      NaN      22     52\n",
       "store 2     15       60      7     10.0      22     29"
      ]
     },
     "execution_count": 73,
     "metadata": {},
     "output_type": "execute_result"
    }
   ],
   "source": [
    "store_items['suits'] = store_items['shirts'] + store_items['pants']\n",
    "store_items"
   ]
  },
  {
   "cell_type": "markdown",
   "id": "5d4e7e84",
   "metadata": {},
   "source": [
    "## add a new column in a certain place\n",
    "- instead of adding it at the end, we can add it in a certain place \n",
    "- using `.insert(location, column label, data)`"
   ]
  },
  {
   "cell_type": "code",
   "execution_count": 76,
   "id": "917029ea",
   "metadata": {},
   "outputs": [
    {
     "data": {
      "text/html": [
       "<div>\n",
       "<style scoped>\n",
       "    .dataframe tbody tr th:only-of-type {\n",
       "        vertical-align: middle;\n",
       "    }\n",
       "\n",
       "    .dataframe tbody tr th {\n",
       "        vertical-align: top;\n",
       "    }\n",
       "\n",
       "    .dataframe thead th {\n",
       "        text-align: right;\n",
       "    }\n",
       "</style>\n",
       "<table border=\"1\" class=\"dataframe\">\n",
       "  <thead>\n",
       "    <tr style=\"text-align: right;\">\n",
       "      <th></th>\n",
       "      <th>bikes</th>\n",
       "      <th>watches</th>\n",
       "      <th>pants</th>\n",
       "      <th>glasses</th>\n",
       "      <th>shirts</th>\n",
       "    </tr>\n",
       "  </thead>\n",
       "  <tbody>\n",
       "    <tr>\n",
       "      <th>store 1</th>\n",
       "      <td>10</td>\n",
       "      <td>50</td>\n",
       "      <td>30</td>\n",
       "      <td>NaN</td>\n",
       "      <td>22</td>\n",
       "    </tr>\n",
       "    <tr>\n",
       "      <th>store 2</th>\n",
       "      <td>15</td>\n",
       "      <td>60</td>\n",
       "      <td>7</td>\n",
       "      <td>10.0</td>\n",
       "      <td>22</td>\n",
       "    </tr>\n",
       "  </tbody>\n",
       "</table>\n",
       "</div>"
      ],
      "text/plain": [
       "         bikes  watches  pants  glasses  shirts\n",
       "store 1     10       50     30      NaN      22\n",
       "store 2     15       60      7     10.0      22"
      ]
     },
     "execution_count": 76,
     "metadata": {},
     "output_type": "execute_result"
    }
   ],
   "source": [
    "store_items"
   ]
  },
  {
   "cell_type": "code",
   "execution_count": 77,
   "id": "29e918ab",
   "metadata": {},
   "outputs": [
    {
     "data": {
      "text/html": [
       "<div>\n",
       "<style scoped>\n",
       "    .dataframe tbody tr th:only-of-type {\n",
       "        vertical-align: middle;\n",
       "    }\n",
       "\n",
       "    .dataframe tbody tr th {\n",
       "        vertical-align: top;\n",
       "    }\n",
       "\n",
       "    .dataframe thead th {\n",
       "        text-align: right;\n",
       "    }\n",
       "</style>\n",
       "<table border=\"1\" class=\"dataframe\">\n",
       "  <thead>\n",
       "    <tr style=\"text-align: right;\">\n",
       "      <th></th>\n",
       "      <th>bikes</th>\n",
       "      <th>watches</th>\n",
       "      <th>pants</th>\n",
       "      <th>shoes</th>\n",
       "      <th>glasses</th>\n",
       "      <th>shirts</th>\n",
       "    </tr>\n",
       "  </thead>\n",
       "  <tbody>\n",
       "    <tr>\n",
       "      <th>store 1</th>\n",
       "      <td>10</td>\n",
       "      <td>50</td>\n",
       "      <td>30</td>\n",
       "      <td>13</td>\n",
       "      <td>NaN</td>\n",
       "      <td>22</td>\n",
       "    </tr>\n",
       "    <tr>\n",
       "      <th>store 2</th>\n",
       "      <td>15</td>\n",
       "      <td>60</td>\n",
       "      <td>7</td>\n",
       "      <td>22</td>\n",
       "      <td>10.0</td>\n",
       "      <td>22</td>\n",
       "    </tr>\n",
       "  </tbody>\n",
       "</table>\n",
       "</div>"
      ],
      "text/plain": [
       "         bikes  watches  pants  shoes  glasses  shirts\n",
       "store 1     10       50     30     13      NaN      22\n",
       "store 2     15       60      7     22     10.0      22"
      ]
     },
     "execution_count": 77,
     "metadata": {},
     "output_type": "execute_result"
    }
   ],
   "source": [
    "store_items.insert(3, 'shoes',[13,22])\n",
    "store_items"
   ]
  },
  {
   "cell_type": "markdown",
   "id": "64560573",
   "metadata": {},
   "source": [
    "### add a new row \n",
    "- first create a new data frame with the new rows then append it"
   ]
  },
  {
   "cell_type": "code",
   "execution_count": 78,
   "id": "720ff108",
   "metadata": {},
   "outputs": [
    {
     "data": {
      "text/html": [
       "<div>\n",
       "<style scoped>\n",
       "    .dataframe tbody tr th:only-of-type {\n",
       "        vertical-align: middle;\n",
       "    }\n",
       "\n",
       "    .dataframe tbody tr th {\n",
       "        vertical-align: top;\n",
       "    }\n",
       "\n",
       "    .dataframe thead th {\n",
       "        text-align: right;\n",
       "    }\n",
       "</style>\n",
       "<table border=\"1\" class=\"dataframe\">\n",
       "  <thead>\n",
       "    <tr style=\"text-align: right;\">\n",
       "      <th></th>\n",
       "      <th>bikes</th>\n",
       "      <th>watches</th>\n",
       "      <th>pants</th>\n",
       "      <th>glasses</th>\n",
       "      <th>shirts</th>\n",
       "      <th>suits</th>\n",
       "    </tr>\n",
       "  </thead>\n",
       "  <tbody>\n",
       "    <tr>\n",
       "      <th>store 3</th>\n",
       "      <td>11</td>\n",
       "      <td>11</td>\n",
       "      <td>11</td>\n",
       "      <td>11</td>\n",
       "      <td>11</td>\n",
       "      <td>11</td>\n",
       "    </tr>\n",
       "  </tbody>\n",
       "</table>\n",
       "</div>"
      ],
      "text/plain": [
       "         bikes  watches  pants  glasses  shirts  suits\n",
       "store 3     11       11     11       11      11     11"
      ]
     },
     "execution_count": 78,
     "metadata": {},
     "output_type": "execute_result"
    }
   ],
   "source": [
    "new_items = [{\"bikes\":11,\"watches\":11,'pants':11,'glasses':11,'shirts':11,'suits':11}]\n",
    "new_store = pd.DataFrame(new_items,index=[\"store 3\"])\n",
    "new_store"
   ]
  },
  {
   "cell_type": "code",
   "execution_count": 79,
   "id": "b1fd3731",
   "metadata": {},
   "outputs": [
    {
     "data": {
      "text/html": [
       "<div>\n",
       "<style scoped>\n",
       "    .dataframe tbody tr th:only-of-type {\n",
       "        vertical-align: middle;\n",
       "    }\n",
       "\n",
       "    .dataframe tbody tr th {\n",
       "        vertical-align: top;\n",
       "    }\n",
       "\n",
       "    .dataframe thead th {\n",
       "        text-align: right;\n",
       "    }\n",
       "</style>\n",
       "<table border=\"1\" class=\"dataframe\">\n",
       "  <thead>\n",
       "    <tr style=\"text-align: right;\">\n",
       "      <th></th>\n",
       "      <th>bikes</th>\n",
       "      <th>watches</th>\n",
       "      <th>pants</th>\n",
       "      <th>shoes</th>\n",
       "      <th>glasses</th>\n",
       "      <th>shirts</th>\n",
       "    </tr>\n",
       "  </thead>\n",
       "  <tbody>\n",
       "    <tr>\n",
       "      <th>store 1</th>\n",
       "      <td>10</td>\n",
       "      <td>50</td>\n",
       "      <td>30</td>\n",
       "      <td>13</td>\n",
       "      <td>NaN</td>\n",
       "      <td>22</td>\n",
       "    </tr>\n",
       "    <tr>\n",
       "      <th>store 2</th>\n",
       "      <td>15</td>\n",
       "      <td>60</td>\n",
       "      <td>7</td>\n",
       "      <td>22</td>\n",
       "      <td>10.0</td>\n",
       "      <td>22</td>\n",
       "    </tr>\n",
       "  </tbody>\n",
       "</table>\n",
       "</div>"
      ],
      "text/plain": [
       "         bikes  watches  pants  shoes  glasses  shirts\n",
       "store 1     10       50     30     13      NaN      22\n",
       "store 2     15       60      7     22     10.0      22"
      ]
     },
     "execution_count": 79,
     "metadata": {},
     "output_type": "execute_result"
    }
   ],
   "source": [
    "store_items"
   ]
  },
  {
   "cell_type": "code",
   "execution_count": 80,
   "id": "e0ec4b49",
   "metadata": {},
   "outputs": [
    {
     "ename": "AttributeError",
     "evalue": "'DataFrame' object has no attribute 'append'",
     "output_type": "error",
     "traceback": [
      "\u001b[1;31m---------------------------------------------------------------------------\u001b[0m",
      "\u001b[1;31mAttributeError\u001b[0m                            Traceback (most recent call last)",
      "\u001b[1;32m~\\AppData\\Local\\Temp\\ipykernel_10500\\1068459240.py\u001b[0m in \u001b[0;36m?\u001b[1;34m()\u001b[0m\n\u001b[1;32m----> 1\u001b[1;33m \u001b[0mstore_items\u001b[0m\u001b[1;33m.\u001b[0m\u001b[0mappend\u001b[0m\u001b[1;33m(\u001b[0m\u001b[0mnew_store\u001b[0m\u001b[1;33m)\u001b[0m\u001b[1;33m\u001b[0m\u001b[1;33m\u001b[0m\u001b[0m\n\u001b[0m",
      "\u001b[1;32mc:\\Users\\TOSHIBA\\anaconda3\\envs\\dl_torch\\Lib\\site-packages\\pandas\\core\\generic.py\u001b[0m in \u001b[0;36m?\u001b[1;34m(self, name)\u001b[0m\n\u001b[0;32m   6200\u001b[0m             \u001b[1;32mand\u001b[0m \u001b[0mname\u001b[0m \u001b[1;32mnot\u001b[0m \u001b[1;32min\u001b[0m \u001b[0mself\u001b[0m\u001b[1;33m.\u001b[0m\u001b[0m_accessors\u001b[0m\u001b[1;33m\u001b[0m\u001b[1;33m\u001b[0m\u001b[0m\n\u001b[0;32m   6201\u001b[0m             \u001b[1;32mand\u001b[0m \u001b[0mself\u001b[0m\u001b[1;33m.\u001b[0m\u001b[0m_info_axis\u001b[0m\u001b[1;33m.\u001b[0m\u001b[0m_can_hold_identifiers_and_holds_name\u001b[0m\u001b[1;33m(\u001b[0m\u001b[0mname\u001b[0m\u001b[1;33m)\u001b[0m\u001b[1;33m\u001b[0m\u001b[1;33m\u001b[0m\u001b[0m\n\u001b[0;32m   6202\u001b[0m         ):\n\u001b[0;32m   6203\u001b[0m             \u001b[1;32mreturn\u001b[0m \u001b[0mself\u001b[0m\u001b[1;33m[\u001b[0m\u001b[0mname\u001b[0m\u001b[1;33m]\u001b[0m\u001b[1;33m\u001b[0m\u001b[1;33m\u001b[0m\u001b[0m\n\u001b[1;32m-> 6204\u001b[1;33m         \u001b[1;32mreturn\u001b[0m \u001b[0mobject\u001b[0m\u001b[1;33m.\u001b[0m\u001b[0m__getattribute__\u001b[0m\u001b[1;33m(\u001b[0m\u001b[0mself\u001b[0m\u001b[1;33m,\u001b[0m \u001b[0mname\u001b[0m\u001b[1;33m)\u001b[0m\u001b[1;33m\u001b[0m\u001b[1;33m\u001b[0m\u001b[0m\n\u001b[0m",
      "\u001b[1;31mAttributeError\u001b[0m: 'DataFrame' object has no attribute 'append'"
     ]
    }
   ],
   "source": [
    "store_items.append(new_store)"
   ]
  },
  {
   "cell_type": "markdown",
   "id": "a237d464",
   "metadata": {},
   "source": [
    "- future note: the above cell used to work"
   ]
  },
  {
   "cell_type": "code",
   "execution_count": 81,
   "id": "b66658de",
   "metadata": {},
   "outputs": [
    {
     "data": {
      "text/html": [
       "<div>\n",
       "<style scoped>\n",
       "    .dataframe tbody tr th:only-of-type {\n",
       "        vertical-align: middle;\n",
       "    }\n",
       "\n",
       "    .dataframe tbody tr th {\n",
       "        vertical-align: top;\n",
       "    }\n",
       "\n",
       "    .dataframe thead th {\n",
       "        text-align: right;\n",
       "    }\n",
       "</style>\n",
       "<table border=\"1\" class=\"dataframe\">\n",
       "  <thead>\n",
       "    <tr style=\"text-align: right;\">\n",
       "      <th></th>\n",
       "      <th>bikes</th>\n",
       "      <th>watches</th>\n",
       "      <th>pants</th>\n",
       "      <th>shoes</th>\n",
       "      <th>glasses</th>\n",
       "      <th>shirts</th>\n",
       "      <th>suits</th>\n",
       "    </tr>\n",
       "  </thead>\n",
       "  <tbody>\n",
       "    <tr>\n",
       "      <th>store 1</th>\n",
       "      <td>10</td>\n",
       "      <td>50</td>\n",
       "      <td>30</td>\n",
       "      <td>13.0</td>\n",
       "      <td>NaN</td>\n",
       "      <td>22</td>\n",
       "      <td>NaN</td>\n",
       "    </tr>\n",
       "    <tr>\n",
       "      <th>store 2</th>\n",
       "      <td>15</td>\n",
       "      <td>60</td>\n",
       "      <td>7</td>\n",
       "      <td>22.0</td>\n",
       "      <td>10.0</td>\n",
       "      <td>22</td>\n",
       "      <td>NaN</td>\n",
       "    </tr>\n",
       "    <tr>\n",
       "      <th>store 3</th>\n",
       "      <td>11</td>\n",
       "      <td>11</td>\n",
       "      <td>11</td>\n",
       "      <td>NaN</td>\n",
       "      <td>11.0</td>\n",
       "      <td>11</td>\n",
       "      <td>11.0</td>\n",
       "    </tr>\n",
       "  </tbody>\n",
       "</table>\n",
       "</div>"
      ],
      "text/plain": [
       "         bikes  watches  pants  shoes  glasses  shirts  suits\n",
       "store 1     10       50     30   13.0      NaN      22    NaN\n",
       "store 2     15       60      7   22.0     10.0      22    NaN\n",
       "store 3     11       11     11    NaN     11.0      11   11.0"
      ]
     },
     "execution_count": 81,
     "metadata": {},
     "output_type": "execute_result"
    }
   ],
   "source": [
    "store_items = pd.concat([store_items,new_store])\n",
    "store_items"
   ]
  },
  {
   "cell_type": "code",
   "execution_count": 82,
   "id": "b31955d9",
   "metadata": {},
   "outputs": [
    {
     "ename": "AttributeError",
     "evalue": "'DataFrame' object has no attribute 'append'",
     "output_type": "error",
     "traceback": [
      "\u001b[1;31m---------------------------------------------------------------------------\u001b[0m",
      "\u001b[1;31mAttributeError\u001b[0m                            Traceback (most recent call last)",
      "\u001b[1;32m~\\AppData\\Local\\Temp\\ipykernel_10500\\2720228100.py\u001b[0m in \u001b[0;36m?\u001b[1;34m()\u001b[0m\n\u001b[1;32m----> 1\u001b[1;33m \u001b[0mstore_items\u001b[0m \u001b[1;33m=\u001b[0m \u001b[0mstore_items\u001b[0m\u001b[1;33m.\u001b[0m\u001b[0mappend\u001b[0m\u001b[1;33m(\u001b[0m\u001b[0mnew_store\u001b[0m\u001b[1;33m)\u001b[0m\u001b[1;33m\u001b[0m\u001b[1;33m\u001b[0m\u001b[0m\n\u001b[0m\u001b[0;32m      2\u001b[0m \u001b[0mstore_items\u001b[0m\u001b[1;33m\u001b[0m\u001b[1;33m\u001b[0m\u001b[0m\n",
      "\u001b[1;32mc:\\Users\\TOSHIBA\\anaconda3\\envs\\dl_torch\\Lib\\site-packages\\pandas\\core\\generic.py\u001b[0m in \u001b[0;36m?\u001b[1;34m(self, name)\u001b[0m\n\u001b[0;32m   6200\u001b[0m             \u001b[1;32mand\u001b[0m \u001b[0mname\u001b[0m \u001b[1;32mnot\u001b[0m \u001b[1;32min\u001b[0m \u001b[0mself\u001b[0m\u001b[1;33m.\u001b[0m\u001b[0m_accessors\u001b[0m\u001b[1;33m\u001b[0m\u001b[1;33m\u001b[0m\u001b[0m\n\u001b[0;32m   6201\u001b[0m             \u001b[1;32mand\u001b[0m \u001b[0mself\u001b[0m\u001b[1;33m.\u001b[0m\u001b[0m_info_axis\u001b[0m\u001b[1;33m.\u001b[0m\u001b[0m_can_hold_identifiers_and_holds_name\u001b[0m\u001b[1;33m(\u001b[0m\u001b[0mname\u001b[0m\u001b[1;33m)\u001b[0m\u001b[1;33m\u001b[0m\u001b[1;33m\u001b[0m\u001b[0m\n\u001b[0;32m   6202\u001b[0m         ):\n\u001b[0;32m   6203\u001b[0m             \u001b[1;32mreturn\u001b[0m \u001b[0mself\u001b[0m\u001b[1;33m[\u001b[0m\u001b[0mname\u001b[0m\u001b[1;33m]\u001b[0m\u001b[1;33m\u001b[0m\u001b[1;33m\u001b[0m\u001b[0m\n\u001b[1;32m-> 6204\u001b[1;33m         \u001b[1;32mreturn\u001b[0m \u001b[0mobject\u001b[0m\u001b[1;33m.\u001b[0m\u001b[0m__getattribute__\u001b[0m\u001b[1;33m(\u001b[0m\u001b[0mself\u001b[0m\u001b[1;33m,\u001b[0m \u001b[0mname\u001b[0m\u001b[1;33m)\u001b[0m\u001b[1;33m\u001b[0m\u001b[1;33m\u001b[0m\u001b[0m\n\u001b[0m",
      "\u001b[1;31mAttributeError\u001b[0m: 'DataFrame' object has no attribute 'append'"
     ]
    }
   ],
   "source": [
    "store_items = store_items.append(new_store)\n",
    "store_items"
   ]
  },
  {
   "cell_type": "markdown",
   "id": "90189a85",
   "metadata": {},
   "source": [
    "### snippets"
   ]
  },
  {
   "cell_type": "code",
   "execution_count": 83,
   "id": "e23d75b4",
   "metadata": {},
   "outputs": [
    {
     "data": {
      "text/html": [
       "<div>\n",
       "<style scoped>\n",
       "    .dataframe tbody tr th:only-of-type {\n",
       "        vertical-align: middle;\n",
       "    }\n",
       "\n",
       "    .dataframe tbody tr th {\n",
       "        vertical-align: top;\n",
       "    }\n",
       "\n",
       "    .dataframe thead th {\n",
       "        text-align: right;\n",
       "    }\n",
       "</style>\n",
       "<table border=\"1\" class=\"dataframe\">\n",
       "  <thead>\n",
       "    <tr style=\"text-align: right;\">\n",
       "      <th></th>\n",
       "      <th>bikes</th>\n",
       "      <th>watches</th>\n",
       "      <th>pants</th>\n",
       "      <th>shoes</th>\n",
       "      <th>glasses</th>\n",
       "      <th>shirts</th>\n",
       "      <th>suits</th>\n",
       "      <th>new watches</th>\n",
       "    </tr>\n",
       "  </thead>\n",
       "  <tbody>\n",
       "    <tr>\n",
       "      <th>store 1</th>\n",
       "      <td>10</td>\n",
       "      <td>50</td>\n",
       "      <td>30</td>\n",
       "      <td>13.0</td>\n",
       "      <td>NaN</td>\n",
       "      <td>22</td>\n",
       "      <td>NaN</td>\n",
       "      <td>NaN</td>\n",
       "    </tr>\n",
       "    <tr>\n",
       "      <th>store 2</th>\n",
       "      <td>15</td>\n",
       "      <td>60</td>\n",
       "      <td>7</td>\n",
       "      <td>22.0</td>\n",
       "      <td>10.0</td>\n",
       "      <td>22</td>\n",
       "      <td>NaN</td>\n",
       "      <td>70.0</td>\n",
       "    </tr>\n",
       "    <tr>\n",
       "      <th>store 3</th>\n",
       "      <td>11</td>\n",
       "      <td>11</td>\n",
       "      <td>11</td>\n",
       "      <td>NaN</td>\n",
       "      <td>11.0</td>\n",
       "      <td>11</td>\n",
       "      <td>11.0</td>\n",
       "      <td>21.0</td>\n",
       "    </tr>\n",
       "  </tbody>\n",
       "</table>\n",
       "</div>"
      ],
      "text/plain": [
       "         bikes  watches  pants  shoes  glasses  shirts  suits  new watches\n",
       "store 1     10       50     30   13.0      NaN      22    NaN          NaN\n",
       "store 2     15       60      7   22.0     10.0      22    NaN         70.0\n",
       "store 3     11       11     11    NaN     11.0      11   11.0         21.0"
      ]
     },
     "execution_count": 83,
     "metadata": {},
     "output_type": "execute_result"
    }
   ],
   "source": [
    "store_items[\"new watches\"] = store_items[\"watches\"][1:] + 10\n",
    "store_items"
   ]
  },
  {
   "cell_type": "markdown",
   "id": "ae7ad3ea",
   "metadata": {},
   "source": [
    "## Future: append new columns of an existing dataframe to our data frame"
   ]
  },
  {
   "cell_type": "code",
   "execution_count": 84,
   "id": "e24cbdff",
   "metadata": {},
   "outputs": [
    {
     "data": {
      "text/html": [
       "<div>\n",
       "<style scoped>\n",
       "    .dataframe tbody tr th:only-of-type {\n",
       "        vertical-align: middle;\n",
       "    }\n",
       "\n",
       "    .dataframe tbody tr th {\n",
       "        vertical-align: top;\n",
       "    }\n",
       "\n",
       "    .dataframe thead th {\n",
       "        text-align: right;\n",
       "    }\n",
       "</style>\n",
       "<table border=\"1\" class=\"dataframe\">\n",
       "  <thead>\n",
       "    <tr style=\"text-align: right;\">\n",
       "      <th></th>\n",
       "      <th>Tvs</th>\n",
       "      <th>Phones</th>\n",
       "    </tr>\n",
       "  </thead>\n",
       "  <tbody>\n",
       "    <tr>\n",
       "      <th>store 1</th>\n",
       "      <td>100</td>\n",
       "      <td>60</td>\n",
       "    </tr>\n",
       "    <tr>\n",
       "      <th>store 2</th>\n",
       "      <td>99</td>\n",
       "      <td>50</td>\n",
       "    </tr>\n",
       "    <tr>\n",
       "      <th>store 3</th>\n",
       "      <td>90</td>\n",
       "      <td>55</td>\n",
       "    </tr>\n",
       "  </tbody>\n",
       "</table>\n",
       "</div>"
      ],
      "text/plain": [
       "         Tvs  Phones\n",
       "store 1  100      60\n",
       "store 2   99      50\n",
       "store 3   90      55"
      ]
     },
     "execution_count": 84,
     "metadata": {},
     "output_type": "execute_result"
    }
   ],
   "source": [
    "new_columns = {\"Tvs\": [100,99,90], \"Phones\":[60,50,55]}\n",
    "new_columns = pd.DataFrame(new_columns,index=[\"store 1\",\"store 2\", \"store 3\"])\n",
    "new_columns"
   ]
  },
  {
   "cell_type": "code",
   "execution_count": 85,
   "id": "f4257083",
   "metadata": {},
   "outputs": [
    {
     "data": {
      "text/html": [
       "<div>\n",
       "<style scoped>\n",
       "    .dataframe tbody tr th:only-of-type {\n",
       "        vertical-align: middle;\n",
       "    }\n",
       "\n",
       "    .dataframe tbody tr th {\n",
       "        vertical-align: top;\n",
       "    }\n",
       "\n",
       "    .dataframe thead th {\n",
       "        text-align: right;\n",
       "    }\n",
       "</style>\n",
       "<table border=\"1\" class=\"dataframe\">\n",
       "  <thead>\n",
       "    <tr style=\"text-align: right;\">\n",
       "      <th></th>\n",
       "      <th>bikes</th>\n",
       "      <th>watches</th>\n",
       "      <th>pants</th>\n",
       "      <th>shoes</th>\n",
       "      <th>glasses</th>\n",
       "      <th>shirts</th>\n",
       "      <th>suits</th>\n",
       "      <th>new watches</th>\n",
       "      <th>Tvs</th>\n",
       "      <th>Phones</th>\n",
       "    </tr>\n",
       "  </thead>\n",
       "  <tbody>\n",
       "    <tr>\n",
       "      <th>store 1</th>\n",
       "      <td>10</td>\n",
       "      <td>50</td>\n",
       "      <td>30</td>\n",
       "      <td>13.0</td>\n",
       "      <td>NaN</td>\n",
       "      <td>22</td>\n",
       "      <td>NaN</td>\n",
       "      <td>NaN</td>\n",
       "      <td>100</td>\n",
       "      <td>60</td>\n",
       "    </tr>\n",
       "    <tr>\n",
       "      <th>store 2</th>\n",
       "      <td>15</td>\n",
       "      <td>60</td>\n",
       "      <td>7</td>\n",
       "      <td>22.0</td>\n",
       "      <td>10.0</td>\n",
       "      <td>22</td>\n",
       "      <td>NaN</td>\n",
       "      <td>70.0</td>\n",
       "      <td>99</td>\n",
       "      <td>50</td>\n",
       "    </tr>\n",
       "    <tr>\n",
       "      <th>store 3</th>\n",
       "      <td>11</td>\n",
       "      <td>11</td>\n",
       "      <td>11</td>\n",
       "      <td>NaN</td>\n",
       "      <td>11.0</td>\n",
       "      <td>11</td>\n",
       "      <td>11.0</td>\n",
       "      <td>21.0</td>\n",
       "      <td>90</td>\n",
       "      <td>55</td>\n",
       "    </tr>\n",
       "  </tbody>\n",
       "</table>\n",
       "</div>"
      ],
      "text/plain": [
       "         bikes  watches  pants  shoes  glasses  shirts  suits  new watches  \\\n",
       "store 1     10       50     30   13.0      NaN      22    NaN          NaN   \n",
       "store 2     15       60      7   22.0     10.0      22    NaN         70.0   \n",
       "store 3     11       11     11    NaN     11.0      11   11.0         21.0   \n",
       "\n",
       "         Tvs  Phones  \n",
       "store 1  100      60  \n",
       "store 2   99      50  \n",
       "store 3   90      55  "
      ]
     },
     "execution_count": 85,
     "metadata": {},
     "output_type": "execute_result"
    }
   ],
   "source": [
    "store_items = store_items.join(new_columns)\n",
    "store_items"
   ]
  },
  {
   "cell_type": "markdown",
   "id": "4e2e8f33",
   "metadata": {},
   "source": [
    "## Boolean indexing \n",
    "- we can perform logical operations on the data frame and get a data series of booleans (the labels will be the same as the data frame labels, and the values will be True or False)\n",
    "- we can use this data series to index the data frame and get the rows that satisfy the condition"
   ]
  },
  {
   "cell_type": "code",
   "execution_count": 99,
   "id": "57290bfa",
   "metadata": {},
   "outputs": [
    {
     "data": {
      "text/html": [
       "<div>\n",
       "<style scoped>\n",
       "    .dataframe tbody tr th:only-of-type {\n",
       "        vertical-align: middle;\n",
       "    }\n",
       "\n",
       "    .dataframe tbody tr th {\n",
       "        vertical-align: top;\n",
       "    }\n",
       "\n",
       "    .dataframe thead th {\n",
       "        text-align: right;\n",
       "    }\n",
       "</style>\n",
       "<table border=\"1\" class=\"dataframe\">\n",
       "  <thead>\n",
       "    <tr style=\"text-align: right;\">\n",
       "      <th></th>\n",
       "      <th>bikes</th>\n",
       "      <th>watches</th>\n",
       "      <th>pants</th>\n",
       "      <th>shoes</th>\n",
       "      <th>glasses</th>\n",
       "      <th>shirts</th>\n",
       "      <th>suits</th>\n",
       "      <th>new watches</th>\n",
       "      <th>Tvs</th>\n",
       "      <th>Phones</th>\n",
       "    </tr>\n",
       "  </thead>\n",
       "  <tbody>\n",
       "    <tr>\n",
       "      <th>store 1</th>\n",
       "      <td>10</td>\n",
       "      <td>50</td>\n",
       "      <td>30</td>\n",
       "      <td>13.0</td>\n",
       "      <td>NaN</td>\n",
       "      <td>22</td>\n",
       "      <td>NaN</td>\n",
       "      <td>NaN</td>\n",
       "      <td>100</td>\n",
       "      <td>60</td>\n",
       "    </tr>\n",
       "    <tr>\n",
       "      <th>store 2</th>\n",
       "      <td>15</td>\n",
       "      <td>60</td>\n",
       "      <td>7</td>\n",
       "      <td>22.0</td>\n",
       "      <td>10.0</td>\n",
       "      <td>22</td>\n",
       "      <td>NaN</td>\n",
       "      <td>70.0</td>\n",
       "      <td>99</td>\n",
       "      <td>50</td>\n",
       "    </tr>\n",
       "    <tr>\n",
       "      <th>store 3</th>\n",
       "      <td>11</td>\n",
       "      <td>11</td>\n",
       "      <td>11</td>\n",
       "      <td>NaN</td>\n",
       "      <td>11.0</td>\n",
       "      <td>11</td>\n",
       "      <td>11.0</td>\n",
       "      <td>21.0</td>\n",
       "      <td>90</td>\n",
       "      <td>55</td>\n",
       "    </tr>\n",
       "  </tbody>\n",
       "</table>\n",
       "</div>"
      ],
      "text/plain": [
       "         bikes  watches  pants  shoes  glasses  shirts  suits  new watches  \\\n",
       "store 1     10       50     30   13.0      NaN      22    NaN          NaN   \n",
       "store 2     15       60      7   22.0     10.0      22    NaN         70.0   \n",
       "store 3     11       11     11    NaN     11.0      11   11.0         21.0   \n",
       "\n",
       "         Tvs  Phones  \n",
       "store 1  100      60  \n",
       "store 2   99      50  \n",
       "store 3   90      55  "
      ]
     },
     "execution_count": 99,
     "metadata": {},
     "output_type": "execute_result"
    }
   ],
   "source": [
    "store_items"
   ]
  },
  {
   "cell_type": "code",
   "execution_count": 95,
   "id": "62ace6db",
   "metadata": {},
   "outputs": [
    {
     "data": {
      "text/plain": [
       "(store 1    False\n",
       " store 2     True\n",
       " store 3     True\n",
       " Name: bikes, dtype: bool,\n",
       " pandas.core.series.Series)"
      ]
     },
     "execution_count": 95,
     "metadata": {},
     "output_type": "execute_result"
    }
   ],
   "source": [
    "# get the store that has more than 10 bikes\n",
    "mask = store_items[\"bikes\"] > 10\n",
    "mask, type(mask)"
   ]
  },
  {
   "cell_type": "code",
   "execution_count": 96,
   "id": "baba8ba5",
   "metadata": {},
   "outputs": [
    {
     "data": {
      "text/html": [
       "<div>\n",
       "<style scoped>\n",
       "    .dataframe tbody tr th:only-of-type {\n",
       "        vertical-align: middle;\n",
       "    }\n",
       "\n",
       "    .dataframe tbody tr th {\n",
       "        vertical-align: top;\n",
       "    }\n",
       "\n",
       "    .dataframe thead th {\n",
       "        text-align: right;\n",
       "    }\n",
       "</style>\n",
       "<table border=\"1\" class=\"dataframe\">\n",
       "  <thead>\n",
       "    <tr style=\"text-align: right;\">\n",
       "      <th></th>\n",
       "      <th>bikes</th>\n",
       "      <th>watches</th>\n",
       "      <th>pants</th>\n",
       "      <th>shoes</th>\n",
       "      <th>glasses</th>\n",
       "      <th>shirts</th>\n",
       "      <th>suits</th>\n",
       "      <th>new watches</th>\n",
       "      <th>Tvs</th>\n",
       "      <th>Phones</th>\n",
       "    </tr>\n",
       "  </thead>\n",
       "  <tbody>\n",
       "    <tr>\n",
       "      <th>store 2</th>\n",
       "      <td>15</td>\n",
       "      <td>60</td>\n",
       "      <td>7</td>\n",
       "      <td>22.0</td>\n",
       "      <td>10.0</td>\n",
       "      <td>22</td>\n",
       "      <td>NaN</td>\n",
       "      <td>70.0</td>\n",
       "      <td>99</td>\n",
       "      <td>50</td>\n",
       "    </tr>\n",
       "    <tr>\n",
       "      <th>store 3</th>\n",
       "      <td>11</td>\n",
       "      <td>11</td>\n",
       "      <td>11</td>\n",
       "      <td>NaN</td>\n",
       "      <td>11.0</td>\n",
       "      <td>11</td>\n",
       "      <td>11.0</td>\n",
       "      <td>21.0</td>\n",
       "      <td>90</td>\n",
       "      <td>55</td>\n",
       "    </tr>\n",
       "  </tbody>\n",
       "</table>\n",
       "</div>"
      ],
      "text/plain": [
       "         bikes  watches  pants  shoes  glasses  shirts  suits  new watches  \\\n",
       "store 2     15       60      7   22.0     10.0      22    NaN         70.0   \n",
       "store 3     11       11     11    NaN     11.0      11   11.0         21.0   \n",
       "\n",
       "         Tvs  Phones  \n",
       "store 2   99      50  \n",
       "store 3   90      55  "
      ]
     },
     "execution_count": 96,
     "metadata": {},
     "output_type": "execute_result"
    }
   ],
   "source": [
    "store_items[mask]"
   ]
  },
  {
   "cell_type": "markdown",
   "id": "9996e036",
   "metadata": {},
   "source": [
    "- get the store that has nan values in any of its columns"
   ]
  },
  {
   "cell_type": "code",
   "execution_count": 107,
   "id": "eed54130",
   "metadata": {},
   "outputs": [
    {
     "data": {
      "text/plain": [
       "(store 1    True\n",
       " store 2    True\n",
       " store 3    True\n",
       " dtype: bool,\n",
       " pandas.core.series.Series)"
      ]
     },
     "execution_count": 107,
     "metadata": {},
     "output_type": "execute_result"
    }
   ],
   "source": [
    "mask = store_items.isnull().any(axis=1)\n",
    "mask, type(mask)"
   ]
  },
  {
   "cell_type": "code",
   "execution_count": 108,
   "id": "7bee8a1c",
   "metadata": {},
   "outputs": [
    {
     "data": {
      "text/html": [
       "<div>\n",
       "<style scoped>\n",
       "    .dataframe tbody tr th:only-of-type {\n",
       "        vertical-align: middle;\n",
       "    }\n",
       "\n",
       "    .dataframe tbody tr th {\n",
       "        vertical-align: top;\n",
       "    }\n",
       "\n",
       "    .dataframe thead th {\n",
       "        text-align: right;\n",
       "    }\n",
       "</style>\n",
       "<table border=\"1\" class=\"dataframe\">\n",
       "  <thead>\n",
       "    <tr style=\"text-align: right;\">\n",
       "      <th></th>\n",
       "      <th>bikes</th>\n",
       "      <th>watches</th>\n",
       "      <th>pants</th>\n",
       "      <th>shoes</th>\n",
       "      <th>glasses</th>\n",
       "      <th>shirts</th>\n",
       "      <th>suits</th>\n",
       "      <th>new watches</th>\n",
       "      <th>Tvs</th>\n",
       "      <th>Phones</th>\n",
       "    </tr>\n",
       "  </thead>\n",
       "  <tbody>\n",
       "    <tr>\n",
       "      <th>store 1</th>\n",
       "      <td>10</td>\n",
       "      <td>50</td>\n",
       "      <td>30</td>\n",
       "      <td>13.0</td>\n",
       "      <td>NaN</td>\n",
       "      <td>22</td>\n",
       "      <td>NaN</td>\n",
       "      <td>NaN</td>\n",
       "      <td>100</td>\n",
       "      <td>60</td>\n",
       "    </tr>\n",
       "    <tr>\n",
       "      <th>store 2</th>\n",
       "      <td>15</td>\n",
       "      <td>60</td>\n",
       "      <td>7</td>\n",
       "      <td>22.0</td>\n",
       "      <td>10.0</td>\n",
       "      <td>22</td>\n",
       "      <td>NaN</td>\n",
       "      <td>70.0</td>\n",
       "      <td>99</td>\n",
       "      <td>50</td>\n",
       "    </tr>\n",
       "    <tr>\n",
       "      <th>store 3</th>\n",
       "      <td>11</td>\n",
       "      <td>11</td>\n",
       "      <td>11</td>\n",
       "      <td>NaN</td>\n",
       "      <td>11.0</td>\n",
       "      <td>11</td>\n",
       "      <td>11.0</td>\n",
       "      <td>21.0</td>\n",
       "      <td>90</td>\n",
       "      <td>55</td>\n",
       "    </tr>\n",
       "  </tbody>\n",
       "</table>\n",
       "</div>"
      ],
      "text/plain": [
       "         bikes  watches  pants  shoes  glasses  shirts  suits  new watches  \\\n",
       "store 1     10       50     30   13.0      NaN      22    NaN          NaN   \n",
       "store 2     15       60      7   22.0     10.0      22    NaN         70.0   \n",
       "store 3     11       11     11    NaN     11.0      11   11.0         21.0   \n",
       "\n",
       "         Tvs  Phones  \n",
       "store 1  100      60  \n",
       "store 2   99      50  \n",
       "store 3   90      55  "
      ]
     },
     "execution_count": 108,
     "metadata": {},
     "output_type": "execute_result"
    }
   ],
   "source": [
    "store_items[mask]"
   ]
  },
  {
   "cell_type": "markdown",
   "id": "79dcdd02",
   "metadata": {},
   "source": [
    "## delete from the data frame \n",
    "- using `df.pop(\"column)` method to delete columns , call it pop a column!\n",
    "    - and it works in place\n",
    "- or using .drop() method to delete both rows and columns using axis\n",
    "    - also works in place"
   ]
  },
  {
   "cell_type": "code",
   "execution_count": 84,
   "id": "97d2f757",
   "metadata": {},
   "outputs": [
    {
     "data": {
      "text/html": [
       "<div>\n",
       "<style scoped>\n",
       "    .dataframe tbody tr th:only-of-type {\n",
       "        vertical-align: middle;\n",
       "    }\n",
       "\n",
       "    .dataframe tbody tr th {\n",
       "        vertical-align: top;\n",
       "    }\n",
       "\n",
       "    .dataframe thead th {\n",
       "        text-align: right;\n",
       "    }\n",
       "</style>\n",
       "<table border=\"1\" class=\"dataframe\">\n",
       "  <thead>\n",
       "    <tr style=\"text-align: right;\">\n",
       "      <th></th>\n",
       "      <th>bikes</th>\n",
       "      <th>watches</th>\n",
       "      <th>pants</th>\n",
       "      <th>shoes</th>\n",
       "      <th>glasses</th>\n",
       "      <th>shirts</th>\n",
       "      <th>suits</th>\n",
       "      <th>new watches</th>\n",
       "      <th>Tvs</th>\n",
       "      <th>Phones</th>\n",
       "    </tr>\n",
       "  </thead>\n",
       "  <tbody>\n",
       "    <tr>\n",
       "      <th>store 1</th>\n",
       "      <td>10</td>\n",
       "      <td>50</td>\n",
       "      <td>30</td>\n",
       "      <td>13.0</td>\n",
       "      <td>NaN</td>\n",
       "      <td>22</td>\n",
       "      <td>52</td>\n",
       "      <td>NaN</td>\n",
       "      <td>100</td>\n",
       "      <td>60</td>\n",
       "    </tr>\n",
       "    <tr>\n",
       "      <th>store 2</th>\n",
       "      <td>15</td>\n",
       "      <td>60</td>\n",
       "      <td>7</td>\n",
       "      <td>22.0</td>\n",
       "      <td>10.0</td>\n",
       "      <td>22</td>\n",
       "      <td>29</td>\n",
       "      <td>70.0</td>\n",
       "      <td>99</td>\n",
       "      <td>50</td>\n",
       "    </tr>\n",
       "    <tr>\n",
       "      <th>store 3</th>\n",
       "      <td>11</td>\n",
       "      <td>11</td>\n",
       "      <td>11</td>\n",
       "      <td>NaN</td>\n",
       "      <td>11.0</td>\n",
       "      <td>11</td>\n",
       "      <td>11</td>\n",
       "      <td>21.0</td>\n",
       "      <td>90</td>\n",
       "      <td>55</td>\n",
       "    </tr>\n",
       "  </tbody>\n",
       "</table>\n",
       "</div>"
      ],
      "text/plain": [
       "         bikes  watches  pants  shoes  glasses  shirts  suits  new watches  \\\n",
       "store 1     10       50     30   13.0      NaN      22     52          NaN   \n",
       "store 2     15       60      7   22.0     10.0      22     29         70.0   \n",
       "store 3     11       11     11    NaN     11.0      11     11         21.0   \n",
       "\n",
       "         Tvs  Phones  \n",
       "store 1  100      60  \n",
       "store 2   99      50  \n",
       "store 3   90      55  "
      ]
     },
     "execution_count": 84,
     "metadata": {},
     "output_type": "execute_result"
    }
   ],
   "source": [
    "store_items"
   ]
  },
  {
   "cell_type": "code",
   "execution_count": 85,
   "id": "7bbe2319",
   "metadata": {},
   "outputs": [
    {
     "data": {
      "text/plain": [
       "store 1     NaN\n",
       "store 2    70.0\n",
       "store 3    21.0\n",
       "Name: new watches, dtype: float64"
      ]
     },
     "execution_count": 85,
     "metadata": {},
     "output_type": "execute_result"
    }
   ],
   "source": [
    "store_items.pop('new watches')"
   ]
  },
  {
   "cell_type": "markdown",
   "id": "48a150d9",
   "metadata": {},
   "source": [
    "- we got the column that we popped out as a result of the method"
   ]
  },
  {
   "cell_type": "code",
   "execution_count": 86,
   "id": "7ba382cf",
   "metadata": {},
   "outputs": [
    {
     "data": {
      "text/html": [
       "<div>\n",
       "<style scoped>\n",
       "    .dataframe tbody tr th:only-of-type {\n",
       "        vertical-align: middle;\n",
       "    }\n",
       "\n",
       "    .dataframe tbody tr th {\n",
       "        vertical-align: top;\n",
       "    }\n",
       "\n",
       "    .dataframe thead th {\n",
       "        text-align: right;\n",
       "    }\n",
       "</style>\n",
       "<table border=\"1\" class=\"dataframe\">\n",
       "  <thead>\n",
       "    <tr style=\"text-align: right;\">\n",
       "      <th></th>\n",
       "      <th>bikes</th>\n",
       "      <th>watches</th>\n",
       "      <th>pants</th>\n",
       "      <th>shoes</th>\n",
       "      <th>glasses</th>\n",
       "      <th>shirts</th>\n",
       "      <th>suits</th>\n",
       "      <th>Tvs</th>\n",
       "      <th>Phones</th>\n",
       "    </tr>\n",
       "  </thead>\n",
       "  <tbody>\n",
       "    <tr>\n",
       "      <th>store 1</th>\n",
       "      <td>10</td>\n",
       "      <td>50</td>\n",
       "      <td>30</td>\n",
       "      <td>13.0</td>\n",
       "      <td>NaN</td>\n",
       "      <td>22</td>\n",
       "      <td>52</td>\n",
       "      <td>100</td>\n",
       "      <td>60</td>\n",
       "    </tr>\n",
       "    <tr>\n",
       "      <th>store 2</th>\n",
       "      <td>15</td>\n",
       "      <td>60</td>\n",
       "      <td>7</td>\n",
       "      <td>22.0</td>\n",
       "      <td>10.0</td>\n",
       "      <td>22</td>\n",
       "      <td>29</td>\n",
       "      <td>99</td>\n",
       "      <td>50</td>\n",
       "    </tr>\n",
       "    <tr>\n",
       "      <th>store 3</th>\n",
       "      <td>11</td>\n",
       "      <td>11</td>\n",
       "      <td>11</td>\n",
       "      <td>NaN</td>\n",
       "      <td>11.0</td>\n",
       "      <td>11</td>\n",
       "      <td>11</td>\n",
       "      <td>90</td>\n",
       "      <td>55</td>\n",
       "    </tr>\n",
       "  </tbody>\n",
       "</table>\n",
       "</div>"
      ],
      "text/plain": [
       "         bikes  watches  pants  shoes  glasses  shirts  suits  Tvs  Phones\n",
       "store 1     10       50     30   13.0      NaN      22     52  100      60\n",
       "store 2     15       60      7   22.0     10.0      22     29   99      50\n",
       "store 3     11       11     11    NaN     11.0      11     11   90      55"
      ]
     },
     "execution_count": 86,
     "metadata": {},
     "output_type": "execute_result"
    }
   ],
   "source": [
    "store_items"
   ]
  },
  {
   "cell_type": "markdown",
   "id": "764cb11d",
   "metadata": {},
   "source": [
    "- to delete columns using drop, we have to specify the axis to be 1 \n",
    "     - `df.drop(\"column\" or [\"column1\", \"column2\"], axis=1)`"
   ]
  },
  {
   "cell_type": "code",
   "execution_count": 87,
   "id": "fe4935bc",
   "metadata": {},
   "outputs": [
    {
     "data": {
      "text/html": [
       "<div>\n",
       "<style scoped>\n",
       "    .dataframe tbody tr th:only-of-type {\n",
       "        vertical-align: middle;\n",
       "    }\n",
       "\n",
       "    .dataframe tbody tr th {\n",
       "        vertical-align: top;\n",
       "    }\n",
       "\n",
       "    .dataframe thead th {\n",
       "        text-align: right;\n",
       "    }\n",
       "</style>\n",
       "<table border=\"1\" class=\"dataframe\">\n",
       "  <thead>\n",
       "    <tr style=\"text-align: right;\">\n",
       "      <th></th>\n",
       "      <th>bikes</th>\n",
       "      <th>watches</th>\n",
       "      <th>glasses</th>\n",
       "      <th>shirts</th>\n",
       "      <th>suits</th>\n",
       "      <th>Tvs</th>\n",
       "      <th>Phones</th>\n",
       "    </tr>\n",
       "  </thead>\n",
       "  <tbody>\n",
       "    <tr>\n",
       "      <th>store 1</th>\n",
       "      <td>10</td>\n",
       "      <td>50</td>\n",
       "      <td>NaN</td>\n",
       "      <td>22</td>\n",
       "      <td>52</td>\n",
       "      <td>100</td>\n",
       "      <td>60</td>\n",
       "    </tr>\n",
       "    <tr>\n",
       "      <th>store 2</th>\n",
       "      <td>15</td>\n",
       "      <td>60</td>\n",
       "      <td>10.0</td>\n",
       "      <td>22</td>\n",
       "      <td>29</td>\n",
       "      <td>99</td>\n",
       "      <td>50</td>\n",
       "    </tr>\n",
       "    <tr>\n",
       "      <th>store 3</th>\n",
       "      <td>11</td>\n",
       "      <td>11</td>\n",
       "      <td>11.0</td>\n",
       "      <td>11</td>\n",
       "      <td>11</td>\n",
       "      <td>90</td>\n",
       "      <td>55</td>\n",
       "    </tr>\n",
       "  </tbody>\n",
       "</table>\n",
       "</div>"
      ],
      "text/plain": [
       "         bikes  watches  glasses  shirts  suits  Tvs  Phones\n",
       "store 1     10       50      NaN      22     52  100      60\n",
       "store 2     15       60     10.0      22     29   99      50\n",
       "store 3     11       11     11.0      11     11   90      55"
      ]
     },
     "execution_count": 87,
     "metadata": {},
     "output_type": "execute_result"
    }
   ],
   "source": [
    "store_items = store_items.drop([\"pants\",\"shoes\"], axis = 1)\n",
    "store_items"
   ]
  },
  {
   "cell_type": "markdown",
   "id": "edf714b9",
   "metadata": {},
   "source": [
    "- to delete rows using drop, we have to specify the axis to be 0 \n",
    "     - `df.drop(\"row\" or [\"row1\", \"row2\"], axis=0)`"
   ]
  },
  {
   "cell_type": "code",
   "execution_count": 88,
   "id": "a97e9b48",
   "metadata": {},
   "outputs": [
    {
     "data": {
      "text/html": [
       "<div>\n",
       "<style scoped>\n",
       "    .dataframe tbody tr th:only-of-type {\n",
       "        vertical-align: middle;\n",
       "    }\n",
       "\n",
       "    .dataframe tbody tr th {\n",
       "        vertical-align: top;\n",
       "    }\n",
       "\n",
       "    .dataframe thead th {\n",
       "        text-align: right;\n",
       "    }\n",
       "</style>\n",
       "<table border=\"1\" class=\"dataframe\">\n",
       "  <thead>\n",
       "    <tr style=\"text-align: right;\">\n",
       "      <th></th>\n",
       "      <th>bikes</th>\n",
       "      <th>watches</th>\n",
       "      <th>glasses</th>\n",
       "      <th>shirts</th>\n",
       "      <th>suits</th>\n",
       "      <th>Tvs</th>\n",
       "      <th>Phones</th>\n",
       "    </tr>\n",
       "  </thead>\n",
       "  <tbody>\n",
       "    <tr>\n",
       "      <th>store 2</th>\n",
       "      <td>15</td>\n",
       "      <td>60</td>\n",
       "      <td>10.0</td>\n",
       "      <td>22</td>\n",
       "      <td>29</td>\n",
       "      <td>99</td>\n",
       "      <td>50</td>\n",
       "    </tr>\n",
       "    <tr>\n",
       "      <th>store 3</th>\n",
       "      <td>11</td>\n",
       "      <td>11</td>\n",
       "      <td>11.0</td>\n",
       "      <td>11</td>\n",
       "      <td>11</td>\n",
       "      <td>90</td>\n",
       "      <td>55</td>\n",
       "    </tr>\n",
       "  </tbody>\n",
       "</table>\n",
       "</div>"
      ],
      "text/plain": [
       "         bikes  watches  glasses  shirts  suits  Tvs  Phones\n",
       "store 2     15       60     10.0      22     29   99      50\n",
       "store 3     11       11     11.0      11     11   90      55"
      ]
     },
     "execution_count": 88,
     "metadata": {},
     "output_type": "execute_result"
    }
   ],
   "source": [
    "store_items = store_items.drop([\"store 1\"], axis = 0)\n",
    "store_items"
   ]
  },
  {
   "cell_type": "code",
   "execution_count": 89,
   "id": "5a436665",
   "metadata": {},
   "outputs": [
    {
     "data": {
      "text/html": [
       "<div>\n",
       "<style scoped>\n",
       "    .dataframe tbody tr th:only-of-type {\n",
       "        vertical-align: middle;\n",
       "    }\n",
       "\n",
       "    .dataframe tbody tr th {\n",
       "        vertical-align: top;\n",
       "    }\n",
       "\n",
       "    .dataframe thead th {\n",
       "        text-align: right;\n",
       "    }\n",
       "</style>\n",
       "<table border=\"1\" class=\"dataframe\">\n",
       "  <thead>\n",
       "    <tr style=\"text-align: right;\">\n",
       "      <th></th>\n",
       "      <th>bikes</th>\n",
       "      <th>watches</th>\n",
       "      <th>glasses</th>\n",
       "      <th>shirts</th>\n",
       "      <th>suits</th>\n",
       "      <th>Tvs</th>\n",
       "      <th>Phones</th>\n",
       "    </tr>\n",
       "  </thead>\n",
       "  <tbody>\n",
       "    <tr>\n",
       "      <th>store 2</th>\n",
       "      <td>15</td>\n",
       "      <td>60</td>\n",
       "      <td>10.0</td>\n",
       "      <td>22</td>\n",
       "      <td>29</td>\n",
       "      <td>99</td>\n",
       "      <td>50</td>\n",
       "    </tr>\n",
       "    <tr>\n",
       "      <th>store 3</th>\n",
       "      <td>11</td>\n",
       "      <td>11</td>\n",
       "      <td>11.0</td>\n",
       "      <td>11</td>\n",
       "      <td>11</td>\n",
       "      <td>90</td>\n",
       "      <td>55</td>\n",
       "    </tr>\n",
       "  </tbody>\n",
       "</table>\n",
       "</div>"
      ],
      "text/plain": [
       "         bikes  watches  glasses  shirts  suits  Tvs  Phones\n",
       "store 2     15       60     10.0      22     29   99      50\n",
       "store 3     11       11     11.0      11     11   90      55"
      ]
     },
     "execution_count": 89,
     "metadata": {},
     "output_type": "execute_result"
    }
   ],
   "source": [
    "store_items"
   ]
  },
  {
   "cell_type": "markdown",
   "id": "db5c8b3f",
   "metadata": {},
   "source": [
    "## renaming the labels \n",
    "- using the `.rename(columns or index= {old label as key: new label as value})`\n",
    "    - `columns` parameter if we will rename a column label\n",
    "    - `index` parameter if we will rename a row label\n",
    "- we can use columns attribute for column label change or index attribute for row label change"
   ]
  },
  {
   "cell_type": "code",
   "execution_count": 90,
   "id": "c3cf4805",
   "metadata": {},
   "outputs": [
    {
     "data": {
      "text/html": [
       "<div>\n",
       "<style scoped>\n",
       "    .dataframe tbody tr th:only-of-type {\n",
       "        vertical-align: middle;\n",
       "    }\n",
       "\n",
       "    .dataframe tbody tr th {\n",
       "        vertical-align: top;\n",
       "    }\n",
       "\n",
       "    .dataframe thead th {\n",
       "        text-align: right;\n",
       "    }\n",
       "</style>\n",
       "<table border=\"1\" class=\"dataframe\">\n",
       "  <thead>\n",
       "    <tr style=\"text-align: right;\">\n",
       "      <th></th>\n",
       "      <th>bikes</th>\n",
       "      <th>watches</th>\n",
       "      <th>glasses</th>\n",
       "      <th>shirts</th>\n",
       "      <th>suits</th>\n",
       "      <th>Tvs</th>\n",
       "      <th>Phones</th>\n",
       "    </tr>\n",
       "  </thead>\n",
       "  <tbody>\n",
       "    <tr>\n",
       "      <th>store 2</th>\n",
       "      <td>15</td>\n",
       "      <td>60</td>\n",
       "      <td>10.0</td>\n",
       "      <td>22</td>\n",
       "      <td>29</td>\n",
       "      <td>99</td>\n",
       "      <td>50</td>\n",
       "    </tr>\n",
       "    <tr>\n",
       "      <th>store 3</th>\n",
       "      <td>11</td>\n",
       "      <td>11</td>\n",
       "      <td>11.0</td>\n",
       "      <td>11</td>\n",
       "      <td>11</td>\n",
       "      <td>90</td>\n",
       "      <td>55</td>\n",
       "    </tr>\n",
       "  </tbody>\n",
       "</table>\n",
       "</div>"
      ],
      "text/plain": [
       "         bikes  watches  glasses  shirts  suits  Tvs  Phones\n",
       "store 2     15       60     10.0      22     29   99      50\n",
       "store 3     11       11     11.0      11     11   90      55"
      ]
     },
     "execution_count": 90,
     "metadata": {},
     "output_type": "execute_result"
    }
   ],
   "source": [
    "store_items"
   ]
  },
  {
   "cell_type": "code",
   "execution_count": 91,
   "id": "dfbd8caf",
   "metadata": {},
   "outputs": [
    {
     "data": {
      "text/html": [
       "<div>\n",
       "<style scoped>\n",
       "    .dataframe tbody tr th:only-of-type {\n",
       "        vertical-align: middle;\n",
       "    }\n",
       "\n",
       "    .dataframe tbody tr th {\n",
       "        vertical-align: top;\n",
       "    }\n",
       "\n",
       "    .dataframe thead th {\n",
       "        text-align: right;\n",
       "    }\n",
       "</style>\n",
       "<table border=\"1\" class=\"dataframe\">\n",
       "  <thead>\n",
       "    <tr style=\"text-align: right;\">\n",
       "      <th></th>\n",
       "      <th>bikes</th>\n",
       "      <th>watches</th>\n",
       "      <th>glasses</th>\n",
       "      <th>shirts</th>\n",
       "      <th>outfits</th>\n",
       "      <th>Tvs</th>\n",
       "      <th>Phones</th>\n",
       "    </tr>\n",
       "  </thead>\n",
       "  <tbody>\n",
       "    <tr>\n",
       "      <th>store 2</th>\n",
       "      <td>15</td>\n",
       "      <td>60</td>\n",
       "      <td>10.0</td>\n",
       "      <td>22</td>\n",
       "      <td>29</td>\n",
       "      <td>99</td>\n",
       "      <td>50</td>\n",
       "    </tr>\n",
       "    <tr>\n",
       "      <th>store 3</th>\n",
       "      <td>11</td>\n",
       "      <td>11</td>\n",
       "      <td>11.0</td>\n",
       "      <td>11</td>\n",
       "      <td>11</td>\n",
       "      <td>90</td>\n",
       "      <td>55</td>\n",
       "    </tr>\n",
       "  </tbody>\n",
       "</table>\n",
       "</div>"
      ],
      "text/plain": [
       "         bikes  watches  glasses  shirts  outfits  Tvs  Phones\n",
       "store 2     15       60     10.0      22       29   99      50\n",
       "store 3     11       11     11.0      11       11   90      55"
      ]
     },
     "execution_count": 91,
     "metadata": {},
     "output_type": "execute_result"
    }
   ],
   "source": [
    "store_items = store_items.rename(columns={'suits':'outfits'})\n",
    "store_items"
   ]
  },
  {
   "cell_type": "code",
   "execution_count": 92,
   "id": "2b22441e",
   "metadata": {},
   "outputs": [
    {
     "data": {
      "text/html": [
       "<div>\n",
       "<style scoped>\n",
       "    .dataframe tbody tr th:only-of-type {\n",
       "        vertical-align: middle;\n",
       "    }\n",
       "\n",
       "    .dataframe tbody tr th {\n",
       "        vertical-align: top;\n",
       "    }\n",
       "\n",
       "    .dataframe thead th {\n",
       "        text-align: right;\n",
       "    }\n",
       "</style>\n",
       "<table border=\"1\" class=\"dataframe\">\n",
       "  <thead>\n",
       "    <tr style=\"text-align: right;\">\n",
       "      <th></th>\n",
       "      <th>bikes</th>\n",
       "      <th>watches</th>\n",
       "      <th>glasses</th>\n",
       "      <th>shirts</th>\n",
       "      <th>outfits</th>\n",
       "      <th>Tvs</th>\n",
       "      <th>Phones</th>\n",
       "    </tr>\n",
       "  </thead>\n",
       "  <tbody>\n",
       "    <tr>\n",
       "      <th>store 1</th>\n",
       "      <td>15</td>\n",
       "      <td>60</td>\n",
       "      <td>10.0</td>\n",
       "      <td>22</td>\n",
       "      <td>29</td>\n",
       "      <td>99</td>\n",
       "      <td>50</td>\n",
       "    </tr>\n",
       "    <tr>\n",
       "      <th>store 2</th>\n",
       "      <td>11</td>\n",
       "      <td>11</td>\n",
       "      <td>11.0</td>\n",
       "      <td>11</td>\n",
       "      <td>11</td>\n",
       "      <td>90</td>\n",
       "      <td>55</td>\n",
       "    </tr>\n",
       "  </tbody>\n",
       "</table>\n",
       "</div>"
      ],
      "text/plain": [
       "         bikes  watches  glasses  shirts  outfits  Tvs  Phones\n",
       "store 1     15       60     10.0      22       29   99      50\n",
       "store 2     11       11     11.0      11       11   90      55"
      ]
     },
     "execution_count": 92,
     "metadata": {},
     "output_type": "execute_result"
    }
   ],
   "source": [
    "store_items = store_items.rename(index={'store 2':'store 1','store 3':'store 2'})\n",
    "store_items"
   ]
  },
  {
   "cell_type": "markdown",
   "id": "daad2b78",
   "metadata": {},
   "source": [
    "we can use the values of a column as a row index labels :)"
   ]
  },
  {
   "cell_type": "markdown",
   "id": "c0ab6bfe",
   "metadata": {},
   "source": [
    "## dealing with Nan values \n",
    "- important before analyzing data or train a machine learning algorithm with it\n",
    "- we first need to clean it (detect and correct errors)\n",
    "- types of bad data \n",
    " - outliers \n",
    " - incorrect values\n",
    " - missing values (mostly)"
   ]
  },
  {
   "cell_type": "code",
   "execution_count": 93,
   "id": "b819d0a4",
   "metadata": {},
   "outputs": [
    {
     "data": {
      "text/html": [
       "<div>\n",
       "<style scoped>\n",
       "    .dataframe tbody tr th:only-of-type {\n",
       "        vertical-align: middle;\n",
       "    }\n",
       "\n",
       "    .dataframe tbody tr th {\n",
       "        vertical-align: top;\n",
       "    }\n",
       "\n",
       "    .dataframe thead th {\n",
       "        text-align: right;\n",
       "    }\n",
       "</style>\n",
       "<table border=\"1\" class=\"dataframe\">\n",
       "  <thead>\n",
       "    <tr style=\"text-align: right;\">\n",
       "      <th></th>\n",
       "      <th>bikes</th>\n",
       "      <th>pants</th>\n",
       "      <th>watches</th>\n",
       "      <th>shirts</th>\n",
       "      <th>shoes</th>\n",
       "      <th>suits</th>\n",
       "      <th>glasses</th>\n",
       "    </tr>\n",
       "  </thead>\n",
       "  <tbody>\n",
       "    <tr>\n",
       "      <th>store 1</th>\n",
       "      <td>20</td>\n",
       "      <td>30</td>\n",
       "      <td>35</td>\n",
       "      <td>15.0</td>\n",
       "      <td>8</td>\n",
       "      <td>45.0</td>\n",
       "      <td>NaN</td>\n",
       "    </tr>\n",
       "    <tr>\n",
       "      <th>store 2</th>\n",
       "      <td>15</td>\n",
       "      <td>5</td>\n",
       "      <td>10</td>\n",
       "      <td>2.0</td>\n",
       "      <td>5</td>\n",
       "      <td>7.0</td>\n",
       "      <td>50.0</td>\n",
       "    </tr>\n",
       "    <tr>\n",
       "      <th>store 3</th>\n",
       "      <td>20</td>\n",
       "      <td>30</td>\n",
       "      <td>35</td>\n",
       "      <td>NaN</td>\n",
       "      <td>10</td>\n",
       "      <td>NaN</td>\n",
       "      <td>4.0</td>\n",
       "    </tr>\n",
       "  </tbody>\n",
       "</table>\n",
       "</div>"
      ],
      "text/plain": [
       "         bikes  pants  watches  shirts  shoes  suits  glasses\n",
       "store 1     20     30       35    15.0      8   45.0      NaN\n",
       "store 2     15      5       10     2.0      5    7.0     50.0\n",
       "store 3     20     30       35     NaN     10    NaN      4.0"
      ]
     },
     "execution_count": 93,
     "metadata": {},
     "output_type": "execute_result"
    }
   ],
   "source": [
    "# We create a list of Python dictionaries\n",
    "items2 = [{'bikes': 20, 'pants': 30, 'watches': 35, 'shirts': 15, 'shoes':8, 'suits':45},\n",
    "{'watches': 10, 'glasses': 50, 'bikes': 15, 'pants':5, 'shirts': 2, 'shoes':5, 'suits':7},\n",
    "{'bikes': 20, 'pants': 30, 'watches': 35, 'glasses': 4, 'shoes':10}]\n",
    "\n",
    "# We create a DataFrame  and provide the row index\n",
    "store_items = pd.DataFrame(items2, index = ['store 1', 'store 2', 'store 3'])\n",
    "\n",
    "# We display the DataFrame\n",
    "store_items"
   ]
  },
  {
   "cell_type": "markdown",
   "id": "c672e340",
   "metadata": {},
   "source": [
    "##### in a large data set we can't visualize all Nan values"
   ]
  },
  {
   "cell_type": "markdown",
   "id": "9df654c4",
   "metadata": {},
   "source": [
    "### counting the number of Nan values"
   ]
  },
  {
   "cell_type": "code",
   "execution_count": 94,
   "id": "aabf0901",
   "metadata": {},
   "outputs": [
    {
     "data": {
      "text/html": [
       "<div>\n",
       "<style scoped>\n",
       "    .dataframe tbody tr th:only-of-type {\n",
       "        vertical-align: middle;\n",
       "    }\n",
       "\n",
       "    .dataframe tbody tr th {\n",
       "        vertical-align: top;\n",
       "    }\n",
       "\n",
       "    .dataframe thead th {\n",
       "        text-align: right;\n",
       "    }\n",
       "</style>\n",
       "<table border=\"1\" class=\"dataframe\">\n",
       "  <thead>\n",
       "    <tr style=\"text-align: right;\">\n",
       "      <th></th>\n",
       "      <th>bikes</th>\n",
       "      <th>pants</th>\n",
       "      <th>watches</th>\n",
       "      <th>shirts</th>\n",
       "      <th>shoes</th>\n",
       "      <th>suits</th>\n",
       "      <th>glasses</th>\n",
       "    </tr>\n",
       "  </thead>\n",
       "  <tbody>\n",
       "    <tr>\n",
       "      <th>store 1</th>\n",
       "      <td>False</td>\n",
       "      <td>False</td>\n",
       "      <td>False</td>\n",
       "      <td>False</td>\n",
       "      <td>False</td>\n",
       "      <td>False</td>\n",
       "      <td>True</td>\n",
       "    </tr>\n",
       "    <tr>\n",
       "      <th>store 2</th>\n",
       "      <td>False</td>\n",
       "      <td>False</td>\n",
       "      <td>False</td>\n",
       "      <td>False</td>\n",
       "      <td>False</td>\n",
       "      <td>False</td>\n",
       "      <td>False</td>\n",
       "    </tr>\n",
       "    <tr>\n",
       "      <th>store 3</th>\n",
       "      <td>False</td>\n",
       "      <td>False</td>\n",
       "      <td>False</td>\n",
       "      <td>True</td>\n",
       "      <td>False</td>\n",
       "      <td>True</td>\n",
       "      <td>False</td>\n",
       "    </tr>\n",
       "  </tbody>\n",
       "</table>\n",
       "</div>"
      ],
      "text/plain": [
       "         bikes  pants  watches  shirts  shoes  suits  glasses\n",
       "store 1  False  False    False   False  False  False     True\n",
       "store 2  False  False    False   False  False  False    False\n",
       "store 3  False  False    False    True  False   True    False"
      ]
     },
     "execution_count": 94,
     "metadata": {},
     "output_type": "execute_result"
    }
   ],
   "source": [
    "store_items.isnull()"
   ]
  },
  {
   "cell_type": "markdown",
   "id": "e31ef78e",
   "metadata": {},
   "source": [
    "- in pandas \n",
    "    - logical true has value 1\n",
    "    - logical false has numerical value 0\n",
    "- so we can get the Nans by counting the logical ones"
   ]
  },
  {
   "cell_type": "markdown",
   "id": "72b734ca",
   "metadata": {},
   "source": [
    "- summing the Nans for each column "
   ]
  },
  {
   "cell_type": "code",
   "execution_count": 95,
   "id": "2902abbd",
   "metadata": {},
   "outputs": [
    {
     "data": {
      "text/plain": [
       "bikes      0\n",
       "pants      0\n",
       "watches    0\n",
       "shirts     1\n",
       "shoes      0\n",
       "suits      1\n",
       "glasses    1\n",
       "dtype: int64"
      ]
     },
     "execution_count": 95,
     "metadata": {},
     "output_type": "execute_result"
    }
   ],
   "source": [
    "store_items.isnull().sum(axis=0)"
   ]
  },
  {
   "cell_type": "markdown",
   "id": "1c8d3b8e",
   "metadata": {},
   "source": [
    "- notice that when we work on the rows (axis = 0), we produce a result for each column\n",
    "- also when we work on the columns (axis = 1), we produce a result for each row"
   ]
  },
  {
   "cell_type": "code",
   "execution_count": 96,
   "id": "18d23195",
   "metadata": {},
   "outputs": [
    {
     "data": {
      "text/plain": [
       "store 1    1\n",
       "store 2    0\n",
       "store 3    2\n",
       "dtype: int64"
      ]
     },
     "execution_count": 96,
     "metadata": {},
     "output_type": "execute_result"
    }
   ],
   "source": [
    "store_items.isnull().sum(axis=1)"
   ]
  },
  {
   "cell_type": "markdown",
   "id": "24e195cd",
   "metadata": {},
   "source": [
    "to sum it all up"
   ]
  },
  {
   "cell_type": "code",
   "execution_count": 97,
   "id": "8ac4cfca",
   "metadata": {},
   "outputs": [
    {
     "data": {
      "text/plain": [
       "3"
      ]
     },
     "execution_count": 97,
     "metadata": {},
     "output_type": "execute_result"
    }
   ],
   "source": [
    "store_items.isnull().sum().sum()"
   ]
  },
  {
   "cell_type": "markdown",
   "id": "0ef87a59",
   "metadata": {},
   "source": [
    "if we used it again on the remaining column we will get the values for the whole data frame"
   ]
  },
  {
   "cell_type": "markdown",
   "id": "a38015bc",
   "metadata": {},
   "source": [
    "### counting the number of non-Nan values"
   ]
  },
  {
   "cell_type": "code",
   "execution_count": 98,
   "id": "43c16b92",
   "metadata": {},
   "outputs": [
    {
     "data": {
      "text/plain": [
       "bikes      3\n",
       "pants      3\n",
       "watches    3\n",
       "shirts     2\n",
       "shoes      3\n",
       "suits      2\n",
       "glasses    2\n",
       "dtype: int64"
      ]
     },
     "execution_count": 98,
     "metadata": {},
     "output_type": "execute_result"
    }
   ],
   "source": [
    "store_items.count()"
   ]
  },
  {
   "cell_type": "markdown",
   "id": "9595ce3b",
   "metadata": {},
   "source": [
    "## after detecting the Nan values we can\n",
    "- remove them \n",
    "- replace them"
   ]
  },
  {
   "cell_type": "markdown",
   "id": "f0a88afd",
   "metadata": {},
   "source": [
    "### remove a Nan method\n",
    "- using .dropna(axis)\n",
    " - if axis = 0, drop any row with a Nan value \n",
    " - if axis = 1, drop any column with a Nan value \n",
    "- drop happens out of place\n",
    "- to remove them in place, set the attribute inplace= True "
   ]
  },
  {
   "cell_type": "code",
   "execution_count": 99,
   "id": "a7809069",
   "metadata": {},
   "outputs": [
    {
     "data": {
      "text/html": [
       "<div>\n",
       "<style scoped>\n",
       "    .dataframe tbody tr th:only-of-type {\n",
       "        vertical-align: middle;\n",
       "    }\n",
       "\n",
       "    .dataframe tbody tr th {\n",
       "        vertical-align: top;\n",
       "    }\n",
       "\n",
       "    .dataframe thead th {\n",
       "        text-align: right;\n",
       "    }\n",
       "</style>\n",
       "<table border=\"1\" class=\"dataframe\">\n",
       "  <thead>\n",
       "    <tr style=\"text-align: right;\">\n",
       "      <th></th>\n",
       "      <th>bikes</th>\n",
       "      <th>pants</th>\n",
       "      <th>watches</th>\n",
       "      <th>shirts</th>\n",
       "      <th>shoes</th>\n",
       "      <th>suits</th>\n",
       "      <th>glasses</th>\n",
       "    </tr>\n",
       "  </thead>\n",
       "  <tbody>\n",
       "    <tr>\n",
       "      <th>store 2</th>\n",
       "      <td>15</td>\n",
       "      <td>5</td>\n",
       "      <td>10</td>\n",
       "      <td>2.0</td>\n",
       "      <td>5</td>\n",
       "      <td>7.0</td>\n",
       "      <td>50.0</td>\n",
       "    </tr>\n",
       "  </tbody>\n",
       "</table>\n",
       "</div>"
      ],
      "text/plain": [
       "         bikes  pants  watches  shirts  shoes  suits  glasses\n",
       "store 2     15      5       10     2.0      5    7.0     50.0"
      ]
     },
     "execution_count": 99,
     "metadata": {},
     "output_type": "execute_result"
    }
   ],
   "source": [
    "store_items.dropna(axis = 0)"
   ]
  },
  {
   "cell_type": "code",
   "execution_count": 100,
   "id": "eb30da8a",
   "metadata": {},
   "outputs": [
    {
     "data": {
      "text/html": [
       "<div>\n",
       "<style scoped>\n",
       "    .dataframe tbody tr th:only-of-type {\n",
       "        vertical-align: middle;\n",
       "    }\n",
       "\n",
       "    .dataframe tbody tr th {\n",
       "        vertical-align: top;\n",
       "    }\n",
       "\n",
       "    .dataframe thead th {\n",
       "        text-align: right;\n",
       "    }\n",
       "</style>\n",
       "<table border=\"1\" class=\"dataframe\">\n",
       "  <thead>\n",
       "    <tr style=\"text-align: right;\">\n",
       "      <th></th>\n",
       "      <th>bikes</th>\n",
       "      <th>pants</th>\n",
       "      <th>watches</th>\n",
       "      <th>shoes</th>\n",
       "    </tr>\n",
       "  </thead>\n",
       "  <tbody>\n",
       "    <tr>\n",
       "      <th>store 1</th>\n",
       "      <td>20</td>\n",
       "      <td>30</td>\n",
       "      <td>35</td>\n",
       "      <td>8</td>\n",
       "    </tr>\n",
       "    <tr>\n",
       "      <th>store 2</th>\n",
       "      <td>15</td>\n",
       "      <td>5</td>\n",
       "      <td>10</td>\n",
       "      <td>5</td>\n",
       "    </tr>\n",
       "    <tr>\n",
       "      <th>store 3</th>\n",
       "      <td>20</td>\n",
       "      <td>30</td>\n",
       "      <td>35</td>\n",
       "      <td>10</td>\n",
       "    </tr>\n",
       "  </tbody>\n",
       "</table>\n",
       "</div>"
      ],
      "text/plain": [
       "         bikes  pants  watches  shoes\n",
       "store 1     20     30       35      8\n",
       "store 2     15      5       10      5\n",
       "store 3     20     30       35     10"
      ]
     },
     "execution_count": 100,
     "metadata": {},
     "output_type": "execute_result"
    }
   ],
   "source": [
    "store_items.dropna(axis = 1)"
   ]
  },
  {
   "cell_type": "code",
   "execution_count": 101,
   "id": "f8d5c1d1",
   "metadata": {},
   "outputs": [
    {
     "data": {
      "text/html": [
       "<div>\n",
       "<style scoped>\n",
       "    .dataframe tbody tr th:only-of-type {\n",
       "        vertical-align: middle;\n",
       "    }\n",
       "\n",
       "    .dataframe tbody tr th {\n",
       "        vertical-align: top;\n",
       "    }\n",
       "\n",
       "    .dataframe thead th {\n",
       "        text-align: right;\n",
       "    }\n",
       "</style>\n",
       "<table border=\"1\" class=\"dataframe\">\n",
       "  <thead>\n",
       "    <tr style=\"text-align: right;\">\n",
       "      <th></th>\n",
       "      <th>bikes</th>\n",
       "      <th>pants</th>\n",
       "      <th>watches</th>\n",
       "      <th>shirts</th>\n",
       "      <th>shoes</th>\n",
       "      <th>suits</th>\n",
       "      <th>glasses</th>\n",
       "    </tr>\n",
       "  </thead>\n",
       "  <tbody>\n",
       "    <tr>\n",
       "      <th>store 1</th>\n",
       "      <td>20</td>\n",
       "      <td>30</td>\n",
       "      <td>35</td>\n",
       "      <td>15.0</td>\n",
       "      <td>8</td>\n",
       "      <td>45.0</td>\n",
       "      <td>NaN</td>\n",
       "    </tr>\n",
       "    <tr>\n",
       "      <th>store 2</th>\n",
       "      <td>15</td>\n",
       "      <td>5</td>\n",
       "      <td>10</td>\n",
       "      <td>2.0</td>\n",
       "      <td>5</td>\n",
       "      <td>7.0</td>\n",
       "      <td>50.0</td>\n",
       "    </tr>\n",
       "    <tr>\n",
       "      <th>store 3</th>\n",
       "      <td>20</td>\n",
       "      <td>30</td>\n",
       "      <td>35</td>\n",
       "      <td>NaN</td>\n",
       "      <td>10</td>\n",
       "      <td>NaN</td>\n",
       "      <td>4.0</td>\n",
       "    </tr>\n",
       "  </tbody>\n",
       "</table>\n",
       "</div>"
      ],
      "text/plain": [
       "         bikes  pants  watches  shirts  shoes  suits  glasses\n",
       "store 1     20     30       35    15.0      8   45.0      NaN\n",
       "store 2     15      5       10     2.0      5    7.0     50.0\n",
       "store 3     20     30       35     NaN     10    NaN      4.0"
      ]
     },
     "execution_count": 101,
     "metadata": {},
     "output_type": "execute_result"
    }
   ],
   "source": [
    "store_items"
   ]
  },
  {
   "cell_type": "markdown",
   "id": "bdaf18d6",
   "metadata": {},
   "source": [
    "### replace a Nan method\n",
    "- you can use `df.fillna()` to replace it with a value that we choose\n",
    "    - also happens out of place\n",
    "- we can use `fillna(number)` to replace all the Nans with a certain number\n",
    "    - that number can be hardcoded like 0 or anything \n",
    "    - that number can also be the mean of each column `df.fillna(df.mean(), axis=0)` or anything else\n",
    "- replace the NaNs with values of previous row or column\n",
    "    - using `df.fillna(method=\"ffill\", axis = 0 or 1)` (stands for forward filling)\n",
    "    - use axis to decide a previous row or a previous column (to fill it horizontally or vertically)\n",
    "- replace with values from the following row or column `df.fillna(method=\"ffill\", axis = 0 or 1)`\n",
    "    - same way but set the method= `backfill`\n",
    "- replace Nans using different interpolations method with .interpolate()\n",
    "    - using linear interpolation (with method=\"linear\") using the values before it along the column or row (with axis = 0 or 1)"
   ]
  },
  {
   "cell_type": "markdown",
   "id": "ab8941ed",
   "metadata": {},
   "source": [
    "#### replace it with a value of our choise\n",
    "- using `fillna(value)`"
   ]
  },
  {
   "cell_type": "code",
   "execution_count": 102,
   "id": "bdfd60fb",
   "metadata": {},
   "outputs": [
    {
     "data": {
      "text/html": [
       "<div>\n",
       "<style scoped>\n",
       "    .dataframe tbody tr th:only-of-type {\n",
       "        vertical-align: middle;\n",
       "    }\n",
       "\n",
       "    .dataframe tbody tr th {\n",
       "        vertical-align: top;\n",
       "    }\n",
       "\n",
       "    .dataframe thead th {\n",
       "        text-align: right;\n",
       "    }\n",
       "</style>\n",
       "<table border=\"1\" class=\"dataframe\">\n",
       "  <thead>\n",
       "    <tr style=\"text-align: right;\">\n",
       "      <th></th>\n",
       "      <th>bikes</th>\n",
       "      <th>pants</th>\n",
       "      <th>watches</th>\n",
       "      <th>shirts</th>\n",
       "      <th>shoes</th>\n",
       "      <th>suits</th>\n",
       "      <th>glasses</th>\n",
       "    </tr>\n",
       "  </thead>\n",
       "  <tbody>\n",
       "    <tr>\n",
       "      <th>store 1</th>\n",
       "      <td>20</td>\n",
       "      <td>30</td>\n",
       "      <td>35</td>\n",
       "      <td>15.0</td>\n",
       "      <td>8</td>\n",
       "      <td>45.0</td>\n",
       "      <td>0.0</td>\n",
       "    </tr>\n",
       "    <tr>\n",
       "      <th>store 2</th>\n",
       "      <td>15</td>\n",
       "      <td>5</td>\n",
       "      <td>10</td>\n",
       "      <td>2.0</td>\n",
       "      <td>5</td>\n",
       "      <td>7.0</td>\n",
       "      <td>50.0</td>\n",
       "    </tr>\n",
       "    <tr>\n",
       "      <th>store 3</th>\n",
       "      <td>20</td>\n",
       "      <td>30</td>\n",
       "      <td>35</td>\n",
       "      <td>0.0</td>\n",
       "      <td>10</td>\n",
       "      <td>0.0</td>\n",
       "      <td>4.0</td>\n",
       "    </tr>\n",
       "  </tbody>\n",
       "</table>\n",
       "</div>"
      ],
      "text/plain": [
       "         bikes  pants  watches  shirts  shoes  suits  glasses\n",
       "store 1     20     30       35    15.0      8   45.0      0.0\n",
       "store 2     15      5       10     2.0      5    7.0     50.0\n",
       "store 3     20     30       35     0.0     10    0.0      4.0"
      ]
     },
     "execution_count": 102,
     "metadata": {},
     "output_type": "execute_result"
    }
   ],
   "source": [
    "store_items.fillna(0)"
   ]
  },
  {
   "cell_type": "markdown",
   "id": "9dd08e43",
   "metadata": {},
   "source": [
    "##### with the mean of each column"
   ]
  },
  {
   "cell_type": "code",
   "execution_count": 103,
   "id": "6d44edf0",
   "metadata": {},
   "outputs": [
    {
     "data": {
      "text/plain": [
       "bikes      18.333333\n",
       "pants      21.666667\n",
       "watches    26.666667\n",
       "shirts      8.500000\n",
       "shoes       7.666667\n",
       "suits      26.000000\n",
       "glasses    27.000000\n",
       "dtype: float64"
      ]
     },
     "execution_count": 103,
     "metadata": {},
     "output_type": "execute_result"
    }
   ],
   "source": [
    "store_items.mean()"
   ]
  },
  {
   "cell_type": "code",
   "execution_count": 104,
   "id": "b6f2cd05",
   "metadata": {},
   "outputs": [
    {
     "data": {
      "text/html": [
       "<div>\n",
       "<style scoped>\n",
       "    .dataframe tbody tr th:only-of-type {\n",
       "        vertical-align: middle;\n",
       "    }\n",
       "\n",
       "    .dataframe tbody tr th {\n",
       "        vertical-align: top;\n",
       "    }\n",
       "\n",
       "    .dataframe thead th {\n",
       "        text-align: right;\n",
       "    }\n",
       "</style>\n",
       "<table border=\"1\" class=\"dataframe\">\n",
       "  <thead>\n",
       "    <tr style=\"text-align: right;\">\n",
       "      <th></th>\n",
       "      <th>bikes</th>\n",
       "      <th>pants</th>\n",
       "      <th>watches</th>\n",
       "      <th>shirts</th>\n",
       "      <th>shoes</th>\n",
       "      <th>suits</th>\n",
       "      <th>glasses</th>\n",
       "    </tr>\n",
       "  </thead>\n",
       "  <tbody>\n",
       "    <tr>\n",
       "      <th>store 1</th>\n",
       "      <td>20</td>\n",
       "      <td>30</td>\n",
       "      <td>35</td>\n",
       "      <td>15.0</td>\n",
       "      <td>8</td>\n",
       "      <td>45.0</td>\n",
       "      <td>NaN</td>\n",
       "    </tr>\n",
       "    <tr>\n",
       "      <th>store 2</th>\n",
       "      <td>15</td>\n",
       "      <td>5</td>\n",
       "      <td>10</td>\n",
       "      <td>2.0</td>\n",
       "      <td>5</td>\n",
       "      <td>7.0</td>\n",
       "      <td>50.0</td>\n",
       "    </tr>\n",
       "    <tr>\n",
       "      <th>store 3</th>\n",
       "      <td>20</td>\n",
       "      <td>30</td>\n",
       "      <td>35</td>\n",
       "      <td>NaN</td>\n",
       "      <td>10</td>\n",
       "      <td>NaN</td>\n",
       "      <td>4.0</td>\n",
       "    </tr>\n",
       "  </tbody>\n",
       "</table>\n",
       "</div>"
      ],
      "text/plain": [
       "         bikes  pants  watches  shirts  shoes  suits  glasses\n",
       "store 1     20     30       35    15.0      8   45.0      NaN\n",
       "store 2     15      5       10     2.0      5    7.0     50.0\n",
       "store 3     20     30       35     NaN     10    NaN      4.0"
      ]
     },
     "execution_count": 104,
     "metadata": {},
     "output_type": "execute_result"
    }
   ],
   "source": [
    "store_items"
   ]
  },
  {
   "cell_type": "code",
   "execution_count": 105,
   "id": "dd11f566",
   "metadata": {},
   "outputs": [
    {
     "data": {
      "text/html": [
       "<div>\n",
       "<style scoped>\n",
       "    .dataframe tbody tr th:only-of-type {\n",
       "        vertical-align: middle;\n",
       "    }\n",
       "\n",
       "    .dataframe tbody tr th {\n",
       "        vertical-align: top;\n",
       "    }\n",
       "\n",
       "    .dataframe thead th {\n",
       "        text-align: right;\n",
       "    }\n",
       "</style>\n",
       "<table border=\"1\" class=\"dataframe\">\n",
       "  <thead>\n",
       "    <tr style=\"text-align: right;\">\n",
       "      <th></th>\n",
       "      <th>bikes</th>\n",
       "      <th>pants</th>\n",
       "      <th>watches</th>\n",
       "      <th>shirts</th>\n",
       "      <th>shoes</th>\n",
       "      <th>suits</th>\n",
       "      <th>glasses</th>\n",
       "    </tr>\n",
       "  </thead>\n",
       "  <tbody>\n",
       "    <tr>\n",
       "      <th>store 1</th>\n",
       "      <td>20</td>\n",
       "      <td>30</td>\n",
       "      <td>35</td>\n",
       "      <td>15.0</td>\n",
       "      <td>8</td>\n",
       "      <td>45.0</td>\n",
       "      <td>27.0</td>\n",
       "    </tr>\n",
       "    <tr>\n",
       "      <th>store 2</th>\n",
       "      <td>15</td>\n",
       "      <td>5</td>\n",
       "      <td>10</td>\n",
       "      <td>2.0</td>\n",
       "      <td>5</td>\n",
       "      <td>7.0</td>\n",
       "      <td>50.0</td>\n",
       "    </tr>\n",
       "    <tr>\n",
       "      <th>store 3</th>\n",
       "      <td>20</td>\n",
       "      <td>30</td>\n",
       "      <td>35</td>\n",
       "      <td>8.5</td>\n",
       "      <td>10</td>\n",
       "      <td>26.0</td>\n",
       "      <td>4.0</td>\n",
       "    </tr>\n",
       "  </tbody>\n",
       "</table>\n",
       "</div>"
      ],
      "text/plain": [
       "         bikes  pants  watches  shirts  shoes  suits  glasses\n",
       "store 1     20     30       35    15.0      8   45.0     27.0\n",
       "store 2     15      5       10     2.0      5    7.0     50.0\n",
       "store 3     20     30       35     8.5     10   26.0      4.0"
      ]
     },
     "execution_count": 105,
     "metadata": {},
     "output_type": "execute_result"
    }
   ],
   "source": [
    "store_items.fillna(store_items.mean(),axis = 0)"
   ]
  },
  {
   "cell_type": "markdown",
   "id": "d08d430a",
   "metadata": {},
   "source": [
    "#### replace it with a value from previous row or column "
   ]
  },
  {
   "cell_type": "code",
   "execution_count": 106,
   "id": "728642ef",
   "metadata": {},
   "outputs": [
    {
     "data": {
      "text/html": [
       "<div>\n",
       "<style scoped>\n",
       "    .dataframe tbody tr th:only-of-type {\n",
       "        vertical-align: middle;\n",
       "    }\n",
       "\n",
       "    .dataframe tbody tr th {\n",
       "        vertical-align: top;\n",
       "    }\n",
       "\n",
       "    .dataframe thead th {\n",
       "        text-align: right;\n",
       "    }\n",
       "</style>\n",
       "<table border=\"1\" class=\"dataframe\">\n",
       "  <thead>\n",
       "    <tr style=\"text-align: right;\">\n",
       "      <th></th>\n",
       "      <th>bikes</th>\n",
       "      <th>pants</th>\n",
       "      <th>watches</th>\n",
       "      <th>shirts</th>\n",
       "      <th>shoes</th>\n",
       "      <th>suits</th>\n",
       "      <th>glasses</th>\n",
       "    </tr>\n",
       "  </thead>\n",
       "  <tbody>\n",
       "    <tr>\n",
       "      <th>store 1</th>\n",
       "      <td>20</td>\n",
       "      <td>30</td>\n",
       "      <td>35</td>\n",
       "      <td>15.0</td>\n",
       "      <td>8</td>\n",
       "      <td>45.0</td>\n",
       "      <td>NaN</td>\n",
       "    </tr>\n",
       "    <tr>\n",
       "      <th>store 2</th>\n",
       "      <td>15</td>\n",
       "      <td>5</td>\n",
       "      <td>10</td>\n",
       "      <td>2.0</td>\n",
       "      <td>5</td>\n",
       "      <td>7.0</td>\n",
       "      <td>50.0</td>\n",
       "    </tr>\n",
       "    <tr>\n",
       "      <th>store 3</th>\n",
       "      <td>20</td>\n",
       "      <td>30</td>\n",
       "      <td>35</td>\n",
       "      <td>NaN</td>\n",
       "      <td>10</td>\n",
       "      <td>NaN</td>\n",
       "      <td>4.0</td>\n",
       "    </tr>\n",
       "  </tbody>\n",
       "</table>\n",
       "</div>"
      ],
      "text/plain": [
       "         bikes  pants  watches  shirts  shoes  suits  glasses\n",
       "store 1     20     30       35    15.0      8   45.0      NaN\n",
       "store 2     15      5       10     2.0      5    7.0     50.0\n",
       "store 3     20     30       35     NaN     10    NaN      4.0"
      ]
     },
     "execution_count": 106,
     "metadata": {},
     "output_type": "execute_result"
    }
   ],
   "source": [
    "store_items"
   ]
  },
  {
   "cell_type": "code",
   "execution_count": 107,
   "id": "e7217179",
   "metadata": {},
   "outputs": [
    {
     "name": "stderr",
     "output_type": "stream",
     "text": [
      "C:\\Users\\TOSHIBA\\AppData\\Local\\Temp\\ipykernel_13892\\190670373.py:1: FutureWarning: DataFrame.fillna with 'method' is deprecated and will raise in a future version. Use obj.ffill() or obj.bfill() instead.\n",
      "  store_items.fillna(method=\"ffill\",axis = 0)\n"
     ]
    },
    {
     "data": {
      "text/html": [
       "<div>\n",
       "<style scoped>\n",
       "    .dataframe tbody tr th:only-of-type {\n",
       "        vertical-align: middle;\n",
       "    }\n",
       "\n",
       "    .dataframe tbody tr th {\n",
       "        vertical-align: top;\n",
       "    }\n",
       "\n",
       "    .dataframe thead th {\n",
       "        text-align: right;\n",
       "    }\n",
       "</style>\n",
       "<table border=\"1\" class=\"dataframe\">\n",
       "  <thead>\n",
       "    <tr style=\"text-align: right;\">\n",
       "      <th></th>\n",
       "      <th>bikes</th>\n",
       "      <th>pants</th>\n",
       "      <th>watches</th>\n",
       "      <th>shirts</th>\n",
       "      <th>shoes</th>\n",
       "      <th>suits</th>\n",
       "      <th>glasses</th>\n",
       "    </tr>\n",
       "  </thead>\n",
       "  <tbody>\n",
       "    <tr>\n",
       "      <th>store 1</th>\n",
       "      <td>20</td>\n",
       "      <td>30</td>\n",
       "      <td>35</td>\n",
       "      <td>15.0</td>\n",
       "      <td>8</td>\n",
       "      <td>45.0</td>\n",
       "      <td>NaN</td>\n",
       "    </tr>\n",
       "    <tr>\n",
       "      <th>store 2</th>\n",
       "      <td>15</td>\n",
       "      <td>5</td>\n",
       "      <td>10</td>\n",
       "      <td>2.0</td>\n",
       "      <td>5</td>\n",
       "      <td>7.0</td>\n",
       "      <td>50.0</td>\n",
       "    </tr>\n",
       "    <tr>\n",
       "      <th>store 3</th>\n",
       "      <td>20</td>\n",
       "      <td>30</td>\n",
       "      <td>35</td>\n",
       "      <td>2.0</td>\n",
       "      <td>10</td>\n",
       "      <td>7.0</td>\n",
       "      <td>4.0</td>\n",
       "    </tr>\n",
       "  </tbody>\n",
       "</table>\n",
       "</div>"
      ],
      "text/plain": [
       "         bikes  pants  watches  shirts  shoes  suits  glasses\n",
       "store 1     20     30       35    15.0      8   45.0      NaN\n",
       "store 2     15      5       10     2.0      5    7.0     50.0\n",
       "store 3     20     30       35     2.0     10    7.0      4.0"
      ]
     },
     "execution_count": 107,
     "metadata": {},
     "output_type": "execute_result"
    }
   ],
   "source": [
    "store_items.fillna(method=\"ffill\",axis = 0)"
   ]
  },
  {
   "cell_type": "markdown",
   "id": "e0ccecc4",
   "metadata": {},
   "source": [
    "- future tip: the above cell will be deprecated in the future, and we should isntead use df.ffill() or df.bfill() for forward and backward filling"
   ]
  },
  {
   "cell_type": "code",
   "execution_count": 108,
   "id": "ff7ace89",
   "metadata": {},
   "outputs": [
    {
     "data": {
      "text/html": [
       "<div>\n",
       "<style scoped>\n",
       "    .dataframe tbody tr th:only-of-type {\n",
       "        vertical-align: middle;\n",
       "    }\n",
       "\n",
       "    .dataframe tbody tr th {\n",
       "        vertical-align: top;\n",
       "    }\n",
       "\n",
       "    .dataframe thead th {\n",
       "        text-align: right;\n",
       "    }\n",
       "</style>\n",
       "<table border=\"1\" class=\"dataframe\">\n",
       "  <thead>\n",
       "    <tr style=\"text-align: right;\">\n",
       "      <th></th>\n",
       "      <th>bikes</th>\n",
       "      <th>pants</th>\n",
       "      <th>watches</th>\n",
       "      <th>shirts</th>\n",
       "      <th>shoes</th>\n",
       "      <th>suits</th>\n",
       "      <th>glasses</th>\n",
       "    </tr>\n",
       "  </thead>\n",
       "  <tbody>\n",
       "    <tr>\n",
       "      <th>store 1</th>\n",
       "      <td>20</td>\n",
       "      <td>30</td>\n",
       "      <td>35</td>\n",
       "      <td>15.0</td>\n",
       "      <td>8</td>\n",
       "      <td>45.0</td>\n",
       "      <td>NaN</td>\n",
       "    </tr>\n",
       "    <tr>\n",
       "      <th>store 2</th>\n",
       "      <td>15</td>\n",
       "      <td>5</td>\n",
       "      <td>10</td>\n",
       "      <td>2.0</td>\n",
       "      <td>5</td>\n",
       "      <td>7.0</td>\n",
       "      <td>50.0</td>\n",
       "    </tr>\n",
       "    <tr>\n",
       "      <th>store 3</th>\n",
       "      <td>20</td>\n",
       "      <td>30</td>\n",
       "      <td>35</td>\n",
       "      <td>2.0</td>\n",
       "      <td>10</td>\n",
       "      <td>7.0</td>\n",
       "      <td>4.0</td>\n",
       "    </tr>\n",
       "  </tbody>\n",
       "</table>\n",
       "</div>"
      ],
      "text/plain": [
       "         bikes  pants  watches  shirts  shoes  suits  glasses\n",
       "store 1     20     30       35    15.0      8   45.0      NaN\n",
       "store 2     15      5       10     2.0      5    7.0     50.0\n",
       "store 3     20     30       35     2.0     10    7.0      4.0"
      ]
     },
     "execution_count": 108,
     "metadata": {},
     "output_type": "execute_result"
    }
   ],
   "source": [
    "store_items.ffill(axis = 0)"
   ]
  },
  {
   "cell_type": "markdown",
   "id": "cc6be379",
   "metadata": {},
   "source": [
    "notice that the NaNs in the first row still a Nan (no previous row) "
   ]
  },
  {
   "cell_type": "code",
   "execution_count": 109,
   "id": "3458d53c",
   "metadata": {},
   "outputs": [
    {
     "name": "stderr",
     "output_type": "stream",
     "text": [
      "C:\\Users\\TOSHIBA\\AppData\\Local\\Temp\\ipykernel_13892\\987170338.py:1: FutureWarning: DataFrame.fillna with 'method' is deprecated and will raise in a future version. Use obj.ffill() or obj.bfill() instead.\n",
      "  store_items.fillna(method=\"ffill\",axis=1)\n"
     ]
    },
    {
     "data": {
      "text/html": [
       "<div>\n",
       "<style scoped>\n",
       "    .dataframe tbody tr th:only-of-type {\n",
       "        vertical-align: middle;\n",
       "    }\n",
       "\n",
       "    .dataframe tbody tr th {\n",
       "        vertical-align: top;\n",
       "    }\n",
       "\n",
       "    .dataframe thead th {\n",
       "        text-align: right;\n",
       "    }\n",
       "</style>\n",
       "<table border=\"1\" class=\"dataframe\">\n",
       "  <thead>\n",
       "    <tr style=\"text-align: right;\">\n",
       "      <th></th>\n",
       "      <th>bikes</th>\n",
       "      <th>pants</th>\n",
       "      <th>watches</th>\n",
       "      <th>shirts</th>\n",
       "      <th>shoes</th>\n",
       "      <th>suits</th>\n",
       "      <th>glasses</th>\n",
       "    </tr>\n",
       "  </thead>\n",
       "  <tbody>\n",
       "    <tr>\n",
       "      <th>store 1</th>\n",
       "      <td>20.0</td>\n",
       "      <td>30.0</td>\n",
       "      <td>35.0</td>\n",
       "      <td>15.0</td>\n",
       "      <td>8.0</td>\n",
       "      <td>45.0</td>\n",
       "      <td>45.0</td>\n",
       "    </tr>\n",
       "    <tr>\n",
       "      <th>store 2</th>\n",
       "      <td>15.0</td>\n",
       "      <td>5.0</td>\n",
       "      <td>10.0</td>\n",
       "      <td>2.0</td>\n",
       "      <td>5.0</td>\n",
       "      <td>7.0</td>\n",
       "      <td>50.0</td>\n",
       "    </tr>\n",
       "    <tr>\n",
       "      <th>store 3</th>\n",
       "      <td>20.0</td>\n",
       "      <td>30.0</td>\n",
       "      <td>35.0</td>\n",
       "      <td>35.0</td>\n",
       "      <td>10.0</td>\n",
       "      <td>10.0</td>\n",
       "      <td>4.0</td>\n",
       "    </tr>\n",
       "  </tbody>\n",
       "</table>\n",
       "</div>"
      ],
      "text/plain": [
       "         bikes  pants  watches  shirts  shoes  suits  glasses\n",
       "store 1   20.0   30.0     35.0    15.0    8.0   45.0     45.0\n",
       "store 2   15.0    5.0     10.0     2.0    5.0    7.0     50.0\n",
       "store 3   20.0   30.0     35.0    35.0   10.0   10.0      4.0"
      ]
     },
     "execution_count": 109,
     "metadata": {},
     "output_type": "execute_result"
    }
   ],
   "source": [
    "store_items.fillna(method=\"ffill\",axis=1)"
   ]
  },
  {
   "cell_type": "markdown",
   "id": "9454745e",
   "metadata": {},
   "source": [
    "#### backword filling"
   ]
  },
  {
   "cell_type": "code",
   "execution_count": 110,
   "id": "377dbb69",
   "metadata": {},
   "outputs": [
    {
     "name": "stderr",
     "output_type": "stream",
     "text": [
      "C:\\Users\\TOSHIBA\\AppData\\Local\\Temp\\ipykernel_13892\\3026385950.py:1: FutureWarning: DataFrame.fillna with 'method' is deprecated and will raise in a future version. Use obj.ffill() or obj.bfill() instead.\n",
      "  store_items.fillna(method=\"backfill\",axis=0)\n"
     ]
    },
    {
     "data": {
      "text/html": [
       "<div>\n",
       "<style scoped>\n",
       "    .dataframe tbody tr th:only-of-type {\n",
       "        vertical-align: middle;\n",
       "    }\n",
       "\n",
       "    .dataframe tbody tr th {\n",
       "        vertical-align: top;\n",
       "    }\n",
       "\n",
       "    .dataframe thead th {\n",
       "        text-align: right;\n",
       "    }\n",
       "</style>\n",
       "<table border=\"1\" class=\"dataframe\">\n",
       "  <thead>\n",
       "    <tr style=\"text-align: right;\">\n",
       "      <th></th>\n",
       "      <th>bikes</th>\n",
       "      <th>pants</th>\n",
       "      <th>watches</th>\n",
       "      <th>shirts</th>\n",
       "      <th>shoes</th>\n",
       "      <th>suits</th>\n",
       "      <th>glasses</th>\n",
       "    </tr>\n",
       "  </thead>\n",
       "  <tbody>\n",
       "    <tr>\n",
       "      <th>store 1</th>\n",
       "      <td>20</td>\n",
       "      <td>30</td>\n",
       "      <td>35</td>\n",
       "      <td>15.0</td>\n",
       "      <td>8</td>\n",
       "      <td>45.0</td>\n",
       "      <td>50.0</td>\n",
       "    </tr>\n",
       "    <tr>\n",
       "      <th>store 2</th>\n",
       "      <td>15</td>\n",
       "      <td>5</td>\n",
       "      <td>10</td>\n",
       "      <td>2.0</td>\n",
       "      <td>5</td>\n",
       "      <td>7.0</td>\n",
       "      <td>50.0</td>\n",
       "    </tr>\n",
       "    <tr>\n",
       "      <th>store 3</th>\n",
       "      <td>20</td>\n",
       "      <td>30</td>\n",
       "      <td>35</td>\n",
       "      <td>NaN</td>\n",
       "      <td>10</td>\n",
       "      <td>NaN</td>\n",
       "      <td>4.0</td>\n",
       "    </tr>\n",
       "  </tbody>\n",
       "</table>\n",
       "</div>"
      ],
      "text/plain": [
       "         bikes  pants  watches  shirts  shoes  suits  glasses\n",
       "store 1     20     30       35    15.0      8   45.0     50.0\n",
       "store 2     15      5       10     2.0      5    7.0     50.0\n",
       "store 3     20     30       35     NaN     10    NaN      4.0"
      ]
     },
     "execution_count": 110,
     "metadata": {},
     "output_type": "execute_result"
    }
   ],
   "source": [
    "store_items.fillna(method=\"backfill\",axis=0)"
   ]
  },
  {
   "cell_type": "code",
   "execution_count": 111,
   "id": "20d713ee",
   "metadata": {},
   "outputs": [
    {
     "data": {
      "text/html": [
       "<div>\n",
       "<style scoped>\n",
       "    .dataframe tbody tr th:only-of-type {\n",
       "        vertical-align: middle;\n",
       "    }\n",
       "\n",
       "    .dataframe tbody tr th {\n",
       "        vertical-align: top;\n",
       "    }\n",
       "\n",
       "    .dataframe thead th {\n",
       "        text-align: right;\n",
       "    }\n",
       "</style>\n",
       "<table border=\"1\" class=\"dataframe\">\n",
       "  <thead>\n",
       "    <tr style=\"text-align: right;\">\n",
       "      <th></th>\n",
       "      <th>bikes</th>\n",
       "      <th>pants</th>\n",
       "      <th>watches</th>\n",
       "      <th>shirts</th>\n",
       "      <th>shoes</th>\n",
       "      <th>suits</th>\n",
       "      <th>glasses</th>\n",
       "    </tr>\n",
       "  </thead>\n",
       "  <tbody>\n",
       "    <tr>\n",
       "      <th>store 1</th>\n",
       "      <td>20</td>\n",
       "      <td>30</td>\n",
       "      <td>35</td>\n",
       "      <td>15.0</td>\n",
       "      <td>8</td>\n",
       "      <td>45.0</td>\n",
       "      <td>50.0</td>\n",
       "    </tr>\n",
       "    <tr>\n",
       "      <th>store 2</th>\n",
       "      <td>15</td>\n",
       "      <td>5</td>\n",
       "      <td>10</td>\n",
       "      <td>2.0</td>\n",
       "      <td>5</td>\n",
       "      <td>7.0</td>\n",
       "      <td>50.0</td>\n",
       "    </tr>\n",
       "    <tr>\n",
       "      <th>store 3</th>\n",
       "      <td>20</td>\n",
       "      <td>30</td>\n",
       "      <td>35</td>\n",
       "      <td>NaN</td>\n",
       "      <td>10</td>\n",
       "      <td>NaN</td>\n",
       "      <td>4.0</td>\n",
       "    </tr>\n",
       "  </tbody>\n",
       "</table>\n",
       "</div>"
      ],
      "text/plain": [
       "         bikes  pants  watches  shirts  shoes  suits  glasses\n",
       "store 1     20     30       35    15.0      8   45.0     50.0\n",
       "store 2     15      5       10     2.0      5    7.0     50.0\n",
       "store 3     20     30       35     NaN     10    NaN      4.0"
      ]
     },
     "execution_count": 111,
     "metadata": {},
     "output_type": "execute_result"
    }
   ],
   "source": [
    "# alternatively \n",
    "store_items.bfill(axis = 0)"
   ]
  },
  {
   "cell_type": "code",
   "execution_count": 112,
   "id": "cf30a783",
   "metadata": {},
   "outputs": [
    {
     "name": "stderr",
     "output_type": "stream",
     "text": [
      "C:\\Users\\TOSHIBA\\AppData\\Local\\Temp\\ipykernel_13892\\1034037513.py:1: FutureWarning: DataFrame.fillna with 'method' is deprecated and will raise in a future version. Use obj.ffill() or obj.bfill() instead.\n",
      "  store_items.fillna(method=\"backfill\",axis=1)\n"
     ]
    },
    {
     "data": {
      "text/html": [
       "<div>\n",
       "<style scoped>\n",
       "    .dataframe tbody tr th:only-of-type {\n",
       "        vertical-align: middle;\n",
       "    }\n",
       "\n",
       "    .dataframe tbody tr th {\n",
       "        vertical-align: top;\n",
       "    }\n",
       "\n",
       "    .dataframe thead th {\n",
       "        text-align: right;\n",
       "    }\n",
       "</style>\n",
       "<table border=\"1\" class=\"dataframe\">\n",
       "  <thead>\n",
       "    <tr style=\"text-align: right;\">\n",
       "      <th></th>\n",
       "      <th>bikes</th>\n",
       "      <th>pants</th>\n",
       "      <th>watches</th>\n",
       "      <th>shirts</th>\n",
       "      <th>shoes</th>\n",
       "      <th>suits</th>\n",
       "      <th>glasses</th>\n",
       "    </tr>\n",
       "  </thead>\n",
       "  <tbody>\n",
       "    <tr>\n",
       "      <th>store 1</th>\n",
       "      <td>20.0</td>\n",
       "      <td>30.0</td>\n",
       "      <td>35.0</td>\n",
       "      <td>15.0</td>\n",
       "      <td>8.0</td>\n",
       "      <td>45.0</td>\n",
       "      <td>NaN</td>\n",
       "    </tr>\n",
       "    <tr>\n",
       "      <th>store 2</th>\n",
       "      <td>15.0</td>\n",
       "      <td>5.0</td>\n",
       "      <td>10.0</td>\n",
       "      <td>2.0</td>\n",
       "      <td>5.0</td>\n",
       "      <td>7.0</td>\n",
       "      <td>50.0</td>\n",
       "    </tr>\n",
       "    <tr>\n",
       "      <th>store 3</th>\n",
       "      <td>20.0</td>\n",
       "      <td>30.0</td>\n",
       "      <td>35.0</td>\n",
       "      <td>10.0</td>\n",
       "      <td>10.0</td>\n",
       "      <td>4.0</td>\n",
       "      <td>4.0</td>\n",
       "    </tr>\n",
       "  </tbody>\n",
       "</table>\n",
       "</div>"
      ],
      "text/plain": [
       "         bikes  pants  watches  shirts  shoes  suits  glasses\n",
       "store 1   20.0   30.0     35.0    15.0    8.0   45.0      NaN\n",
       "store 2   15.0    5.0     10.0     2.0    5.0    7.0     50.0\n",
       "store 3   20.0   30.0     35.0    10.0   10.0    4.0      4.0"
      ]
     },
     "execution_count": 112,
     "metadata": {},
     "output_type": "execute_result"
    }
   ],
   "source": [
    "store_items.fillna(method=\"backfill\",axis=1)"
   ]
  },
  {
   "cell_type": "markdown",
   "id": "9dce374e",
   "metadata": {},
   "source": [
    "- notice that the values of the last row or column are still Nans (no following row or column to fill them with)"
   ]
  },
  {
   "cell_type": "markdown",
   "id": "2f2754c8",
   "metadata": {},
   "source": [
    "#### replace using linear interpolation "
   ]
  },
  {
   "cell_type": "code",
   "execution_count": 113,
   "id": "5b5c19ca",
   "metadata": {},
   "outputs": [
    {
     "data": {
      "text/html": [
       "<div>\n",
       "<style scoped>\n",
       "    .dataframe tbody tr th:only-of-type {\n",
       "        vertical-align: middle;\n",
       "    }\n",
       "\n",
       "    .dataframe tbody tr th {\n",
       "        vertical-align: top;\n",
       "    }\n",
       "\n",
       "    .dataframe thead th {\n",
       "        text-align: right;\n",
       "    }\n",
       "</style>\n",
       "<table border=\"1\" class=\"dataframe\">\n",
       "  <thead>\n",
       "    <tr style=\"text-align: right;\">\n",
       "      <th></th>\n",
       "      <th>bikes</th>\n",
       "      <th>pants</th>\n",
       "      <th>watches</th>\n",
       "      <th>shirts</th>\n",
       "      <th>shoes</th>\n",
       "      <th>suits</th>\n",
       "      <th>glasses</th>\n",
       "    </tr>\n",
       "  </thead>\n",
       "  <tbody>\n",
       "    <tr>\n",
       "      <th>store 1</th>\n",
       "      <td>20</td>\n",
       "      <td>30</td>\n",
       "      <td>35</td>\n",
       "      <td>15.0</td>\n",
       "      <td>8</td>\n",
       "      <td>45.0</td>\n",
       "      <td>NaN</td>\n",
       "    </tr>\n",
       "    <tr>\n",
       "      <th>store 2</th>\n",
       "      <td>15</td>\n",
       "      <td>5</td>\n",
       "      <td>10</td>\n",
       "      <td>2.0</td>\n",
       "      <td>5</td>\n",
       "      <td>7.0</td>\n",
       "      <td>50.0</td>\n",
       "    </tr>\n",
       "    <tr>\n",
       "      <th>store 3</th>\n",
       "      <td>20</td>\n",
       "      <td>30</td>\n",
       "      <td>35</td>\n",
       "      <td>NaN</td>\n",
       "      <td>10</td>\n",
       "      <td>NaN</td>\n",
       "      <td>4.0</td>\n",
       "    </tr>\n",
       "  </tbody>\n",
       "</table>\n",
       "</div>"
      ],
      "text/plain": [
       "         bikes  pants  watches  shirts  shoes  suits  glasses\n",
       "store 1     20     30       35    15.0      8   45.0      NaN\n",
       "store 2     15      5       10     2.0      5    7.0     50.0\n",
       "store 3     20     30       35     NaN     10    NaN      4.0"
      ]
     },
     "execution_count": 113,
     "metadata": {},
     "output_type": "execute_result"
    }
   ],
   "source": [
    "store_items"
   ]
  },
  {
   "cell_type": "code",
   "execution_count": 114,
   "id": "3a90c035",
   "metadata": {},
   "outputs": [
    {
     "data": {
      "text/html": [
       "<div>\n",
       "<style scoped>\n",
       "    .dataframe tbody tr th:only-of-type {\n",
       "        vertical-align: middle;\n",
       "    }\n",
       "\n",
       "    .dataframe tbody tr th {\n",
       "        vertical-align: top;\n",
       "    }\n",
       "\n",
       "    .dataframe thead th {\n",
       "        text-align: right;\n",
       "    }\n",
       "</style>\n",
       "<table border=\"1\" class=\"dataframe\">\n",
       "  <thead>\n",
       "    <tr style=\"text-align: right;\">\n",
       "      <th></th>\n",
       "      <th>bikes</th>\n",
       "      <th>pants</th>\n",
       "      <th>watches</th>\n",
       "      <th>shirts</th>\n",
       "      <th>shoes</th>\n",
       "      <th>suits</th>\n",
       "      <th>glasses</th>\n",
       "    </tr>\n",
       "  </thead>\n",
       "  <tbody>\n",
       "    <tr>\n",
       "      <th>store 1</th>\n",
       "      <td>20</td>\n",
       "      <td>30</td>\n",
       "      <td>35</td>\n",
       "      <td>15.0</td>\n",
       "      <td>8</td>\n",
       "      <td>45.0</td>\n",
       "      <td>NaN</td>\n",
       "    </tr>\n",
       "    <tr>\n",
       "      <th>store 2</th>\n",
       "      <td>15</td>\n",
       "      <td>5</td>\n",
       "      <td>10</td>\n",
       "      <td>2.0</td>\n",
       "      <td>5</td>\n",
       "      <td>7.0</td>\n",
       "      <td>50.0</td>\n",
       "    </tr>\n",
       "    <tr>\n",
       "      <th>store 3</th>\n",
       "      <td>20</td>\n",
       "      <td>30</td>\n",
       "      <td>35</td>\n",
       "      <td>2.0</td>\n",
       "      <td>10</td>\n",
       "      <td>7.0</td>\n",
       "      <td>4.0</td>\n",
       "    </tr>\n",
       "  </tbody>\n",
       "</table>\n",
       "</div>"
      ],
      "text/plain": [
       "         bikes  pants  watches  shirts  shoes  suits  glasses\n",
       "store 1     20     30       35    15.0      8   45.0      NaN\n",
       "store 2     15      5       10     2.0      5    7.0     50.0\n",
       "store 3     20     30       35     2.0     10    7.0      4.0"
      ]
     },
     "execution_count": 114,
     "metadata": {},
     "output_type": "execute_result"
    }
   ],
   "source": [
    "store_items.interpolate(method=\"linear\",axis=0)"
   ]
  },
  {
   "cell_type": "code",
   "execution_count": 115,
   "id": "77cc947c",
   "metadata": {},
   "outputs": [
    {
     "data": {
      "text/html": [
       "<div>\n",
       "<style scoped>\n",
       "    .dataframe tbody tr th:only-of-type {\n",
       "        vertical-align: middle;\n",
       "    }\n",
       "\n",
       "    .dataframe tbody tr th {\n",
       "        vertical-align: top;\n",
       "    }\n",
       "\n",
       "    .dataframe thead th {\n",
       "        text-align: right;\n",
       "    }\n",
       "</style>\n",
       "<table border=\"1\" class=\"dataframe\">\n",
       "  <thead>\n",
       "    <tr style=\"text-align: right;\">\n",
       "      <th></th>\n",
       "      <th>bikes</th>\n",
       "      <th>pants</th>\n",
       "      <th>watches</th>\n",
       "      <th>shirts</th>\n",
       "      <th>shoes</th>\n",
       "      <th>suits</th>\n",
       "      <th>glasses</th>\n",
       "    </tr>\n",
       "  </thead>\n",
       "  <tbody>\n",
       "    <tr>\n",
       "      <th>store 1</th>\n",
       "      <td>20.0</td>\n",
       "      <td>30.0</td>\n",
       "      <td>35.0</td>\n",
       "      <td>15.0</td>\n",
       "      <td>8.0</td>\n",
       "      <td>45.0</td>\n",
       "      <td>45.0</td>\n",
       "    </tr>\n",
       "    <tr>\n",
       "      <th>store 2</th>\n",
       "      <td>15.0</td>\n",
       "      <td>5.0</td>\n",
       "      <td>10.0</td>\n",
       "      <td>2.0</td>\n",
       "      <td>5.0</td>\n",
       "      <td>7.0</td>\n",
       "      <td>50.0</td>\n",
       "    </tr>\n",
       "    <tr>\n",
       "      <th>store 3</th>\n",
       "      <td>20.0</td>\n",
       "      <td>30.0</td>\n",
       "      <td>35.0</td>\n",
       "      <td>22.5</td>\n",
       "      <td>10.0</td>\n",
       "      <td>7.0</td>\n",
       "      <td>4.0</td>\n",
       "    </tr>\n",
       "  </tbody>\n",
       "</table>\n",
       "</div>"
      ],
      "text/plain": [
       "         bikes  pants  watches  shirts  shoes  suits  glasses\n",
       "store 1   20.0   30.0     35.0    15.0    8.0   45.0     45.0\n",
       "store 2   15.0    5.0     10.0     2.0    5.0    7.0     50.0\n",
       "store 3   20.0   30.0     35.0    22.5   10.0    7.0      4.0"
      ]
     },
     "execution_count": 115,
     "metadata": {},
     "output_type": "execute_result"
    }
   ],
   "source": [
    "store_items.interpolate(method=\"linear\",axis=1)"
   ]
  },
  {
   "cell_type": "markdown",
   "id": "30c83b56",
   "metadata": {},
   "source": [
    "- notice that what choice to be made regarding Nan values is problem and designer specific\n",
    "    - we could have a problem where we need to delete the entire row or column if it has a Nan value\n",
    "    - we could subsitiute it with a value of our choice say 0 or the mean of each column \n",
    "    - we could use forward or backward filling\n",
    "    - and so on"
   ]
  },
  {
   "cell_type": "markdown",
   "id": "c9f80d77",
   "metadata": {},
   "source": [
    "Example"
   ]
  },
  {
   "cell_type": "code",
   "execution_count": 116,
   "id": "cfd46d05",
   "metadata": {},
   "outputs": [
    {
     "name": "stdout",
     "output_type": "stream",
     "text": [
      "                Author           Book Title  User 1  User 2  User 3  User 4\n",
      "0      Charles Dickens   Great Expectations     3.2     5.0     2.0     4.0\n",
      "1       John Steinbeck      Of Mice and Men     NaN     1.3     2.3     3.5\n",
      "2  William Shakespeare     Romeo and Juliet     2.5     4.0     NaN     4.0\n",
      "3          H. G. Wells     The Time Machine     NaN     3.8     4.0     5.0\n",
      "4        Lewis Carroll  Alice in Wonderland     NaN     NaN     NaN     4.2\n",
      "                Author           Book Title  User 1  User 2    User 3  User 4\n",
      "0      Charles Dickens   Great Expectations    3.20   5.000  2.000000     4.0\n",
      "1       John Steinbeck      Of Mice and Men    2.85   1.300  2.300000     3.5\n",
      "2  William Shakespeare     Romeo and Juliet    2.50   4.000  2.766667     4.0\n",
      "3          H. G. Wells     The Time Machine    2.85   3.800  4.000000     5.0\n",
      "4        Lewis Carroll  Alice in Wonderland    2.85   3.525  2.766667     4.2\n"
     ]
    }
   ],
   "source": [
    "import pandas as pd\n",
    "import numpy as np\n",
    "\n",
    "# DO NOT CHANGE THE VARIABLE NAMES\n",
    "\n",
    "# Set the precision of our dataframes to one decimal place.\n",
    "#pd.set_option('precision', 1)\n",
    "\n",
    "# Create a Pandas DataFrame that contains the ratings some users have given to a series of books. \n",
    "# The ratings given are in the range from 1 to 5, with 5 being the best score. \n",
    "# The names of the books, the corresponding authors, and the ratings of each user are given below:\n",
    "\n",
    "books = pd.Series(data = ['Great Expectations', 'Of Mice and Men', 'Romeo and Juliet', 'The Time Machine', 'Alice in Wonderland' ])\n",
    "authors = pd.Series(data = ['Charles Dickens', 'John Steinbeck', 'William Shakespeare', ' H. G. Wells', 'Lewis Carroll' ])\n",
    "\n",
    "# User ratings are in the order of the book titles mentioned above\n",
    "# If a user has not rated all books, Pandas will automatically consider the missing values as NaN.\n",
    "# If a user has mentioned `np.nan` value, then also it means that the user has not yet rated that book.\n",
    "user_1 = pd.Series(data = [3.2, np.nan ,2.5])\n",
    "user_2 = pd.Series(data = [5., 1.3, 4.0, 3.8])\n",
    "user_3 = pd.Series(data = [2.0, 2.3, np.nan, 4])\n",
    "user_4 = pd.Series(data = [4, 3.5, 4, 5, 4.2])\n",
    "\n",
    "\n",
    "# Use the data above to create a Pandas DataFrame that has the following column\n",
    "# labels: 'Author', 'Book Title', 'User 1', 'User 2', 'User 3', 'User 4'. \n",
    "# Let Pandas automatically assign numerical row indices to the DataFrame. \n",
    "\n",
    "# TO DO: Create a dictionary with the data given above\n",
    "dat = {'Author':authors,'Book Title':books, 'User 1':user_1, 'User 2':user_2, 'User 3':user_3, 'User 4':user_4}\n",
    "\n",
    "# TO DO: Create a Pandas DataFrame using the dictionary created above\n",
    "book_ratings = pd.DataFrame(dat)\n",
    "print(book_ratings)\n",
    "# TO DO:\n",
    "# If you created the dictionary correctly you should have a Pandas DataFrame\n",
    "# that has column labels: \n",
    "# 'Author', 'Book Title', 'User 1', 'User 2', 'User 3', 'User 4' \n",
    "# and row indices 0 through 4.\n",
    "\n",
    "# Now replace all the NaN values in your DataFrame with the average rating in\n",
    "# each column. Replace the NaN values in place. \n",
    "# HINT: Use the `pandas.DataFrame.fillna(value, inplace = True)` function for substituting the NaN values. \n",
    "# Write your code below:\n",
    "ratings_mean = book_ratings[[\"User 1\", \"User 2\",\"User 3\", \"User 4\"]].mean()\n",
    "#print(ratings_mean)\n",
    "book_ratings[[\"User 1\", \"User 2\",\"User 3\", \"User 4\"]] = book_ratings[[\"User 1\", \"User 2\",\"User 3\", \"User 4\"]].fillna(ratings_mean)\n",
    "print(book_ratings)\n",
    "# # to pick all the books that had a rating of 5\n",
    "# book_ratings.isin([5]).any(axis=1)\n",
    "# book_ratings[book_ratings.isin([5]).any(axis=1)]\n"
   ]
  },
  {
   "cell_type": "markdown",
   "id": "17556a19",
   "metadata": {},
   "source": [
    "- my Tip: in the above code, we want to change a slice of the data frame, so we can't use in_place = True on the slice (i have used it and it gave me SettingWithCopyWarning: \n",
    "A value is trying to be set on a copy of a slice from a DataFrame)\n",
    "    - so instead, we do `df slice = df slice changed`"
   ]
  },
  {
   "cell_type": "code",
   "execution_count": 117,
   "id": "e59a8c75",
   "metadata": {},
   "outputs": [
    {
     "data": {
      "text/html": [
       "<div>\n",
       "<style scoped>\n",
       "    .dataframe tbody tr th:only-of-type {\n",
       "        vertical-align: middle;\n",
       "    }\n",
       "\n",
       "    .dataframe tbody tr th {\n",
       "        vertical-align: top;\n",
       "    }\n",
       "\n",
       "    .dataframe thead th {\n",
       "        text-align: right;\n",
       "    }\n",
       "</style>\n",
       "<table border=\"1\" class=\"dataframe\">\n",
       "  <thead>\n",
       "    <tr style=\"text-align: right;\">\n",
       "      <th></th>\n",
       "      <th>Author</th>\n",
       "      <th>Book Title</th>\n",
       "      <th>User 1</th>\n",
       "      <th>User 2</th>\n",
       "      <th>User 3</th>\n",
       "      <th>User 4</th>\n",
       "    </tr>\n",
       "  </thead>\n",
       "  <tbody>\n",
       "    <tr>\n",
       "      <th>0</th>\n",
       "      <td>Charles Dickens</td>\n",
       "      <td>Great Expectations</td>\n",
       "      <td>3.20</td>\n",
       "      <td>5.0</td>\n",
       "      <td>2.0</td>\n",
       "      <td>4.0</td>\n",
       "    </tr>\n",
       "    <tr>\n",
       "      <th>3</th>\n",
       "      <td>H. G. Wells</td>\n",
       "      <td>The Time Machine</td>\n",
       "      <td>2.85</td>\n",
       "      <td>3.8</td>\n",
       "      <td>4.0</td>\n",
       "      <td>5.0</td>\n",
       "    </tr>\n",
       "  </tbody>\n",
       "</table>\n",
       "</div>"
      ],
      "text/plain": [
       "            Author          Book Title  User 1  User 2  User 3  User 4\n",
       "0  Charles Dickens  Great Expectations    3.20     5.0     2.0     4.0\n",
       "3      H. G. Wells    The Time Machine    2.85     3.8     4.0     5.0"
      ]
     },
     "execution_count": 117,
     "metadata": {},
     "output_type": "execute_result"
    }
   ],
   "source": [
    "book_ratings.loc[book_ratings.isin([5]).any(axis=1)]"
   ]
  },
  {
   "cell_type": "markdown",
   "id": "880e69b2",
   "metadata": {},
   "source": [
    "- mine\n",
    "- notice that dataframes support in operator via `isin()` method\n",
    "    - alternativelty we could use df == 5\n",
    "- then we used the `any()` method to check if there is any True\n",
    "    - and we used it with axis = 1 to check for any True in columns for each row\n",
    "- then having a boolean series of the rows that have any True, we used it to index the dataframe directly via `df[boolean series]`\n",
    "    - refer to the boolean indexing in dataframes"
   ]
  },
  {
   "cell_type": "markdown",
   "id": "8f94db41",
   "metadata": {},
   "source": [
    "## loading data into a pandas Data Frame\n",
    "- we will most likely use it\n",
    "- pandas allowses to load data bases of different formats into data frames\n",
    " - one of the most popular formats is csv\n",
    "- we can load a csv file into a dataframe using a read_csv() function"
   ]
  },
  {
   "cell_type": "code",
   "execution_count": 118,
   "id": "ceb41fa6",
   "metadata": {},
   "outputs": [
    {
     "data": {
      "text/html": [
       "<div>\n",
       "<style scoped>\n",
       "    .dataframe tbody tr th:only-of-type {\n",
       "        vertical-align: middle;\n",
       "    }\n",
       "\n",
       "    .dataframe tbody tr th {\n",
       "        vertical-align: top;\n",
       "    }\n",
       "\n",
       "    .dataframe thead th {\n",
       "        text-align: right;\n",
       "    }\n",
       "</style>\n",
       "<table border=\"1\" class=\"dataframe\">\n",
       "  <thead>\n",
       "    <tr style=\"text-align: right;\">\n",
       "      <th></th>\n",
       "      <th>Date</th>\n",
       "      <th>Open</th>\n",
       "      <th>High</th>\n",
       "      <th>Low</th>\n",
       "      <th>Close</th>\n",
       "      <th>Adj Close</th>\n",
       "      <th>Volume</th>\n",
       "    </tr>\n",
       "  </thead>\n",
       "  <tbody>\n",
       "    <tr>\n",
       "      <th>0</th>\n",
       "      <td>2004-08-19</td>\n",
       "      <td>49.676899</td>\n",
       "      <td>51.693783</td>\n",
       "      <td>47.669952</td>\n",
       "      <td>49.845802</td>\n",
       "      <td>49.845802</td>\n",
       "      <td>44994500</td>\n",
       "    </tr>\n",
       "    <tr>\n",
       "      <th>1</th>\n",
       "      <td>2004-08-20</td>\n",
       "      <td>50.178635</td>\n",
       "      <td>54.187561</td>\n",
       "      <td>49.925285</td>\n",
       "      <td>53.805050</td>\n",
       "      <td>53.805050</td>\n",
       "      <td>23005800</td>\n",
       "    </tr>\n",
       "    <tr>\n",
       "      <th>2</th>\n",
       "      <td>2004-08-23</td>\n",
       "      <td>55.017166</td>\n",
       "      <td>56.373344</td>\n",
       "      <td>54.172661</td>\n",
       "      <td>54.346527</td>\n",
       "      <td>54.346527</td>\n",
       "      <td>18393200</td>\n",
       "    </tr>\n",
       "    <tr>\n",
       "      <th>3</th>\n",
       "      <td>2004-08-24</td>\n",
       "      <td>55.260582</td>\n",
       "      <td>55.439419</td>\n",
       "      <td>51.450363</td>\n",
       "      <td>52.096165</td>\n",
       "      <td>52.096165</td>\n",
       "      <td>15361800</td>\n",
       "    </tr>\n",
       "    <tr>\n",
       "      <th>4</th>\n",
       "      <td>2004-08-25</td>\n",
       "      <td>52.140873</td>\n",
       "      <td>53.651051</td>\n",
       "      <td>51.604362</td>\n",
       "      <td>52.657513</td>\n",
       "      <td>52.657513</td>\n",
       "      <td>9257400</td>\n",
       "    </tr>\n",
       "    <tr>\n",
       "      <th>...</th>\n",
       "      <td>...</td>\n",
       "      <td>...</td>\n",
       "      <td>...</td>\n",
       "      <td>...</td>\n",
       "      <td>...</td>\n",
       "      <td>...</td>\n",
       "      <td>...</td>\n",
       "    </tr>\n",
       "    <tr>\n",
       "      <th>3308</th>\n",
       "      <td>2017-10-09</td>\n",
       "      <td>980.000000</td>\n",
       "      <td>985.424988</td>\n",
       "      <td>976.109985</td>\n",
       "      <td>977.000000</td>\n",
       "      <td>977.000000</td>\n",
       "      <td>891400</td>\n",
       "    </tr>\n",
       "    <tr>\n",
       "      <th>3309</th>\n",
       "      <td>2017-10-10</td>\n",
       "      <td>980.000000</td>\n",
       "      <td>981.570007</td>\n",
       "      <td>966.080017</td>\n",
       "      <td>972.599976</td>\n",
       "      <td>972.599976</td>\n",
       "      <td>968400</td>\n",
       "    </tr>\n",
       "    <tr>\n",
       "      <th>3310</th>\n",
       "      <td>2017-10-11</td>\n",
       "      <td>973.719971</td>\n",
       "      <td>990.710022</td>\n",
       "      <td>972.250000</td>\n",
       "      <td>989.250000</td>\n",
       "      <td>989.250000</td>\n",
       "      <td>1693300</td>\n",
       "    </tr>\n",
       "    <tr>\n",
       "      <th>3311</th>\n",
       "      <td>2017-10-12</td>\n",
       "      <td>987.450012</td>\n",
       "      <td>994.119995</td>\n",
       "      <td>985.000000</td>\n",
       "      <td>987.830017</td>\n",
       "      <td>987.830017</td>\n",
       "      <td>1262400</td>\n",
       "    </tr>\n",
       "    <tr>\n",
       "      <th>3312</th>\n",
       "      <td>2017-10-13</td>\n",
       "      <td>992.000000</td>\n",
       "      <td>997.210022</td>\n",
       "      <td>989.000000</td>\n",
       "      <td>989.679993</td>\n",
       "      <td>989.679993</td>\n",
       "      <td>1157700</td>\n",
       "    </tr>\n",
       "  </tbody>\n",
       "</table>\n",
       "<p>3313 rows × 7 columns</p>\n",
       "</div>"
      ],
      "text/plain": [
       "            Date        Open        High         Low       Close   Adj Close  \\\n",
       "0     2004-08-19   49.676899   51.693783   47.669952   49.845802   49.845802   \n",
       "1     2004-08-20   50.178635   54.187561   49.925285   53.805050   53.805050   \n",
       "2     2004-08-23   55.017166   56.373344   54.172661   54.346527   54.346527   \n",
       "3     2004-08-24   55.260582   55.439419   51.450363   52.096165   52.096165   \n",
       "4     2004-08-25   52.140873   53.651051   51.604362   52.657513   52.657513   \n",
       "...          ...         ...         ...         ...         ...         ...   \n",
       "3308  2017-10-09  980.000000  985.424988  976.109985  977.000000  977.000000   \n",
       "3309  2017-10-10  980.000000  981.570007  966.080017  972.599976  972.599976   \n",
       "3310  2017-10-11  973.719971  990.710022  972.250000  989.250000  989.250000   \n",
       "3311  2017-10-12  987.450012  994.119995  985.000000  987.830017  987.830017   \n",
       "3312  2017-10-13  992.000000  997.210022  989.000000  989.679993  989.679993   \n",
       "\n",
       "        Volume  \n",
       "0     44994500  \n",
       "1     23005800  \n",
       "2     18393200  \n",
       "3     15361800  \n",
       "4      9257400  \n",
       "...        ...  \n",
       "3308    891400  \n",
       "3309    968400  \n",
       "3310   1693300  \n",
       "3311   1262400  \n",
       "3312   1157700  \n",
       "\n",
       "[3313 rows x 7 columns]"
      ]
     },
     "execution_count": 118,
     "metadata": {},
     "output_type": "execute_result"
    }
   ],
   "source": [
    "google_stock = pd.read_csv('Goog-1.csv')\n",
    "google_stock"
   ]
  },
  {
   "cell_type": "markdown",
   "id": "f2b6585e",
   "metadata": {},
   "source": [
    "- pandas assigned numerical row indicies to the data frame\n",
    "- pandas also used the names in the first row of the csv file to assign column labels"
   ]
  },
  {
   "cell_type": "markdown",
   "id": "501ed1b1",
   "metadata": {},
   "source": [
    "### take a look at the first few rows\n",
    " - using .head(number of rows = 5)"
   ]
  },
  {
   "cell_type": "code",
   "execution_count": 119,
   "id": "86881802",
   "metadata": {},
   "outputs": [
    {
     "data": {
      "text/html": [
       "<div>\n",
       "<style scoped>\n",
       "    .dataframe tbody tr th:only-of-type {\n",
       "        vertical-align: middle;\n",
       "    }\n",
       "\n",
       "    .dataframe tbody tr th {\n",
       "        vertical-align: top;\n",
       "    }\n",
       "\n",
       "    .dataframe thead th {\n",
       "        text-align: right;\n",
       "    }\n",
       "</style>\n",
       "<table border=\"1\" class=\"dataframe\">\n",
       "  <thead>\n",
       "    <tr style=\"text-align: right;\">\n",
       "      <th></th>\n",
       "      <th>Date</th>\n",
       "      <th>Open</th>\n",
       "      <th>High</th>\n",
       "      <th>Low</th>\n",
       "      <th>Close</th>\n",
       "      <th>Adj Close</th>\n",
       "      <th>Volume</th>\n",
       "    </tr>\n",
       "  </thead>\n",
       "  <tbody>\n",
       "    <tr>\n",
       "      <th>0</th>\n",
       "      <td>2004-08-19</td>\n",
       "      <td>49.676899</td>\n",
       "      <td>51.693783</td>\n",
       "      <td>47.669952</td>\n",
       "      <td>49.845802</td>\n",
       "      <td>49.845802</td>\n",
       "      <td>44994500</td>\n",
       "    </tr>\n",
       "    <tr>\n",
       "      <th>1</th>\n",
       "      <td>2004-08-20</td>\n",
       "      <td>50.178635</td>\n",
       "      <td>54.187561</td>\n",
       "      <td>49.925285</td>\n",
       "      <td>53.805050</td>\n",
       "      <td>53.805050</td>\n",
       "      <td>23005800</td>\n",
       "    </tr>\n",
       "    <tr>\n",
       "      <th>2</th>\n",
       "      <td>2004-08-23</td>\n",
       "      <td>55.017166</td>\n",
       "      <td>56.373344</td>\n",
       "      <td>54.172661</td>\n",
       "      <td>54.346527</td>\n",
       "      <td>54.346527</td>\n",
       "      <td>18393200</td>\n",
       "    </tr>\n",
       "    <tr>\n",
       "      <th>3</th>\n",
       "      <td>2004-08-24</td>\n",
       "      <td>55.260582</td>\n",
       "      <td>55.439419</td>\n",
       "      <td>51.450363</td>\n",
       "      <td>52.096165</td>\n",
       "      <td>52.096165</td>\n",
       "      <td>15361800</td>\n",
       "    </tr>\n",
       "    <tr>\n",
       "      <th>4</th>\n",
       "      <td>2004-08-25</td>\n",
       "      <td>52.140873</td>\n",
       "      <td>53.651051</td>\n",
       "      <td>51.604362</td>\n",
       "      <td>52.657513</td>\n",
       "      <td>52.657513</td>\n",
       "      <td>9257400</td>\n",
       "    </tr>\n",
       "  </tbody>\n",
       "</table>\n",
       "</div>"
      ],
      "text/plain": [
       "         Date       Open       High        Low      Close  Adj Close    Volume\n",
       "0  2004-08-19  49.676899  51.693783  47.669952  49.845802  49.845802  44994500\n",
       "1  2004-08-20  50.178635  54.187561  49.925285  53.805050  53.805050  23005800\n",
       "2  2004-08-23  55.017166  56.373344  54.172661  54.346527  54.346527  18393200\n",
       "3  2004-08-24  55.260582  55.439419  51.450363  52.096165  52.096165  15361800\n",
       "4  2004-08-25  52.140873  53.651051  51.604362  52.657513  52.657513   9257400"
      ]
     },
     "execution_count": 119,
     "metadata": {},
     "output_type": "execute_result"
    }
   ],
   "source": [
    "google_stock.head()"
   ]
  },
  {
   "cell_type": "code",
   "execution_count": 120,
   "id": "56e36168",
   "metadata": {},
   "outputs": [
    {
     "data": {
      "text/html": [
       "<div>\n",
       "<style scoped>\n",
       "    .dataframe tbody tr th:only-of-type {\n",
       "        vertical-align: middle;\n",
       "    }\n",
       "\n",
       "    .dataframe tbody tr th {\n",
       "        vertical-align: top;\n",
       "    }\n",
       "\n",
       "    .dataframe thead th {\n",
       "        text-align: right;\n",
       "    }\n",
       "</style>\n",
       "<table border=\"1\" class=\"dataframe\">\n",
       "  <thead>\n",
       "    <tr style=\"text-align: right;\">\n",
       "      <th></th>\n",
       "      <th>Date</th>\n",
       "      <th>Open</th>\n",
       "      <th>High</th>\n",
       "      <th>Low</th>\n",
       "      <th>Close</th>\n",
       "      <th>Adj Close</th>\n",
       "      <th>Volume</th>\n",
       "    </tr>\n",
       "  </thead>\n",
       "  <tbody>\n",
       "    <tr>\n",
       "      <th>0</th>\n",
       "      <td>2004-08-19</td>\n",
       "      <td>49.676899</td>\n",
       "      <td>51.693783</td>\n",
       "      <td>47.669952</td>\n",
       "      <td>49.845802</td>\n",
       "      <td>49.845802</td>\n",
       "      <td>44994500</td>\n",
       "    </tr>\n",
       "    <tr>\n",
       "      <th>1</th>\n",
       "      <td>2004-08-20</td>\n",
       "      <td>50.178635</td>\n",
       "      <td>54.187561</td>\n",
       "      <td>49.925285</td>\n",
       "      <td>53.805050</td>\n",
       "      <td>53.805050</td>\n",
       "      <td>23005800</td>\n",
       "    </tr>\n",
       "    <tr>\n",
       "      <th>2</th>\n",
       "      <td>2004-08-23</td>\n",
       "      <td>55.017166</td>\n",
       "      <td>56.373344</td>\n",
       "      <td>54.172661</td>\n",
       "      <td>54.346527</td>\n",
       "      <td>54.346527</td>\n",
       "      <td>18393200</td>\n",
       "    </tr>\n",
       "  </tbody>\n",
       "</table>\n",
       "</div>"
      ],
      "text/plain": [
       "         Date       Open       High        Low      Close  Adj Close    Volume\n",
       "0  2004-08-19  49.676899  51.693783  47.669952  49.845802  49.845802  44994500\n",
       "1  2004-08-20  50.178635  54.187561  49.925285  53.805050  53.805050  23005800\n",
       "2  2004-08-23  55.017166  56.373344  54.172661  54.346527  54.346527  18393200"
      ]
     },
     "execution_count": 120,
     "metadata": {},
     "output_type": "execute_result"
    }
   ],
   "source": [
    "google_stock.loc[[0,1,2]]"
   ]
  },
  {
   "cell_type": "code",
   "execution_count": 121,
   "id": "d93affba",
   "metadata": {},
   "outputs": [
    {
     "data": {
      "text/html": [
       "<div>\n",
       "<style scoped>\n",
       "    .dataframe tbody tr th:only-of-type {\n",
       "        vertical-align: middle;\n",
       "    }\n",
       "\n",
       "    .dataframe tbody tr th {\n",
       "        vertical-align: top;\n",
       "    }\n",
       "\n",
       "    .dataframe thead th {\n",
       "        text-align: right;\n",
       "    }\n",
       "</style>\n",
       "<table border=\"1\" class=\"dataframe\">\n",
       "  <thead>\n",
       "    <tr style=\"text-align: right;\">\n",
       "      <th></th>\n",
       "      <th>Date</th>\n",
       "      <th>Open</th>\n",
       "      <th>High</th>\n",
       "      <th>Low</th>\n",
       "      <th>Close</th>\n",
       "      <th>Adj Close</th>\n",
       "      <th>Volume</th>\n",
       "    </tr>\n",
       "  </thead>\n",
       "  <tbody>\n",
       "    <tr>\n",
       "      <th>0</th>\n",
       "      <td>2004-08-19</td>\n",
       "      <td>49.676899</td>\n",
       "      <td>51.693783</td>\n",
       "      <td>47.669952</td>\n",
       "      <td>49.845802</td>\n",
       "      <td>49.845802</td>\n",
       "      <td>44994500</td>\n",
       "    </tr>\n",
       "    <tr>\n",
       "      <th>1</th>\n",
       "      <td>2004-08-20</td>\n",
       "      <td>50.178635</td>\n",
       "      <td>54.187561</td>\n",
       "      <td>49.925285</td>\n",
       "      <td>53.805050</td>\n",
       "      <td>53.805050</td>\n",
       "      <td>23005800</td>\n",
       "    </tr>\n",
       "    <tr>\n",
       "      <th>2</th>\n",
       "      <td>2004-08-23</td>\n",
       "      <td>55.017166</td>\n",
       "      <td>56.373344</td>\n",
       "      <td>54.172661</td>\n",
       "      <td>54.346527</td>\n",
       "      <td>54.346527</td>\n",
       "      <td>18393200</td>\n",
       "    </tr>\n",
       "  </tbody>\n",
       "</table>\n",
       "</div>"
      ],
      "text/plain": [
       "         Date       Open       High        Low      Close  Adj Close    Volume\n",
       "0  2004-08-19  49.676899  51.693783  47.669952  49.845802  49.845802  44994500\n",
       "1  2004-08-20  50.178635  54.187561  49.925285  53.805050  53.805050  23005800\n",
       "2  2004-08-23  55.017166  56.373344  54.172661  54.346527  54.346527  18393200"
      ]
     },
     "execution_count": 121,
     "metadata": {},
     "output_type": "execute_result"
    }
   ],
   "source": [
    "google_stock.iloc[[0,1,2]]"
   ]
  },
  {
   "cell_type": "markdown",
   "id": "990eb692",
   "metadata": {},
   "source": [
    "### take a look at the last 5 rows\n",
    "- .tail(number of rows = 5)"
   ]
  },
  {
   "cell_type": "code",
   "execution_count": 122,
   "id": "e37e4fd9",
   "metadata": {},
   "outputs": [
    {
     "data": {
      "text/html": [
       "<div>\n",
       "<style scoped>\n",
       "    .dataframe tbody tr th:only-of-type {\n",
       "        vertical-align: middle;\n",
       "    }\n",
       "\n",
       "    .dataframe tbody tr th {\n",
       "        vertical-align: top;\n",
       "    }\n",
       "\n",
       "    .dataframe thead th {\n",
       "        text-align: right;\n",
       "    }\n",
       "</style>\n",
       "<table border=\"1\" class=\"dataframe\">\n",
       "  <thead>\n",
       "    <tr style=\"text-align: right;\">\n",
       "      <th></th>\n",
       "      <th>Date</th>\n",
       "      <th>Open</th>\n",
       "      <th>High</th>\n",
       "      <th>Low</th>\n",
       "      <th>Close</th>\n",
       "      <th>Adj Close</th>\n",
       "      <th>Volume</th>\n",
       "    </tr>\n",
       "  </thead>\n",
       "  <tbody>\n",
       "    <tr>\n",
       "      <th>3305</th>\n",
       "      <td>2017-10-04</td>\n",
       "      <td>957.000000</td>\n",
       "      <td>960.390015</td>\n",
       "      <td>950.690002</td>\n",
       "      <td>951.679993</td>\n",
       "      <td>951.679993</td>\n",
       "      <td>952400</td>\n",
       "    </tr>\n",
       "    <tr>\n",
       "      <th>3306</th>\n",
       "      <td>2017-10-05</td>\n",
       "      <td>955.489990</td>\n",
       "      <td>970.909973</td>\n",
       "      <td>955.179993</td>\n",
       "      <td>969.960022</td>\n",
       "      <td>969.960022</td>\n",
       "      <td>1213800</td>\n",
       "    </tr>\n",
       "    <tr>\n",
       "      <th>3307</th>\n",
       "      <td>2017-10-06</td>\n",
       "      <td>966.700012</td>\n",
       "      <td>979.460022</td>\n",
       "      <td>963.359985</td>\n",
       "      <td>978.890015</td>\n",
       "      <td>978.890015</td>\n",
       "      <td>1173900</td>\n",
       "    </tr>\n",
       "    <tr>\n",
       "      <th>3308</th>\n",
       "      <td>2017-10-09</td>\n",
       "      <td>980.000000</td>\n",
       "      <td>985.424988</td>\n",
       "      <td>976.109985</td>\n",
       "      <td>977.000000</td>\n",
       "      <td>977.000000</td>\n",
       "      <td>891400</td>\n",
       "    </tr>\n",
       "    <tr>\n",
       "      <th>3309</th>\n",
       "      <td>2017-10-10</td>\n",
       "      <td>980.000000</td>\n",
       "      <td>981.570007</td>\n",
       "      <td>966.080017</td>\n",
       "      <td>972.599976</td>\n",
       "      <td>972.599976</td>\n",
       "      <td>968400</td>\n",
       "    </tr>\n",
       "    <tr>\n",
       "      <th>3310</th>\n",
       "      <td>2017-10-11</td>\n",
       "      <td>973.719971</td>\n",
       "      <td>990.710022</td>\n",
       "      <td>972.250000</td>\n",
       "      <td>989.250000</td>\n",
       "      <td>989.250000</td>\n",
       "      <td>1693300</td>\n",
       "    </tr>\n",
       "    <tr>\n",
       "      <th>3311</th>\n",
       "      <td>2017-10-12</td>\n",
       "      <td>987.450012</td>\n",
       "      <td>994.119995</td>\n",
       "      <td>985.000000</td>\n",
       "      <td>987.830017</td>\n",
       "      <td>987.830017</td>\n",
       "      <td>1262400</td>\n",
       "    </tr>\n",
       "    <tr>\n",
       "      <th>3312</th>\n",
       "      <td>2017-10-13</td>\n",
       "      <td>992.000000</td>\n",
       "      <td>997.210022</td>\n",
       "      <td>989.000000</td>\n",
       "      <td>989.679993</td>\n",
       "      <td>989.679993</td>\n",
       "      <td>1157700</td>\n",
       "    </tr>\n",
       "  </tbody>\n",
       "</table>\n",
       "</div>"
      ],
      "text/plain": [
       "            Date        Open        High         Low       Close   Adj Close  \\\n",
       "3305  2017-10-04  957.000000  960.390015  950.690002  951.679993  951.679993   \n",
       "3306  2017-10-05  955.489990  970.909973  955.179993  969.960022  969.960022   \n",
       "3307  2017-10-06  966.700012  979.460022  963.359985  978.890015  978.890015   \n",
       "3308  2017-10-09  980.000000  985.424988  976.109985  977.000000  977.000000   \n",
       "3309  2017-10-10  980.000000  981.570007  966.080017  972.599976  972.599976   \n",
       "3310  2017-10-11  973.719971  990.710022  972.250000  989.250000  989.250000   \n",
       "3311  2017-10-12  987.450012  994.119995  985.000000  987.830017  987.830017   \n",
       "3312  2017-10-13  992.000000  997.210022  989.000000  989.679993  989.679993   \n",
       "\n",
       "       Volume  \n",
       "3305   952400  \n",
       "3306  1213800  \n",
       "3307  1173900  \n",
       "3308   891400  \n",
       "3309   968400  \n",
       "3310  1693300  \n",
       "3311  1262400  \n",
       "3312  1157700  "
      ]
     },
     "execution_count": 122,
     "metadata": {},
     "output_type": "execute_result"
    }
   ],
   "source": [
    "google_stock.tail(8)"
   ]
  },
  {
   "cell_type": "markdown",
   "id": "14f47d14",
   "metadata": {},
   "source": [
    "### check for Nan values"
   ]
  },
  {
   "cell_type": "code",
   "execution_count": 123,
   "id": "83e6c6ec",
   "metadata": {},
   "outputs": [
    {
     "data": {
      "text/plain": [
       "Date         0\n",
       "Open         0\n",
       "High         0\n",
       "Low          0\n",
       "Close        0\n",
       "Adj Close    0\n",
       "Volume       0\n",
       "dtype: int64"
      ]
     },
     "execution_count": 123,
     "metadata": {},
     "output_type": "execute_result"
    }
   ],
   "source": [
    "google_stock.isnull().sum(axis = 0)"
   ]
  },
  {
   "cell_type": "code",
   "execution_count": 124,
   "id": "ea7d42e4",
   "metadata": {},
   "outputs": [
    {
     "data": {
      "text/plain": [
       "Date         False\n",
       "Open         False\n",
       "High         False\n",
       "Low          False\n",
       "Close        False\n",
       "Adj Close    False\n",
       "Volume       False\n",
       "dtype: bool"
      ]
     },
     "execution_count": 124,
     "metadata": {},
     "output_type": "execute_result"
    }
   ],
   "source": [
    "# another way to check wither any of the columns contains Nan values\n",
    "google_stock.isnull().any(axis = 0)"
   ]
  },
  {
   "cell_type": "markdown",
   "id": "05a648eb",
   "metadata": {},
   "source": [
    "- axis = 0 (getting the result for every column) is the default value for the axis parameter so we can omit it, "
   ]
  },
  {
   "cell_type": "code",
   "execution_count": 125,
   "id": "95065f49",
   "metadata": {},
   "outputs": [
    {
     "data": {
      "text/plain": [
       "Date         0\n",
       "Open         0\n",
       "High         0\n",
       "Low          0\n",
       "Close        0\n",
       "Adj Close    0\n",
       "Volume       0\n",
       "dtype: int64"
      ]
     },
     "execution_count": 125,
     "metadata": {},
     "output_type": "execute_result"
    }
   ],
   "source": [
    "google_stock.isnull().sum()"
   ]
  },
  {
   "cell_type": "markdown",
   "id": "9bcd83d3",
   "metadata": {},
   "source": [
    "## get statistical information from the data set\n",
    "- .describe() returns statistics on each column of the data set "
   ]
  },
  {
   "cell_type": "code",
   "execution_count": 126,
   "id": "ac9a2f76",
   "metadata": {},
   "outputs": [
    {
     "data": {
      "text/html": [
       "<div>\n",
       "<style scoped>\n",
       "    .dataframe tbody tr th:only-of-type {\n",
       "        vertical-align: middle;\n",
       "    }\n",
       "\n",
       "    .dataframe tbody tr th {\n",
       "        vertical-align: top;\n",
       "    }\n",
       "\n",
       "    .dataframe thead th {\n",
       "        text-align: right;\n",
       "    }\n",
       "</style>\n",
       "<table border=\"1\" class=\"dataframe\">\n",
       "  <thead>\n",
       "    <tr style=\"text-align: right;\">\n",
       "      <th></th>\n",
       "      <th>Open</th>\n",
       "      <th>High</th>\n",
       "      <th>Low</th>\n",
       "      <th>Close</th>\n",
       "      <th>Adj Close</th>\n",
       "      <th>Volume</th>\n",
       "    </tr>\n",
       "  </thead>\n",
       "  <tbody>\n",
       "    <tr>\n",
       "      <th>count</th>\n",
       "      <td>3313.000000</td>\n",
       "      <td>3313.000000</td>\n",
       "      <td>3313.000000</td>\n",
       "      <td>3313.000000</td>\n",
       "      <td>3313.000000</td>\n",
       "      <td>3.313000e+03</td>\n",
       "    </tr>\n",
       "    <tr>\n",
       "      <th>mean</th>\n",
       "      <td>380.186092</td>\n",
       "      <td>383.493740</td>\n",
       "      <td>376.519309</td>\n",
       "      <td>380.072458</td>\n",
       "      <td>380.072458</td>\n",
       "      <td>8.038476e+06</td>\n",
       "    </tr>\n",
       "    <tr>\n",
       "      <th>std</th>\n",
       "      <td>223.818650</td>\n",
       "      <td>224.974534</td>\n",
       "      <td>222.473232</td>\n",
       "      <td>223.853780</td>\n",
       "      <td>223.853780</td>\n",
       "      <td>8.399521e+06</td>\n",
       "    </tr>\n",
       "    <tr>\n",
       "      <th>min</th>\n",
       "      <td>49.274517</td>\n",
       "      <td>50.541279</td>\n",
       "      <td>47.669952</td>\n",
       "      <td>49.681866</td>\n",
       "      <td>49.681866</td>\n",
       "      <td>7.900000e+03</td>\n",
       "    </tr>\n",
       "    <tr>\n",
       "      <th>25%</th>\n",
       "      <td>226.556473</td>\n",
       "      <td>228.394516</td>\n",
       "      <td>224.003082</td>\n",
       "      <td>226.407440</td>\n",
       "      <td>226.407440</td>\n",
       "      <td>2.584900e+06</td>\n",
       "    </tr>\n",
       "    <tr>\n",
       "      <th>50%</th>\n",
       "      <td>293.312286</td>\n",
       "      <td>295.433502</td>\n",
       "      <td>289.929291</td>\n",
       "      <td>293.029114</td>\n",
       "      <td>293.029114</td>\n",
       "      <td>5.281300e+06</td>\n",
       "    </tr>\n",
       "    <tr>\n",
       "      <th>75%</th>\n",
       "      <td>536.650024</td>\n",
       "      <td>540.000000</td>\n",
       "      <td>532.409973</td>\n",
       "      <td>536.690002</td>\n",
       "      <td>536.690002</td>\n",
       "      <td>1.065370e+07</td>\n",
       "    </tr>\n",
       "    <tr>\n",
       "      <th>max</th>\n",
       "      <td>992.000000</td>\n",
       "      <td>997.210022</td>\n",
       "      <td>989.000000</td>\n",
       "      <td>989.679993</td>\n",
       "      <td>989.679993</td>\n",
       "      <td>8.276810e+07</td>\n",
       "    </tr>\n",
       "  </tbody>\n",
       "</table>\n",
       "</div>"
      ],
      "text/plain": [
       "              Open         High          Low        Close    Adj Close  \\\n",
       "count  3313.000000  3313.000000  3313.000000  3313.000000  3313.000000   \n",
       "mean    380.186092   383.493740   376.519309   380.072458   380.072458   \n",
       "std     223.818650   224.974534   222.473232   223.853780   223.853780   \n",
       "min      49.274517    50.541279    47.669952    49.681866    49.681866   \n",
       "25%     226.556473   228.394516   224.003082   226.407440   226.407440   \n",
       "50%     293.312286   295.433502   289.929291   293.029114   293.029114   \n",
       "75%     536.650024   540.000000   532.409973   536.690002   536.690002   \n",
       "max     992.000000   997.210022   989.000000   989.679993   989.679993   \n",
       "\n",
       "             Volume  \n",
       "count  3.313000e+03  \n",
       "mean   8.038476e+06  \n",
       "std    8.399521e+06  \n",
       "min    7.900000e+03  \n",
       "25%    2.584900e+06  \n",
       "50%    5.281300e+06  \n",
       "75%    1.065370e+07  \n",
       "max    8.276810e+07  "
      ]
     },
     "execution_count": 126,
     "metadata": {},
     "output_type": "execute_result"
    }
   ],
   "source": [
    "google_stock.describe()"
   ]
  },
  {
   "cell_type": "markdown",
   "id": "5d8c159c",
   "metadata": {},
   "source": [
    "#### to get the statistics of a certain column "
   ]
  },
  {
   "cell_type": "code",
   "execution_count": 127,
   "id": "625a8446",
   "metadata": {},
   "outputs": [
    {
     "data": {
      "text/plain": [
       "count    3313.000000\n",
       "mean      380.072458\n",
       "std       223.853780\n",
       "min        49.681866\n",
       "25%       226.407440\n",
       "50%       293.029114\n",
       "75%       536.690002\n",
       "max       989.679993\n",
       "Name: Adj Close, dtype: float64"
      ]
     },
     "execution_count": 127,
     "metadata": {},
     "output_type": "execute_result"
    }
   ],
   "source": [
    "google_stock[\"Adj Close\"].describe()"
   ]
  },
  {
   "cell_type": "markdown",
   "id": "df079755",
   "metadata": {},
   "source": [
    "- count: number of non-Nan values\n",
    "- mean: average of the column\n",
    "- std: standard deviation of the column\n",
    "- then the 5 number summary (min, 25%, 50%, 75%, max), remember that we used that to describe the distribution of the numerical data to do many things \n",
    "    - like to detect outliers\n",
    "    - to detect the skewness of the data (left or right or normal)"
   ]
  },
  {
   "cell_type": "markdown",
   "id": "77d136f7",
   "metadata": {},
   "source": [
    "#### look up a certain statistic on the data set or a certain column "
   ]
  },
  {
   "cell_type": "code",
   "execution_count": 128,
   "id": "499cd912",
   "metadata": {},
   "outputs": [
    {
     "name": "stdout",
     "output_type": "stream",
     "text": [
      "Could not convert ['2004-08-192004-08-202004-08-232004-08-242004-08-252004-08-262004-08-272004-08-302004-08-312004-09-012004-09-022004-09-032004-09-072004-09-082004-09-092004-09-102004-09-132004-09-142004-09-152004-09-162004-09-172004-09-202004-09-212004-09-222004-09-232004-09-242004-09-272004-09-282004-09-292004-09-302004-10-012004-10-042004-10-052004-10-062004-10-072004-10-082004-10-112004-10-122004-10-132004-10-142004-10-152004-10-182004-10-192004-10-202004-10-212004-10-222004-10-252004-10-262004-10-272004-10-282004-10-292004-11-012004-11-022004-11-032004-11-042004-11-052004-11-082004-11-092004-11-102004-11-112004-11-122004-11-152004-11-162004-11-172004-11-182004-11-192004-11-222004-11-232004-11-242004-11-262004-11-292004-11-302004-12-012004-12-022004-12-032004-12-062004-12-072004-12-082004-12-092004-12-102004-12-132004-12-142004-12-152004-12-162004-12-172004-12-202004-12-212004-12-222004-12-232004-12-272004-12-282004-12-292004-12-302004-12-312005-01-032005-01-042005-01-052005-01-062005-01-072005-01-102005-01-112005-01-122005-01-132005-01-142005-01-182005-01-192005-01-202005-01-212005-01-242005-01-252005-01-262005-01-272005-01-282005-01-312005-02-012005-02-022005-02-032005-02-042005-02-072005-02-082005-02-092005-02-102005-02-112005-02-142005-02-152005-02-162005-02-172005-02-182005-02-222005-02-232005-02-242005-02-252005-02-282005-03-012005-03-022005-03-032005-03-042005-03-072005-03-082005-03-092005-03-102005-03-112005-03-142005-03-152005-03-162005-03-172005-03-182005-03-212005-03-222005-03-232005-03-242005-03-282005-03-292005-03-302005-03-312005-04-012005-04-042005-04-052005-04-062005-04-072005-04-082005-04-112005-04-122005-04-132005-04-142005-04-152005-04-182005-04-192005-04-202005-04-212005-04-222005-04-252005-04-262005-04-272005-04-282005-04-292005-05-022005-05-032005-05-042005-05-052005-05-062005-05-092005-05-102005-05-112005-05-122005-05-132005-05-162005-05-172005-05-182005-05-192005-05-202005-05-232005-05-242005-05-252005-05-262005-05-272005-05-312005-06-012005-06-022005-06-032005-06-062005-06-072005-06-082005-06-092005-06-102005-06-132005-06-142005-06-152005-06-162005-06-172005-06-202005-06-212005-06-222005-06-232005-06-242005-06-272005-06-282005-06-292005-06-302005-07-012005-07-052005-07-062005-07-072005-07-082005-07-112005-07-122005-07-132005-07-142005-07-152005-07-182005-07-192005-07-202005-07-212005-07-222005-07-252005-07-262005-07-272005-07-282005-07-292005-08-012005-08-022005-08-032005-08-042005-08-052005-08-082005-08-092005-08-102005-08-112005-08-122005-08-152005-08-162005-08-172005-08-182005-08-192005-08-222005-08-232005-08-242005-08-252005-08-262005-08-292005-08-302005-08-312005-09-012005-09-022005-09-062005-09-072005-09-082005-09-092005-09-122005-09-132005-09-142005-09-152005-09-162005-09-192005-09-202005-09-212005-09-222005-09-232005-09-262005-09-272005-09-282005-09-292005-09-302005-10-032005-10-042005-10-052005-10-062005-10-072005-10-102005-10-112005-10-122005-10-132005-10-142005-10-172005-10-182005-10-192005-10-202005-10-212005-10-242005-10-252005-10-262005-10-272005-10-282005-10-312005-11-012005-11-022005-11-032005-11-042005-11-072005-11-082005-11-092005-11-102005-11-112005-11-142005-11-152005-11-162005-11-172005-11-182005-11-212005-11-222005-11-232005-11-252005-11-282005-11-292005-11-302005-12-012005-12-022005-12-052005-12-062005-12-072005-12-082005-12-092005-12-122005-12-132005-12-142005-12-152005-12-162005-12-192005-12-202005-12-212005-12-222005-12-232005-12-272005-12-282005-12-292005-12-302006-01-032006-01-042006-01-052006-01-062006-01-092006-01-102006-01-112006-01-122006-01-132006-01-172006-01-182006-01-192006-01-202006-01-232006-01-242006-01-252006-01-262006-01-272006-01-302006-01-312006-02-012006-02-022006-02-032006-02-062006-02-072006-02-082006-02-092006-02-102006-02-132006-02-142006-02-152006-02-162006-02-172006-02-212006-02-222006-02-232006-02-242006-02-272006-02-282006-03-012006-03-022006-03-032006-03-062006-03-072006-03-082006-03-092006-03-102006-03-132006-03-142006-03-152006-03-162006-03-172006-03-202006-03-212006-03-222006-03-232006-03-242006-03-272006-03-282006-03-292006-03-302006-03-312006-04-032006-04-042006-04-052006-04-062006-04-072006-04-102006-04-112006-04-122006-04-132006-04-172006-04-182006-04-192006-04-202006-04-212006-04-242006-04-252006-04-262006-04-272006-04-282006-05-012006-05-022006-05-032006-05-042006-05-052006-05-082006-05-092006-05-102006-05-112006-05-122006-05-152006-05-162006-05-172006-05-182006-05-192006-05-222006-05-232006-05-242006-05-252006-05-262006-05-302006-05-312006-06-012006-06-022006-06-052006-06-062006-06-072006-06-082006-06-092006-06-122006-06-132006-06-142006-06-152006-06-162006-06-192006-06-202006-06-212006-06-222006-06-232006-06-262006-06-272006-06-282006-06-292006-06-302006-07-032006-07-052006-07-062006-07-072006-07-102006-07-112006-07-122006-07-132006-07-142006-07-172006-07-182006-07-192006-07-202006-07-212006-07-242006-07-252006-07-262006-07-272006-07-282006-07-312006-08-012006-08-022006-08-032006-08-042006-08-072006-08-082006-08-092006-08-102006-08-112006-08-142006-08-152006-08-162006-08-172006-08-182006-08-212006-08-222006-08-232006-08-242006-08-252006-08-282006-08-292006-08-302006-08-312006-09-012006-09-052006-09-062006-09-072006-09-082006-09-112006-09-122006-09-132006-09-142006-09-152006-09-182006-09-192006-09-202006-09-212006-09-222006-09-252006-09-262006-09-272006-09-282006-09-292006-10-022006-10-032006-10-042006-10-052006-10-062006-10-092006-10-102006-10-112006-10-122006-10-132006-10-162006-10-172006-10-182006-10-192006-10-202006-10-232006-10-242006-10-252006-10-262006-10-272006-10-302006-10-312006-11-012006-11-022006-11-032006-11-062006-11-072006-11-082006-11-092006-11-102006-11-132006-11-142006-11-152006-11-162006-11-172006-11-202006-11-212006-11-222006-11-242006-11-272006-11-282006-11-292006-11-302006-12-012006-12-042006-12-052006-12-062006-12-072006-12-082006-12-112006-12-122006-12-132006-12-142006-12-152006-12-182006-12-192006-12-202006-12-212006-12-222006-12-262006-12-272006-12-282006-12-292007-01-032007-01-042007-01-052007-01-082007-01-092007-01-102007-01-112007-01-122007-01-162007-01-172007-01-182007-01-192007-01-222007-01-232007-01-242007-01-252007-01-262007-01-292007-01-302007-01-312007-02-012007-02-022007-02-052007-02-062007-02-072007-02-082007-02-092007-02-122007-02-132007-02-142007-02-152007-02-162007-02-202007-02-212007-02-222007-02-232007-02-262007-02-272007-02-282007-03-012007-03-022007-03-052007-03-062007-03-072007-03-082007-03-092007-03-122007-03-132007-03-142007-03-152007-03-162007-03-192007-03-202007-03-212007-03-222007-03-232007-03-262007-03-272007-03-282007-03-292007-03-302007-04-022007-04-032007-04-042007-04-052007-04-092007-04-102007-04-112007-04-122007-04-132007-04-162007-04-172007-04-182007-04-192007-04-202007-04-232007-04-242007-04-252007-04-262007-04-272007-04-302007-05-012007-05-022007-05-032007-05-042007-05-072007-05-082007-05-092007-05-102007-05-112007-05-142007-05-152007-05-162007-05-172007-05-182007-05-212007-05-222007-05-232007-05-242007-05-252007-05-292007-05-302007-05-312007-06-012007-06-042007-06-052007-06-062007-06-072007-06-082007-06-112007-06-122007-06-132007-06-142007-06-152007-06-182007-06-192007-06-202007-06-212007-06-222007-06-252007-06-262007-06-272007-06-282007-06-292007-07-022007-07-032007-07-052007-07-062007-07-092007-07-102007-07-112007-07-122007-07-132007-07-162007-07-172007-07-182007-07-192007-07-202007-07-232007-07-242007-07-252007-07-262007-07-272007-07-302007-07-312007-08-012007-08-022007-08-032007-08-062007-08-072007-08-082007-08-092007-08-102007-08-132007-08-142007-08-152007-08-162007-08-172007-08-202007-08-212007-08-222007-08-232007-08-242007-08-272007-08-282007-08-292007-08-302007-08-312007-09-042007-09-052007-09-062007-09-072007-09-102007-09-112007-09-122007-09-132007-09-142007-09-172007-09-182007-09-192007-09-202007-09-212007-09-242007-09-252007-09-262007-09-272007-09-282007-10-012007-10-022007-10-032007-10-042007-10-052007-10-082007-10-092007-10-102007-10-112007-10-122007-10-152007-10-162007-10-172007-10-182007-10-192007-10-222007-10-232007-10-242007-10-252007-10-262007-10-292007-10-302007-10-312007-11-012007-11-022007-11-052007-11-062007-11-072007-11-082007-11-092007-11-122007-11-132007-11-142007-11-152007-11-162007-11-192007-11-202007-11-212007-11-232007-11-262007-11-272007-11-282007-11-292007-11-302007-12-032007-12-042007-12-052007-12-062007-12-072007-12-102007-12-112007-12-122007-12-132007-12-142007-12-172007-12-182007-12-192007-12-202007-12-212007-12-242007-12-262007-12-272007-12-282007-12-312008-01-022008-01-032008-01-042008-01-072008-01-082008-01-092008-01-102008-01-112008-01-142008-01-152008-01-162008-01-172008-01-182008-01-222008-01-232008-01-242008-01-252008-01-282008-01-292008-01-302008-01-312008-02-012008-02-042008-02-052008-02-062008-02-072008-02-082008-02-112008-02-122008-02-132008-02-142008-02-152008-02-192008-02-202008-02-212008-02-222008-02-252008-02-262008-02-272008-02-282008-02-292008-03-032008-03-042008-03-052008-03-062008-03-072008-03-102008-03-112008-03-122008-03-132008-03-142008-03-172008-03-182008-03-192008-03-202008-03-242008-03-252008-03-262008-03-272008-03-282008-03-312008-04-012008-04-022008-04-032008-04-042008-04-072008-04-082008-04-092008-04-102008-04-112008-04-142008-04-152008-04-162008-04-172008-04-182008-04-212008-04-222008-04-232008-04-242008-04-252008-04-282008-04-292008-04-302008-05-012008-05-022008-05-052008-05-062008-05-072008-05-082008-05-092008-05-122008-05-132008-05-142008-05-152008-05-162008-05-192008-05-202008-05-212008-05-222008-05-232008-05-272008-05-282008-05-292008-05-302008-06-022008-06-032008-06-042008-06-052008-06-062008-06-092008-06-102008-06-112008-06-122008-06-132008-06-162008-06-172008-06-182008-06-192008-06-202008-06-232008-06-242008-06-252008-06-262008-06-272008-06-302008-07-012008-07-022008-07-032008-07-072008-07-082008-07-092008-07-102008-07-112008-07-142008-07-152008-07-162008-07-172008-07-182008-07-212008-07-222008-07-232008-07-242008-07-252008-07-282008-07-292008-07-302008-07-312008-08-012008-08-042008-08-052008-08-062008-08-072008-08-082008-08-112008-08-122008-08-132008-08-142008-08-152008-08-182008-08-192008-08-202008-08-212008-08-222008-08-252008-08-262008-08-272008-08-282008-08-292008-09-022008-09-032008-09-042008-09-052008-09-082008-09-092008-09-102008-09-112008-09-122008-09-152008-09-162008-09-172008-09-182008-09-192008-09-222008-09-232008-09-242008-09-252008-09-262008-09-292008-09-302008-10-012008-10-022008-10-032008-10-062008-10-072008-10-082008-10-092008-10-102008-10-132008-10-142008-10-152008-10-162008-10-172008-10-202008-10-212008-10-222008-10-232008-10-242008-10-272008-10-282008-10-292008-10-302008-10-312008-11-032008-11-042008-11-052008-11-062008-11-072008-11-102008-11-112008-11-122008-11-132008-11-142008-11-172008-11-182008-11-192008-11-202008-11-212008-11-242008-11-252008-11-262008-11-282008-12-012008-12-022008-12-032008-12-042008-12-052008-12-082008-12-092008-12-102008-12-112008-12-122008-12-152008-12-162008-12-172008-12-182008-12-192008-12-222008-12-232008-12-242008-12-262008-12-292008-12-302008-12-312009-01-022009-01-052009-01-062009-01-072009-01-082009-01-092009-01-122009-01-132009-01-142009-01-152009-01-162009-01-202009-01-212009-01-222009-01-232009-01-262009-01-272009-01-282009-01-292009-01-302009-02-022009-02-032009-02-042009-02-052009-02-062009-02-092009-02-102009-02-112009-02-122009-02-132009-02-172009-02-182009-02-192009-02-202009-02-232009-02-242009-02-252009-02-262009-02-272009-03-022009-03-032009-03-042009-03-052009-03-062009-03-092009-03-102009-03-112009-03-122009-03-132009-03-162009-03-172009-03-182009-03-192009-03-202009-03-232009-03-242009-03-252009-03-262009-03-272009-03-302009-03-312009-04-012009-04-022009-04-032009-04-062009-04-072009-04-082009-04-092009-04-132009-04-142009-04-152009-04-162009-04-172009-04-202009-04-212009-04-222009-04-232009-04-242009-04-272009-04-282009-04-292009-04-302009-05-012009-05-042009-05-052009-05-062009-05-072009-05-082009-05-112009-05-122009-05-132009-05-142009-05-152009-05-182009-05-192009-05-202009-05-212009-05-222009-05-262009-05-272009-05-282009-05-292009-06-012009-06-022009-06-032009-06-042009-06-052009-06-082009-06-092009-06-102009-06-112009-06-122009-06-152009-06-162009-06-172009-06-182009-06-192009-06-222009-06-232009-06-242009-06-252009-06-262009-06-292009-06-302009-07-012009-07-022009-07-062009-07-072009-07-082009-07-092009-07-102009-07-132009-07-142009-07-152009-07-162009-07-172009-07-202009-07-212009-07-222009-07-232009-07-242009-07-272009-07-282009-07-292009-07-302009-07-312009-08-032009-08-042009-08-052009-08-062009-08-072009-08-102009-08-112009-08-122009-08-132009-08-142009-08-172009-08-182009-08-192009-08-202009-08-212009-08-242009-08-252009-08-262009-08-272009-08-282009-08-312009-09-012009-09-022009-09-032009-09-042009-09-082009-09-092009-09-102009-09-112009-09-142009-09-152009-09-162009-09-172009-09-182009-09-212009-09-222009-09-232009-09-242009-09-252009-09-282009-09-292009-09-302009-10-012009-10-022009-10-052009-10-062009-10-072009-10-082009-10-092009-10-122009-10-132009-10-142009-10-152009-10-162009-10-192009-10-202009-10-212009-10-222009-10-232009-10-262009-10-272009-10-282009-10-292009-10-302009-11-022009-11-032009-11-042009-11-052009-11-062009-11-092009-11-102009-11-112009-11-122009-11-132009-11-162009-11-172009-11-182009-11-192009-11-202009-11-232009-11-242009-11-252009-11-272009-11-302009-12-012009-12-022009-12-032009-12-042009-12-072009-12-082009-12-092009-12-102009-12-112009-12-142009-12-152009-12-162009-12-172009-12-182009-12-212009-12-222009-12-232009-12-242009-12-282009-12-292009-12-302009-12-312010-01-042010-01-052010-01-062010-01-072010-01-082010-01-112010-01-122010-01-132010-01-142010-01-152010-01-192010-01-202010-01-212010-01-222010-01-252010-01-262010-01-272010-01-282010-01-292010-02-012010-02-022010-02-032010-02-042010-02-052010-02-082010-02-092010-02-102010-02-112010-02-122010-02-162010-02-172010-02-182010-02-192010-02-222010-02-232010-02-242010-02-252010-02-262010-03-012010-03-022010-03-032010-03-042010-03-052010-03-082010-03-092010-03-102010-03-112010-03-122010-03-152010-03-162010-03-172010-03-182010-03-192010-03-222010-03-232010-03-242010-03-252010-03-262010-03-292010-03-302010-03-312010-04-012010-04-052010-04-062010-04-072010-04-082010-04-092010-04-122010-04-132010-04-142010-04-152010-04-162010-04-192010-04-202010-04-212010-04-222010-04-232010-04-262010-04-272010-04-282010-04-292010-04-302010-05-032010-05-042010-05-052010-05-062010-05-072010-05-102010-05-112010-05-122010-05-132010-05-142010-05-172010-05-182010-05-192010-05-202010-05-212010-05-242010-05-252010-05-262010-05-272010-05-282010-06-012010-06-022010-06-032010-06-042010-06-072010-06-082010-06-092010-06-102010-06-112010-06-142010-06-152010-06-162010-06-172010-06-182010-06-212010-06-222010-06-232010-06-242010-06-252010-06-282010-06-292010-06-302010-07-012010-07-022010-07-062010-07-072010-07-082010-07-092010-07-122010-07-132010-07-142010-07-152010-07-162010-07-192010-07-202010-07-212010-07-222010-07-232010-07-262010-07-272010-07-282010-07-292010-07-302010-08-022010-08-032010-08-042010-08-052010-08-062010-08-092010-08-102010-08-112010-08-122010-08-132010-08-162010-08-172010-08-182010-08-192010-08-202010-08-232010-08-242010-08-252010-08-262010-08-272010-08-302010-08-312010-09-012010-09-022010-09-032010-09-072010-09-082010-09-092010-09-102010-09-132010-09-142010-09-152010-09-162010-09-172010-09-202010-09-212010-09-222010-09-232010-09-242010-09-272010-09-282010-09-292010-09-302010-10-012010-10-042010-10-052010-10-062010-10-072010-10-082010-10-112010-10-122010-10-132010-10-142010-10-152010-10-182010-10-192010-10-202010-10-212010-10-222010-10-252010-10-262010-10-272010-10-282010-10-292010-11-012010-11-022010-11-032010-11-042010-11-052010-11-082010-11-092010-11-102010-11-112010-11-122010-11-152010-11-162010-11-172010-11-182010-11-192010-11-222010-11-232010-11-242010-11-262010-11-292010-11-302010-12-012010-12-022010-12-032010-12-062010-12-072010-12-082010-12-092010-12-102010-12-132010-12-142010-12-152010-12-162010-12-172010-12-202010-12-212010-12-222010-12-232010-12-272010-12-282010-12-292010-12-302010-12-312011-01-032011-01-042011-01-052011-01-062011-01-072011-01-102011-01-112011-01-122011-01-132011-01-142011-01-182011-01-192011-01-202011-01-212011-01-242011-01-252011-01-262011-01-272011-01-282011-01-312011-02-012011-02-022011-02-032011-02-042011-02-072011-02-082011-02-092011-02-102011-02-112011-02-142011-02-152011-02-162011-02-172011-02-182011-02-222011-02-232011-02-242011-02-252011-02-282011-03-012011-03-022011-03-032011-03-042011-03-072011-03-082011-03-092011-03-102011-03-112011-03-142011-03-152011-03-162011-03-172011-03-182011-03-212011-03-222011-03-232011-03-242011-03-252011-03-282011-03-292011-03-302011-03-312011-04-012011-04-042011-04-052011-04-062011-04-072011-04-082011-04-112011-04-122011-04-132011-04-142011-04-152011-04-182011-04-192011-04-202011-04-212011-04-252011-04-262011-04-272011-04-282011-04-292011-05-022011-05-032011-05-042011-05-052011-05-062011-05-092011-05-102011-05-112011-05-122011-05-132011-05-162011-05-172011-05-182011-05-192011-05-202011-05-232011-05-242011-05-252011-05-262011-05-272011-05-312011-06-012011-06-022011-06-032011-06-062011-06-072011-06-082011-06-092011-06-102011-06-132011-06-142011-06-152011-06-162011-06-172011-06-202011-06-212011-06-222011-06-232011-06-242011-06-272011-06-282011-06-292011-06-302011-07-012011-07-052011-07-062011-07-072011-07-082011-07-112011-07-122011-07-132011-07-142011-07-152011-07-182011-07-192011-07-202011-07-212011-07-222011-07-252011-07-262011-07-272011-07-282011-07-292011-08-012011-08-022011-08-032011-08-042011-08-052011-08-082011-08-092011-08-102011-08-112011-08-122011-08-152011-08-162011-08-172011-08-182011-08-192011-08-222011-08-232011-08-242011-08-252011-08-262011-08-292011-08-302011-08-312011-09-012011-09-022011-09-062011-09-072011-09-082011-09-092011-09-122011-09-132011-09-142011-09-152011-09-162011-09-192011-09-202011-09-212011-09-222011-09-232011-09-262011-09-272011-09-282011-09-292011-09-302011-10-032011-10-042011-10-052011-10-062011-10-072011-10-102011-10-112011-10-122011-10-132011-10-142011-10-172011-10-182011-10-192011-10-202011-10-212011-10-242011-10-252011-10-262011-10-272011-10-282011-10-312011-11-012011-11-022011-11-032011-11-042011-11-072011-11-082011-11-092011-11-102011-11-112011-11-142011-11-152011-11-162011-11-172011-11-182011-11-212011-11-222011-11-232011-11-252011-11-282011-11-292011-11-302011-12-012011-12-022011-12-052011-12-062011-12-072011-12-082011-12-092011-12-122011-12-132011-12-142011-12-152011-12-162011-12-192011-12-202011-12-212011-12-222011-12-232011-12-272011-12-282011-12-292011-12-302012-01-032012-01-042012-01-052012-01-062012-01-092012-01-102012-01-112012-01-122012-01-132012-01-172012-01-182012-01-192012-01-202012-01-232012-01-242012-01-252012-01-262012-01-272012-01-302012-01-312012-02-012012-02-022012-02-032012-02-062012-02-072012-02-082012-02-092012-02-102012-02-132012-02-142012-02-152012-02-162012-02-172012-02-212012-02-222012-02-232012-02-242012-02-272012-02-282012-02-292012-03-012012-03-022012-03-052012-03-062012-03-072012-03-082012-03-092012-03-122012-03-132012-03-142012-03-152012-03-162012-03-192012-03-202012-03-212012-03-222012-03-232012-03-262012-03-272012-03-282012-03-292012-03-302012-04-022012-04-032012-04-042012-04-052012-04-092012-04-102012-04-112012-04-122012-04-132012-04-162012-04-172012-04-182012-04-192012-04-202012-04-232012-04-242012-04-252012-04-262012-04-272012-04-302012-05-012012-05-022012-05-032012-05-042012-05-072012-05-082012-05-092012-05-102012-05-112012-05-142012-05-152012-05-162012-05-172012-05-182012-05-212012-05-222012-05-232012-05-242012-05-252012-05-292012-05-302012-05-312012-06-012012-06-042012-06-052012-06-062012-06-072012-06-082012-06-112012-06-122012-06-132012-06-142012-06-152012-06-182012-06-192012-06-202012-06-212012-06-222012-06-252012-06-262012-06-272012-06-282012-06-292012-07-022012-07-032012-07-052012-07-062012-07-092012-07-102012-07-112012-07-122012-07-132012-07-162012-07-172012-07-182012-07-192012-07-202012-07-232012-07-242012-07-252012-07-262012-07-272012-07-302012-07-312012-08-012012-08-022012-08-032012-08-062012-08-072012-08-082012-08-092012-08-102012-08-132012-08-142012-08-152012-08-162012-08-172012-08-202012-08-212012-08-222012-08-232012-08-242012-08-272012-08-282012-08-292012-08-302012-08-312012-09-042012-09-052012-09-062012-09-072012-09-102012-09-112012-09-122012-09-132012-09-142012-09-172012-09-182012-09-192012-09-202012-09-212012-09-242012-09-252012-09-262012-09-272012-09-282012-10-012012-10-022012-10-032012-10-042012-10-052012-10-082012-10-092012-10-102012-10-112012-10-122012-10-152012-10-162012-10-172012-10-182012-10-192012-10-222012-10-232012-10-242012-10-252012-10-262012-10-312012-11-012012-11-022012-11-052012-11-062012-11-072012-11-082012-11-092012-11-122012-11-132012-11-142012-11-152012-11-162012-11-192012-11-202012-11-212012-11-232012-11-262012-11-272012-11-282012-11-292012-11-302012-12-032012-12-042012-12-052012-12-062012-12-072012-12-102012-12-112012-12-122012-12-132012-12-142012-12-172012-12-182012-12-192012-12-202012-12-212012-12-242012-12-262012-12-272012-12-282012-12-312013-01-022013-01-032013-01-042013-01-072013-01-082013-01-092013-01-102013-01-112013-01-142013-01-152013-01-162013-01-172013-01-182013-01-222013-01-232013-01-242013-01-252013-01-282013-01-292013-01-302013-01-312013-02-012013-02-042013-02-052013-02-062013-02-072013-02-082013-02-112013-02-122013-02-132013-02-142013-02-152013-02-192013-02-202013-02-212013-02-222013-02-252013-02-262013-02-272013-02-282013-03-012013-03-042013-03-052013-03-062013-03-072013-03-082013-03-112013-03-122013-03-132013-03-142013-03-152013-03-182013-03-192013-03-202013-03-212013-03-222013-03-252013-03-262013-03-272013-03-282013-04-012013-04-022013-04-032013-04-042013-04-052013-04-082013-04-092013-04-102013-04-112013-04-122013-04-152013-04-162013-04-172013-04-182013-04-192013-04-222013-04-232013-04-242013-04-252013-04-262013-04-292013-04-302013-05-012013-05-022013-05-032013-05-062013-05-072013-05-082013-05-092013-05-102013-05-132013-05-142013-05-152013-05-162013-05-172013-05-202013-05-212013-05-222013-05-232013-05-242013-05-282013-05-292013-05-302013-05-312013-06-032013-06-042013-06-052013-06-062013-06-072013-06-102013-06-112013-06-122013-06-132013-06-142013-06-172013-06-182013-06-192013-06-202013-06-212013-06-242013-06-252013-06-262013-06-272013-06-282013-07-012013-07-022013-07-032013-07-052013-07-082013-07-092013-07-102013-07-112013-07-122013-07-152013-07-162013-07-172013-07-182013-07-192013-07-222013-07-232013-07-242013-07-252013-07-262013-07-292013-07-302013-07-312013-08-012013-08-022013-08-052013-08-062013-08-072013-08-082013-08-092013-08-122013-08-132013-08-142013-08-152013-08-162013-08-192013-08-202013-08-212013-08-222013-08-232013-08-262013-08-272013-08-282013-08-292013-08-302013-09-032013-09-042013-09-052013-09-062013-09-092013-09-102013-09-112013-09-122013-09-132013-09-162013-09-172013-09-182013-09-192013-09-202013-09-232013-09-242013-09-252013-09-262013-09-272013-09-302013-10-012013-10-022013-10-032013-10-042013-10-072013-10-082013-10-092013-10-102013-10-112013-10-142013-10-152013-10-162013-10-172013-10-182013-10-212013-10-222013-10-232013-10-242013-10-252013-10-282013-10-292013-10-302013-10-312013-11-012013-11-042013-11-052013-11-062013-11-072013-11-082013-11-112013-11-122013-11-132013-11-142013-11-152013-11-182013-11-192013-11-202013-11-212013-11-222013-11-252013-11-262013-11-272013-11-292013-12-022013-12-032013-12-042013-12-052013-12-062013-12-092013-12-102013-12-112013-12-122013-12-132013-12-162013-12-172013-12-182013-12-192013-12-202013-12-232013-12-242013-12-262013-12-272013-12-302013-12-312014-01-022014-01-032014-01-062014-01-072014-01-082014-01-092014-01-102014-01-132014-01-142014-01-152014-01-162014-01-172014-01-212014-01-222014-01-232014-01-242014-01-272014-01-282014-01-292014-01-302014-01-312014-02-032014-02-042014-02-052014-02-062014-02-072014-02-102014-02-112014-02-122014-02-132014-02-142014-02-182014-02-192014-02-202014-02-212014-02-242014-02-252014-02-262014-02-272014-02-282014-03-032014-03-042014-03-052014-03-062014-03-072014-03-102014-03-112014-03-122014-03-132014-03-142014-03-172014-03-182014-03-192014-03-202014-03-212014-03-242014-03-252014-03-262014-03-272014-03-282014-03-312014-04-012014-04-022014-04-032014-04-042014-04-072014-04-082014-04-092014-04-102014-04-112014-04-142014-04-152014-04-162014-04-172014-04-212014-04-222014-04-232014-04-242014-04-252014-04-282014-04-292014-04-302014-05-012014-05-022014-05-052014-05-062014-05-072014-05-082014-05-092014-05-122014-05-132014-05-142014-05-152014-05-162014-05-192014-05-202014-05-212014-05-222014-05-232014-05-272014-05-282014-05-292014-05-302014-06-022014-06-032014-06-042014-06-052014-06-062014-06-092014-06-102014-06-112014-06-122014-06-132014-06-162014-06-172014-06-182014-06-192014-06-202014-06-232014-06-242014-06-252014-06-262014-06-272014-06-302014-07-012014-07-022014-07-032014-07-072014-07-082014-07-092014-07-102014-07-112014-07-142014-07-152014-07-162014-07-172014-07-182014-07-212014-07-222014-07-232014-07-242014-07-252014-07-282014-07-292014-07-302014-07-312014-08-012014-08-042014-08-052014-08-062014-08-072014-08-082014-08-112014-08-122014-08-132014-08-142014-08-152014-08-182014-08-192014-08-202014-08-212014-08-222014-08-252014-08-262014-08-272014-08-282014-08-292014-09-022014-09-032014-09-042014-09-052014-09-082014-09-092014-09-102014-09-112014-09-122014-09-152014-09-162014-09-172014-09-182014-09-192014-09-222014-09-232014-09-242014-09-252014-09-262014-09-292014-09-302014-10-012014-10-022014-10-032014-10-062014-10-072014-10-082014-10-092014-10-102014-10-132014-10-142014-10-152014-10-162014-10-172014-10-202014-10-212014-10-222014-10-232014-10-242014-10-272014-10-282014-10-292014-10-302014-10-312014-11-032014-11-042014-11-052014-11-062014-11-072014-11-102014-11-112014-11-122014-11-132014-11-142014-11-172014-11-182014-11-192014-11-202014-11-212014-11-242014-11-252014-11-262014-11-282014-12-012014-12-022014-12-032014-12-042014-12-052014-12-082014-12-092014-12-102014-12-112014-12-122014-12-152014-12-162014-12-172014-12-182014-12-192014-12-222014-12-232014-12-242014-12-262014-12-292014-12-302014-12-312015-01-022015-01-052015-01-062015-01-072015-01-082015-01-092015-01-122015-01-132015-01-142015-01-152015-01-162015-01-202015-01-212015-01-222015-01-232015-01-262015-01-272015-01-282015-01-292015-01-302015-02-022015-02-032015-02-042015-02-052015-02-062015-02-092015-02-102015-02-112015-02-122015-02-132015-02-172015-02-182015-02-192015-02-202015-02-232015-02-242015-02-252015-02-262015-02-272015-03-022015-03-032015-03-042015-03-052015-03-062015-03-092015-03-102015-03-112015-03-122015-03-132015-03-162015-03-172015-03-182015-03-192015-03-202015-03-232015-03-242015-03-252015-03-262015-03-272015-03-302015-03-312015-04-012015-04-022015-04-062015-04-072015-04-082015-04-092015-04-102015-04-132015-04-142015-04-152015-04-162015-04-172015-04-202015-04-212015-04-222015-04-232015-04-242015-04-272015-04-282015-04-292015-04-302015-05-012015-05-042015-05-052015-05-062015-05-072015-05-082015-05-112015-05-122015-05-132015-05-142015-05-152015-05-182015-05-192015-05-202015-05-212015-05-222015-05-262015-05-272015-05-282015-05-292015-06-012015-06-022015-06-032015-06-042015-06-052015-06-082015-06-092015-06-102015-06-112015-06-122015-06-152015-06-162015-06-172015-06-182015-06-192015-06-222015-06-232015-06-242015-06-252015-06-262015-06-292015-06-302015-07-012015-07-022015-07-062015-07-072015-07-082015-07-092015-07-102015-07-132015-07-142015-07-152015-07-162015-07-172015-07-202015-07-212015-07-222015-07-232015-07-242015-07-272015-07-282015-07-292015-07-302015-07-312015-08-032015-08-042015-08-052015-08-062015-08-072015-08-102015-08-112015-08-122015-08-132015-08-142015-08-172015-08-182015-08-192015-08-202015-08-212015-08-242015-08-252015-08-262015-08-272015-08-282015-08-312015-09-012015-09-022015-09-032015-09-042015-09-082015-09-092015-09-102015-09-112015-09-142015-09-152015-09-162015-09-172015-09-182015-09-212015-09-222015-09-232015-09-242015-09-252015-09-282015-09-292015-09-302015-10-012015-10-022015-10-052015-10-062015-10-072015-10-082015-10-092015-10-122015-10-132015-10-142015-10-152015-10-162015-10-192015-10-202015-10-212015-10-222015-10-232015-10-262015-10-272015-10-282015-10-292015-10-302015-11-022015-11-032015-11-042015-11-052015-11-062015-11-092015-11-102015-11-112015-11-122015-11-132015-11-162015-11-172015-11-182015-11-192015-11-202015-11-232015-11-242015-11-252015-11-272015-11-302015-12-012015-12-022015-12-032015-12-042015-12-072015-12-082015-12-092015-12-102015-12-112015-12-142015-12-152015-12-162015-12-172015-12-182015-12-212015-12-222015-12-232015-12-242015-12-282015-12-292015-12-302015-12-312016-01-042016-01-052016-01-062016-01-072016-01-082016-01-112016-01-122016-01-132016-01-142016-01-152016-01-192016-01-202016-01-212016-01-222016-01-252016-01-262016-01-272016-01-282016-01-292016-02-012016-02-022016-02-032016-02-042016-02-052016-02-082016-02-092016-02-102016-02-112016-02-122016-02-162016-02-172016-02-182016-02-192016-02-222016-02-232016-02-242016-02-252016-02-262016-02-292016-03-012016-03-022016-03-032016-03-042016-03-072016-03-082016-03-092016-03-102016-03-112016-03-142016-03-152016-03-162016-03-172016-03-182016-03-212016-03-222016-03-232016-03-242016-03-282016-03-292016-03-302016-03-312016-04-012016-04-042016-04-052016-04-062016-04-072016-04-082016-04-112016-04-122016-04-132016-04-142016-04-152016-04-182016-04-192016-04-202016-04-212016-04-222016-04-252016-04-262016-04-272016-04-282016-04-292016-05-022016-05-032016-05-042016-05-052016-05-062016-05-092016-05-102016-05-112016-05-122016-05-132016-05-162016-05-172016-05-182016-05-192016-05-202016-05-232016-05-242016-05-252016-05-262016-05-272016-05-312016-06-012016-06-022016-06-032016-06-062016-06-072016-06-082016-06-092016-06-102016-06-132016-06-142016-06-152016-06-162016-06-172016-06-202016-06-212016-06-222016-06-232016-06-242016-06-272016-06-282016-06-292016-06-302016-07-012016-07-052016-07-062016-07-072016-07-082016-07-112016-07-122016-07-132016-07-142016-07-152016-07-182016-07-192016-07-202016-07-212016-07-222016-07-252016-07-262016-07-272016-07-282016-07-292016-08-012016-08-022016-08-032016-08-042016-08-052016-08-082016-08-092016-08-102016-08-112016-08-122016-08-152016-08-162016-08-172016-08-182016-08-192016-08-222016-08-232016-08-242016-08-252016-08-262016-08-292016-08-302016-08-312016-09-012016-09-022016-09-062016-09-072016-09-082016-09-092016-09-122016-09-132016-09-142016-09-152016-09-162016-09-192016-09-202016-09-212016-09-222016-09-232016-09-262016-09-272016-09-282016-09-292016-09-302016-10-032016-10-042016-10-052016-10-062016-10-072016-10-102016-10-112016-10-122016-10-132016-10-142016-10-172016-10-182016-10-192016-10-202016-10-212016-10-242016-10-252016-10-262016-10-272016-10-282016-10-312016-11-012016-11-022016-11-032016-11-042016-11-072016-11-082016-11-092016-11-102016-11-112016-11-142016-11-152016-11-162016-11-172016-11-182016-11-212016-11-222016-11-232016-11-252016-11-282016-11-292016-11-302016-12-012016-12-022016-12-052016-12-062016-12-072016-12-082016-12-092016-12-122016-12-132016-12-142016-12-152016-12-162016-12-192016-12-202016-12-212016-12-222016-12-232016-12-272016-12-282016-12-292016-12-302017-01-032017-01-042017-01-052017-01-062017-01-092017-01-102017-01-112017-01-122017-01-132017-01-172017-01-182017-01-192017-01-202017-01-232017-01-242017-01-252017-01-262017-01-272017-01-302017-01-312017-02-012017-02-022017-02-032017-02-062017-02-072017-02-082017-02-092017-02-102017-02-132017-02-142017-02-152017-02-162017-02-172017-02-212017-02-222017-02-232017-02-242017-02-272017-02-282017-03-012017-03-022017-03-032017-03-062017-03-072017-03-082017-03-092017-03-102017-03-132017-03-142017-03-152017-03-162017-03-172017-03-202017-03-212017-03-222017-03-232017-03-242017-03-272017-03-282017-03-292017-03-302017-03-312017-04-032017-04-042017-04-052017-04-062017-04-072017-04-102017-04-112017-04-122017-04-132017-04-172017-04-182017-04-192017-04-202017-04-212017-04-242017-04-252017-04-262017-04-272017-04-282017-05-012017-05-022017-05-032017-05-042017-05-052017-05-082017-05-092017-05-102017-05-112017-05-122017-05-152017-05-162017-05-172017-05-182017-05-192017-05-222017-05-232017-05-242017-05-252017-05-262017-05-302017-05-312017-06-012017-06-022017-06-052017-06-062017-06-072017-06-082017-06-092017-06-122017-06-132017-06-142017-06-152017-06-162017-06-192017-06-202017-06-212017-06-222017-06-232017-06-262017-06-272017-06-282017-06-292017-06-302017-07-032017-07-052017-07-062017-07-072017-07-102017-07-112017-07-122017-07-132017-07-142017-07-172017-07-182017-07-192017-07-202017-07-212017-07-242017-07-252017-07-262017-07-272017-07-282017-07-312017-08-012017-08-022017-08-032017-08-042017-08-072017-08-082017-08-092017-08-102017-08-112017-08-142017-08-152017-08-162017-08-172017-08-182017-08-212017-08-222017-08-232017-08-242017-08-252017-08-282017-08-292017-08-302017-08-312017-09-012017-09-052017-09-062017-09-072017-09-082017-09-112017-09-122017-09-132017-09-142017-09-152017-09-182017-09-192017-09-202017-09-212017-09-222017-09-252017-09-262017-09-272017-09-282017-09-292017-10-022017-10-032017-10-042017-10-052017-10-062017-10-092017-10-102017-10-112017-10-122017-10-13'] to numeric\n"
     ]
    }
   ],
   "source": [
    "try:\n",
    "    google_stock.mean()\n",
    "except Exception as e:\n",
    "    print(e)"
   ]
  },
  {
   "cell_type": "markdown",
   "id": "f81e5794",
   "metadata": {},
   "source": [
    "- the above raised an error because of the date column, it's not a numerical column so we can't get the statistics of it\n",
    "    - so we can select the columns that we want to get the statistics of for all the rows via `df[['column1', 'column2']].describe()` or `df.iloc[:, [column indicies,]].describe()`"
   ]
  },
  {
   "cell_type": "code",
   "execution_count": 129,
   "id": "14aa31c1",
   "metadata": {},
   "outputs": [
    {
     "data": {
      "text/plain": [
       "Open    380.186092\n",
       "High    383.493740\n",
       "dtype: float64"
      ]
     },
     "execution_count": 129,
     "metadata": {},
     "output_type": "execute_result"
    }
   ],
   "source": [
    "google_stock[[\"Open\",\"High\"]].mean()"
   ]
  },
  {
   "cell_type": "code",
   "execution_count": 130,
   "id": "d04a9051",
   "metadata": {},
   "outputs": [
    {
     "data": {
      "text/plain": [
       "Open    380.186092\n",
       "Low     376.519309\n",
       "dtype: float64"
      ]
     },
     "execution_count": 130,
     "metadata": {},
     "output_type": "execute_result"
    }
   ],
   "source": [
    "google_stock.iloc[:,[1,3]].mean()"
   ]
  },
  {
   "cell_type": "code",
   "execution_count": 131,
   "id": "c28580db",
   "metadata": {},
   "outputs": [
    {
     "data": {
      "text/plain": [
       "Open         3.801861e+02\n",
       "High         3.834937e+02\n",
       "Low          3.765193e+02\n",
       "Close        3.800725e+02\n",
       "Adj Close    3.800725e+02\n",
       "Volume       8.038476e+06\n",
       "dtype: float64"
      ]
     },
     "execution_count": 131,
     "metadata": {},
     "output_type": "execute_result"
    }
   ],
   "source": [
    "google_stock.iloc[:,1:].mean()"
   ]
  },
  {
   "cell_type": "code",
   "execution_count": 132,
   "id": "c803057d",
   "metadata": {},
   "outputs": [
    {
     "data": {
      "text/plain": [
       "49.681866"
      ]
     },
     "execution_count": 132,
     "metadata": {},
     "output_type": "execute_result"
    }
   ],
   "source": [
    "google_stock[\"Adj Close\"].min()"
   ]
  },
  {
   "cell_type": "markdown",
   "id": "34b992c7",
   "metadata": {},
   "source": [
    "### get the correlation between different columns"
   ]
  },
  {
   "cell_type": "code",
   "execution_count": 133,
   "id": "2194c1de",
   "metadata": {},
   "outputs": [
    {
     "data": {
      "text/html": [
       "<div>\n",
       "<style scoped>\n",
       "    .dataframe tbody tr th:only-of-type {\n",
       "        vertical-align: middle;\n",
       "    }\n",
       "\n",
       "    .dataframe tbody tr th {\n",
       "        vertical-align: top;\n",
       "    }\n",
       "\n",
       "    .dataframe thead th {\n",
       "        text-align: right;\n",
       "    }\n",
       "</style>\n",
       "<table border=\"1\" class=\"dataframe\">\n",
       "  <thead>\n",
       "    <tr style=\"text-align: right;\">\n",
       "      <th></th>\n",
       "      <th>Open</th>\n",
       "      <th>High</th>\n",
       "      <th>Low</th>\n",
       "      <th>Close</th>\n",
       "      <th>Adj Close</th>\n",
       "      <th>Volume</th>\n",
       "    </tr>\n",
       "  </thead>\n",
       "  <tbody>\n",
       "    <tr>\n",
       "      <th>Open</th>\n",
       "      <td>1.000000</td>\n",
       "      <td>0.999904</td>\n",
       "      <td>0.999845</td>\n",
       "      <td>0.999745</td>\n",
       "      <td>0.999745</td>\n",
       "      <td>-0.564258</td>\n",
       "    </tr>\n",
       "    <tr>\n",
       "      <th>High</th>\n",
       "      <td>0.999904</td>\n",
       "      <td>1.000000</td>\n",
       "      <td>0.999834</td>\n",
       "      <td>0.999868</td>\n",
       "      <td>0.999868</td>\n",
       "      <td>-0.562749</td>\n",
       "    </tr>\n",
       "    <tr>\n",
       "      <th>Low</th>\n",
       "      <td>0.999845</td>\n",
       "      <td>0.999834</td>\n",
       "      <td>1.000000</td>\n",
       "      <td>0.999899</td>\n",
       "      <td>0.999899</td>\n",
       "      <td>-0.567007</td>\n",
       "    </tr>\n",
       "    <tr>\n",
       "      <th>Close</th>\n",
       "      <td>0.999745</td>\n",
       "      <td>0.999868</td>\n",
       "      <td>0.999899</td>\n",
       "      <td>1.000000</td>\n",
       "      <td>1.000000</td>\n",
       "      <td>-0.564967</td>\n",
       "    </tr>\n",
       "    <tr>\n",
       "      <th>Adj Close</th>\n",
       "      <td>0.999745</td>\n",
       "      <td>0.999868</td>\n",
       "      <td>0.999899</td>\n",
       "      <td>1.000000</td>\n",
       "      <td>1.000000</td>\n",
       "      <td>-0.564967</td>\n",
       "    </tr>\n",
       "    <tr>\n",
       "      <th>Volume</th>\n",
       "      <td>-0.564258</td>\n",
       "      <td>-0.562749</td>\n",
       "      <td>-0.567007</td>\n",
       "      <td>-0.564967</td>\n",
       "      <td>-0.564967</td>\n",
       "      <td>1.000000</td>\n",
       "    </tr>\n",
       "  </tbody>\n",
       "</table>\n",
       "</div>"
      ],
      "text/plain": [
       "               Open      High       Low     Close  Adj Close    Volume\n",
       "Open       1.000000  0.999904  0.999845  0.999745   0.999745 -0.564258\n",
       "High       0.999904  1.000000  0.999834  0.999868   0.999868 -0.562749\n",
       "Low        0.999845  0.999834  1.000000  0.999899   0.999899 -0.567007\n",
       "Close      0.999745  0.999868  0.999899  1.000000   1.000000 -0.564967\n",
       "Adj Close  0.999745  0.999868  0.999899  1.000000   1.000000 -0.564967\n",
       "Volume    -0.564258 -0.562749 -0.567007 -0.564967  -0.564967  1.000000"
      ]
     },
     "execution_count": 133,
     "metadata": {},
     "output_type": "execute_result"
    }
   ],
   "source": [
    "google_stock.iloc[:,1:].corr()"
   ]
  },
  {
   "cell_type": "markdown",
   "id": "735f88f6",
   "metadata": {},
   "source": [
    "## group data to get different types of information\n",
    "- using .groupby()"
   ]
  },
  {
   "cell_type": "code",
   "execution_count": 134,
   "id": "b12cd365",
   "metadata": {},
   "outputs": [
    {
     "data": {
      "text/html": [
       "<div>\n",
       "<style scoped>\n",
       "    .dataframe tbody tr th:only-of-type {\n",
       "        vertical-align: middle;\n",
       "    }\n",
       "\n",
       "    .dataframe tbody tr th {\n",
       "        vertical-align: top;\n",
       "    }\n",
       "\n",
       "    .dataframe thead th {\n",
       "        text-align: right;\n",
       "    }\n",
       "</style>\n",
       "<table border=\"1\" class=\"dataframe\">\n",
       "  <thead>\n",
       "    <tr style=\"text-align: right;\">\n",
       "      <th></th>\n",
       "      <th>Year</th>\n",
       "      <th>Name</th>\n",
       "      <th>Department</th>\n",
       "      <th>Age</th>\n",
       "      <th>Salary</th>\n",
       "    </tr>\n",
       "  </thead>\n",
       "  <tbody>\n",
       "    <tr>\n",
       "      <th>0</th>\n",
       "      <td>1990</td>\n",
       "      <td>Alice</td>\n",
       "      <td>HR</td>\n",
       "      <td>25</td>\n",
       "      <td>50000</td>\n",
       "    </tr>\n",
       "    <tr>\n",
       "      <th>1</th>\n",
       "      <td>1990</td>\n",
       "      <td>Bob</td>\n",
       "      <td>RD</td>\n",
       "      <td>30</td>\n",
       "      <td>48000</td>\n",
       "    </tr>\n",
       "    <tr>\n",
       "      <th>2</th>\n",
       "      <td>1990</td>\n",
       "      <td>Charlie</td>\n",
       "      <td>Admin</td>\n",
       "      <td>45</td>\n",
       "      <td>55000</td>\n",
       "    </tr>\n",
       "    <tr>\n",
       "      <th>3</th>\n",
       "      <td>1991</td>\n",
       "      <td>Dakota</td>\n",
       "      <td>HR</td>\n",
       "      <td>26</td>\n",
       "      <td>52000</td>\n",
       "    </tr>\n",
       "    <tr>\n",
       "      <th>4</th>\n",
       "      <td>1991</td>\n",
       "      <td>Elsa</td>\n",
       "      <td>RD</td>\n",
       "      <td>31</td>\n",
       "      <td>50000</td>\n",
       "    </tr>\n",
       "    <tr>\n",
       "      <th>5</th>\n",
       "      <td>1991</td>\n",
       "      <td>Frank</td>\n",
       "      <td>Admin</td>\n",
       "      <td>46</td>\n",
       "      <td>60000</td>\n",
       "    </tr>\n",
       "    <tr>\n",
       "      <th>6</th>\n",
       "      <td>1992</td>\n",
       "      <td>Grace</td>\n",
       "      <td>Admin</td>\n",
       "      <td>27</td>\n",
       "      <td>60000</td>\n",
       "    </tr>\n",
       "    <tr>\n",
       "      <th>7</th>\n",
       "      <td>1992</td>\n",
       "      <td>Hoffman</td>\n",
       "      <td>RD</td>\n",
       "      <td>32</td>\n",
       "      <td>52000</td>\n",
       "    </tr>\n",
       "    <tr>\n",
       "      <th>8</th>\n",
       "      <td>1992</td>\n",
       "      <td>Inaar</td>\n",
       "      <td>Admin</td>\n",
       "      <td>28</td>\n",
       "      <td>62000</td>\n",
       "    </tr>\n",
       "  </tbody>\n",
       "</table>\n",
       "</div>"
      ],
      "text/plain": [
       "   Year     Name Department  Age  Salary\n",
       "0  1990    Alice         HR   25   50000\n",
       "1  1990      Bob         RD   30   48000\n",
       "2  1990  Charlie      Admin   45   55000\n",
       "3  1991   Dakota         HR   26   52000\n",
       "4  1991     Elsa         RD   31   50000\n",
       "5  1991    Frank      Admin   46   60000\n",
       "6  1992    Grace      Admin   27   60000\n",
       "7  1992  Hoffman         RD   32   52000\n",
       "8  1992    Inaar      Admin   28   62000"
      ]
     },
     "execution_count": 134,
     "metadata": {},
     "output_type": "execute_result"
    }
   ],
   "source": [
    "data = pd.read_csv(\"fake-company.csv\")\n",
    "data"
   ]
  },
  {
   "cell_type": "code",
   "execution_count": 135,
   "id": "3c4cf9c5",
   "metadata": {},
   "outputs": [
    {
     "data": {
      "text/plain": [
       "Year\n",
       "1990    153000\n",
       "1991    162000\n",
       "1992    174000\n",
       "Name: Salary, dtype: int64"
      ]
     },
     "execution_count": 135,
     "metadata": {},
     "output_type": "execute_result"
    }
   ],
   "source": [
    "# How much money the company spent on salaries each year?\n",
    "data.groupby(['Year'])[\"Salary\"].sum() # when we use group by, we have to specify what to do with the grouped values (either sum them or get their average or whatever depending on the application)"
   ]
  },
  {
   "cell_type": "code",
   "execution_count": 136,
   "id": "962c40ac",
   "metadata": {},
   "outputs": [
    {
     "data": {
      "text/plain": [
       "Year\n",
       "1990    51000.0\n",
       "1991    54000.0\n",
       "1992    58000.0\n",
       "Name: Salary, dtype: float64"
      ]
     },
     "execution_count": 136,
     "metadata": {},
     "output_type": "execute_result"
    }
   ],
   "source": [
    "# To know the average salary for each year\n",
    "data.groupby(['Year'])[\"Salary\"].mean()"
   ]
  },
  {
   "cell_type": "code",
   "execution_count": 137,
   "id": "6cae937e",
   "metadata": {},
   "outputs": [
    {
     "data": {
      "text/plain": [
       "Name\n",
       "Alice      50000\n",
       "Bob        48000\n",
       "Charlie    55000\n",
       "Dakota     52000\n",
       "Elsa       50000\n",
       "Frank      60000\n",
       "Grace      60000\n",
       "Hoffman    52000\n",
       "Inaar      62000\n",
       "Name: Salary, dtype: int64"
      ]
     },
     "execution_count": 137,
     "metadata": {},
     "output_type": "execute_result"
    }
   ],
   "source": [
    "# How much in total each employee got paid?\n",
    "data.groupby([\"Name\"])[\"Salary\"].sum()"
   ]
  },
  {
   "cell_type": "code",
   "execution_count": 138,
   "id": "dfe141e7",
   "metadata": {},
   "outputs": [
    {
     "data": {
      "text/html": [
       "<div>\n",
       "<style scoped>\n",
       "    .dataframe tbody tr th:only-of-type {\n",
       "        vertical-align: middle;\n",
       "    }\n",
       "\n",
       "    .dataframe tbody tr th {\n",
       "        vertical-align: top;\n",
       "    }\n",
       "\n",
       "    .dataframe thead th {\n",
       "        text-align: right;\n",
       "    }\n",
       "</style>\n",
       "<table border=\"1\" class=\"dataframe\">\n",
       "  <thead>\n",
       "    <tr style=\"text-align: right;\">\n",
       "      <th></th>\n",
       "      <th>Year</th>\n",
       "      <th>Name</th>\n",
       "      <th>Department</th>\n",
       "      <th>Age</th>\n",
       "      <th>Salary</th>\n",
       "    </tr>\n",
       "  </thead>\n",
       "  <tbody>\n",
       "    <tr>\n",
       "      <th>0</th>\n",
       "      <td>1990</td>\n",
       "      <td>Alice</td>\n",
       "      <td>HR</td>\n",
       "      <td>25</td>\n",
       "      <td>50000</td>\n",
       "    </tr>\n",
       "    <tr>\n",
       "      <th>1</th>\n",
       "      <td>1990</td>\n",
       "      <td>Bob</td>\n",
       "      <td>RD</td>\n",
       "      <td>30</td>\n",
       "      <td>48000</td>\n",
       "    </tr>\n",
       "    <tr>\n",
       "      <th>2</th>\n",
       "      <td>1990</td>\n",
       "      <td>Charlie</td>\n",
       "      <td>Admin</td>\n",
       "      <td>45</td>\n",
       "      <td>55000</td>\n",
       "    </tr>\n",
       "    <tr>\n",
       "      <th>3</th>\n",
       "      <td>1991</td>\n",
       "      <td>Dakota</td>\n",
       "      <td>HR</td>\n",
       "      <td>26</td>\n",
       "      <td>52000</td>\n",
       "    </tr>\n",
       "    <tr>\n",
       "      <th>4</th>\n",
       "      <td>1991</td>\n",
       "      <td>Elsa</td>\n",
       "      <td>RD</td>\n",
       "      <td>31</td>\n",
       "      <td>50000</td>\n",
       "    </tr>\n",
       "    <tr>\n",
       "      <th>5</th>\n",
       "      <td>1991</td>\n",
       "      <td>Frank</td>\n",
       "      <td>Admin</td>\n",
       "      <td>46</td>\n",
       "      <td>60000</td>\n",
       "    </tr>\n",
       "    <tr>\n",
       "      <th>6</th>\n",
       "      <td>1992</td>\n",
       "      <td>Grace</td>\n",
       "      <td>Admin</td>\n",
       "      <td>27</td>\n",
       "      <td>60000</td>\n",
       "    </tr>\n",
       "    <tr>\n",
       "      <th>7</th>\n",
       "      <td>1992</td>\n",
       "      <td>Hoffman</td>\n",
       "      <td>RD</td>\n",
       "      <td>32</td>\n",
       "      <td>52000</td>\n",
       "    </tr>\n",
       "    <tr>\n",
       "      <th>8</th>\n",
       "      <td>1992</td>\n",
       "      <td>Inaar</td>\n",
       "      <td>Admin</td>\n",
       "      <td>28</td>\n",
       "      <td>62000</td>\n",
       "    </tr>\n",
       "  </tbody>\n",
       "</table>\n",
       "</div>"
      ],
      "text/plain": [
       "   Year     Name Department  Age  Salary\n",
       "0  1990    Alice         HR   25   50000\n",
       "1  1990      Bob         RD   30   48000\n",
       "2  1990  Charlie      Admin   45   55000\n",
       "3  1991   Dakota         HR   26   52000\n",
       "4  1991     Elsa         RD   31   50000\n",
       "5  1991    Frank      Admin   46   60000\n",
       "6  1992    Grace      Admin   27   60000\n",
       "7  1992  Hoffman         RD   32   52000\n",
       "8  1992    Inaar      Admin   28   62000"
      ]
     },
     "execution_count": 138,
     "metadata": {},
     "output_type": "execute_result"
    }
   ],
   "source": [
    "data"
   ]
  },
  {
   "cell_type": "code",
   "execution_count": 139,
   "id": "181730cd",
   "metadata": {},
   "outputs": [
    {
     "data": {
      "text/plain": [
       "Department\n",
       "Admin    237000\n",
       "HR       102000\n",
       "RD       150000\n",
       "Name: Salary, dtype: int64"
      ]
     },
     "execution_count": 139,
     "metadata": {},
     "output_type": "execute_result"
    }
   ],
   "source": [
    "# what is the salary distribution per department \n",
    "data.groupby([\"Department\"])[\"Salary\"].sum()"
   ]
  },
  {
   "cell_type": "markdown",
   "id": "2584939f",
   "metadata": {},
   "source": [
    "but since some departments have records for variant -different- number of years, we need to get the average to describe it better "
   ]
  },
  {
   "cell_type": "code",
   "execution_count": 140,
   "id": "f90ffd6e",
   "metadata": {},
   "outputs": [
    {
     "data": {
      "text/plain": [
       "Department\n",
       "Admin    59250.0\n",
       "HR       51000.0\n",
       "RD       50000.0\n",
       "Name: Salary, dtype: float64"
      ]
     },
     "execution_count": 140,
     "metadata": {},
     "output_type": "execute_result"
    }
   ],
   "source": [
    "# what is the salary distribution per department \n",
    "data.groupby([\"Department\"])[\"Salary\"].mean()"
   ]
  },
  {
   "cell_type": "code",
   "execution_count": 141,
   "id": "45112188",
   "metadata": {},
   "outputs": [
    {
     "data": {
      "text/plain": [
       "Department  Year\n",
       "Admin       1990     55000\n",
       "            1991     60000\n",
       "            1992    122000\n",
       "HR          1990     50000\n",
       "            1991     52000\n",
       "RD          1990     48000\n",
       "            1991     50000\n",
       "            1992     52000\n",
       "Name: Salary, dtype: int64"
      ]
     },
     "execution_count": 141,
     "metadata": {},
     "output_type": "execute_result"
    }
   ],
   "source": [
    "# what is the salary distribution per department per year\n",
    "data.groupby([\"Department\",\"Year\"])[\"Salary\"].sum()"
   ]
  },
  {
   "cell_type": "markdown",
   "id": "6bc29209",
   "metadata": {},
   "source": [
    "Recommended Practice\n",
    "We recommend you practice the examples available at the 10 minutes to pandas as a conclusive tutorial.\n",
    "https://pandas.pydata.org/pandas-docs/stable/user_guide/10min.html"
   ]
  }
 ],
 "metadata": {
  "kernelspec": {
   "display_name": "dl_torch",
   "language": "python",
   "name": "python3"
  },
  "language_info": {
   "codemirror_mode": {
    "name": "ipython",
    "version": 3
   },
   "file_extension": ".py",
   "mimetype": "text/x-python",
   "name": "python",
   "nbconvert_exporter": "python",
   "pygments_lexer": "ipython3",
   "version": "3.11.5"
  }
 },
 "nbformat": 4,
 "nbformat_minor": 5
}
