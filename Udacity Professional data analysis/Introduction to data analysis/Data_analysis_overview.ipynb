{
 "cells": [
  {
   "cell_type": "markdown",
   "metadata": {},
   "source": [
    "# Data analysis process \n",
    "\n",
    "There are 5 steps in the data analysis process:\n",
    "\n",
    "1. Asking questions \n",
    "2. Data wrangling\n",
    "3. Exploratory data analysis\n",
    "4. Drawing conclusions\n",
    "5. Communicating results"
   ]
  },
  {
   "cell_type": "markdown",
   "metadata": {},
   "source": [
    "## 1- Asking questions\n",
    "\n",
    "The data analysis process starts with asking questions\n",
    "- sometimes we are given the dataset, and we need to glance over and figure out what questions to ask\n",
    "- other times, the questions come first, which will determine what data we will gather later \n",
    "\n",
    "in both cases we should be thinking \n",
    "- what are we trying to find out ?\n",
    "- is there a problem we are trying to solve?\n",
    "\n",
    "we will often deal with multiple data sources of different forms, and asking the right questions will help us focus on relevant parts of our data, and direct our analysis towards meaningful insights"
   ]
  },
  {
   "cell_type": "markdown",
   "metadata": {},
   "source": [
    "## 2- Data wrangling \n",
    "- in here we make sure that we have all the data we need in great quality \n",
    "\n",
    "there are 3 parts to this step \n",
    "- Gathering data\n",
    "    - we are either given the data, so we just open it \n",
    "    - or we need to gather it from different sources\n",
    "- Assessing data\n",
    "    - we need to assess the data to identify any problems in the data's quality or structure\n",
    "    - we often assess some potential problems like \n",
    "        - missing data\n",
    "        - inaccurate data types \n",
    "        - duplicate data\n",
    "        - structural problems\n",
    "            - like having all the data in one column\n",
    "            - or having multiple columns with the same data\n",
    "        - mismatched number of records\n",
    "        - incorrect data ranges\n",
    "        - we might have data from different sources, and we need to make sure that the data is consistent across all sources (`unification of data`)\n",
    "            - check for consistency in column names (we might have same column with different names in different sources)\n",
    "            - check for consistency in data types and values of the same column (in terms of format)\n",
    "\n",
    "        \n",
    "- Cleaning data\n",
    "    - after assessing the data, and identifying the problems, we need to clean the data\n",
    "    - this often involves modifying, replacing or removing data to ensure that it is of the highest quality and as well-structured as possible\n",
    "    - we might need to \n",
    "        - remove duplicates\n",
    "        - fill in missing values\n",
    "        - correct data types\n",
    "        - drop columns that we don't need\n",
    "        - merge columns\n",
    "        - split columns\n",
    "        - filter out rows\n",
    "        - etc\n",
    "    \n",
    "\n",
    "this step is about getting all the data we need in a form that we can work with"
   ]
  },
  {
   "cell_type": "markdown",
   "metadata": {},
   "source": [
    "## 3- Exploratory data analysis\n",
    "\n",
    "- this step is about exploring and augmenting the data to maximize the potential of our analysis, visualization and models, it involves \n",
    "    - finding patterns in the data\n",
    "    - visualizing relationships in the data\n",
    "    - building intuition about what we are working with\n",
    "\n",
    "- after exploring, we can do things like \n",
    "    - remove outliers\n",
    "    - create new features from the existing data (feature engineering)\n",
    "    - transform variables to meet the assumptions of our statistical tests\n",
    "\n",
    "- after being more familiar with the data, we often revisit previous steps, as the steps in this process is iterative \n",
    "    - we can refine our questions\n",
    "    - or discover new problems in the data and we need to go back to data wrangling"
   ]
  },
  {
   "cell_type": "markdown",
   "metadata": {},
   "source": [
    "## 4- Drawing conclusions and making predictions\n",
    "\n",
    "- this step is about drawing conclusions based on our data, and making predictions where applicable\n",
    "- from a data science perspective, this stpe is typically approached by either \n",
    "    - inferential statistics\n",
    "    - machine learning models\n",
    "    - descriptive statistics and data visualization"
   ]
  },
  {
   "cell_type": "markdown",
   "metadata": {},
   "source": [
    "## 5- Communicating results\n",
    "\n",
    "our analysis is only as valuable as our ability to communicate it, and this step is about communicating our findings\n",
    "- we often need to justify and convey the significance of our findings to others, and if we are applying machine learning models, we need to explain design decisions and how well it performs\n",
    "- data visualization is often very valuable in this step, as it can help to communicate insights with others"
   ]
  }
 ],
 "metadata": {
  "kernelspec": {
   "display_name": "dl_torch",
   "language": "python",
   "name": "python3"
  },
  "language_info": {
   "name": "python",
   "version": "3.11.5"
  }
 },
 "nbformat": 4,
 "nbformat_minor": 2
}
