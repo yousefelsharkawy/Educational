{
 "cells": [
  {
   "cell_type": "code",
   "execution_count": 2,
   "metadata": {},
   "outputs": [
    {
     "data": {
      "text/html": [
       "<div>\n",
       "<style scoped>\n",
       "    .dataframe tbody tr th:only-of-type {\n",
       "        vertical-align: middle;\n",
       "    }\n",
       "\n",
       "    .dataframe tbody tr th {\n",
       "        vertical-align: top;\n",
       "    }\n",
       "\n",
       "    .dataframe thead th {\n",
       "        text-align: right;\n",
       "    }\n",
       "</style>\n",
       "<table border=\"1\" class=\"dataframe\">\n",
       "  <thead>\n",
       "    <tr style=\"text-align: right;\">\n",
       "      <th></th>\n",
       "      <th>user_id</th>\n",
       "      <th>product_id</th>\n",
       "      <th>liked</th>\n",
       "      <th>view_duration</th>\n",
       "      <th>source</th>\n",
       "      <th>timestamp</th>\n",
       "    </tr>\n",
       "  </thead>\n",
       "  <tbody>\n",
       "    <tr>\n",
       "      <th>0</th>\n",
       "      <td>3987</td>\n",
       "      <td>997021</td>\n",
       "      <td>True</td>\n",
       "      <td>1.048242</td>\n",
       "      <td>web</td>\n",
       "      <td>2017-09-23 00:18:29.056895</td>\n",
       "    </tr>\n",
       "    <tr>\n",
       "      <th>1</th>\n",
       "      <td>6300</td>\n",
       "      <td>865003</td>\n",
       "      <td>True</td>\n",
       "      <td>1.688173</td>\n",
       "      <td>web</td>\n",
       "      <td>2017-09-21 02:20:22.022096</td>\n",
       "    </tr>\n",
       "    <tr>\n",
       "      <th>2</th>\n",
       "      <td>6451</td>\n",
       "      <td>712951</td>\n",
       "      <td>False</td>\n",
       "      <td>NaN</td>\n",
       "      <td>mobile</td>\n",
       "      <td>2017-09-07 11:57:50.044683</td>\n",
       "    </tr>\n",
       "    <tr>\n",
       "      <th>3</th>\n",
       "      <td>7782</td>\n",
       "      <td>283235</td>\n",
       "      <td>True</td>\n",
       "      <td>0.194162</td>\n",
       "      <td>mobile</td>\n",
       "      <td>2017-09-17 03:48:20.019677</td>\n",
       "    </tr>\n",
       "    <tr>\n",
       "      <th>4</th>\n",
       "      <td>7782</td>\n",
       "      <td>283235</td>\n",
       "      <td>True</td>\n",
       "      <td>0.194162</td>\n",
       "      <td>mobile</td>\n",
       "      <td>2017-09-17 03:48:20.019677</td>\n",
       "    </tr>\n",
       "  </tbody>\n",
       "</table>\n",
       "</div>"
      ],
      "text/plain": [
       "   user_id  product_id  liked  view_duration  source  \\\n",
       "0     3987      997021   True       1.048242     web   \n",
       "1     6300      865003   True       1.688173     web   \n",
       "2     6451      712951  False            NaN  mobile   \n",
       "3     7782      283235   True       0.194162  mobile   \n",
       "4     7782      283235   True       0.194162  mobile   \n",
       "\n",
       "                    timestamp  \n",
       "0  2017-09-23 00:18:29.056895  \n",
       "1  2017-09-21 02:20:22.022096  \n",
       "2  2017-09-07 11:57:50.044683  \n",
       "3  2017-09-17 03:48:20.019677  \n",
       "4  2017-09-17 03:48:20.019677  "
      ]
     },
     "execution_count": 2,
     "metadata": {},
     "output_type": "execute_result"
    }
   ],
   "source": [
    "import pandas as pd\n",
    "\n",
    "df = pd.read_csv(\"product_view_data.csv\")\n",
    "df.head()"
   ]
  },
  {
   "cell_type": "markdown",
   "metadata": {},
   "source": [
    "- main potnetial data issues that are quite common in data analysis are:\n",
    "    - missing data \n",
    "    - duplicates \n",
    "    - wrong data types "
   ]
  },
  {
   "cell_type": "markdown",
   "metadata": {},
   "source": [
    "## missing data \n",
    "- should be handeled depending on several factors such as \n",
    "    - the reason these values are missing (is it missing at random or not)\n",
    "    - the type of the data\n",
    "    - etc\n",
    "- we can handle them in different ways \n",
    "    - imputing them with the mean or any other value\n",
    "    - drop the rows that contain missing values\n",
    "    - etc"
   ]
  },
  {
   "cell_type": "code",
   "execution_count": 3,
   "metadata": {},
   "outputs": [
    {
     "data": {
      "text/plain": [
       "user_id          0\n",
       "product_id       0\n",
       "liked            0\n",
       "view_duration    3\n",
       "source           0\n",
       "timestamp        0\n",
       "dtype: int64"
      ]
     },
     "execution_count": 3,
     "metadata": {},
     "output_type": "execute_result"
    }
   ],
   "source": [
    "# check for null values \n",
    "df.isnull().sum(axis=0)"
   ]
  },
  {
   "cell_type": "code",
   "execution_count": 6,
   "metadata": {},
   "outputs": [],
   "source": [
    "# replace the null values with the mean\n",
    "mean = df[\"view_duration\"].mean()\n",
    "df[\"view_duration\"] = df[\"view_duration\"].fillna(mean)"
   ]
  },
  {
   "cell_type": "code",
   "execution_count": 8,
   "metadata": {},
   "outputs": [
    {
     "data": {
      "text/html": [
       "<div>\n",
       "<style scoped>\n",
       "    .dataframe tbody tr th:only-of-type {\n",
       "        vertical-align: middle;\n",
       "    }\n",
       "\n",
       "    .dataframe tbody tr th {\n",
       "        vertical-align: top;\n",
       "    }\n",
       "\n",
       "    .dataframe thead th {\n",
       "        text-align: right;\n",
       "    }\n",
       "</style>\n",
       "<table border=\"1\" class=\"dataframe\">\n",
       "  <thead>\n",
       "    <tr style=\"text-align: right;\">\n",
       "      <th></th>\n",
       "      <th>user_id</th>\n",
       "      <th>product_id</th>\n",
       "      <th>liked</th>\n",
       "      <th>view_duration</th>\n",
       "      <th>source</th>\n",
       "      <th>timestamp</th>\n",
       "    </tr>\n",
       "  </thead>\n",
       "  <tbody>\n",
       "    <tr>\n",
       "      <th>0</th>\n",
       "      <td>3987</td>\n",
       "      <td>997021</td>\n",
       "      <td>True</td>\n",
       "      <td>1.048242</td>\n",
       "      <td>web</td>\n",
       "      <td>2017-09-23 00:18:29.056895</td>\n",
       "    </tr>\n",
       "    <tr>\n",
       "      <th>1</th>\n",
       "      <td>6300</td>\n",
       "      <td>865003</td>\n",
       "      <td>True</td>\n",
       "      <td>1.688173</td>\n",
       "      <td>web</td>\n",
       "      <td>2017-09-21 02:20:22.022096</td>\n",
       "    </tr>\n",
       "    <tr>\n",
       "      <th>2</th>\n",
       "      <td>6451</td>\n",
       "      <td>712951</td>\n",
       "      <td>False</td>\n",
       "      <td>0.938350</td>\n",
       "      <td>mobile</td>\n",
       "      <td>2017-09-07 11:57:50.044683</td>\n",
       "    </tr>\n",
       "    <tr>\n",
       "      <th>3</th>\n",
       "      <td>7782</td>\n",
       "      <td>283235</td>\n",
       "      <td>True</td>\n",
       "      <td>0.194162</td>\n",
       "      <td>mobile</td>\n",
       "      <td>2017-09-17 03:48:20.019677</td>\n",
       "    </tr>\n",
       "    <tr>\n",
       "      <th>4</th>\n",
       "      <td>7782</td>\n",
       "      <td>283235</td>\n",
       "      <td>True</td>\n",
       "      <td>0.194162</td>\n",
       "      <td>mobile</td>\n",
       "      <td>2017-09-17 03:48:20.019677</td>\n",
       "    </tr>\n",
       "    <tr>\n",
       "      <th>5</th>\n",
       "      <td>5700</td>\n",
       "      <td>587019</td>\n",
       "      <td>False</td>\n",
       "      <td>0.493194</td>\n",
       "      <td>web</td>\n",
       "      <td>2017-09-07 00:25:07.019097</td>\n",
       "    </tr>\n",
       "    <tr>\n",
       "      <th>6</th>\n",
       "      <td>3400</td>\n",
       "      <td>505123</td>\n",
       "      <td>True</td>\n",
       "      <td>0.938350</td>\n",
       "      <td>web</td>\n",
       "      <td>2017-09-07 13:53:21.008403</td>\n",
       "    </tr>\n",
       "    <tr>\n",
       "      <th>7</th>\n",
       "      <td>8403</td>\n",
       "      <td>459916</td>\n",
       "      <td>False</td>\n",
       "      <td>0.675041</td>\n",
       "      <td>mobile</td>\n",
       "      <td>2017-09-25 21:54:00.028323</td>\n",
       "    </tr>\n",
       "    <tr>\n",
       "      <th>8</th>\n",
       "      <td>8965</td>\n",
       "      <td>943363</td>\n",
       "      <td>False</td>\n",
       "      <td>0.938350</td>\n",
       "      <td>web</td>\n",
       "      <td>2017-09-17 15:12:21.059489</td>\n",
       "    </tr>\n",
       "    <tr>\n",
       "      <th>9</th>\n",
       "      <td>9693</td>\n",
       "      <td>787546</td>\n",
       "      <td>True</td>\n",
       "      <td>0.101743</td>\n",
       "      <td>web</td>\n",
       "      <td>2017-09-26 12:34:46.012559</td>\n",
       "    </tr>\n",
       "    <tr>\n",
       "      <th>10</th>\n",
       "      <td>4107</td>\n",
       "      <td>811855</td>\n",
       "      <td>False</td>\n",
       "      <td>3.112086</td>\n",
       "      <td>web</td>\n",
       "      <td>2017-09-01 10:50:07.042593</td>\n",
       "    </tr>\n",
       "  </tbody>\n",
       "</table>\n",
       "</div>"
      ],
      "text/plain": [
       "    user_id  product_id  liked  view_duration  source  \\\n",
       "0      3987      997021   True       1.048242     web   \n",
       "1      6300      865003   True       1.688173     web   \n",
       "2      6451      712951  False       0.938350  mobile   \n",
       "3      7782      283235   True       0.194162  mobile   \n",
       "4      7782      283235   True       0.194162  mobile   \n",
       "5      5700      587019  False       0.493194     web   \n",
       "6      3400      505123   True       0.938350     web   \n",
       "7      8403      459916  False       0.675041  mobile   \n",
       "8      8965      943363  False       0.938350     web   \n",
       "9      9693      787546   True       0.101743     web   \n",
       "10     4107      811855  False       3.112086     web   \n",
       "\n",
       "                     timestamp  \n",
       "0   2017-09-23 00:18:29.056895  \n",
       "1   2017-09-21 02:20:22.022096  \n",
       "2   2017-09-07 11:57:50.044683  \n",
       "3   2017-09-17 03:48:20.019677  \n",
       "4   2017-09-17 03:48:20.019677  \n",
       "5   2017-09-07 00:25:07.019097  \n",
       "6   2017-09-07 13:53:21.008403  \n",
       "7   2017-09-25 21:54:00.028323  \n",
       "8   2017-09-17 15:12:21.059489  \n",
       "9   2017-09-26 12:34:46.012559  \n",
       "10  2017-09-01 10:50:07.042593  "
      ]
     },
     "execution_count": 8,
     "metadata": {},
     "output_type": "execute_result"
    }
   ],
   "source": [
    "df"
   ]
  },
  {
   "cell_type": "markdown",
   "metadata": {},
   "source": [
    "## duplicates\n",
    "- there are several reasons why duplicates might occur \n",
    "    - combining data from multiple sources\n",
    "    - human error\n",
    "- we can use the `duplicated` method to check for duplicates and the `drop_duplicates` method to remove them\n",
    "    - by default, the `duplicated` method will keep the first occurance of the duplicate and mark the rest as duplicates\n",
    "    - it considers the row as a duplicate if the values in all the columns match\n",
    "    - we can change both of these behaviors using certain parameters\n",
    "        - `subset` parameter in both `duplicated()` and `drop_duplicated()` to consider only a subset of the columns when checking for duplicates"
   ]
  },
  {
   "cell_type": "code",
   "execution_count": 9,
   "metadata": {},
   "outputs": [
    {
     "data": {
      "text/plain": [
       "0     False\n",
       "1     False\n",
       "2     False\n",
       "3     False\n",
       "4      True\n",
       "5     False\n",
       "6     False\n",
       "7     False\n",
       "8     False\n",
       "9     False\n",
       "10    False\n",
       "dtype: bool"
      ]
     },
     "execution_count": 9,
     "metadata": {},
     "output_type": "execute_result"
    }
   ],
   "source": [
    "# check for duplicates \n",
    "df.duplicated()"
   ]
  },
  {
   "cell_type": "code",
   "execution_count": 10,
   "metadata": {},
   "outputs": [
    {
     "data": {
      "text/html": [
       "<div>\n",
       "<style scoped>\n",
       "    .dataframe tbody tr th:only-of-type {\n",
       "        vertical-align: middle;\n",
       "    }\n",
       "\n",
       "    .dataframe tbody tr th {\n",
       "        vertical-align: top;\n",
       "    }\n",
       "\n",
       "    .dataframe thead th {\n",
       "        text-align: right;\n",
       "    }\n",
       "</style>\n",
       "<table border=\"1\" class=\"dataframe\">\n",
       "  <thead>\n",
       "    <tr style=\"text-align: right;\">\n",
       "      <th></th>\n",
       "      <th>user_id</th>\n",
       "      <th>product_id</th>\n",
       "      <th>liked</th>\n",
       "      <th>view_duration</th>\n",
       "      <th>source</th>\n",
       "      <th>timestamp</th>\n",
       "    </tr>\n",
       "  </thead>\n",
       "  <tbody>\n",
       "    <tr>\n",
       "      <th>4</th>\n",
       "      <td>7782</td>\n",
       "      <td>283235</td>\n",
       "      <td>True</td>\n",
       "      <td>0.194162</td>\n",
       "      <td>mobile</td>\n",
       "      <td>2017-09-17 03:48:20.019677</td>\n",
       "    </tr>\n",
       "  </tbody>\n",
       "</table>\n",
       "</div>"
      ],
      "text/plain": [
       "   user_id  product_id  liked  view_duration  source  \\\n",
       "4     7782      283235   True       0.194162  mobile   \n",
       "\n",
       "                    timestamp  \n",
       "4  2017-09-17 03:48:20.019677  "
      ]
     },
     "execution_count": 10,
     "metadata": {},
     "output_type": "execute_result"
    }
   ],
   "source": [
    "# access the duplicated rows \n",
    "df[df.duplicated()]"
   ]
  },
  {
   "cell_type": "code",
   "execution_count": 11,
   "metadata": {},
   "outputs": [
    {
     "data": {
      "text/plain": [
       "1"
      ]
     },
     "execution_count": 11,
     "metadata": {},
     "output_type": "execute_result"
    }
   ],
   "source": [
    "# count them \n",
    "sum(df.duplicated())"
   ]
  },
  {
   "cell_type": "code",
   "execution_count": 13,
   "metadata": {},
   "outputs": [],
   "source": [
    "# to drop duplicates \n",
    "df.drop_duplicates(inplace=True)"
   ]
  },
  {
   "cell_type": "code",
   "execution_count": 14,
   "metadata": {},
   "outputs": [
    {
     "data": {
      "text/html": [
       "<div>\n",
       "<style scoped>\n",
       "    .dataframe tbody tr th:only-of-type {\n",
       "        vertical-align: middle;\n",
       "    }\n",
       "\n",
       "    .dataframe tbody tr th {\n",
       "        vertical-align: top;\n",
       "    }\n",
       "\n",
       "    .dataframe thead th {\n",
       "        text-align: right;\n",
       "    }\n",
       "</style>\n",
       "<table border=\"1\" class=\"dataframe\">\n",
       "  <thead>\n",
       "    <tr style=\"text-align: right;\">\n",
       "      <th></th>\n",
       "      <th>user_id</th>\n",
       "      <th>product_id</th>\n",
       "      <th>liked</th>\n",
       "      <th>view_duration</th>\n",
       "      <th>source</th>\n",
       "      <th>timestamp</th>\n",
       "    </tr>\n",
       "  </thead>\n",
       "  <tbody>\n",
       "    <tr>\n",
       "      <th>0</th>\n",
       "      <td>3987</td>\n",
       "      <td>997021</td>\n",
       "      <td>True</td>\n",
       "      <td>1.048242</td>\n",
       "      <td>web</td>\n",
       "      <td>2017-09-23 00:18:29.056895</td>\n",
       "    </tr>\n",
       "    <tr>\n",
       "      <th>1</th>\n",
       "      <td>6300</td>\n",
       "      <td>865003</td>\n",
       "      <td>True</td>\n",
       "      <td>1.688173</td>\n",
       "      <td>web</td>\n",
       "      <td>2017-09-21 02:20:22.022096</td>\n",
       "    </tr>\n",
       "    <tr>\n",
       "      <th>2</th>\n",
       "      <td>6451</td>\n",
       "      <td>712951</td>\n",
       "      <td>False</td>\n",
       "      <td>0.938350</td>\n",
       "      <td>mobile</td>\n",
       "      <td>2017-09-07 11:57:50.044683</td>\n",
       "    </tr>\n",
       "    <tr>\n",
       "      <th>3</th>\n",
       "      <td>7782</td>\n",
       "      <td>283235</td>\n",
       "      <td>True</td>\n",
       "      <td>0.194162</td>\n",
       "      <td>mobile</td>\n",
       "      <td>2017-09-17 03:48:20.019677</td>\n",
       "    </tr>\n",
       "    <tr>\n",
       "      <th>5</th>\n",
       "      <td>5700</td>\n",
       "      <td>587019</td>\n",
       "      <td>False</td>\n",
       "      <td>0.493194</td>\n",
       "      <td>web</td>\n",
       "      <td>2017-09-07 00:25:07.019097</td>\n",
       "    </tr>\n",
       "    <tr>\n",
       "      <th>6</th>\n",
       "      <td>3400</td>\n",
       "      <td>505123</td>\n",
       "      <td>True</td>\n",
       "      <td>0.938350</td>\n",
       "      <td>web</td>\n",
       "      <td>2017-09-07 13:53:21.008403</td>\n",
       "    </tr>\n",
       "    <tr>\n",
       "      <th>7</th>\n",
       "      <td>8403</td>\n",
       "      <td>459916</td>\n",
       "      <td>False</td>\n",
       "      <td>0.675041</td>\n",
       "      <td>mobile</td>\n",
       "      <td>2017-09-25 21:54:00.028323</td>\n",
       "    </tr>\n",
       "    <tr>\n",
       "      <th>8</th>\n",
       "      <td>8965</td>\n",
       "      <td>943363</td>\n",
       "      <td>False</td>\n",
       "      <td>0.938350</td>\n",
       "      <td>web</td>\n",
       "      <td>2017-09-17 15:12:21.059489</td>\n",
       "    </tr>\n",
       "    <tr>\n",
       "      <th>9</th>\n",
       "      <td>9693</td>\n",
       "      <td>787546</td>\n",
       "      <td>True</td>\n",
       "      <td>0.101743</td>\n",
       "      <td>web</td>\n",
       "      <td>2017-09-26 12:34:46.012559</td>\n",
       "    </tr>\n",
       "    <tr>\n",
       "      <th>10</th>\n",
       "      <td>4107</td>\n",
       "      <td>811855</td>\n",
       "      <td>False</td>\n",
       "      <td>3.112086</td>\n",
       "      <td>web</td>\n",
       "      <td>2017-09-01 10:50:07.042593</td>\n",
       "    </tr>\n",
       "  </tbody>\n",
       "</table>\n",
       "</div>"
      ],
      "text/plain": [
       "    user_id  product_id  liked  view_duration  source  \\\n",
       "0      3987      997021   True       1.048242     web   \n",
       "1      6300      865003   True       1.688173     web   \n",
       "2      6451      712951  False       0.938350  mobile   \n",
       "3      7782      283235   True       0.194162  mobile   \n",
       "5      5700      587019  False       0.493194     web   \n",
       "6      3400      505123   True       0.938350     web   \n",
       "7      8403      459916  False       0.675041  mobile   \n",
       "8      8965      943363  False       0.938350     web   \n",
       "9      9693      787546   True       0.101743     web   \n",
       "10     4107      811855  False       3.112086     web   \n",
       "\n",
       "                     timestamp  \n",
       "0   2017-09-23 00:18:29.056895  \n",
       "1   2017-09-21 02:20:22.022096  \n",
       "2   2017-09-07 11:57:50.044683  \n",
       "3   2017-09-17 03:48:20.019677  \n",
       "5   2017-09-07 00:25:07.019097  \n",
       "6   2017-09-07 13:53:21.008403  \n",
       "7   2017-09-25 21:54:00.028323  \n",
       "8   2017-09-17 15:12:21.059489  \n",
       "9   2017-09-26 12:34:46.012559  \n",
       "10  2017-09-01 10:50:07.042593  "
      ]
     },
     "execution_count": 14,
     "metadata": {},
     "output_type": "execute_result"
    }
   ],
   "source": [
    "df"
   ]
  },
  {
   "cell_type": "markdown",
   "metadata": {},
   "source": [
    "## incorrect data types\n",
    "- this is also a common problem"
   ]
  },
  {
   "cell_type": "code",
   "execution_count": 15,
   "metadata": {},
   "outputs": [
    {
     "name": "stdout",
     "output_type": "stream",
     "text": [
      "<class 'pandas.core.frame.DataFrame'>\n",
      "Index: 10 entries, 0 to 10\n",
      "Data columns (total 6 columns):\n",
      " #   Column         Non-Null Count  Dtype  \n",
      "---  ------         --------------  -----  \n",
      " 0   user_id        10 non-null     int64  \n",
      " 1   product_id     10 non-null     int64  \n",
      " 2   liked          10 non-null     bool   \n",
      " 3   view_duration  10 non-null     float64\n",
      " 4   source         10 non-null     object \n",
      " 5   timestamp      10 non-null     object \n",
      "dtypes: bool(1), float64(1), int64(2), object(2)\n",
      "memory usage: 490.0+ bytes\n"
     ]
    }
   ],
   "source": [
    "df.info()"
   ]
  },
  {
   "cell_type": "markdown",
   "metadata": {},
   "source": [
    "- we can see that the data types of the columns using `dtypes` attribute of the dataframe, or using the `info` method\n",
    "    - we see above that the `date` column is of type `object` (string) and not `datetime` as it should be\n",
    "        - datetimes are much more convenient to work with than strings, because we can do operations on them such as extracting the year, month, day, etc or filter them easily "
   ]
  },
  {
   "cell_type": "code",
   "execution_count": 17,
   "metadata": {},
   "outputs": [
    {
     "data": {
      "text/plain": [
       "0    2017-09-23 00:18:29.056895\n",
       "1    2017-09-21 02:20:22.022096\n",
       "2    2017-09-07 11:57:50.044683\n",
       "3    2017-09-17 03:48:20.019677\n",
       "5    2017-09-07 00:25:07.019097\n",
       "6    2017-09-07 13:53:21.008403\n",
       "7    2017-09-25 21:54:00.028323\n",
       "8    2017-09-17 15:12:21.059489\n",
       "9    2017-09-26 12:34:46.012559\n",
       "10   2017-09-01 10:50:07.042593\n",
       "Name: timestamp, dtype: datetime64[ns]"
      ]
     },
     "execution_count": 17,
     "metadata": {},
     "output_type": "execute_result"
    }
   ],
   "source": [
    "pd.to_datetime(df[\"timestamp\"])"
   ]
  },
  {
   "cell_type": "code",
   "execution_count": 18,
   "metadata": {},
   "outputs": [
    {
     "data": {
      "text/html": [
       "<div>\n",
       "<style scoped>\n",
       "    .dataframe tbody tr th:only-of-type {\n",
       "        vertical-align: middle;\n",
       "    }\n",
       "\n",
       "    .dataframe tbody tr th {\n",
       "        vertical-align: top;\n",
       "    }\n",
       "\n",
       "    .dataframe thead th {\n",
       "        text-align: right;\n",
       "    }\n",
       "</style>\n",
       "<table border=\"1\" class=\"dataframe\">\n",
       "  <thead>\n",
       "    <tr style=\"text-align: right;\">\n",
       "      <th></th>\n",
       "      <th>user_id</th>\n",
       "      <th>product_id</th>\n",
       "      <th>liked</th>\n",
       "      <th>view_duration</th>\n",
       "      <th>source</th>\n",
       "      <th>timestamp</th>\n",
       "    </tr>\n",
       "  </thead>\n",
       "  <tbody>\n",
       "    <tr>\n",
       "      <th>0</th>\n",
       "      <td>3987</td>\n",
       "      <td>997021</td>\n",
       "      <td>True</td>\n",
       "      <td>1.048242</td>\n",
       "      <td>web</td>\n",
       "      <td>2017-09-23 00:18:29.056895</td>\n",
       "    </tr>\n",
       "    <tr>\n",
       "      <th>1</th>\n",
       "      <td>6300</td>\n",
       "      <td>865003</td>\n",
       "      <td>True</td>\n",
       "      <td>1.688173</td>\n",
       "      <td>web</td>\n",
       "      <td>2017-09-21 02:20:22.022096</td>\n",
       "    </tr>\n",
       "    <tr>\n",
       "      <th>2</th>\n",
       "      <td>6451</td>\n",
       "      <td>712951</td>\n",
       "      <td>False</td>\n",
       "      <td>0.938350</td>\n",
       "      <td>mobile</td>\n",
       "      <td>2017-09-07 11:57:50.044683</td>\n",
       "    </tr>\n",
       "    <tr>\n",
       "      <th>3</th>\n",
       "      <td>7782</td>\n",
       "      <td>283235</td>\n",
       "      <td>True</td>\n",
       "      <td>0.194162</td>\n",
       "      <td>mobile</td>\n",
       "      <td>2017-09-17 03:48:20.019677</td>\n",
       "    </tr>\n",
       "    <tr>\n",
       "      <th>5</th>\n",
       "      <td>5700</td>\n",
       "      <td>587019</td>\n",
       "      <td>False</td>\n",
       "      <td>0.493194</td>\n",
       "      <td>web</td>\n",
       "      <td>2017-09-07 00:25:07.019097</td>\n",
       "    </tr>\n",
       "  </tbody>\n",
       "</table>\n",
       "</div>"
      ],
      "text/plain": [
       "   user_id  product_id  liked  view_duration  source  \\\n",
       "0     3987      997021   True       1.048242     web   \n",
       "1     6300      865003   True       1.688173     web   \n",
       "2     6451      712951  False       0.938350  mobile   \n",
       "3     7782      283235   True       0.194162  mobile   \n",
       "5     5700      587019  False       0.493194     web   \n",
       "\n",
       "                   timestamp  \n",
       "0 2017-09-23 00:18:29.056895  \n",
       "1 2017-09-21 02:20:22.022096  \n",
       "2 2017-09-07 11:57:50.044683  \n",
       "3 2017-09-17 03:48:20.019677  \n",
       "5 2017-09-07 00:25:07.019097  "
      ]
     },
     "execution_count": 18,
     "metadata": {},
     "output_type": "execute_result"
    }
   ],
   "source": [
    "# assign it back to the old columns \n",
    "df[\"timestamp\"] = pd.to_datetime(df[\"timestamp\"])\n",
    "df.head()"
   ]
  },
  {
   "cell_type": "code",
   "execution_count": 19,
   "metadata": {},
   "outputs": [
    {
     "name": "stdout",
     "output_type": "stream",
     "text": [
      "<class 'pandas.core.frame.DataFrame'>\n",
      "Index: 10 entries, 0 to 10\n",
      "Data columns (total 6 columns):\n",
      " #   Column         Non-Null Count  Dtype         \n",
      "---  ------         --------------  -----         \n",
      " 0   user_id        10 non-null     int64         \n",
      " 1   product_id     10 non-null     int64         \n",
      " 2   liked          10 non-null     bool          \n",
      " 3   view_duration  10 non-null     float64       \n",
      " 4   source         10 non-null     object        \n",
      " 5   timestamp      10 non-null     datetime64[ns]\n",
      "dtypes: bool(1), datetime64[ns](1), float64(1), int64(2), object(1)\n",
      "memory usage: 490.0+ bytes\n"
     ]
    }
   ],
   "source": [
    "df.info()"
   ]
  },
  {
   "cell_type": "markdown",
   "metadata": {},
   "source": [
    "- when we save it as a csv then read it again, it will be read as a string, so we need to reconvert it again\n",
    "- the function `pd.to_datetime` provides more options to handle different date formats\n",
    "    - we can use the `format` parameter to specify the format of the date\n",
    "    - we can use the `errors` parameter to specify how to handle errors in the conversion\n",
    "        - `coerce` will convert the errors to `NaT` (not a time) which is a special value for missing values in datetime columns\n",
    "        - `ignore` will ignore the errors and keep the original values\n",
    "        - `raise` will raise an error if there are any errors in the conversion"
   ]
  }
 ],
 "metadata": {
  "kernelspec": {
   "display_name": "dl_torch",
   "language": "python",
   "name": "python3"
  },
  "language_info": {
   "codemirror_mode": {
    "name": "ipython",
    "version": 3
   },
   "file_extension": ".py",
   "mimetype": "text/x-python",
   "name": "python",
   "nbconvert_exporter": "python",
   "pygments_lexer": "ipython3",
   "version": "3.11.5"
  }
 },
 "nbformat": 4,
 "nbformat_minor": 2
}
