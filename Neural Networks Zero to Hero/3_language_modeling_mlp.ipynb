{
  "cells": [
    {
      "cell_type": "markdown",
      "metadata": {
        "id": "83LTEaTxmnKl"
      },
      "source": [
        "# Intro to language modeling\n",
        "\n",
        "## Recap\n",
        "- in the last notebook we took an into to language modeling\n",
        "- we also built a bigram language model using the counts approach (intuitive approach) and also using the neural network approach (a single layer neural network)\n",
        "- we said the neural approach is better and more scalable as we can complexify the network to learn more complex patterns\n",
        "- we said the probme with bigram is that it only looks at a small context window (2 characters)\n",
        "\n",
        "- we will build a lot of architectures of character-level language models\n",
        "    - ✔ Bi-gram (one character simply predicts a next one with a lookup table of counts)\n",
        "    - MLP (Multi-Layer Perceptron), following [A Neural Probabilistic Language Model](https://www.jmlr.org/papers/volume3/bengio03a/bengio03a.pdf), Bengio et al. 2003\n",
        "    - RNNs (Recurrent Neural Networks), following [Recurrent Neural Network Based Language Model](https://www.fit.vut.cz/research/group/speech/public/publi/2010/mikolov_interspeech2010_IS100722.pdf), Mikolov et al. 2010\n",
        "    - GRUs (Gated Recurrent Units), following [On the Properties of Neural Machine Translation: Encoder-Decoder Approaches](https://arxiv.org/abs/1409.1259), Cho et al. 2014\n",
        "    - Transformers (the Equivalent of GPT-2), following [Attention is All You Need](https://arxiv.org/abs/1706.03762), Vaswani et al. 2017"
      ]
    },
    {
      "cell_type": "markdown",
      "metadata": {
        "id": "Ymc-SW-gmnKr"
      },
      "source": [
        "## MLP (Multi-Layer Perceptron)\n",
        "\n",
        "- the paper by Bengio et al. 2003 used a vocabulary of 17000 words (so it was a word-level language model), but we will use a character-level language model\n",
        "- They proposed to take every token (word) and associate it with say a 30-dimensional feature vector (embedding)\n",
        "    - so every token is now embedded into a 30-dimensional space\n",
        "    - so, they have 17000 points (vector) in that 30-dimensional space (you might imagine that is very crowded, that is a lot of points for a very small space)\n",
        "    - now, these points (vectors) are initialized completely randomly, then we are going to tune these embeddings of these words using backpropagation\n",
        "    - so during the course of training of this neural network, these points (vectors) are going to move around in this 30-dimensional space\n",
        "        - and we might imagine that words that have very similar meanings (or indeed synonyms of each other) might end up in a very similar part of this space (mine: because they are used in similar contexts and will have similar updates)\n",
        "        - conversely, words that have very different meanings would go somewhere else in this space\n",
        "\n",
        "- otherwise, everything else is identical to what we have been doing\n",
        "    - they are predicting the next token given the previous tokens\n",
        "    - to train the network, they are maximizing the log likelihood of the training data (or minimizing the average negative log likelihood), which corresponds to maximizing the probability of the actual next token given the previous tokens\n",
        "\n",
        "- why does it work?\n",
        "    - it works because of the embeddings (feature vectors), since similar words will be in similar context or used interchangeably, they will have updates\n",
        "        - so, that way they will have similar embeddings (features), and this allows the model to generalize to new phrases that are combinations of words that it has seen before\n",
        "            - suppose that the model was train on the phrase `The dog was running in the room`, and it learned that the words `The` and `a` are used in similar contexts and used interchangeably, therefore they have similar embeddings\n",
        "            - so during test time, if the model sees the phrase `A dog was running in the ...`, to the model `a` and `The` are very similar, they have similar features (embeddings), so it is almost like it has seen that phrase before (it's almost like we are feeding it a sentence it has been trained on), and will be able to predict the next  `room` correctly as a result\n",
        "            - similarly, it can learn that `dog` and `cat` are similar as they are both animals, walking, running are both similar, etc.  \n",
        "\n",
        "\n",
        "- The diagram of the architecture they used\n",
        "\n",
        "![mlp](assets/mlp.png)\n",
        "\n",
        "\n",
        "- they are taking 3 previous tokens (words) and predicting the 4th token (word) in the sequence\n",
        "- as they had a vocabulary of 17000 words, so every one of the 3 inputs is the index of the word in the vocabulary (from 0 to 16999)\n",
        "- there is also a lookup table (they call it Matrix C), which is a 17000 x 30 matrix\n",
        "    - so, every index will bluck out a row of that matrix (which is a 30-dimensional vector)\n",
        "    - that way we can map each index (of the word) to a 30-dimensional embedding vector for that word\n",
        "- now we have 3 30-dimensional vectors (embeddings) for the tokens (words), making up the input layer of the neural network (90 neurons in total)\n",
        "- the hidden layer has a size which is a hyperparameter, and has a `tanh` activation function\n",
        "    - we use the word `hyperparameter` when it's kind of a design choice that we make up to us (it can be as large or as small as we want)\n",
        "    - and we are going to go over multiple choices of this hyperparameter and evaluate how well each of them does\n",
        "- then we have an output layer, and sinc there are 17000 tokens -words- that could come next, we have 17000 neurons in the output layer (each is indicating the probability of the next token being that word)\n",
        "    - and it has a softmax activation function (to convert the logits into probabilities)\n",
        "\n",
        "- architecture summary:\n",
        "    - inputs: 3 words (indices of the words in the vocabulary)\n",
        "    - Matrix C: 17000 x 30 matrix (lookup table), mapping each index to a 30-dimensional embedding vector\n",
        "    - input layer: 90 neurons (3 x 30-dimensional embeddings)\n",
        "    - hidden layer: size is a hyperparameter, with `tanh` activation function\n",
        "    - output layer: 17000 neurons, with `softmax` activation function\n",
        "\n",
        "\n",
        "\n",
        "- the training is the same, we will use the index of the next actual token to index into the output layer of the model and get the corresponding probability of that token, and we will maximize that probability (or more precisely minimize the negative log of that probability which is equivalent)\n",
        "    - in other words, update the weights of the model to make the probability of the actual next token as high as possible\n",
        "\n",
        "- Tip: there are dashed lines in the diagram, they represent variations in the architecture that we will not explore"
      ]
    },
    {
      "cell_type": "code",
      "execution_count": 1,
      "metadata": {
        "id": "tAMK1dotmnKs"
      },
      "outputs": [],
      "source": [
        "import torch\n",
        "import torch.nn.functional as F\n",
        "import matplotlib.pyplot as plt"
      ]
    },
    {
      "cell_type": "code",
      "execution_count": 4,
      "metadata": {
        "id": "OdNi-L2amnKt"
      },
      "outputs": [],
      "source": [
        "words = open('makemore/names.txt').read().splitlines()"
      ]
    },
    {
      "cell_type": "code",
      "execution_count": 5,
      "metadata": {
        "colab": {
          "base_uri": "https://localhost:8080/"
        },
        "id": "3MpCmiYamnKu",
        "outputId": "aa1c8d70-9b4a-4c49-b4b8-9f1d235c1c47"
      },
      "outputs": [
        {
          "data": {
            "text/plain": [
              "32033"
            ]
          },
          "execution_count": 5,
          "metadata": {},
          "output_type": "execute_result"
        }
      ],
      "source": [
        "len(words)"
      ]
    },
    {
      "cell_type": "markdown",
      "metadata": {
        "id": "SzL1LSYqmnKv"
      },
      "source": [
        "## Build the Vocabulary"
      ]
    },
    {
      "cell_type": "code",
      "execution_count": 6,
      "metadata": {
        "id": "ghjkGSfzmnKv"
      },
      "outputs": [],
      "source": [
        "# build the vocabulary\n",
        "vocab = sorted(list(set(''.join(words))))\n",
        "stoi = { ch: i+1 for i, ch in enumerate(vocab) }\n",
        "stoi['.'] = 0\n",
        "itos = { i: ch for ch, i in stoi.items() }"
      ]
    },
    {
      "cell_type": "markdown",
      "metadata": {
        "id": "hAgfJq5NmnKw"
      },
      "source": [
        "## Build the dataset\n",
        "- we need to create X -> y pairs (3 characters -> 1 character) from the text"
      ]
    },
    {
      "cell_type": "code",
      "execution_count": null,
      "metadata": {
        "id": "PV6mmzb0mnKw",
        "outputId": "fdc9192a-315b-43af-f142-77390196cc59"
      },
      "outputs": [
        {
          "name": "stdout",
          "output_type": "stream",
          "text": [
            "emma\n",
            "... -> e\n",
            "..e -> m\n",
            ".em -> m\n",
            "emm -> a\n",
            "mma -> .\n",
            "olivia\n",
            "... -> o\n",
            "..o -> l\n",
            ".ol -> i\n",
            "oli -> v\n",
            "liv -> i\n",
            "ivi -> a\n",
            "via -> .\n",
            "ava\n",
            "... -> a\n",
            "..a -> v\n",
            ".av -> a\n",
            "ava -> .\n",
            "isabella\n",
            "... -> i\n",
            "..i -> s\n",
            ".is -> a\n",
            "isa -> b\n",
            "sab -> e\n",
            "abe -> l\n",
            "bel -> l\n",
            "ell -> a\n",
            "lla -> .\n",
            "sophia\n",
            "... -> s\n",
            "..s -> o\n",
            ".so -> p\n",
            "sop -> h\n",
            "oph -> i\n",
            "phi -> a\n",
            "hia -> .\n"
          ]
        }
      ],
      "source": [
        "block_size = 3 # context length: how many characters do we take to predict the next one\n",
        "Y, X = [], []\n",
        "for word in words[:5]:\n",
        "    print(word)\n",
        "    # append ... at the beginning of each word, and a dot at the end\n",
        "    context = ['.'] * block_size  + list(word) + ['.']\n",
        "    for i in range(len(word) + 1):\n",
        "        X.append([stoi[ch] for ch in context[i:i+block_size]]) # append the character index at i, i+1, i+2 (i+3 is the label, that is why it is excluded here)\n",
        "        Y.append(stoi[context[i+block_size]]) # append the character index i+3 as the label\n",
        "        print(''.join(context[i:i+block_size]), '->', context[i+block_size])\n",
        "\n",
        "X = torch.tensor(X)\n",
        "Y = torch.tensor(Y)"
      ]
    },
    {
      "cell_type": "markdown",
      "metadata": {
        "id": "dU374EDumnKx"
      },
      "source": [
        "- we started with a paddeed context of ... (3 dots), because we need 3 characters to predict the 4th one, so we need three dots to start with predicting the first character\n",
        "    - but we don't need to pad the end of the text, because we are not predicting anything after the last character ."
      ]
    },
    {
      "cell_type": "code",
      "execution_count": null,
      "metadata": {
        "id": "9xY93PpFmnKx",
        "outputId": "b5babcd1-0b26-4543-d48f-6615f728b2b4"
      },
      "outputs": [
        {
          "data": {
            "text/plain": [
              "(torch.Size([32, 3]), torch.int64, torch.Size([32]), torch.int64)"
            ]
          },
          "execution_count": 7,
          "metadata": {},
          "output_type": "execute_result"
        }
      ],
      "source": [
        "X.shape, X.dtype, Y.shape, Y.dtype"
      ]
    },
    {
      "cell_type": "markdown",
      "metadata": {
        "id": "aLP7OlnUmnKz"
      },
      "source": [
        "- from the above 5 words, we managed to create 32 examples packed in it, each example is 3 integers (indices of the 3 characters) as the input and one integer (index of the 4th character) as the output"
      ]
    },
    {
      "cell_type": "code",
      "execution_count": null,
      "metadata": {
        "id": "6qPYG2W8mnKz",
        "outputId": "3b932f4d-f269-4755-d468-5a25f01b67f2"
      },
      "outputs": [
        {
          "data": {
            "text/plain": [
              "tensor([[ 0,  0,  0],\n",
              "        [ 0,  0,  5],\n",
              "        [ 0,  5, 13],\n",
              "        [ 5, 13, 13],\n",
              "        [13, 13,  1],\n",
              "        [ 0,  0,  0],\n",
              "        [ 0,  0, 15],\n",
              "        [ 0, 15, 12],\n",
              "        [15, 12,  9],\n",
              "        [12,  9, 22],\n",
              "        [ 9, 22,  9],\n",
              "        [22,  9,  1],\n",
              "        [ 0,  0,  0],\n",
              "        [ 0,  0,  1],\n",
              "        [ 0,  1, 22],\n",
              "        [ 1, 22,  1],\n",
              "        [ 0,  0,  0],\n",
              "        [ 0,  0,  9],\n",
              "        [ 0,  9, 19],\n",
              "        [ 9, 19,  1],\n",
              "        [19,  1,  2],\n",
              "        [ 1,  2,  5],\n",
              "        [ 2,  5, 12],\n",
              "        [ 5, 12, 12],\n",
              "        [12, 12,  1],\n",
              "        [ 0,  0,  0],\n",
              "        [ 0,  0, 19],\n",
              "        [ 0, 19, 15],\n",
              "        [19, 15, 16],\n",
              "        [15, 16,  8],\n",
              "        [16,  8,  9],\n",
              "        [ 8,  9,  1]])"
            ]
          },
          "execution_count": 8,
          "metadata": {},
          "output_type": "execute_result"
        }
      ],
      "source": [
        "X"
      ]
    },
    {
      "cell_type": "code",
      "execution_count": null,
      "metadata": {
        "id": "KXD9sg3lmnK0",
        "outputId": "de927cac-fed9-4cb3-8282-b03d8c730d35"
      },
      "outputs": [
        {
          "data": {
            "text/plain": [
              "tensor([ 5, 13, 13,  1,  0, 15, 12,  9, 22,  9,  1,  0,  1, 22,  1,  0,  9, 19,\n",
              "         1,  2,  5, 12, 12,  1,  0, 19, 15, 16,  8,  9,  1,  0])"
            ]
          },
          "execution_count": 9,
          "metadata": {},
          "output_type": "execute_result"
        }
      ],
      "source": [
        "Y"
      ]
    },
    {
      "cell_type": "markdown",
      "metadata": {
        "id": "tfRUeokBmnK0"
      },
      "source": [
        "## Neural Network Architecture (in detail)"
      ]
    },
    {
      "cell_type": "markdown",
      "metadata": {
        "id": "ZzsgDPm1mnK0"
      },
      "source": [
        "### Embedding Layer\n",
        "- in our case, we have 27 characters (26 letters + 1 dot), and we will cram them into something small as 2-dimensional space\n",
        "- the lookup table will be random numbers at the beginning, with 27 rows and 2 columns, and we will tune them during training\n",
        "- we just use the index of the character to index into the lookup table and get the corresponding 2-dimensional vector, (that way we associated each character in the vocabulary with a unique index -the index of the vocabulary- and associated each index with a 2-dimensional vector -the embedding-)"
      ]
    },
    {
      "cell_type": "code",
      "execution_count": null,
      "metadata": {
        "id": "oTlF-LiimnK1",
        "outputId": "fb9514f0-1cd6-4bd1-aae9-5b2e74f40033"
      },
      "outputs": [
        {
          "data": {
            "text/plain": [
              "tensor([[-0.1113, -1.3374],\n",
              "        [-0.8724,  0.0643],\n",
              "        [ 0.3235, -0.0837],\n",
              "        [ 1.3117, -0.7543],\n",
              "        [-0.5897,  1.2593],\n",
              "        [ 1.4097, -0.0426],\n",
              "        [ 0.8865, -0.5858],\n",
              "        [-1.9872, -0.1332],\n",
              "        [ 0.2076,  1.3409],\n",
              "        [-0.4419,  0.5123],\n",
              "        [ 0.3755, -1.8863],\n",
              "        [-0.9965, -1.6493],\n",
              "        [ 1.4286, -0.4836],\n",
              "        [-0.6355,  0.5329],\n",
              "        [-2.4280, -1.4224],\n",
              "        [ 1.6925, -0.5128],\n",
              "        [ 0.1918, -1.6610],\n",
              "        [-0.4083,  0.7157],\n",
              "        [-1.2711,  0.2430],\n",
              "        [ 0.6695, -0.9338],\n",
              "        [-0.0236,  0.4565],\n",
              "        [-0.4303, -1.1562],\n",
              "        [ 0.1658, -0.5527],\n",
              "        [ 0.2487, -0.0382],\n",
              "        [-0.6081, -0.4291],\n",
              "        [-0.9716, -0.3733],\n",
              "        [ 1.6219,  0.1371]])"
            ]
          },
          "execution_count": 10,
          "metadata": {},
          "output_type": "execute_result"
        }
      ],
      "source": [
        "C = torch.randn((27,2))\n",
        "C"
      ]
    },
    {
      "cell_type": "code",
      "execution_count": null,
      "metadata": {
        "id": "h87uscKzmnK1",
        "outputId": "6630b896-fbf2-43af-eed7-94350438bb31"
      },
      "outputs": [
        {
          "data": {
            "text/plain": [
              "tensor([ 1.4097, -0.0426])"
            ]
          },
          "execution_count": 11,
          "metadata": {},
          "output_type": "execute_result"
        }
      ],
      "source": [
        "# we can index into C using the idx\n",
        "C[5]"
      ]
    },
    {
      "cell_type": "code",
      "execution_count": null,
      "metadata": {
        "id": "MqlVV8F5mnK2",
        "outputId": "7697b08c-e884-4600-ba96-e5f3de0b41d0"
      },
      "outputs": [
        {
          "data": {
            "text/plain": [
              "tensor([[ 1.4097, -0.0426]])"
            ]
          },
          "execution_count": 12,
          "metadata": {},
          "output_type": "execute_result"
        }
      ],
      "source": [
        "# we can also index into C this way as well\n",
        "F.one_hot(torch.tensor([5]), num_classes=27).float() @ C # 1X27 @ 27X2 = 1X2"
      ]
    },
    {
      "cell_type": "markdown",
      "metadata": {
        "id": "_zCAT5C9mnK3"
      },
      "source": [
        "- the outputs are identical because of the way matrix multiplication works (1 x 27 @ 27 x 2 = 1 x 2), the only 1 in the 5th position in the one-hot will grab the 5th row of the matrix\n",
        "- so, we can think of the lookup matrix as a layer of the neural network, which has no non-linearity, no bias ,just the weights (the table itself), and it's just a matrix multiplication between the one-hot encoded input and the matrix (the weights)\n",
        "    - and each one one hot encoded input will grab the corresponding row of the matrix, and during backpropagation, we will tune that row of that one-hot encoded input\n",
        "    - and we are just encoding integers as one hot and feeding them into the neural network\n",
        "- However, we will use the normal index because it's faster (index integers)\n",
        "    - so how do we index multiple examples, and 3 integers in each example (or whatever the context size is)?\n",
        "        - pytorch indexing is very powerful :D, we just index it directly"
      ]
    },
    {
      "cell_type": "code",
      "execution_count": null,
      "metadata": {
        "id": "MY5uQs42mnK3",
        "outputId": "338692c8-244b-4136-b19d-8de660a5a3c3"
      },
      "outputs": [
        {
          "data": {
            "text/plain": [
              "tensor([0, 0, 0])"
            ]
          },
          "execution_count": 14,
          "metadata": {},
          "output_type": "execute_result"
        }
      ],
      "source": [
        "X[0] # the first example, which has 3 integers representing 3 characters"
      ]
    },
    {
      "cell_type": "code",
      "execution_count": null,
      "metadata": {
        "id": "BogdYVcOmnK4",
        "outputId": "db42bfd0-bd0a-4466-ef2f-20964e186af0"
      },
      "outputs": [
        {
          "data": {
            "text/plain": [
              "(tensor([[-0.1113, -1.3374],\n",
              "         [-0.1113, -1.3374],\n",
              "         [-0.1113, -1.3374]]),\n",
              " torch.Size([3, 2]))"
            ]
          },
          "execution_count": 15,
          "metadata": {},
          "output_type": "execute_result"
        }
      ],
      "source": [
        "# index a single example (with 3 integers)\n",
        "C[X[0]], C[X[0]].shape"
      ]
    },
    {
      "cell_type": "markdown",
      "metadata": {
        "id": "9vF3GbZhmnK5"
      },
      "source": [
        "- above we retrieved the embeddings (vector of 2 numbers) for the 3 characters in the context"
      ]
    },
    {
      "cell_type": "code",
      "execution_count": null,
      "metadata": {
        "id": "Mt2Q11d0mnK5",
        "outputId": "85a1148a-e442-4e22-bf60-60f2fc7fc35a"
      },
      "outputs": [
        {
          "data": {
            "text/plain": [
              "torch.Size([32, 3, 2])"
            ]
          },
          "execution_count": 16,
          "metadata": {},
          "output_type": "execute_result"
        }
      ],
      "source": [
        "# index multiple examples (with 3 integers each)\n",
        "emb = C[X]\n",
        "emb.shape"
      ]
    },
    {
      "cell_type": "markdown",
      "metadata": {
        "id": "PCy8uZG8mnK5"
      },
      "source": [
        "- we just need to flatten or concatenate the 3 2D-embeddings within each example, `emb[:,0,:], emb[:,1,:], emb[:,2,:]`"
      ]
    },
    {
      "cell_type": "markdown",
      "metadata": {
        "id": "y2LqRnaumnK6"
      },
      "source": [
        "#### Concatenation"
      ]
    },
    {
      "cell_type": "code",
      "execution_count": null,
      "metadata": {
        "id": "Rfc_SksomnK6",
        "outputId": "33976d48-3448-4b71-e90d-970543451327"
      },
      "outputs": [
        {
          "data": {
            "text/plain": [
              "(torch.Size([32, 2]), torch.Size([32, 2]), torch.Size([32, 2]))"
            ]
          },
          "execution_count": 17,
          "metadata": {},
          "output_type": "execute_result"
        }
      ],
      "source": [
        "emb[:,0,:].shape, emb[:,1,:].shape, emb[:,2,:].shape"
      ]
    },
    {
      "cell_type": "code",
      "execution_count": null,
      "metadata": {
        "id": "bTt9JdtOmnK6",
        "outputId": "801758b8-f7c2-4c8d-f466-2b016ae6c2e9"
      },
      "outputs": [
        {
          "data": {
            "text/plain": [
              "torch.Size([32, 6])"
            ]
          },
          "execution_count": 18,
          "metadata": {},
          "output_type": "execute_result"
        }
      ],
      "source": [
        "emb[:,0,:] # all examples, first character embedding, shape is (m,2)\n",
        "emb[:,1,:] # all examples, second character embedding, shape is (m,2)\n",
        "emb[:,2,:] # all examples, third character embedding, shape is (m,2)\n",
        "\n",
        "# we want to concatenate them along the second dimension (m,2+2+2)\n",
        "\n",
        "torch.cat([emb[:,0,:], emb[:,1,:], emb[:,2,:]], dim=1).shape"
      ]
    },
    {
      "cell_type": "markdown",
      "metadata": {
        "id": "zEL940WFmnK6"
      },
      "source": [
        "- the above is hardcoded for 3 words, and won't generalize for any context size, so we need to generalize it\n",
        "- there is a function called `torch.unbind` that will take a tensor t of any shape (m x n x p), and if we call `torch.unbind` on any dimension (say dimension 1), it will return a list of tensors (n tensors in this case) where each tensor is t[:,i,:] for i in range(n)\n",
        "    - so, this is exactly what we did above"
      ]
    },
    {
      "cell_type": "code",
      "execution_count": null,
      "metadata": {
        "id": "QRop_RYHmnK7",
        "outputId": "a2fe398e-4a57-43b3-f127-1626299fe588"
      },
      "outputs": [
        {
          "data": {
            "text/plain": [
              "3"
            ]
          },
          "execution_count": 19,
          "metadata": {},
          "output_type": "execute_result"
        }
      ],
      "source": [
        "len(torch.unbind(emb, dim=1)) # equivalent to emb[:,0,:], emb[:,1,:], emb[:,2,:]"
      ]
    },
    {
      "cell_type": "code",
      "execution_count": null,
      "metadata": {
        "id": "rw3hUfuMmnK7",
        "outputId": "672ba1fa-b71d-473b-faaa-d7a75140b01c"
      },
      "outputs": [
        {
          "data": {
            "text/plain": [
              "torch.Size([32, 2])"
            ]
          },
          "execution_count": 25,
          "metadata": {},
          "output_type": "execute_result"
        }
      ],
      "source": [
        "torch.unbind(emb, dim=1)[0].shape # the first character embedding for all examples"
      ]
    },
    {
      "cell_type": "code",
      "execution_count": null,
      "metadata": {
        "id": "G8REmsiumnK7",
        "outputId": "ef2e9cde-d47a-4a77-9c08-b1f0d9efe87d"
      },
      "outputs": [
        {
          "data": {
            "text/plain": [
              "torch.Size([32, 6])"
            ]
          },
          "execution_count": 26,
          "metadata": {},
          "output_type": "execute_result"
        }
      ],
      "source": [
        "torch.cat(torch.unbind(emb, dim=1), dim=1).shape"
      ]
    },
    {
      "cell_type": "markdown",
      "metadata": {
        "id": "tqhLH-FZmnK8"
      },
      "source": [
        "#### Reshaping\n",
        "\n",
        "- much more efficient since we don't create new tensors"
      ]
    },
    {
      "cell_type": "code",
      "execution_count": null,
      "metadata": {
        "id": "LDRzQzE8mnK9",
        "outputId": "140c2866-f564-4bd7-93e5-603f952951db"
      },
      "outputs": [
        {
          "data": {
            "text/plain": [
              "torch.Size([32, 3, 2])"
            ]
          },
          "execution_count": 27,
          "metadata": {},
          "output_type": "execute_result"
        }
      ],
      "source": [
        "emb.shape"
      ]
    },
    {
      "cell_type": "code",
      "execution_count": null,
      "metadata": {
        "id": "ajqNnr5smnK9",
        "outputId": "91c7eff1-70aa-47e1-c916-349989f7da6c"
      },
      "outputs": [
        {
          "data": {
            "text/plain": [
              "torch.Size([32, 6])"
            ]
          },
          "execution_count": 28,
          "metadata": {},
          "output_type": "execute_result"
        }
      ],
      "source": [
        "emb = emb.view(-1, 6)\n",
        "emb.shape"
      ]
    },
    {
      "cell_type": "markdown",
      "metadata": {
        "id": "M83twaLBmnK9"
      },
      "source": [
        "- that's it :D"
      ]
    },
    {
      "cell_type": "markdown",
      "metadata": {
        "id": "iCuJjTssmnK-"
      },
      "source": [
        "- Tips on view and reshape"
      ]
    },
    {
      "cell_type": "code",
      "execution_count": null,
      "metadata": {
        "id": "Yh4CY2z7mnK-",
        "outputId": "01809582-bda5-41ad-95b7-115b9f89229f"
      },
      "outputs": [
        {
          "data": {
            "text/plain": [
              "tensor([ 0,  1,  2,  3,  4,  5,  6,  7,  8,  9, 10, 11, 12, 13, 14, 15, 16, 17])"
            ]
          },
          "execution_count": 29,
          "metadata": {},
          "output_type": "execute_result"
        }
      ],
      "source": [
        "a = torch.arange(18)\n",
        "a"
      ]
    },
    {
      "cell_type": "code",
      "execution_count": null,
      "metadata": {
        "id": "xUmsDGLVmnK-",
        "outputId": "603f2e79-d6d1-44d6-c9fe-a5971aea1710"
      },
      "outputs": [
        {
          "data": {
            "text/plain": [
              "tensor([[ 0,  1,  2,  3,  4,  5,  6,  7,  8],\n",
              "        [ 9, 10, 11, 12, 13, 14, 15, 16, 17]])"
            ]
          },
          "execution_count": 30,
          "metadata": {},
          "output_type": "execute_result"
        }
      ],
      "source": [
        "a.view(2, 9)"
      ]
    },
    {
      "cell_type": "markdown",
      "metadata": {
        "id": "kvY5vWYVmnK_"
      },
      "source": [
        "- for each tensor, there is something called the underlying storage, which is a contiguous block of memory"
      ]
    },
    {
      "cell_type": "code",
      "execution_count": null,
      "metadata": {
        "id": "ZbBeXYrtmnLA",
        "outputId": "8cf30e26-7ebc-4ddb-d216-7a8751e59372"
      },
      "outputs": [
        {
          "name": "stderr",
          "output_type": "stream",
          "text": [
            "C:\\Users\\TOSHIBA\\AppData\\Local\\Temp\\ipykernel_8932\\214256462.py:1: UserWarning: TypedStorage is deprecated. It will be removed in the future and UntypedStorage will be the only storage class. This should only matter to you if you are using storages directly.  To access UntypedStorage directly, use tensor.untyped_storage() instead of tensor.storage()\n",
            "  a.storage()\n"
          ]
        },
        {
          "data": {
            "text/plain": [
              " 0\n",
              " 1\n",
              " 2\n",
              " 3\n",
              " 4\n",
              " 5\n",
              " 6\n",
              " 7\n",
              " 8\n",
              " 9\n",
              " 10\n",
              " 11\n",
              " 12\n",
              " 13\n",
              " 14\n",
              " 15\n",
              " 16\n",
              " 17\n",
              "[torch.storage.TypedStorage(dtype=torch.int64, device=cpu) of size 18]"
            ]
          },
          "execution_count": 31,
          "metadata": {},
          "output_type": "execute_result"
        }
      ],
      "source": [
        "a.storage()"
      ]
    },
    {
      "cell_type": "markdown",
      "metadata": {
        "id": "o3f18pPzmnLA"
      },
      "source": [
        "- the storage is just the numbers as a 1D vector, (this is how it is stored in memory), and when we call view, we are just changing the way we are looking at that storage (we change some attributes like the storage offset, the strides, and shapes), so that sequence of bytes in memory is seen as different and ndimensional tensor\n",
        "- check the blog post [Pytorch internals](http://blog.ezyang.com/2019/05/pytorch-internals/)\n",
        "    "
      ]
    },
    {
      "cell_type": "markdown",
      "metadata": {
        "id": "8KN8oFpymnLA"
      },
      "source": [
        "### Hidden Layer\n",
        "\n",
        "- we will use a hidden layer of 100 neurons with a `tanh` activation function"
      ]
    },
    {
      "cell_type": "code",
      "execution_count": null,
      "metadata": {
        "id": "1VZYuvagmnLD"
      },
      "outputs": [],
      "source": [
        "W1 = torch.randn((6,100))\n",
        "b1 = torch.randn((100,))"
      ]
    },
    {
      "cell_type": "code",
      "execution_count": null,
      "metadata": {
        "id": "kwVz8VG7mnLD",
        "outputId": "c0b29e44-ca4e-4529-cdd1-c640e3a4bf59"
      },
      "outputs": [
        {
          "data": {
            "text/plain": [
              "torch.Size([32, 100])"
            ]
          },
          "execution_count": 33,
          "metadata": {},
          "output_type": "execute_result"
        }
      ],
      "source": [
        "a1 = torch.tanh((emb @ W1 + b1)) # mX6 @ 6X100 = mX100 + 1X100 = mX100\n",
        "a1.shape"
      ]
    },
    {
      "cell_type": "markdown",
      "metadata": {
        "id": "57rhWt_imnLD"
      },
      "source": [
        "- now we have the 100-dimensional activations for every example"
      ]
    },
    {
      "cell_type": "markdown",
      "metadata": {
        "id": "6BWS6NoRmnLE"
      },
      "source": [
        "### Output Layer"
      ]
    },
    {
      "cell_type": "code",
      "execution_count": null,
      "metadata": {
        "id": "wADEY63UmnLE"
      },
      "outputs": [],
      "source": [
        "W2 = torch.randn((100,27))\n",
        "b2 = torch.randn((27,))"
      ]
    },
    {
      "cell_type": "code",
      "execution_count": null,
      "metadata": {
        "id": "7055jLRMmnLE",
        "outputId": "5c41f3df-f576-429e-ca10-289027049e45"
      },
      "outputs": [
        {
          "data": {
            "text/plain": [
              "torch.Size([32, 27])"
            ]
          },
          "execution_count": 35,
          "metadata": {},
          "output_type": "execute_result"
        }
      ],
      "source": [
        "z2 = a1 @ W2 + b2 # mX100 @ 100X27 = mX27 + 1X27 = mX27 which are the logits for each example, and we will convert them to probabilities of all characters for each example\n",
        "probs = z2.exp() / z2.exp().sum(dim=1, keepdim=True) # softmax\n",
        "probs.shape"
      ]
    },
    {
      "cell_type": "markdown",
      "metadata": {
        "id": "6iUF3VnTmnLF"
      },
      "source": [
        "### Loss Function\n",
        "- we want to use the actual labels (token index) to index into the output layer and get the probability of that token, and we will maximize that probability (or more precisely minimize the negative log of that probability which is equivalent)"
      ]
    },
    {
      "cell_type": "code",
      "execution_count": null,
      "metadata": {
        "id": "04zVijeLmnLF",
        "outputId": "b45a54a5-16ed-4194-99dd-e02f29f22dad"
      },
      "outputs": [
        {
          "data": {
            "text/plain": [
              "(tensor([ 0,  1,  2,  3,  4,  5,  6,  7,  8,  9, 10, 11, 12, 13, 14, 15, 16, 17,\n",
              "         18, 19, 20, 21, 22, 23, 24, 25, 26, 27, 28, 29, 30, 31]),\n",
              " tensor([ 5, 13, 13,  1,  0, 15, 12,  9, 22,  9,  1,  0,  1, 22,  1,  0,  9, 19,\n",
              "          1,  2,  5, 12, 12,  1,  0, 19, 15, 16,  8,  9,  1,  0]))"
            ]
          },
          "execution_count": 36,
          "metadata": {},
          "output_type": "execute_result"
        }
      ],
      "source": [
        "torch.arange(X.shape[0]), Y"
      ]
    },
    {
      "cell_type": "code",
      "execution_count": null,
      "metadata": {
        "id": "dECcgscnmnLF",
        "outputId": "60f8aaf8-0230-4e6e-a0b0-076f464ac875"
      },
      "outputs": [
        {
          "data": {
            "text/plain": [
              "tensor(15.2388)"
            ]
          },
          "execution_count": 37,
          "metadata": {},
          "output_type": "execute_result"
        }
      ],
      "source": [
        "loss = -probs[torch.arange(X.shape[0]), Y].log().mean() # on the rows, we index the elements in order, for each row -example- we index with the actual label int to get the probability of that label, then we take the -ve log and the mean\n",
        "loss"
      ]
    },
    {
      "cell_type": "markdown",
      "metadata": {
        "id": "6n_CeSqCmnLG"
      },
      "source": [
        "## Putting it all together (for a small batch)"
      ]
    },
    {
      "cell_type": "code",
      "execution_count": null,
      "metadata": {
        "id": "UZZ3XXecmnLG"
      },
      "outputs": [],
      "source": [
        "g = torch.Generator().manual_seed(2147483647)\n",
        "# parameters\n",
        "C = torch.randn((27,2), generator=g)\n",
        "W1 = torch.randn((6,100), generator=g)\n",
        "b1 = torch.randn((100,), generator=g)\n",
        "W2 = torch.randn((100,27), generator=g)\n",
        "b2 = torch.randn((27,), generator=g)\n",
        "parameters = [C, W1, b1, W2, b2] # all parameters"
      ]
    },
    {
      "cell_type": "code",
      "execution_count": null,
      "metadata": {
        "id": "eP_GsRw9mnLG",
        "outputId": "388c176c-3ff6-4aeb-d5b2-6b73fc0409d1"
      },
      "outputs": [
        {
          "data": {
            "text/plain": [
              "3481"
            ]
          },
          "execution_count": 39,
          "metadata": {},
          "output_type": "execute_result"
        }
      ],
      "source": [
        "sum(p.numel() for p in parameters)"
      ]
    },
    {
      "cell_type": "markdown",
      "metadata": {
        "id": "AwGSwHX_mnLH"
      },
      "source": [
        "- mine: the parameters list stores references to the parameters (not copies), so when we update the parameters from the list, the actual parameters are updated (easier to work with)\n",
        "- we have 3481 parameters in total)"
      ]
    },
    {
      "cell_type": "code",
      "execution_count": null,
      "metadata": {
        "id": "le5CAYVtmnLH",
        "outputId": "0d510a3e-e55b-4620-ba0e-958cad4da029"
      },
      "outputs": [
        {
          "data": {
            "text/plain": [
              "tensor(17.7697)"
            ]
          },
          "execution_count": 42,
          "metadata": {},
          "output_type": "execute_result"
        }
      ],
      "source": [
        "emb = C[X].view(-1, 6)\n",
        "a1 = torch.tanh((emb @ W1 + b1)) # mX6 @ 6X100 = mX100 + 1X100 = mX100\n",
        "z2 = a1 @ W2 + b2 # mX100 @ 100X27 = mX27 + 1X27 = mX27\n",
        "probs = z2.exp() / z2.exp().sum(dim=1, keepdim=True) # softmax\n",
        "loss = -probs[torch.arange(X.shape[0]), Y].log().mean() # on the rows, we index the elements in order, for each row -example- we index with the actual label int to get the probability of that label, then we take the -ve log and the mean\n",
        "loss"
      ]
    },
    {
      "cell_type": "markdown",
      "metadata": {
        "id": "riIlY7eSmnLI"
      },
      "source": [
        "- the softmax is used in classification problems (what we basically do is classification, we are classifying the next token from a set of 27 tokens), and it's used to convert the logits into probabilities\n",
        "- we can actually pass the logits to `nn.CrossEntropyLoss` and it will apply the softmax for us much more efficiently\n",
        "    - they don't create all the intermediate tensors that we created above, they just do it in one go\n",
        "    - they cluster up all the operations and very often create fused operations (that do multiple things at once), so the forward pass is much more efficient\n",
        "        - therefore, the backward pass is also much more efficient (it's a single pass through the network)\n",
        "    - it is also numerically stable (as we studied on deep learning specialization, there will be no rounding errors because we are not storing intermediate tensors)"
      ]
    },
    {
      "cell_type": "code",
      "execution_count": null,
      "metadata": {
        "id": "qJuWW5nEmnLI",
        "outputId": "332ae57d-c3ca-47cd-d565-49c847bf7236"
      },
      "outputs": [
        {
          "data": {
            "text/plain": [
              "tensor(17.7697)"
            ]
          },
          "execution_count": 43,
          "metadata": {},
          "output_type": "execute_result"
        }
      ],
      "source": [
        "F.cross_entropy(z2, Y)"
      ]
    },
    {
      "cell_type": "markdown",
      "metadata": {
        "id": "yrpjHEgemnLI"
      },
      "source": [
        "- we got the same results"
      ]
    },
    {
      "cell_type": "markdown",
      "metadata": {
        "id": "SvzkymUBmnLI"
      },
      "source": [
        "### Training Loop"
      ]
    },
    {
      "cell_type": "code",
      "execution_count": null,
      "metadata": {
        "id": "qvwby3s5mnLJ"
      },
      "outputs": [],
      "source": [
        "losses = []"
      ]
    },
    {
      "cell_type": "code",
      "execution_count": null,
      "metadata": {
        "id": "Jx0D3TTxmnLJ",
        "outputId": "61d98391-5af5-419e-fe16-de6d02e8d903"
      },
      "outputs": [
        {
          "name": "stdout",
          "output_type": "stream",
          "text": [
            "0.25349581241607666\n"
          ]
        },
        {
          "data": {
            "image/png": "[encoded data removed]",
            "text/plain": [
              "<Figure size 640x480 with 1 Axes>"
            ]
          },
          "metadata": {},
          "output_type": "display_data"
        }
      ],
      "source": [
        "for p in parameters:\n",
        "    p.requires_grad = True\n",
        "\n",
        "\n",
        "for i in range(10000):\n",
        "    # Forward pass\n",
        "    emb = C[X].view(-1, 6)\n",
        "    a1 = torch.tanh((emb @ W1 + b1)) # mX6 @ 6X100 = mX100 + 1X100 = mX100\n",
        "    z2 = a1 @ W2 + b2 # mX100 @ 100X27 = mX27 + 1X27 = mX27\n",
        "    # Compute loss\n",
        "    loss = F.cross_entropy(z2, Y)\n",
        "    losses.append(loss.item())\n",
        "\n",
        "    # Backward pass\n",
        "    for p in parameters:\n",
        "        p.grad = None\n",
        "    loss.backward()\n",
        "\n",
        "    # Update the parameters\n",
        "    for p in parameters:\n",
        "        p.data -= p.grad * 0.01\n",
        "\n",
        "plt.plot(losses)\n",
        "print(loss.item())"
      ]
    },
    {
      "cell_type": "code",
      "execution_count": null,
      "metadata": {
        "id": "zUgZsQZHmnLJ",
        "outputId": "d6058b8f-ba6c-479d-c292-137e55db5027"
      },
      "outputs": [
        {
          "data": {
            "text/plain": [
              "torch.return_types.max(\n",
              "values=tensor([13.8922, 18.7923, 21.0705, 20.6666, 18.0411, 13.8922, 16.9343, 14.7135,\n",
              "        16.7691, 19.1840, 16.6580, 21.9021, 13.8922, 18.2606, 18.1764, 19.9758,\n",
              "        13.8922, 17.4331, 16.3025, 18.0223, 19.8207, 17.1016, 11.7170, 11.6275,\n",
              "        16.1215, 13.8922, 17.0159, 17.7023, 13.4762, 16.6855, 20.3924, 17.6549],\n",
              "       grad_fn=<MaxBackward0>),\n",
              "indices=tensor([ 1, 13, 13,  1,  0,  1, 12,  9, 22,  9,  1,  0,  1, 22,  1,  0,  1, 19,\n",
              "         1,  2,  5, 12, 12,  1,  0,  1, 15, 16,  8,  9,  1,  0]))"
            ]
          },
          "execution_count": 48,
          "metadata": {},
          "output_type": "execute_result"
        }
      ],
      "source": [
        "z2.max(1)"
      ]
    },
    {
      "cell_type": "code",
      "execution_count": null,
      "metadata": {
        "id": "mJbwzIUKmnLK",
        "outputId": "f25fb27b-54a4-431f-d28b-2641fafa0ea6"
      },
      "outputs": [
        {
          "data": {
            "text/plain": [
              "tensor([ 5, 13, 13,  1,  0, 15, 12,  9, 22,  9,  1,  0,  1, 22,  1,  0,  9, 19,\n",
              "         1,  2,  5, 12, 12,  1,  0, 19, 15, 16,  8,  9,  1,  0])"
            ]
          },
          "execution_count": 49,
          "metadata": {},
          "output_type": "execute_result"
        }
      ],
      "source": [
        "Y"
      ]
    },
    {
      "cell_type": "markdown",
      "metadata": {
        "id": "38Cz5pqdmnLK"
      },
      "source": [
        "- notice that we got a very few loss, because we are overfitting small number of examples (32 examples), but even though no matter how long we train we will never reach 0 loss\n",
        "    - because before the start we each word, we have the same `...` (3 dots), and for each word, the 3 dots -same input- will have different labels -starting character of the word- (so the model will never be able to get 0 loss)\n",
        "        - mine: we have the same input used to predict different outputs, so the model will never be able to predict the correct output for all them\n",
        "        - also there is a high chance that we have 3 characters used to predict different 4th characters"
      ]
    },
    {
      "cell_type": "markdown",
      "metadata": {
        "id": "eujdf9F9mnLK"
      },
      "source": [
        "### Tips on the numerical stability of the softmax in pytorch"
      ]
    },
    {
      "cell_type": "code",
      "execution_count": null,
      "metadata": {
        "id": "C_LWVGJpmnLK",
        "outputId": "5c9d4cf9-fb9a-4c88-c637-a036c4248635"
      },
      "outputs": [
        {
          "data": {
            "text/plain": [
              "tensor([4.2956e-05, 6.3752e-03, 3.1740e-04, 9.4616e-01, 4.7106e-02])"
            ]
          },
          "execution_count": 50,
          "metadata": {},
          "output_type": "execute_result"
        }
      ],
      "source": [
        "logits = torch.tensor([-5, 0, -3, 5, 2])\n",
        "counts = logits.exp()\n",
        "probs = counts / counts.sum()\n",
        "probs"
      ]
    },
    {
      "cell_type": "markdown",
      "metadata": {
        "id": "1aMknPgQmnLL"
      },
      "source": [
        "- consider what happens when some of these logits take on extreme values (very large or very small), which can happen during optimization"
      ]
    },
    {
      "cell_type": "code",
      "execution_count": null,
      "metadata": {
        "id": "o_pddGX_mnLL",
        "outputId": "4c0f36a8-18f4-483b-d445-6cb62998726d"
      },
      "outputs": [
        {
          "data": {
            "text/plain": [
              "tensor([0.0000e+00, 6.3754e-03, 3.1741e-04, 9.4620e-01, 4.7108e-02])"
            ]
          },
          "execution_count": 51,
          "metadata": {},
          "output_type": "execute_result"
        }
      ],
      "source": [
        "logits = torch.tensor([-100, 0, -3, 5, 2])\n",
        "counts = logits.exp()\n",
        "probs = counts / counts.sum()\n",
        "probs"
      ]
    },
    {
      "cell_type": "markdown",
      "metadata": {
        "id": "gbRLXACymnLL"
      },
      "source": [
        "- when we have very small number like -100 above, we still get probabilities that are well-behaved"
      ]
    },
    {
      "cell_type": "code",
      "execution_count": null,
      "metadata": {
        "id": "bPzSzh4-mnLM",
        "outputId": "6f1a235c-11a7-4069-cdf8-bd9537bdf8f0"
      },
      "outputs": [
        {
          "data": {
            "text/plain": [
              "tensor([0., 0., 0., 0., nan])"
            ]
          },
          "execution_count": 52,
          "metadata": {},
          "output_type": "execute_result"
        }
      ],
      "source": [
        "logits = torch.tensor([-10, 0, -3, 5, 100])\n",
        "counts = logits.exp()\n",
        "probs = counts / counts.sum()\n",
        "probs"
      ]
    },
    {
      "cell_type": "markdown",
      "metadata": {
        "id": "Isv8PDQrmnLN"
      },
      "source": [
        "- but when we have very large numbers like 100, we get nans, that is because the exponential of 100 is a very large number (it's infinity, simply because it coudln't be represented in flaoting point numbers), and when we divide infinity by infinity, we get nan for this number,and when we divide the rest of values whatever they are by inf, we get 0s"
      ]
    },
    {
      "cell_type": "code",
      "execution_count": null,
      "metadata": {
        "id": "I240IvCnmnLN",
        "outputId": "387487df-6485-4235-f185-f153c175b6b7"
      },
      "outputs": [
        {
          "data": {
            "text/plain": [
              "tensor([4.5400e-05, 1.0000e+00, 4.9787e-02, 1.4841e+02,        inf])"
            ]
          },
          "execution_count": 53,
          "metadata": {},
          "output_type": "execute_result"
        }
      ],
      "source": [
        "counts"
      ]
    },
    {
      "cell_type": "markdown",
      "metadata": {
        "id": "GfyExv23mnLO"
      },
      "source": [
        "- the way pytorch solves this, is that it offsets the logits by the maximum value\n",
        "- since softmax is just a normalization function, it doesn't care about the actual values of the logits, but rather the relative values of the logits to each other\n",
        "    - so no matter what we add or subtract to all the logits, the probabilities will be the same"
      ]
    },
    {
      "cell_type": "code",
      "execution_count": null,
      "metadata": {
        "id": "rHtUB_PImnLO",
        "outputId": "5e957880-140b-4d52-9090-23d28cfb7b37"
      },
      "outputs": [
        {
          "data": {
            "text/plain": [
              "tensor([4.2956e-05, 6.3752e-03, 3.1740e-04, 9.4616e-01, 4.7106e-02])"
            ]
          },
          "execution_count": 57,
          "metadata": {},
          "output_type": "execute_result"
        }
      ],
      "source": [
        "logits = torch.tensor([-5, 0, -3, 5, 2]) + 6 # try changing this added value, we will still get the same probabilities\n",
        "counts = logits.exp()\n",
        "probs = counts / counts.sum()\n",
        "probs"
      ]
    },
    {
      "cell_type": "markdown",
      "metadata": {
        "id": "wDg1QRBqmnLP"
      },
      "source": [
        "- no matter what we add or subtract from the logits, the probabilities will be the same\n",
        "- so we can subtract the maximum logit value from all the logits to avoid large +ve values"
      ]
    },
    {
      "cell_type": "code",
      "execution_count": null,
      "metadata": {
        "id": "6DX2VCbmmnLR",
        "outputId": "e414407a-10cf-4b77-d562-5d6eca8ea087"
      },
      "outputs": [
        {
          "data": {
            "text/plain": [
              "tensor([0.0000e+00, 3.7835e-44, 1.4013e-45, 5.5211e-42, 1.0000e+00])"
            ]
          },
          "execution_count": 58,
          "metadata": {},
          "output_type": "execute_result"
        }
      ],
      "source": [
        "logits = torch.tensor([-10, 0, -3, 5, 100]) - 100\n",
        "counts = logits.exp()\n",
        "probs = counts / counts.sum()\n",
        "probs"
      ]
    },
    {
      "cell_type": "markdown",
      "metadata": {
        "id": "Wzy2D8zumnLS"
      },
      "source": [
        "- that is what pytorch does"
      ]
    },
    {
      "cell_type": "markdown",
      "metadata": {
        "id": "wwa-muZqmnLS"
      },
      "source": [
        "## Training the model on the full dataset"
      ]
    },
    {
      "cell_type": "code",
      "execution_count": null,
      "metadata": {
        "id": "K_u_uKb5mnLT"
      },
      "outputs": [],
      "source": [
        "block_size = 3 # context length: how many characters do we take to predict the next one\n",
        "Y, X = [], []\n",
        "for word in words:\n",
        "    #print(word)\n",
        "    context = ['.'] * block_size  + list(word) + ['.']\n",
        "    for i in range(len(word) + 1):\n",
        "        X.append([stoi[ch] for ch in context[i:i+block_size]]) # append at index i, i+1, i+2 (i+3 is the label, that is why it is excluded here)\n",
        "        Y.append(stoi[context[i+block_size]]) # append the character i+3 as the label\n",
        "        #print(''.join(context[i:i+block_size]), '->', context[i+block_size])\n",
        "\n",
        "X = torch.tensor(X)\n",
        "Y = torch.tensor(Y)"
      ]
    },
    {
      "cell_type": "code",
      "execution_count": null,
      "metadata": {
        "id": "G_9_UeuVmnLT",
        "outputId": "153a03bd-0ee6-45cd-dfc8-005f12319dca"
      },
      "outputs": [
        {
          "data": {
            "text/plain": [
              "torch.Size([228146, 3])"
            ]
          },
          "execution_count": 60,
          "metadata": {},
          "output_type": "execute_result"
        }
      ],
      "source": [
        "X.shape"
      ]
    },
    {
      "cell_type": "markdown",
      "metadata": {
        "id": "h2r-F2FcmnLU"
      },
      "source": [
        "- we now have 228146 examples (3 characters -> 1 character)"
      ]
    },
    {
      "cell_type": "code",
      "execution_count": null,
      "metadata": {
        "id": "8XD-7X4pmnLU"
      },
      "outputs": [],
      "source": [
        "g = torch.Generator().manual_seed(2147483647)\n",
        "# parameters\n",
        "C = torch.randn((27,2), generator=g)\n",
        "W1 = torch.randn((6,100), generator=g)\n",
        "b1 = torch.randn((100,), generator=g)\n",
        "W2 = torch.randn((100,27), generator=g)\n",
        "b2 = torch.randn((27,), generator=g)\n",
        "parameters = [C, W1, b1, W2, b2] # all parameters"
      ]
    },
    {
      "cell_type": "code",
      "execution_count": null,
      "metadata": {
        "id": "aEwUypF3mnLV",
        "outputId": "723c9331-f6be-43ac-e704-30dd5662b2bd"
      },
      "outputs": [
        {
          "name": "stdout",
          "output_type": "stream",
          "text": [
            "19.505229949951172\n",
            "19.139127731323242\n",
            "18.824241638183594\n",
            "18.554031372070312\n",
            "18.31300926208496\n",
            "18.091293334960938\n",
            "17.884031295776367\n",
            "17.68878746032715\n",
            "17.504188537597656\n",
            "17.329423904418945\n"
          ]
        },
        {
          "data": {
            "text/plain": [
              "[<matplotlib.lines.Line2D at 0x18960b1b050>]"
            ]
          },
          "execution_count": 62,
          "metadata": {},
          "output_type": "execute_result"
        },
        {
          "data": {
            "image/png": "[encoded data removed]",
            "text/plain": [
              "<Figure size 640x480 with 1 Axes>"
            ]
          },
          "metadata": {},
          "output_type": "display_data"
        }
      ],
      "source": [
        "for p in parameters:\n",
        "    p.requires_grad = True\n",
        "\n",
        "losses = []\n",
        "\n",
        "for i in range(10):\n",
        "    # Forward pass\n",
        "    emb = C[X].view(-1, 6)\n",
        "    a1 = torch.tanh((emb @ W1 + b1)) # mX6 @ 6X100 = mX100 + 1X100 = mX100\n",
        "    z2 = a1 @ W2 + b2 # mX100 @ 100X27 = mX27 + 1X27 = mX27\n",
        "    # Compute loss\n",
        "    loss = F.cross_entropy(z2, Y)\n",
        "    print(loss.item())\n",
        "    losses.append(loss.item())\n",
        "\n",
        "    # Backward pass\n",
        "    for p in parameters:\n",
        "        p.grad = None\n",
        "    loss.backward()\n",
        "\n",
        "    # Update the parameters\n",
        "    for p in parameters:\n",
        "        p.data -= p.grad * 0.01\n",
        "\n",
        "plt.plot(losses)"
      ]
    },
    {
      "cell_type": "markdown",
      "metadata": {
        "id": "nJijuiURmnLV"
      },
      "source": [
        "- this is True GD, it takes a bit of time to train since we pass through the whole dataset before updating the parameters\n",
        "- in practice, people make updates to the parameters after a small number of examples (like 32 or 64), and this is called mini-batch gradient descent\n",
        "    - Sometimes this is the only way to train a model because the dataset is too large to fit in memory\n",
        "- so, we want to randomly select some portion of the dataset (a mini-batch) and train on that, and then randomly select another portion of the dataset and train on that, and so on\n",
        "- the `loss will decrease faster` (because we are updating the parameters after every mini-batch), `but the quality of our gradient is lower`, it's not the actual gradient direction, but it is good enough to make progress\n",
        "    - `it is much better to have an approximate gradient and make more steps, than to evaluate the exact gradient and take fewer steps`"
      ]
    },
    {
      "cell_type": "code",
      "execution_count": null,
      "metadata": {
        "id": "a2TkSGDkmnLV",
        "outputId": "e47d3672-6a55-4140-fb64-5c809d37b6c0"
      },
      "outputs": [
        {
          "data": {
            "text/plain": [
              "tensor([171250, 186024, 160711,  53791,   3105, 201446, 148491, 149499, 178649,\n",
              "         25118, 122738,  19302, 131596,  69491,  73078,   5087,  74873,  12303,\n",
              "         18658,  63988,  40898, 183490, 182913, 212225, 150846, 139183, 183720,\n",
              "          3521,  31193,  68516, 141406,  23467])"
            ]
          },
          "execution_count": 63,
          "metadata": {},
          "output_type": "execute_result"
        }
      ],
      "source": [
        "batch_size = 32\n",
        "torch.randint(0, X.shape[0], (batch_size,))"
      ]
    },
    {
      "cell_type": "code",
      "execution_count": null,
      "metadata": {
        "id": "djWM0xKWmnLW",
        "outputId": "afd64914-40e3-4f38-f957-81b33d9e398c"
      },
      "outputs": [
        {
          "name": "stdout",
          "output_type": "stream",
          "text": [
            "2.489607095718384\n"
          ]
        }
      ],
      "source": [
        "for p in parameters:\n",
        "    p.requires_grad = True\n",
        "\n",
        "\n",
        "for i in range(10000):\n",
        "    # mini-batch\n",
        "    idx = torch.randint(0, X.shape[0], (batch_size,))\n",
        "\n",
        "    # Forward pass\n",
        "    emb = C[X[idx]].view(-1, 6)\n",
        "    a1 = torch.tanh((emb @ W1 + b1)) # mX6 @ 6X100 = mX100 + 1X100 = mX100\n",
        "    z2 = a1 @ W2 + b2 # mX100 @ 100X27 = mX27 + 1X27 = mX27\n",
        "    # Compute loss\n",
        "    loss = F.cross_entropy(z2, Y[idx])\n",
        "\n",
        "\n",
        "    # Backward pass\n",
        "    for p in parameters:\n",
        "        p.grad = None\n",
        "    loss.backward()\n",
        "\n",
        "    # Update the parameters\n",
        "    for p in parameters:\n",
        "        p.data -= p.grad * 0.1\n",
        "\n",
        "# calculate the final loss\n",
        "emb = C[X].view(-1, 6)\n",
        "a1 = torch.tanh((emb @ W1 + b1)) # mX6 @ 6X100 = mX100 + 1X100 = mX100\n",
        "z2 = a1 @ W2 + b2 # mX100 @ 100X27 = mX27 + 1X27 = mX27\n",
        "loss = F.cross_entropy(z2, Y)\n",
        "print(loss.item())"
      ]
    },
    {
      "cell_type": "markdown",
      "metadata": {
        "id": "kkrIaA2BmnLW"
      },
      "source": [
        "## Tip: how to determine the learning rate?\n",
        "- how to get confident that we are stepping with the right speed?\n",
        "    - if it is too high, the loss will oscillate (it will go up and down)\n",
        "    - if it is too low, the loss will decrease too slowly (barely decreasing)\n",
        "- first we decide a range of learning rates that we want to explore (say from 0.001 to 1)\n",
        "    - mine: we can even run for 100 steps or so on extreme values to see the lower and upper bounds of the learning rate\n",
        "\n",
        "- then, we can use torch.linspace to generate a range of learning rates between 0.001 and 1, but it will be linearly spaced and the problem with that is it will ignore a lot of values (check course 2 week 3)\n",
        "    - but instead of stepping in the range linearly between $10^{-3}$ and $10^0$, we can step in the range logarithmically -on a log scale, which will allow us to explore wider range of learning rates-\n",
        "        - and the way to implement that is to take a linear space on the exponent level -which is the log of the learning rates- (from $-3$ to $0$), so we get linearly separated exponents, then we get the actual learning rates by taking 10 to the power of that exponent\n",
        "        - `that way, we are spaced exponentially -logarithmically- in the range above`\n"
      ]
    },
    {
      "cell_type": "code",
      "execution_count": null,
      "metadata": {
        "id": "NLM8HPazmnLX",
        "outputId": "75d764ff-0943-4f4c-eef1-a6cab87bd705"
      },
      "outputs": [
        {
          "data": {
            "text/plain": [
              "tensor([0.0010, 0.0010, 0.0010, 0.0010, 0.0010, 0.0010, 0.0010, 0.0010, 0.0011,\n",
              "        0.0011, 0.0011, 0.0011, 0.0011, 0.0011, 0.0011, 0.0011, 0.0011, 0.0011,\n",
              "        0.0011, 0.0011, 0.0011, 0.0012, 0.0012, 0.0012, 0.0012, 0.0012, 0.0012,\n",
              "        0.0012, 0.0012, 0.0012, 0.0012, 0.0012, 0.0012, 0.0013, 0.0013, 0.0013,\n",
              "        0.0013, 0.0013, 0.0013, 0.0013, 0.0013, 0.0013, 0.0013, 0.0013, 0.0014,\n",
              "        0.0014, 0.0014, 0.0014, 0.0014, 0.0014, 0.0014, 0.0014, 0.0014, 0.0014,\n",
              "        0.0015, 0.0015, 0.0015, 0.0015, 0.0015, 0.0015, 0.0015, 0.0015, 0.0015,\n",
              "        0.0015, 0.0016, 0.0016, 0.0016, 0.0016, 0.0016, 0.0016, 0.0016, 0.0016,\n",
              "        0.0016, 0.0017, 0.0017, 0.0017, 0.0017, 0.0017, 0.0017, 0.0017, 0.0017,\n",
              "        0.0018, 0.0018, 0.0018, 0.0018, 0.0018, 0.0018, 0.0018, 0.0018, 0.0019,\n",
              "        0.0019, 0.0019, 0.0019, 0.0019, 0.0019, 0.0019, 0.0019, 0.0020, 0.0020,\n",
              "        0.0020, 0.0020, 0.0020, 0.0020, 0.0020, 0.0021, 0.0021, 0.0021, 0.0021,\n",
              "        0.0021, 0.0021, 0.0021, 0.0022, 0.0022, 0.0022, 0.0022, 0.0022, 0.0022,\n",
              "        0.0022, 0.0023, 0.0023, 0.0023, 0.0023, 0.0023, 0.0023, 0.0024, 0.0024,\n",
              "        0.0024, 0.0024, 0.0024, 0.0024, 0.0025, 0.0025, 0.0025, 0.0025, 0.0025,\n",
              "        0.0025, 0.0026, 0.0026, 0.0026, 0.0026, 0.0026, 0.0027, 0.0027, 0.0027,\n",
              "        0.0027, 0.0027, 0.0027, 0.0028, 0.0028, 0.0028, 0.0028, 0.0028, 0.0029,\n",
              "        0.0029, 0.0029, 0.0029, 0.0029, 0.0030, 0.0030, 0.0030, 0.0030, 0.0030,\n",
              "        0.0031, 0.0031, 0.0031, 0.0031, 0.0032, 0.0032, 0.0032, 0.0032, 0.0032,\n",
              "        0.0033, 0.0033, 0.0033, 0.0033, 0.0034, 0.0034, 0.0034, 0.0034, 0.0034,\n",
              "        0.0035, 0.0035, 0.0035, 0.0035, 0.0036, 0.0036, 0.0036, 0.0036, 0.0037,\n",
              "        0.0037, 0.0037, 0.0037, 0.0038, 0.0038, 0.0038, 0.0039, 0.0039, 0.0039,\n",
              "        0.0039, 0.0040, 0.0040, 0.0040, 0.0040, 0.0041, 0.0041, 0.0041, 0.0042,\n",
              "        0.0042, 0.0042, 0.0042, 0.0043, 0.0043, 0.0043, 0.0044, 0.0044, 0.0044,\n",
              "        0.0045, 0.0045, 0.0045, 0.0045, 0.0046, 0.0046, 0.0046, 0.0047, 0.0047,\n",
              "        0.0047, 0.0048, 0.0048, 0.0048, 0.0049, 0.0049, 0.0049, 0.0050, 0.0050,\n",
              "        0.0050, 0.0051, 0.0051, 0.0051, 0.0052, 0.0052, 0.0053, 0.0053, 0.0053,\n",
              "        0.0054, 0.0054, 0.0054, 0.0055, 0.0055, 0.0056, 0.0056, 0.0056, 0.0057,\n",
              "        0.0057, 0.0058, 0.0058, 0.0058, 0.0059, 0.0059, 0.0060, 0.0060, 0.0060,\n",
              "        0.0061, 0.0061, 0.0062, 0.0062, 0.0062, 0.0063, 0.0063, 0.0064, 0.0064,\n",
              "        0.0065, 0.0065, 0.0066, 0.0066, 0.0067, 0.0067, 0.0067, 0.0068, 0.0068,\n",
              "        0.0069, 0.0069, 0.0070, 0.0070, 0.0071, 0.0071, 0.0072, 0.0072, 0.0073,\n",
              "        0.0073, 0.0074, 0.0074, 0.0075, 0.0075, 0.0076, 0.0076, 0.0077, 0.0077,\n",
              "        0.0078, 0.0079, 0.0079, 0.0080, 0.0080, 0.0081, 0.0081, 0.0082, 0.0082,\n",
              "        0.0083, 0.0084, 0.0084, 0.0085, 0.0085, 0.0086, 0.0086, 0.0087, 0.0088,\n",
              "        0.0088, 0.0089, 0.0090, 0.0090, 0.0091, 0.0091, 0.0092, 0.0093, 0.0093,\n",
              "        0.0094, 0.0095, 0.0095, 0.0096, 0.0097, 0.0097, 0.0098, 0.0099, 0.0099,\n",
              "        0.0100, 0.0101, 0.0101, 0.0102, 0.0103, 0.0104, 0.0104, 0.0105, 0.0106,\n",
              "        0.0106, 0.0107, 0.0108, 0.0109, 0.0109, 0.0110, 0.0111, 0.0112, 0.0112,\n",
              "        0.0113, 0.0114, 0.0115, 0.0116, 0.0116, 0.0117, 0.0118, 0.0119, 0.0120,\n",
              "        0.0121, 0.0121, 0.0122, 0.0123, 0.0124, 0.0125, 0.0126, 0.0127, 0.0127,\n",
              "        0.0128, 0.0129, 0.0130, 0.0131, 0.0132, 0.0133, 0.0134, 0.0135, 0.0136,\n",
              "        0.0137, 0.0137, 0.0138, 0.0139, 0.0140, 0.0141, 0.0142, 0.0143, 0.0144,\n",
              "        0.0145, 0.0146, 0.0147, 0.0148, 0.0149, 0.0150, 0.0151, 0.0152, 0.0154,\n",
              "        0.0155, 0.0156, 0.0157, 0.0158, 0.0159, 0.0160, 0.0161, 0.0162, 0.0163,\n",
              "        0.0165, 0.0166, 0.0167, 0.0168, 0.0169, 0.0170, 0.0171, 0.0173, 0.0174,\n",
              "        0.0175, 0.0176, 0.0178, 0.0179, 0.0180, 0.0181, 0.0182, 0.0184, 0.0185,\n",
              "        0.0186, 0.0188, 0.0189, 0.0190, 0.0192, 0.0193, 0.0194, 0.0196, 0.0197,\n",
              "        0.0198, 0.0200, 0.0201, 0.0202, 0.0204, 0.0205, 0.0207, 0.0208, 0.0210,\n",
              "        0.0211, 0.0212, 0.0214, 0.0215, 0.0217, 0.0218, 0.0220, 0.0221, 0.0223,\n",
              "        0.0225, 0.0226, 0.0228, 0.0229, 0.0231, 0.0232, 0.0234, 0.0236, 0.0237,\n",
              "        0.0239, 0.0241, 0.0242, 0.0244, 0.0246, 0.0247, 0.0249, 0.0251, 0.0253,\n",
              "        0.0254, 0.0256, 0.0258, 0.0260, 0.0261, 0.0263, 0.0265, 0.0267, 0.0269,\n",
              "        0.0271, 0.0273, 0.0274, 0.0276, 0.0278, 0.0280, 0.0282, 0.0284, 0.0286,\n",
              "        0.0288, 0.0290, 0.0292, 0.0294, 0.0296, 0.0298, 0.0300, 0.0302, 0.0304,\n",
              "        0.0307, 0.0309, 0.0311, 0.0313, 0.0315, 0.0317, 0.0320, 0.0322, 0.0324,\n",
              "        0.0326, 0.0328, 0.0331, 0.0333, 0.0335, 0.0338, 0.0340, 0.0342, 0.0345,\n",
              "        0.0347, 0.0350, 0.0352, 0.0354, 0.0357, 0.0359, 0.0362, 0.0364, 0.0367,\n",
              "        0.0369, 0.0372, 0.0375, 0.0377, 0.0380, 0.0382, 0.0385, 0.0388, 0.0390,\n",
              "        0.0393, 0.0396, 0.0399, 0.0401, 0.0404, 0.0407, 0.0410, 0.0413, 0.0416,\n",
              "        0.0418, 0.0421, 0.0424, 0.0427, 0.0430, 0.0433, 0.0436, 0.0439, 0.0442,\n",
              "        0.0445, 0.0448, 0.0451, 0.0455, 0.0458, 0.0461, 0.0464, 0.0467, 0.0471,\n",
              "        0.0474, 0.0477, 0.0480, 0.0484, 0.0487, 0.0491, 0.0494, 0.0497, 0.0501,\n",
              "        0.0504, 0.0508, 0.0511, 0.0515, 0.0518, 0.0522, 0.0526, 0.0529, 0.0533,\n",
              "        0.0537, 0.0540, 0.0544, 0.0548, 0.0552, 0.0556, 0.0559, 0.0563, 0.0567,\n",
              "        0.0571, 0.0575, 0.0579, 0.0583, 0.0587, 0.0591, 0.0595, 0.0599, 0.0604,\n",
              "        0.0608, 0.0612, 0.0616, 0.0621, 0.0625, 0.0629, 0.0634, 0.0638, 0.0642,\n",
              "        0.0647, 0.0651, 0.0656, 0.0660, 0.0665, 0.0670, 0.0674, 0.0679, 0.0684,\n",
              "        0.0688, 0.0693, 0.0698, 0.0703, 0.0708, 0.0713, 0.0718, 0.0723, 0.0728,\n",
              "        0.0733, 0.0738, 0.0743, 0.0748, 0.0753, 0.0758, 0.0764, 0.0769, 0.0774,\n",
              "        0.0780, 0.0785, 0.0790, 0.0796, 0.0802, 0.0807, 0.0813, 0.0818, 0.0824,\n",
              "        0.0830, 0.0835, 0.0841, 0.0847, 0.0853, 0.0859, 0.0865, 0.0871, 0.0877,\n",
              "        0.0883, 0.0889, 0.0895, 0.0901, 0.0908, 0.0914, 0.0920, 0.0927, 0.0933,\n",
              "        0.0940, 0.0946, 0.0953, 0.0959, 0.0966, 0.0973, 0.0979, 0.0986, 0.0993,\n",
              "        0.1000, 0.1007, 0.1014, 0.1021, 0.1028, 0.1035, 0.1042, 0.1050, 0.1057,\n",
              "        0.1064, 0.1072, 0.1079, 0.1087, 0.1094, 0.1102, 0.1109, 0.1117, 0.1125,\n",
              "        0.1133, 0.1140, 0.1148, 0.1156, 0.1164, 0.1172, 0.1181, 0.1189, 0.1197,\n",
              "        0.1205, 0.1214, 0.1222, 0.1231, 0.1239, 0.1248, 0.1256, 0.1265, 0.1274,\n",
              "        0.1283, 0.1292, 0.1301, 0.1310, 0.1319, 0.1328, 0.1337, 0.1346, 0.1356,\n",
              "        0.1365, 0.1374, 0.1384, 0.1394, 0.1403, 0.1413, 0.1423, 0.1433, 0.1443,\n",
              "        0.1453, 0.1463, 0.1473, 0.1483, 0.1493, 0.1504, 0.1514, 0.1525, 0.1535,\n",
              "        0.1546, 0.1557, 0.1567, 0.1578, 0.1589, 0.1600, 0.1611, 0.1623, 0.1634,\n",
              "        0.1645, 0.1657, 0.1668, 0.1680, 0.1691, 0.1703, 0.1715, 0.1727, 0.1739,\n",
              "        0.1751, 0.1763, 0.1775, 0.1788, 0.1800, 0.1812, 0.1825, 0.1838, 0.1850,\n",
              "        0.1863, 0.1876, 0.1889, 0.1902, 0.1916, 0.1929, 0.1942, 0.1956, 0.1969,\n",
              "        0.1983, 0.1997, 0.2010, 0.2024, 0.2038, 0.2053, 0.2067, 0.2081, 0.2096,\n",
              "        0.2110, 0.2125, 0.2140, 0.2154, 0.2169, 0.2184, 0.2200, 0.2215, 0.2230,\n",
              "        0.2246, 0.2261, 0.2277, 0.2293, 0.2309, 0.2325, 0.2341, 0.2357, 0.2373,\n",
              "        0.2390, 0.2406, 0.2423, 0.2440, 0.2457, 0.2474, 0.2491, 0.2508, 0.2526,\n",
              "        0.2543, 0.2561, 0.2579, 0.2597, 0.2615, 0.2633, 0.2651, 0.2669, 0.2688,\n",
              "        0.2707, 0.2725, 0.2744, 0.2763, 0.2783, 0.2802, 0.2821, 0.2841, 0.2861,\n",
              "        0.2880, 0.2900, 0.2921, 0.2941, 0.2961, 0.2982, 0.3002, 0.3023, 0.3044,\n",
              "        0.3065, 0.3087, 0.3108, 0.3130, 0.3151, 0.3173, 0.3195, 0.3217, 0.3240,\n",
              "        0.3262, 0.3285, 0.3308, 0.3331, 0.3354, 0.3377, 0.3400, 0.3424, 0.3448,\n",
              "        0.3472, 0.3496, 0.3520, 0.3544, 0.3569, 0.3594, 0.3619, 0.3644, 0.3669,\n",
              "        0.3695, 0.3720, 0.3746, 0.3772, 0.3798, 0.3825, 0.3851, 0.3878, 0.3905,\n",
              "        0.3932, 0.3959, 0.3987, 0.4014, 0.4042, 0.4070, 0.4098, 0.4127, 0.4155,\n",
              "        0.4184, 0.4213, 0.4243, 0.4272, 0.4302, 0.4331, 0.4362, 0.4392, 0.4422,\n",
              "        0.4453, 0.4484, 0.4515, 0.4546, 0.4578, 0.4610, 0.4642, 0.4674, 0.4706,\n",
              "        0.4739, 0.4772, 0.4805, 0.4838, 0.4872, 0.4906, 0.4940, 0.4974, 0.5008,\n",
              "        0.5043, 0.5078, 0.5113, 0.5149, 0.5185, 0.5221, 0.5257, 0.5293, 0.5330,\n",
              "        0.5367, 0.5404, 0.5442, 0.5479, 0.5517, 0.5556, 0.5594, 0.5633, 0.5672,\n",
              "        0.5712, 0.5751, 0.5791, 0.5831, 0.5872, 0.5913, 0.5954, 0.5995, 0.6036,\n",
              "        0.6078, 0.6120, 0.6163, 0.6206, 0.6249, 0.6292, 0.6336, 0.6380, 0.6424,\n",
              "        0.6469, 0.6513, 0.6559, 0.6604, 0.6650, 0.6696, 0.6743, 0.6789, 0.6837,\n",
              "        0.6884, 0.6932, 0.6980, 0.7028, 0.7077, 0.7126, 0.7176, 0.7225, 0.7275,\n",
              "        0.7326, 0.7377, 0.7428, 0.7480, 0.7531, 0.7584, 0.7636, 0.7689, 0.7743,\n",
              "        0.7796, 0.7850, 0.7905, 0.7960, 0.8015, 0.8071, 0.8127, 0.8183, 0.8240,\n",
              "        0.8297, 0.8355, 0.8412, 0.8471, 0.8530, 0.8589, 0.8648, 0.8708, 0.8769,\n",
              "        0.8830, 0.8891, 0.8953, 0.9015, 0.9077, 0.9140, 0.9204, 0.9268, 0.9332,\n",
              "        0.9397, 0.9462, 0.9528, 0.9594, 0.9660, 0.9727, 0.9795, 0.9863, 0.9931,\n",
              "        1.0000])"
            ]
          },
          "execution_count": 65,
          "metadata": {},
          "output_type": "execute_result"
        }
      ],
      "source": [
        "lrs_exponent = torch.linspace(-3, 0, 1000)\n",
        "lrs = 10**lrs_exponent\n",
        "lrs"
      ]
    },
    {
      "cell_type": "markdown",
      "metadata": {
        "id": "0CD6kDgTmnLX"
      },
      "source": [
        "- so these are the candidate learning rates that we will search over (between 0.001 and 1 but exponentially stepped)\n",
        "    - so, we have 1000 candidate and what we will do is to run the training loop for 1000 steps (for each learning rate candidate), and we will use a different learning rate for each step, starting from the smallest to the largest\n",
        "        - we do that while keeping track of the losses for each learning rate"
      ]
    },
    {
      "cell_type": "code",
      "execution_count": null,
      "metadata": {
        "id": "CXJT0wbimnLX"
      },
      "outputs": [],
      "source": [
        "g = torch.Generator().manual_seed(2147483647)\n",
        "# parameters\n",
        "C = torch.randn((27,2), generator=g)\n",
        "W1 = torch.randn((6,100), generator=g)\n",
        "b1 = torch.randn((100,), generator=g)\n",
        "W2 = torch.randn((100,27), generator=g)\n",
        "b2 = torch.randn((27,), generator=g)\n",
        "parameters = [C, W1, b1, W2, b2] # all parameters"
      ]
    },
    {
      "cell_type": "code",
      "execution_count": null,
      "metadata": {
        "id": "CeHxECipmnLX"
      },
      "outputs": [],
      "source": [
        "for p in parameters:\n",
        "    p.requires_grad = True\n",
        "\n",
        "\n",
        "lossi = []\n",
        "lri = []\n",
        "\n",
        "for i in range(1000):\n",
        "    # mini-batch\n",
        "    idx = torch.randint(0, X.shape[0], (batch_size,))\n",
        "\n",
        "    # Forward pass\n",
        "    emb = C[X[idx]].view(-1, 6)\n",
        "    a1 = torch.tanh((emb @ W1 + b1)) # mX6 @ 6X100 = mX100 + 1X100 = mX100\n",
        "    z2 = a1 @ W2 + b2 # mX100 @ 100X27 = mX27 + 1X27 = mX27\n",
        "    # Compute loss\n",
        "    loss = F.cross_entropy(z2, Y[idx])\n",
        "\n",
        "\n",
        "    # Backward pass\n",
        "    for p in parameters:\n",
        "        p.grad = None\n",
        "    loss.backward()\n",
        "\n",
        "    # Update the parameters\n",
        "    for p in parameters:\n",
        "        p.data -= p.grad * lrs[i]\n",
        "\n",
        "    # track stats\n",
        "    lossi.append(loss.item())\n",
        "    lri.append(lrs[i])"
      ]
    },
    {
      "cell_type": "code",
      "execution_count": null,
      "metadata": {
        "id": "AkmhbLqemnLY",
        "outputId": "b8626071-f6ed-4606-eb03-3e25215dab68"
      },
      "outputs": [
        {
          "data": {
            "text/plain": [
              "[<matplotlib.lines.Line2D at 0x18961bbe2d0>]"
            ]
          },
          "execution_count": 74,
          "metadata": {},
          "output_type": "execute_result"
        },
        {
          "data": {
            "image/png": "[encoded data removed]",
            "text/plain": [
              "<Figure size 640x480 with 1 Axes>"
            ]
          },
          "metadata": {},
          "output_type": "display_data"
        }
      ],
      "source": [
        "plt.plot(lri, lossi)"
      ]
    },
    {
      "cell_type": "markdown",
      "metadata": {
        "id": "B2fzfP-ZmnLY"
      },
      "source": [
        "- we often will find the plot to have the above pattern\n",
        "    - at the very beginning, we had very low learning rates, so barely anything happened\n",
        "    - then we get to a nice spot (at the bottom of the curve),\n",
        "    - then with higher learning rates than what's right, we see that the loss starts to oscillate (it goes up and down)\n",
        "\n",
        "- so, a good learning rate will correspond the the bottom of the curve, it is hard to find the exact learning rate, so we will track the losses against the exponents"
      ]
    },
    {
      "cell_type": "code",
      "execution_count": null,
      "metadata": {
        "id": "a4smss8tmnLY"
      },
      "outputs": [],
      "source": [
        "g = torch.Generator().manual_seed(2147483647)\n",
        "# parameters\n",
        "C = torch.randn((27,2), generator=g)\n",
        "W1 = torch.randn((6,100), generator=g)\n",
        "b1 = torch.randn((100,), generator=g)\n",
        "W2 = torch.randn((100,27), generator=g)\n",
        "b2 = torch.randn((27,), generator=g)\n",
        "parameters = [C, W1, b1, W2, b2] # all parameters"
      ]
    },
    {
      "cell_type": "code",
      "execution_count": null,
      "metadata": {
        "id": "paP17YoamnLY"
      },
      "outputs": [],
      "source": [
        "for p in parameters:\n",
        "    p.requires_grad = True\n",
        "\n",
        "\n",
        "lossi = []\n",
        "lri = []\n",
        "\n",
        "for i in range(1000):\n",
        "    # mini-batch\n",
        "    idx = torch.randint(0, X.shape[0], (batch_size,))\n",
        "\n",
        "    # Forward pass\n",
        "    emb = C[X[idx]].view(-1, 6)\n",
        "    a1 = torch.tanh((emb @ W1 + b1)) # mX6 @ 6X100 = mX100 + 1X100 = mX100\n",
        "    z2 = a1 @ W2 + b2 # mX100 @ 100X27 = mX27 + 1X27 = mX27\n",
        "    # Compute loss\n",
        "    loss = F.cross_entropy(z2, Y[idx])\n",
        "\n",
        "\n",
        "    # Backward pass\n",
        "    for p in parameters:\n",
        "        p.grad = None\n",
        "    loss.backward()\n",
        "\n",
        "    # Update the parameters\n",
        "    for p in parameters:\n",
        "        p.data -= p.grad * lrs[i]\n",
        "\n",
        "    # track stats\n",
        "    lossi.append(loss.item())\n",
        "    lri.append(lrs_exponent[i])"
      ]
    },
    {
      "cell_type": "code",
      "execution_count": null,
      "metadata": {
        "id": "uvihTbfvmnLZ",
        "outputId": "e42d4303-e06e-4a64-c460-00280da36d17"
      },
      "outputs": [
        {
          "data": {
            "text/plain": [
              "[<matplotlib.lines.Line2D at 0x18961d4cc50>]"
            ]
          },
          "execution_count": 77,
          "metadata": {},
          "output_type": "execute_result"
        },
        {
          "data": {
            "image/png": "[encoded data removed]",
            "text/plain": [
              "<Figure size 640x480 with 1 Axes>"
            ]
          },
          "metadata": {},
          "output_type": "display_data"
        }
      ],
      "source": [
        "plt.plot(lri, lossi)"
      ]
    },
    {
      "cell_type": "markdown",
      "metadata": {
        "id": "bP3MNzwpmnLZ"
      },
      "source": [
        "- we see that a good learning rate exponent is around -1 (which corresponds to a learning rate of $10^{-1}$ or $0.1$), so we will use that learning rate to train the model\n",
        "    - that is how we roughly determine the learning rate in advance\n",
        "    - we can run for a very long time using that learning rate (mine: is it general or specific to the problem?)"
      ]
    },
    {
      "cell_type": "code",
      "execution_count": null,
      "metadata": {
        "id": "WNWetyvqmnLZ"
      },
      "outputs": [],
      "source": [
        "g = torch.Generator().manual_seed(2147483647)\n",
        "# parameters\n",
        "C = torch.randn((27,2), generator=g)\n",
        "W1 = torch.randn((6,100), generator=g)\n",
        "b1 = torch.randn((100,), generator=g)\n",
        "W2 = torch.randn((100,27), generator=g)\n",
        "b2 = torch.randn((27,), generator=g)\n",
        "parameters = [C, W1, b1, W2, b2] # all parameters"
      ]
    },
    {
      "cell_type": "code",
      "execution_count": null,
      "metadata": {
        "id": "IOHMZOJymnLa",
        "outputId": "300a1798-5020-48e0-e224-b4b4d50f2651"
      },
      "outputs": [
        {
          "name": "stdout",
          "output_type": "stream",
          "text": [
            "2.2762491703033447\n"
          ]
        }
      ],
      "source": [
        "for p in parameters:\n",
        "    p.requires_grad = True\n",
        "\n",
        "\n",
        "for i in range(30000):\n",
        "    # mini-batch\n",
        "    idx = torch.randint(0, X.shape[0], (batch_size,))\n",
        "\n",
        "    # Forward pass\n",
        "    emb = C[X[idx]].view(-1, 6)\n",
        "    a1 = torch.tanh((emb @ W1 + b1)) # mX6 @ 6X100 = mX100 + 1X100 = mX100\n",
        "    z2 = a1 @ W2 + b2 # mX100 @ 100X27 = mX27 + 1X27 = mX27\n",
        "    # Compute loss\n",
        "    loss = F.cross_entropy(z2, Y[idx])\n",
        "\n",
        "\n",
        "    # Backward pass\n",
        "    for p in parameters:\n",
        "        p.grad = None\n",
        "    loss.backward()\n",
        "\n",
        "    # Update the parameters\n",
        "    for p in parameters:\n",
        "        p.data -= p.grad * 0.1\n",
        "\n",
        "\n",
        "# print the final loss\n",
        "emb = C[X].view(-1, 6)\n",
        "a1 = torch.tanh((emb @ W1 + b1)) # mX6 @ 6X100 = mX100 + 1X100 = mX100\n",
        "z2 = a1 @ W2 + b2 # mX100 @ 100X27 = mX27 + 1X27 = mX27\n",
        "loss = F.cross_entropy(z2, Y)\n",
        "print(loss.item())"
      ]
    },
    {
      "cell_type": "markdown",
      "metadata": {
        "id": "PCK9VmsWmnLa"
      },
      "source": [
        "- we keep rerunning the above cell, until the loss doesn't decrease anymore\n",
        "    - and now let's do learning rate decay, by taking the learning rate and 10x lower it (to $0.01$) at the late stages of training potentially to get to a better minimum"
      ]
    },
    {
      "cell_type": "code",
      "execution_count": null,
      "metadata": {
        "id": "AHSsf9B7mnLa",
        "outputId": "81cfd384-1b09-447d-d14a-a33d676c5b0c"
      },
      "outputs": [
        {
          "name": "stdout",
          "output_type": "stream",
          "text": [
            "2.225883960723877\n"
          ]
        }
      ],
      "source": [
        "for p in parameters:\n",
        "    p.requires_grad = True\n",
        "\n",
        "\n",
        "for i in range(10000):\n",
        "    # mini-batch\n",
        "    idx = torch.randint(0, X.shape[0], (batch_size,))\n",
        "\n",
        "    # Forward pass\n",
        "    emb = C[X[idx]].view(-1, 6)\n",
        "    a1 = torch.tanh((emb @ W1 + b1)) # mX6 @ 6X100 = mX100 + 1X100 = mX100\n",
        "    z2 = a1 @ W2 + b2 # mX100 @ 100X27 = mX27 + 1X27 = mX27\n",
        "    # Compute loss\n",
        "    loss = F.cross_entropy(z2, Y[idx])\n",
        "\n",
        "\n",
        "    # Backward pass\n",
        "    for p in parameters:\n",
        "        p.grad = None\n",
        "    loss.backward()\n",
        "\n",
        "    # Update the parameters\n",
        "    for p in parameters:\n",
        "        p.data -= p.grad * 0.01\n",
        "\n",
        "\n",
        "# print the final loss\n",
        "emb = C[X].view(-1, 6)\n",
        "a1 = torch.tanh((emb @ W1 + b1)) # mX6 @ 6X100 = mX100 + 1X100 = mX100\n",
        "z2 = a1 @ W2 + b2 # mX100 @ 100X27 = mX27 + 1X27 = mX27\n",
        "loss = F.cross_entropy(z2, Y)\n",
        "print(loss.item())"
      ]
    },
    {
      "cell_type": "markdown",
      "metadata": {
        "id": "TTCDtt7fmnLf"
      },
      "source": [
        "- Recap\n",
        "    - we first find a decent learning rate using the approach we saw above (using exponentially spaced learning rates in some range)\n",
        "    - then we start with it and train for a while until the loss doesn't decrease anymore, now we do learning rate decay by a ceratin factor (like 10x) and train for a few"
      ]
    },
    {
      "cell_type": "markdown",
      "metadata": {
        "id": "wcVCN93EmnLg"
      },
      "source": [
        "## Analyzing the results\n",
        "\n",
        "- the model got us around 2.26 loss, which is lower than what we got with the bigram model (2.46 loss)\n",
        "- but there is something to be careful with, having a lower loss doesn't always mean a better model, why?\n",
        "    - this model is failry small, but sometimes the models can get larger and larger as we add more parameters (we could have thousands or millions of parameters)\n",
        "    - and as the capcaity of the model grows, it becomes more and more capable of overfitting the training set (that means all the model is doing is memorizing the training set verbaitm (literally)),\n",
        "    - and in the context of language modeling, if we take that model and try to sample from it, we will basically only get examples exactly as they are in the training set, and if we try to calcualte the probability of new similar examples, it will be very low\n",
        "- so, `the standard in the field is to split up the dataset into 3 splits`, the training split, the validation split, and the test split\n",
        "    - typically, train could be 80% of the data, validation could be 10% of the data, and test could be 10% of the data (roughly)\n",
        "    - now these 80% of the dataset is used to train the model\n",
        "    - and the 10% is used to tune the hyperparameters (like the learning rate, the size of the hidden layer, etc.), and by tuning we mean we try a lot of options of these hyperparameters and see which one gives us the best performance on the validation set\n",
        "    - the final 10% is used to evaluate the model at the end on data that it has never been adjusted on"
      ]
    },
    {
      "cell_type": "markdown",
      "metadata": {
        "id": "p8mWf9cNmnLg"
      },
      "source": [
        "## Split the dataset"
      ]
    },
    {
      "cell_type": "code",
      "execution_count": null,
      "metadata": {
        "id": "uStOsO4WmnLg",
        "outputId": "edcd97d6-ac33-4a54-f11c-483fd21a145d"
      },
      "outputs": [
        {
          "name": "stdout",
          "output_type": "stream",
          "text": [
            "torch.Size([182625, 3]) torch.Size([182625])\n",
            "torch.Size([22655, 3]) torch.Size([22655])\n",
            "torch.Size([22866, 3]) torch.Size([22866])\n"
          ]
        }
      ],
      "source": [
        "def build_dataset(words):\n",
        "    block_size = 3 # context length: how many characters do we take to predict the next one\n",
        "    Y, X = [], []\n",
        "    for word in words:\n",
        "        #print(word)\n",
        "        context = ['.'] * block_size  + list(word) + ['.']\n",
        "        for i in range(len(word) + 1):\n",
        "            X.append([stoi[ch] for ch in context[i:i+block_size]]) # append at index i, i+1, i+2 (i+3 is the label, that is why it is excluded here)\n",
        "            Y.append(stoi[context[i+block_size]]) # append the character i+3 as the label\n",
        "            #print(''.join(context[i:i+block_size]), '->', context[i+block_size])\n",
        "\n",
        "    X = torch.tensor(X)\n",
        "    Y = torch.tensor(Y)\n",
        "    print(X.shape, Y.shape)\n",
        "    return X, Y\n",
        "\n",
        "import random\n",
        "random.seed(42)\n",
        "# shuffle the words\n",
        "random.shuffle(words)\n",
        "n1 = int(0.8 * len(words))\n",
        "n2 = int(0.9 * len(words))\n",
        "\n",
        "x_train, y_train = build_dataset(words[:n1])\n",
        "x_val, y_val = build_dataset(words[n1:n2])\n",
        "x_test, y_test = build_dataset(words[n2:])"
      ]
    },
    {
      "cell_type": "code",
      "execution_count": null,
      "metadata": {
        "id": "7r4MWs40mnLh"
      },
      "outputs": [],
      "source": [
        "g = torch.Generator().manual_seed(2147483647)\n",
        "# parameters\n",
        "C = torch.randn((27,2), generator=g)\n",
        "W1 = torch.randn((6,100), generator=g)\n",
        "b1 = torch.randn((100,), generator=g)\n",
        "W2 = torch.randn((100,27), generator=g)\n",
        "b2 = torch.randn((27,), generator=g)\n",
        "parameters = [C, W1, b1, W2, b2] # all parameters"
      ]
    },
    {
      "cell_type": "code",
      "execution_count": null,
      "metadata": {
        "id": "BZtzE-csmnLh",
        "outputId": "019c4f9d-7481-4d49-b096-465f152a4094"
      },
      "outputs": [
        {
          "name": "stdout",
          "output_type": "stream",
          "text": [
            "Training Loss: 2.245361328125\n",
            "Validation Loss: 2.24772310256958\n"
          ]
        }
      ],
      "source": [
        "for p in parameters:\n",
        "    p.requires_grad = True\n",
        "\n",
        "\n",
        "for i in range(50000):\n",
        "    # mini-batch\n",
        "    idx = torch.randint(0, x_train.shape[0], (batch_size,))\n",
        "\n",
        "    # Forward pass\n",
        "    emb = C[x_train[idx]].view(-1, 6)\n",
        "    a1 = torch.tanh((emb @ W1 + b1)) # mX6 @ 6X100 = mX100 + 1X100 = mX100\n",
        "    z2 = a1 @ W2 + b2 # mX100 @ 100X27 = mX27 + 1X27 = mX27\n",
        "    # Compute loss\n",
        "    loss = F.cross_entropy(z2, y_train[idx])\n",
        "\n",
        "\n",
        "    # Backward pass\n",
        "    for p in parameters:\n",
        "        p.grad = None\n",
        "    loss.backward()\n",
        "\n",
        "    # Update the parameters\n",
        "    for p in parameters:\n",
        "        p.data -= p.grad * 0.01\n",
        "\n",
        "\n",
        "# print the final loss\n",
        "emb = C[x_train].view(-1, 6)\n",
        "a1 = torch.tanh((emb @ W1 + b1)) # mX6 @ 6X100 = mX100 + 1X100 = mX100\n",
        "z2 = a1 @ W2 + b2 # mX100 @ 100X27 = mX27 + 1X27 = mX27\n",
        "loss = F.cross_entropy(z2, y_train)\n",
        "print(\"Training Loss:\", loss.item())\n",
        "\n",
        "# validation loss\n",
        "emb = C[x_val].view(-1, 6)\n",
        "a1 = torch.tanh((emb @ W1 + b1)) # mX6 @ 6X100 = mX100 + 1X100 = mX100\n",
        "z2 = a1 @ W2 + b2 # mX100 @ 100X27 = mX27 + 1X27 = mX27\n",
        "loss = F.cross_entropy(z2, y_val)\n",
        "print(\"Validation Loss:\", loss.item())"
      ]
    },
    {
      "cell_type": "markdown",
      "metadata": {
        "id": "rYIPFkKLmnLi"
      },
      "source": [
        "- so we got comparable losses on the train and validation set, even though the model parameters were not optimized on the validation set, so we are not overfitting\n",
        "    - the model is not powerful enough to memorize the training data, and so far we are what's called `underfitting, because the train loss and the dev loss are roughly equal` and we expect to gain perfrmance improvments by scaling up the network, mine: i guess what he means is that as long as both are equal, we can always make the model larger and the loss smaller up to a certain point before we start overfitting\n",
        "\n",
        "- we seem to be saturating at around 2.2 loss on both the train and validation set, so we are not overfitting yet, and we expect to gain performance improvements by scaling up the network"
      ]
    },
    {
      "cell_type": "markdown",
      "metadata": {
        "id": "3-qcgnyzmnLi"
      },
      "source": [
        "## Experiment: Larger Hidden Layer"
      ]
    },
    {
      "cell_type": "code",
      "execution_count": null,
      "metadata": {
        "id": "b9u1S1j6mnLi",
        "outputId": "366512cc-38c9-4540-b2e4-68f31cca8c08"
      },
      "outputs": [
        {
          "name": "stdout",
          "output_type": "stream",
          "text": [
            "10281\n"
          ]
        }
      ],
      "source": [
        "g = torch.Generator().manual_seed(2147483647)\n",
        "# parameters\n",
        "C = torch.randn((27,2), generator=g)\n",
        "W1 = torch.randn((6,300), generator=g)\n",
        "b1 = torch.randn((300,), generator=g)\n",
        "W2 = torch.randn((300,27), generator=g)\n",
        "b2 = torch.randn((27,), generator=g)\n",
        "parameters = [C, W1, b1, W2, b2] # all parameters\n",
        "print(sum(p.numel() for p in parameters))"
      ]
    },
    {
      "cell_type": "markdown",
      "metadata": {
        "id": "ZBQHTS1smnLj"
      },
      "source": [
        "- now we have around 10,000 parameters"
      ]
    },
    {
      "cell_type": "code",
      "execution_count": null,
      "metadata": {
        "id": "enhuBXtemnLj"
      },
      "outputs": [],
      "source": [
        "lri = []\n",
        "lossi = []"
      ]
    },
    {
      "cell_type": "code",
      "execution_count": null,
      "metadata": {
        "id": "VGsfDCQymnLj",
        "outputId": "82124f70-c174-477c-d470-ecb513471e4a"
      },
      "outputs": [
        {
          "name": "stdout",
          "output_type": "stream",
          "text": [
            "Training Loss: 2.223780870437622\n",
            "Validation Loss: 2.234570264816284\n"
          ]
        }
      ],
      "source": [
        "for p in parameters:\n",
        "    p.requires_grad = True\n",
        "\n",
        "\n",
        "for i in range(30000):\n",
        "    # mini-batch\n",
        "    idx = torch.randint(0, x_train.shape[0], (batch_size,))\n",
        "\n",
        "    # Forward pass\n",
        "    emb = C[x_train[idx]].view(-1, 6)\n",
        "    a1 = torch.tanh((emb @ W1 + b1)) # mX6 @ 6X100 = mX100 + 1X100 = mX100\n",
        "    z2 = a1 @ W2 + b2 # mX100 @ 100X27 = mX27 + 1X27 = mX27\n",
        "    # Compute loss\n",
        "    loss = F.cross_entropy(z2, y_train[idx])\n",
        "\n",
        "\n",
        "    # Backward pass\n",
        "    for p in parameters:\n",
        "        p.grad = None\n",
        "    loss.backward()\n",
        "\n",
        "    # Update the parameters\n",
        "    for p in parameters:\n",
        "        p.data -= p.grad * 0.01\n",
        "\n",
        "    # track stats\n",
        "    lossi.append(loss.item())\n",
        "\n",
        "# print the final loss\n",
        "emb = C[x_train].view(-1, 6)\n",
        "a1 = torch.tanh((emb @ W1 + b1)) # mX6 @ 6X100 = mX100 + 1X100 = mX100\n",
        "z2 = a1 @ W2 + b2 # mX100 @ 100X27 = mX27 + 1X27 = mX27\n",
        "loss = F.cross_entropy(z2, y_train)\n",
        "print(\"Training Loss:\", loss.item())\n",
        "\n",
        "# validation loss\n",
        "emb = C[x_val].view(-1, 6)\n",
        "a1 = torch.tanh((emb @ W1 + b1)) # mX6 @ 6X100 = mX100 + 1X100 = mX100\n",
        "z2 = a1 @ W2 + b2 # mX100 @ 100X27 = mX27 + 1X27 = mX27\n",
        "loss = F.cross_entropy(z2, y_val)\n",
        "print(\"Validation Loss:\", loss.item())"
      ]
    },
    {
      "cell_type": "code",
      "execution_count": null,
      "metadata": {
        "id": "tmLvgwGfmnLk",
        "outputId": "8504e61d-cb2e-41db-c91e-5449e5c1d16d"
      },
      "outputs": [
        {
          "data": {
            "text/plain": [
              "[<matplotlib.lines.Line2D at 0x18961ce5550>]"
            ]
          },
          "execution_count": 131,
          "metadata": {},
          "output_type": "execute_result"
        },
        {
          "data": {
            "image/png": "[encoded data removed]",
            "text/plain": [
              "<Figure size 640x480 with 1 Axes>"
            ]
          },
          "metadata": {},
          "output_type": "display_data"
        }
      ],
      "source": [
        "plt.plot(torch.arange(len(lossi)), lossi)"
      ]
    },
    {
      "cell_type": "markdown",
      "metadata": {
        "id": "wOWmnEpvmnLk"
      },
      "source": [
        "- there is quite a bit of thickness in the loss curve, and that is because we are optimizing on the mini-batches, they create a little bit of noise in this\n",
        "    - we may wanna increase the batch size to reduce the noise and have a higher quality gradient, that will allow us to see the trend more clearly (actually we will plot the log of the loss to see the trend more clearly next)"
      ]
    },
    {
      "cell_type": "markdown",
      "metadata": {
        "id": "QYIB6VlbmnLk"
      },
      "source": [
        "- we see that we still at the same loss even after increasing the hidden layer size, so it could be that the bottleneck of the network right now are the embeddings (the 2-dimensional embeddings),\n",
        "    - it can be that we are cramming way too many points -characters- into a very small space, and the neural net is not able to use that space effectively"
      ]
    },
    {
      "cell_type": "markdown",
      "metadata": {
        "id": "GZRz3WotmnLk"
      },
      "source": [
        "## Visualizing the Embeddings (before we scale them up)"
      ]
    },
    {
      "cell_type": "code",
      "execution_count": null,
      "metadata": {
        "id": "kTR2Ssj1mnLk",
        "outputId": "d26cc021-88aa-48b9-96b9-a8dd95f00b7e"
      },
      "outputs": [
        {
          "data": {
            "image/png": "[encoded data removed]",
            "text/plain": [
              "<Figure size 800x800 with 1 Axes>"
            ]
          },
          "metadata": {},
          "output_type": "display_data"
        }
      ],
      "source": [
        "plt.figure(figsize=(8,8))\n",
        "plt.scatter(C[:,0].data, C[:,1].data, s=200)\n",
        "for i in range(C.shape[0]):\n",
        "    plt.text(C[i,0].item(), C[i,1].item(), itos[i],ha='center', va='center',c='white')\n",
        "plt.grid('minor')"
      ]
    },
    {
      "cell_type": "markdown",
      "metadata": {
        "id": "6KBdxWXjmnLl"
      },
      "source": [
        "- we see that the network has learned to separate out the characters and cluster them a little bit\n",
        "    - see the vowels are clustered on bottom left (it means the neural net teats them in a similar way and that they appear in similar contexts in the names) `kind of like interchangable`\n",
        "    - notice how the `g` is very far from the rest of the characters, and so on"
      ]
    },
    {
      "cell_type": "markdown",
      "metadata": {
        "id": "8ZtwlJAsmnLl"
      },
      "source": [
        "## Scale up the embeddings\n",
        "- we will use embeddings of size 10, and make the hidden layer smaller (200 this time)\n",
        "-"
      ]
    },
    {
      "cell_type": "code",
      "execution_count": null,
      "metadata": {
        "id": "cK2665bMmnLl",
        "outputId": "74b901b8-34d9-4352-9e3c-3c3a350b9617"
      },
      "outputs": [
        {
          "name": "stdout",
          "output_type": "stream",
          "text": [
            "11897\n"
          ]
        }
      ],
      "source": [
        "g = torch.Generator().manual_seed(2147483647)\n",
        "# parameters\n",
        "C = torch.randn((27,10), generator=g)\n",
        "W1 = torch.randn((block_size*10,200), generator=g)\n",
        "b1 = torch.randn((200,), generator=g)\n",
        "W2 = torch.randn((200,27), generator=g)\n",
        "b2 = torch.randn((27,), generator=g)\n",
        "parameters = [C, W1, b1, W2, b2] # all parameters\n",
        "print(sum(p.numel() for p in parameters))"
      ]
    },
    {
      "cell_type": "markdown",
      "metadata": {
        "id": "64WSnuDDmnLl"
      },
      "source": [
        "- we have 11,000 parameters now, so slightly bigger (but more because of the embeddings parameters)"
      ]
    },
    {
      "cell_type": "code",
      "execution_count": null,
      "metadata": {
        "id": "DR1vrxlOmnLm"
      },
      "outputs": [],
      "source": [
        "lri = []\n",
        "lossi = []"
      ]
    },
    {
      "cell_type": "code",
      "execution_count": null,
      "metadata": {
        "id": "FYEteMq7mnLm",
        "outputId": "95b5ca43-f208-4454-90df-36cbcc5a2c0e"
      },
      "outputs": [
        {
          "name": "stdout",
          "output_type": "stream",
          "text": [
            "Training Loss: 2.1375691890716553\n",
            "Validation Loss: 2.1796610355377197\n"
          ]
        }
      ],
      "source": [
        "for p in parameters:\n",
        "    p.requires_grad = True\n",
        "\n",
        "\n",
        "for i in range(30000):\n",
        "    # mini-batch\n",
        "    idx = torch.randint(0, x_train.shape[0], (batch_size,))\n",
        "\n",
        "    # Forward pass\n",
        "    emb = C[x_train[idx]].view(-1, block_size*10)\n",
        "    a1 = torch.tanh((emb @ W1 + b1)) # mX6 @ 6X100 = mX100 + 1X100 = mX100\n",
        "    z2 = a1 @ W2 + b2 # mX100 @ 100X27 = mX27 + 1X27 = mX27\n",
        "    # Compute loss\n",
        "    loss = F.cross_entropy(z2, y_train[idx])\n",
        "\n",
        "\n",
        "    # Backward pass\n",
        "    for p in parameters:\n",
        "        p.grad = None\n",
        "    loss.backward()\n",
        "\n",
        "    # Update the parameters\n",
        "    for p in parameters:\n",
        "        p.data -= p.grad * 0.01\n",
        "\n",
        "    # track stats\n",
        "    lossi.append(loss.log10().item())\n",
        "\n",
        "# print the final loss\n",
        "emb = C[x_train].view(-1, block_size*C.shape[1])\n",
        "a1 = torch.tanh((emb @ W1 + b1)) # mX6 @ 6X100 = mX100 + 1X100 = mX100\n",
        "z2 = a1 @ W2 + b2\n",
        "loss = F.cross_entropy(z2, y_train)\n",
        "print(\"Training Loss:\", loss.item())\n",
        "\n",
        "# validation loss\n",
        "emb = C[x_val].view(-1, block_size*C.shape[1])\n",
        "a1 = torch.tanh((emb @ W1 + b1)) # mX6 @ 6X100 = mX100 + 1X100 = mX100\n",
        "z2 = a1 @ W2 + b2 # mX100 @ 100X27 = mX27 + 1X27 = mX27\n",
        "loss = F.cross_entropy(z2, y_val)\n",
        "print(\"Validation Loss:\", loss.item())"
      ]
    },
    {
      "cell_type": "code",
      "execution_count": null,
      "metadata": {
        "id": "JIJj4OJsmnLn",
        "outputId": "7c27e03f-6e89-44fa-f713-e18f22a7246a"
      },
      "outputs": [
        {
          "data": {
            "text/plain": [
              "[<matplotlib.lines.Line2D at 0x18961d53150>]"
            ]
          },
          "execution_count": 182,
          "metadata": {},
          "output_type": "execute_result"
        },
        {
          "data": {
            "image/png": "[encoded data removed]",
            "text/plain": [
              "<Figure size 640x480 with 1 Axes>"
            ]
          },
          "metadata": {},
          "output_type": "display_data"
        }
      ],
      "source": [
        "plt.plot(torch.arange(len(lossi)), lossi)"
      ]
    },
    {
      "cell_type": "markdown",
      "metadata": {
        "id": "fN6V0C41mnLn"
      },
      "source": [
        "- we plotted the log loss instead of the loss, as when we plot the loss iteself many times it can have a hockey stick shape (so log squashes it in)\n",
        "- again, it is very thick because the mini-batch size is very small"
      ]
    },
    {
      "cell_type": "markdown",
      "metadata": {
        "id": "oK-OJc2SmnLn"
      },
      "source": [
        "- optimization in practice\n",
        "    - in here we are optimizing at random,\n",
        "    - in production, we would create hyperparameter of all of these settings, and we would draw lots of experiments, and then slowly scrutinize(meaning examine or inspect closely and thoroughly) whichever give us the best dev loss\n",
        "    - once we find all the hyperparameters that make the dev performance good, we take that model and evaluate on the test set a single time, and that is the number that we report\n",
        "\n",
        "- results\n",
        "    - we see that the training and validation loss start to slightly and slowly depart, that is when we know that we are escaped underfitting and are slowly starting to overfit\n",
        "    - and since we managed to lower the loss,`it was the embedding size that was the bottleneck`, and we managed to scale up the embeddings and lower the loss\n",
        "\n",
        "Exercise: beat 2.17 loss\n",
        "\n",
        "- what to do next\n",
        "    - we can continue tuning the optimization\n",
        "        - how long are we running\n",
        "        - what is the learning rate\n",
        "        - how does the learning rate decay (we started with 0.1 then 0.05 then 0.01 to reach 2.17 loss), so you might lower that learning rate even more and optimize that more\n",
        "        - what is the batch size\n",
        "    - continue playing with the size of the neural net\n",
        "    - or increase the block size (the context size) to 4 or 5 tokens (characters) instead of 3\n",
        "\n"
      ]
    },
    {
      "cell_type": "markdown",
      "metadata": {
        "id": "qEBKxa4umnLo"
      },
      "source": [
        "## Mine: Exercise"
      ]
    },
    {
      "cell_type": "markdown",
      "metadata": {
        "id": "xBqMIegImnLo"
      },
      "source": [
        "### Optimizing Further"
      ]
    },
    {
      "cell_type": "code",
      "execution_count": null,
      "metadata": {
        "id": "bxwtdhhQmnLo",
        "outputId": "917917a0-c794-4b01-ee63-860a04ad3052"
      },
      "outputs": [
        {
          "name": "stdout",
          "output_type": "stream",
          "text": [
            "Training Loss: 2.1212477684020996\n",
            "Validation Loss: 2.1645641326904297\n"
          ]
        }
      ],
      "source": [
        "for p in parameters:\n",
        "    p.requires_grad = True\n",
        "\n",
        "\n",
        "for i in range(30000):\n",
        "    # mini-batch\n",
        "    idx = torch.randint(0, x_train.shape[0], (batch_size,))\n",
        "\n",
        "    # Forward pass\n",
        "    emb = C[x_train[idx]].view(-1, block_size*10)\n",
        "    a1 = torch.tanh((emb @ W1 + b1)) # mX6 @ 6X100 = mX100 + 1X100 = mX100\n",
        "    z2 = a1 @ W2 + b2 # mX100 @ 100X27 = mX27 + 1X27 = mX27\n",
        "    # Compute loss\n",
        "    loss = F.cross_entropy(z2, y_train[idx])\n",
        "\n",
        "\n",
        "    # Backward pass\n",
        "    for p in parameters:\n",
        "        p.grad = None\n",
        "    loss.backward()\n",
        "\n",
        "    # Update the parameters\n",
        "    for p in parameters:\n",
        "        p.data -= p.grad * 0.0001\n",
        "\n",
        "    # track stats\n",
        "    lossi.append(loss.log10().item())\n",
        "\n",
        "# print the final loss\n",
        "emb = C[x_train].view(-1, block_size*C.shape[1])\n",
        "a1 = torch.tanh((emb @ W1 + b1)) # mX6 @ 6X100 = mX100 + 1X100 = mX100\n",
        "z2 = a1 @ W2 + b2\n",
        "loss = F.cross_entropy(z2, y_train)\n",
        "print(\"Training Loss:\", loss.item())\n",
        "\n",
        "# validation loss\n",
        "emb = C[x_val].view(-1, block_size*C.shape[1])\n",
        "a1 = torch.tanh((emb @ W1 + b1)) # mX6 @ 6X100 = mX100 + 1X100 = mX100\n",
        "z2 = a1 @ W2 + b2 # mX100 @ 100X27 = mX27 + 1X27 = mX27\n",
        "loss = F.cross_entropy(z2, y_val)\n",
        "print(\"Validation Loss:\", loss.item())"
      ]
    },
    {
      "cell_type": "markdown",
      "metadata": {
        "id": "-QTuofGBmnLp"
      },
      "source": [
        "- we reached a better loss than 2.17, by further lower the learning rate"
      ]
    },
    {
      "cell_type": "markdown",
      "metadata": {
        "id": "R4IZxSSkmnLp"
      },
      "source": [
        "### Using larger embeddings and hidden size"
      ]
    },
    {
      "cell_type": "code",
      "execution_count": null,
      "metadata": {
        "id": "5XjIIOBNmnLp",
        "outputId": "a4150e3c-c7f3-4e1d-e9df-27d70afcbce4"
      },
      "outputs": [
        {
          "name": "stdout",
          "output_type": "stream",
          "text": [
            "13897\n"
          ]
        }
      ],
      "source": [
        "g = torch.Generator().manual_seed(2147483647)\n",
        "# parameters\n",
        "emb_size = 10\n",
        "hidden_size = 200\n",
        "C = torch.randn((27,emb_size), generator=g)\n",
        "W1 = torch.randn((block_size*emb_size,hidden_size), generator=g)\n",
        "b1 = torch.randn((hidden_size,), generator=g)\n",
        "W2 = torch.randn((hidden_size,27), generator=g)\n",
        "b2 = torch.randn((27,), generator=g)\n",
        "parameters = [C, W1, b1, W2, b2] # all parameters\n",
        "print(sum(p.numel() for p in parameters))"
      ]
    },
    {
      "cell_type": "code",
      "execution_count": null,
      "metadata": {
        "id": "VjjDlAQDmnLq",
        "outputId": "b2f2b6b2-da79-4e90-9419-bbe942abfb99"
      },
      "outputs": [
        {
          "name": "stdout",
          "output_type": "stream",
          "text": [
            "Training Loss: 2.13608717918396\n",
            "Validation Loss: 2.1847217082977295\n"
          ]
        }
      ],
      "source": [
        "for p in parameters:\n",
        "    p.requires_grad = True\n",
        "\n",
        "\n",
        "for i in range(30000):\n",
        "    # mini-batch\n",
        "    idx = torch.randint(0, x_train.shape[0], (batch_size,))\n",
        "\n",
        "    # Forward pass\n",
        "    emb = C[x_train[idx]].view(-1, block_size*emb_size)\n",
        "    a1 = torch.tanh((emb @ W1 + b1)) # mX6 @ 6X100 = mX100 + 1X100 = mX100\n",
        "    z2 = a1 @ W2 + b2 # mX100 @ 100X27 = mX27 + 1X27 = mX27\n",
        "    # Compute loss\n",
        "    loss = F.cross_entropy(z2, y_train[idx])\n",
        "\n",
        "\n",
        "    # Backward pass\n",
        "    for p in parameters:\n",
        "        p.grad = None\n",
        "    loss.backward()\n",
        "\n",
        "    # Update the parameters\n",
        "    for p in parameters:\n",
        "        p.data -= p.grad * 0.0001\n",
        "\n",
        "    # track stats\n",
        "    lossi.append(loss.log10().item())\n",
        "\n",
        "# print the final loss\n",
        "emb = C[x_train].view(-1, block_size*C.shape[1])\n",
        "a1 = torch.tanh((emb @ W1 + b1))\n",
        "z2 = a1 @ W2 + b2\n",
        "loss = F.cross_entropy(z2, y_train)\n",
        "print(\"Training Loss:\", loss.item())\n",
        "\n",
        "# validation loss\n",
        "emb = C[x_val].view(-1, block_size*C.shape[1])\n",
        "a1 = torch.tanh((emb @ W1 + b1))\n",
        "z2 = a1 @ W2 + b2\n",
        "loss = F.cross_entropy(z2, y_val)\n",
        "print(\"Validation Loss:\", loss.item())"
      ]
    },
    {
      "cell_type": "markdown",
      "metadata": {
        "id": "AlygiNd-mnLq"
      },
      "source": [
        "- we can't beat 2.17 val loss, so the bottleneck is not the embeddings or the hidden size, so we can try to increase the context size"
      ]
    },
    {
      "cell_type": "markdown",
      "metadata": {
        "id": "GZuDtcZcmnLq"
      },
      "source": [
        "### using a larger context size (with the previous embeddings and hidden size)"
      ]
    },
    {
      "cell_type": "code",
      "execution_count": null,
      "metadata": {
        "id": "Gh5ZkiJNmnLq",
        "outputId": "a2ddfd13-43e4-44ce-a071-e62e776b11ca"
      },
      "outputs": [
        {
          "name": "stdout",
          "output_type": "stream",
          "text": [
            "torch.Size([182544, 4]) torch.Size([182544])\n",
            "torch.Size([22740, 4]) torch.Size([22740])\n",
            "torch.Size([22862, 4]) torch.Size([22862])\n"
          ]
        }
      ],
      "source": [
        "block_size = 4\n",
        "def build_dataset(words):\n",
        "    #block_size = 4 # context length: how many characters do we take to predict the next one\n",
        "    Y, X = [], []\n",
        "    for word in words:\n",
        "        #print(word)\n",
        "        context = ['.'] * block_size  + list(word) + ['.']\n",
        "        for i in range(len(word) + 1):\n",
        "            X.append([stoi[ch] for ch in context[i:i+block_size]]) # append at index i, i+1, i+2 (i+3 is the label, that is why it is excluded here)\n",
        "            Y.append(stoi[context[i+block_size]]) # append the character i+3 as the label\n",
        "            #print(''.join(context[i:i+block_size]), '->', context[i+block_size])\n",
        "\n",
        "    X = torch.tensor(X)\n",
        "    Y = torch.tensor(Y)\n",
        "    print(X.shape, Y.shape)\n",
        "    return X, Y\n",
        "\n",
        "import random\n",
        "random.seed(42)\n",
        "# shuffle the words\n",
        "random.shuffle(words)\n",
        "n1 = int(0.8 * len(words))\n",
        "n2 = int(0.9 * len(words))\n",
        "\n",
        "x_train, y_train = build_dataset(words[:n1])\n",
        "x_val, y_val = build_dataset(words[n1:n2])\n",
        "x_test, y_test = build_dataset(words[n2:])"
      ]
    },
    {
      "cell_type": "code",
      "execution_count": null,
      "metadata": {
        "id": "cVV3xLi9mnLr",
        "outputId": "b16b5e5b-2464-4236-873c-cc937cc15896"
      },
      "outputs": [
        {
          "name": "stdout",
          "output_type": "stream",
          "text": [
            "19897\n"
          ]
        }
      ],
      "source": [
        "g = torch.Generator().manual_seed(2147483647)\n",
        "# parameters\n",
        "C = torch.randn((27,10), generator=g)\n",
        "W1 = torch.randn((block_size*10,200), generator=g)\n",
        "b1 = torch.randn((200,), generator=g)\n",
        "W2 = torch.randn((200,27), generator=g)\n",
        "b2 = torch.randn((27,), generator=g)\n",
        "parameters = [C, W1, b1, W2, b2] # all parameters\n",
        "print(sum(p.numel() for p in parameters))"
      ]
    },
    {
      "cell_type": "code",
      "execution_count": null,
      "metadata": {
        "id": "QS373DKXmnLs"
      },
      "outputs": [],
      "source": [
        "lossi = []"
      ]
    },
    {
      "cell_type": "code",
      "execution_count": null,
      "metadata": {
        "id": "JlGkgelvmnLs",
        "outputId": "ab6b2445-dec1-4081-dd93-53c2a4d58fbc"
      },
      "outputs": [
        {
          "name": "stdout",
          "output_type": "stream",
          "text": [
            "Training Loss: 2.399984836578369\n",
            "Validation Loss: 2.4054720401763916\n"
          ]
        }
      ],
      "source": [
        "for p in parameters:\n",
        "    p.requires_grad = True\n",
        "\n",
        "\n",
        "for i in range(5000):\n",
        "    # mini-batch\n",
        "    idx = torch.randint(0, x_train.shape[0], (batch_size,))\n",
        "\n",
        "    # Forward pass\n",
        "    emb = C[x_train[idx]].view(-1, block_size*10)\n",
        "    a1 = torch.tanh((emb @ W1 + b1)) # mX6 @ 6X100 = mX100 + 1X100 = mX100\n",
        "    z2 = a1 @ W2 + b2 # mX100 @ 100X27 = mX27 + 1X27 = mX27\n",
        "    # Compute loss\n",
        "    loss = F.cross_entropy(z2, y_train[idx])\n",
        "\n",
        "\n",
        "    # Backward pass\n",
        "    for p in parameters:\n",
        "        p.grad = None\n",
        "    loss.backward()\n",
        "\n",
        "    # Update the parameters\n",
        "    for p in parameters:\n",
        "        p.data -= p.grad * 0.001\n",
        "\n",
        "    # track stats\n",
        "    lossi.append(loss.log10().item())\n",
        "\n",
        "# print the final loss\n",
        "emb = C[x_train].view(-1, block_size*C.shape[1])\n",
        "a1 = torch.tanh((emb @ W1 + b1)) # mX6 @ 6X100 = mX100 + 1X100 = mX100\n",
        "z2 = a1 @ W2 + b2\n",
        "loss = F.cross_entropy(z2, y_train)\n",
        "print(\"Training Loss:\", loss.item())\n",
        "\n",
        "# validation loss\n",
        "emb = C[x_val].view(-1, block_size*C.shape[1])\n",
        "a1 = torch.tanh((emb @ W1 + b1)) # mX6 @ 6X100 = mX100 + 1X100 = mX100\n",
        "z2 = a1 @ W2 + b2 # mX100 @ 100X27 = mX27 + 1X27 = mX27\n",
        "loss = F.cross_entropy(z2, y_val)\n",
        "print(\"Validation Loss:\", loss.item())"
      ]
    },
    {
      "cell_type": "markdown",
      "metadata": {
        "id": "ku4-qYYdmnL1"
      },
      "source": [
        "- didn't work"
      ]
    },
    {
      "cell_type": "code",
      "execution_count": null,
      "metadata": {
        "id": "wRs9JNNzmnL1",
        "outputId": "2d358115-1633-4784-8cc9-af2f92538bcd"
      },
      "outputs": [
        {
          "data": {
            "text/plain": [
              "[<matplotlib.lines.Line2D at 0x2055d6c54d0>]"
            ]
          },
          "execution_count": 144,
          "metadata": {},
          "output_type": "execute_result"
        },
        {
          "data": {
            "image/png": "[encoded data removed]",
            "text/plain": [
              "<Figure size 640x480 with 1 Axes>"
            ]
          },
          "metadata": {},
          "output_type": "display_data"
        }
      ],
      "source": [
        "plt.plot(lossi[-1000:])"
      ]
    },
    {
      "cell_type": "markdown",
      "metadata": {
        "id": "aK-PmmqvmnL1"
      },
      "source": [
        "## General tweakings\n",
        "- apply better weight initialization (like xavier or he)"
      ]
    },
    {
      "cell_type": "code",
      "execution_count": 114,
      "metadata": {
        "id": "9u1fMevjmnL2"
      },
      "outputs": [],
      "source": [
        "import torch\n",
        "import torch.nn as nn\n",
        "import torch.nn.functional as F\n",
        "import optuna\n",
        "from optuna.trial import TrialState\n",
        "import random\n",
        "\n",
        "block_size = 4\n",
        "device = 'cuda' if torch.cuda.is_available() else 'cpu'\n",
        "best_val_loss = float('inf')\n",
        "\n",
        "# Assuming words and stoi are defined elsewhere\n",
        "\n",
        "def build_dataset(words):\n",
        "    Y, X = [], []\n",
        "    for word in words:\n",
        "        context = ['.'] * block_size  + list(word) + ['.']\n",
        "        for i in range(len(word) + 1):\n",
        "            X.append([stoi[ch] for ch in context[i:i+block_size]])  # Input context\n",
        "            Y.append(stoi[context[i+block_size]])  # Label (next character)\n",
        "    X = torch.tensor(X)\n",
        "    Y = torch.tensor(Y)\n",
        "    return X, Y\n",
        "\n",
        "random.seed(42)\n",
        "random.shuffle(words)\n",
        "n1 = int(0.8 * len(words))\n",
        "n2 = int(0.9 * len(words))\n",
        "\n",
        "x_train, y_train = build_dataset(words[:n1])\n",
        "x_val, y_val = build_dataset(words[n1:n2])\n",
        "x_test, y_test = build_dataset(words[n2:])\n",
        "# move to device\n",
        "x_train = x_train.to(device)\n",
        "y_train = y_train.to(device)\n",
        "x_val = x_val.to(device)\n",
        "y_val = y_val.to(device)\n",
        "\n",
        "def objective(trial):\n",
        "    # Hyperparameters to tune\n",
        "    embed_size = trial.suggest_int('embed_size', 2, 27)\n",
        "    hidden_size = trial.suggest_int('hidden_size', 100, 500)\n",
        "    batch_size = trial.suggest_categorical('batch_size', [16, 32, 64])\n",
        "    activation = trial.suggest_categorical('activation', ['relu', 'tanh'])\n",
        "    learning_rate = trial.suggest_loguniform('learning_rate', 1e-5, 1e-1)\n",
        "\n",
        "    # Model parameters\n",
        "    C = torch.empty((27, embed_size)).to(device)\n",
        "    W1 = torch.empty((block_size * embed_size, hidden_size)).to(device)\n",
        "    b1 = torch.empty((hidden_size,)).to(device)\n",
        "    W2 = torch.empty((hidden_size, 27)).to(device)\n",
        "    b2 = torch.empty((27,)).to(device)\n",
        "\n",
        "    # Initialize parameters\n",
        "    nn.init.uniform_(C, a=-0.1, b=0.1)\n",
        "    nn.init.uniform_(W1, a=-0.1, b=0.1)\n",
        "    nn.init.uniform_(b1, a=-0.1, b=0.1)\n",
        "    nn.init.uniform_(W2, a=-0.1, b=0.1)\n",
        "    nn.init.uniform_(b2, a=-0.1, b=0.1)\n",
        "\n",
        "    parameters = [C, W1, b1, W2, b2]\n",
        "\n",
        "    for p in parameters:\n",
        "        p.requires_grad = True\n",
        "\n",
        "    # Training loop\n",
        "    for i in range(60000):\n",
        "        idx = torch.randint(0, x_train.shape[0], (batch_size,))\n",
        "\n",
        "        # Forward pass\n",
        "        emb = C[x_train[idx]].view(-1, block_size * embed_size)\n",
        "        if activation == 'relu':\n",
        "            a1 = torch.relu(emb @ W1 + b1)\n",
        "        else:\n",
        "            a1 = torch.tanh(emb @ W1 + b1)\n",
        "        z2 = a1 @ W2 + b2\n",
        "        loss = F.cross_entropy(z2, y_train[idx])\n",
        "\n",
        "        # add regularization\n",
        "        l2_reg = 1e-4 * sum(torch.sum(p ** 2) for p in parameters)\n",
        "        loss += l2_reg\n",
        "\n",
        "        # Backward pass\n",
        "        for p in parameters:\n",
        "            p.grad = None\n",
        "        loss.backward()\n",
        "\n",
        "        # Update parameters\n",
        "        for p in parameters:\n",
        "            p.data -= p.grad * learning_rate\n",
        "\n",
        "    # Validation loss\n",
        "    with torch.no_grad():\n",
        "        emb = C[x_val].view(-1, block_size * embed_size)\n",
        "        if activation == 'relu':\n",
        "            a1 = torch.relu(emb @ W1 + b1)\n",
        "        else:\n",
        "            a1 = torch.tanh(emb @ W1 + b1)\n",
        "        z2 = a1 @ W2 + b2\n",
        "        val_loss = F.cross_entropy(z2, y_val).item()\n",
        "    # save the best model\n",
        "    global best_val_loss\n",
        "    if val_loss < best_val_loss:\n",
        "        best_val_loss = val_loss\n",
        "        torch.save(parameters, 'best_model.pt')\n",
        "\n",
        "    return val_loss"
      ]
    },
    {
      "cell_type": "code",
      "execution_count": null,
      "metadata": {
        "colab": {
          "base_uri": "https://localhost:8080/",
          "height": 741
        },
        "id": "aRqUXufPmnL3",
        "outputId": "73c07f56-b5f4-43d5-f61b-3c304a4df5ec"
      },
      "outputs": [],
      "source": [
        "study = optuna.create_study(direction='minimize')\n",
        "study.optimize(objective, n_trials=40)"
      ]
    },
    {
      "cell_type": "code",
      "execution_count": 116,
      "metadata": {
        "colab": {
          "base_uri": "https://localhost:8080/"
        },
        "id": "559HgC9GtrSN",
        "outputId": "5eff2313-a77d-4dcf-dbd7-350bc3e08f53"
      },
      "outputs": [
        {
          "name": "stdout",
          "output_type": "stream",
          "text": [
            "Best trial:\n",
            "Loss: 2.089946746826172\n",
            "Params: \n",
            "embed_size: 19\n",
            "hidden_size: 383\n",
            "batch_size: 64\n",
            "activation: relu\n",
            "learning_rate: 0.039755695170916476\n"
          ]
        }
      ],
      "source": [
        "print(\"Best trial:\")\n",
        "trial = study.best_trial\n",
        "\n",
        "print(f\"Loss: {trial.value}\")\n",
        "print(\"Params: \")\n",
        "for key, value in trial.params.items():\n",
        "    print(f\"{key}: {value}\")"
      ]
    },
    {
      "cell_type": "markdown",
      "metadata": {
        "id": "TjKJTtyzmnL3"
      },
      "source": [
        "## Sample from the model"
      ]
    },
    {
      "cell_type": "code",
      "execution_count": 117,
      "metadata": {
        "id": "5O4lLU_4uxkA"
      },
      "outputs": [],
      "source": [
        "parameters = torch.load('best_model.pt')\n",
        "C = parameters[0].to(device)\n",
        "W1 = parameters[1].to(device)\n",
        "b1 = parameters[2].to(device)\n",
        "W2 = parameters[3].to(device)\n",
        "b2 = parameters[4].to(device)"
      ]
    },
    {
      "cell_type": "code",
      "execution_count": 119,
      "metadata": {
        "colab": {
          "base_uri": "https://localhost:8080/"
        },
        "id": "MoKIyh2A6v3u",
        "outputId": "11c42131-41d7-4196-95ab-b893f5f6803a"
      },
      "outputs": [
        {
          "name": "stdout",
          "output_type": "stream",
          "text": [
            "2.038970947265625\n"
          ]
        }
      ],
      "source": [
        "with torch.no_grad():\n",
        "    emb = C[x_train].view(-1, block_size * 19)\n",
        "    a1 = torch.relu(emb @ W1 + b1)\n",
        "    z2 = a1 @ W2 + b2\n",
        "    train_loss = F.cross_entropy(z2, y_train.to(device)).item()\n",
        "    print(train_loss)"
      ]
    },
    {
      "cell_type": "code",
      "execution_count": 120,
      "metadata": {
        "colab": {
          "base_uri": "https://localhost:8080/"
        },
        "id": "3BhScvevmnL4",
        "outputId": "1c462f35-d554-4772-e90c-34624f6eebc9"
      },
      "outputs": [
        {
          "data": {
            "text/plain": [
              "torch.Size([1, 76])"
            ]
          },
          "execution_count": 120,
          "metadata": {},
          "output_type": "execute_result"
        }
      ],
      "source": [
        "context = [0] * block_size\n",
        "C[torch.tensor(context)].view(1, -1).shape"
      ]
    },
    {
      "cell_type": "code",
      "execution_count": 126,
      "metadata": {
        "colab": {
          "base_uri": "https://localhost:8080/"
        },
        "id": "8AJlNiwlmnL4",
        "outputId": "5e6d85c1-2f6a-4be5-e532-014500c06b1e"
      },
      "outputs": [
        {
          "name": "stdout",
          "output_type": "stream",
          "text": [
            "hana.\n",
            "jabrettony.\n",
            "kallyn.\n",
            "favin.\n",
            "modf.\n",
            "chel.\n",
            "masten.\n",
            "shan.\n",
            "mullin.\n",
            "brwen.\n",
            "azabrin.\n",
            "kadzo.\n",
            "hellez.\n",
            "kanzel.\n",
            "bwil.\n",
            "hand.\n",
            "bromelyan.\n",
            "mile.\n",
            "soud.\n",
            "malanne.\n"
          ]
        }
      ],
      "source": [
        "g = torch.Generator(device=device).manual_seed(2147483647 + 4)\n",
        "\n",
        "for _ in range(20):\n",
        "    out = []\n",
        "    context = [0] * block_size # we start with the '.' index, block_size times\n",
        "    while True:\n",
        "        emb = C[torch.tensor(context)].view(1,-1) # 1Xblock_size -> 1Xblock_sizeXemb_dim\n",
        "        a1 = torch.tanh((emb @ W1 + b1))\n",
        "        z2 = a1 @ W2 + b2\n",
        "        probs = F.softmax(z2, dim=1)\n",
        "        next_char_idx = torch.multinomial(probs.view(-1), 1).item()\n",
        "        context = context[1:] + [next_char_idx] # shift the context by one\n",
        "        out.append(next_char_idx)\n",
        "        if next_char_idx == 0:\n",
        "            break\n",
        "\n",
        "    # print the example now\n",
        "    print(''.join([itos[i] for i in out]))"
      ]
    },
    {
      "cell_type": "markdown",
      "metadata": {
        "id": "w6Cq0G37mnL4"
      },
      "source": [
        "## mine: Takeaways\n",
        "\n",
        "1. `Think about the minimum global loss we might achieve`, sometimes it is impossible to achieve 0 loss even on a single batch. In other words, it is not the global minimum, because of the nature of the problem (like the 3 dots at the beginning of each word used to predict different first characters)\n",
        "2. `Mini-batch gradient descent`, it is the standard in practice\n",
        "    - instead of True GD, which makes a forward and backward pass on the whole dataset in order to make a single update to the parameters, we use mini-batch gradient descent, which takes random small portions of the dataset (mini-batches) and makes updates to the parameters after each mini-batch\n",
        "    - it is faster since we update the parameters after few examples, but the quality of the gradient is lower (it is not the actual gradient direction, but it is good enough to make progress)\n",
        "        - `it is much better to have an approximate gradient and make more steps, than to evaluate the exact gradient and take fewer steps`\n",
        "    - sometimes it is the only way to train a model because the dataset is too large to fit in memory at once\n",
        "    - if you used mini-batches and plotted the loss, it will have large thickness of noise -but don't confuse it with the oscillations-, because of using mini-batches (so it is important to only care about the trend)\n",
        "        - sometimes we take the log of the loss to see the trend more clearly or increase the batch size to reduce the noise and have a higher quality gradient\n",
        "\n",
        "3. `Train/Validation/Test split`, it is the standard in the field\n",
        "    - why do we split?\n",
        "        - as the model gets better and better (larger and more complex), the loss gets smaller and smaller\n",
        "        - but smaller loss means better performance **up to a certain point**, after which the model starts to memorize the training set (overfitting)\n",
        "        - and if the model memorized the training set, it will not be able to generalize to new examples (in the context of language modeling, if we sample from it, it will only give us examples exactly as they are in the training set, and if we try to calcualte the probability of new similar examples, it will be very low)\n",
        "        - so we need another set of data that the model has never seen `validation set`, to ensure that lower loss is actually better performance and not just memorizing the training set\n",
        "            - by making sure it is the same loss on the training and validation set\n",
        "\n",
        "4. `Hyperparameter tuning`, hyperparameters are the design choices that we make up to us (like the learning rate, the size of the hidden layer, the optimizer, the batch size, etc.)\n",
        "    - to ensure that we selected the best hyperparameters, we do the above step (optimizing on the training set and making sure lower loss is actually better performance on the validation set) for different hyperparameter choices, then we see which one gives us the best performance on the validation set\n",
        "        - there are a lot of methods on how to do that, like grid search, random search, bayesian optimization, etc.\n",
        "        - like in the above code i used optuna to do the hyperparameter tuning (it is a bayesian optimization library)\n",
        "    - then we take that model and evaluate on the test set a single time, and that is the number that we report, because we never adjusted the model or the hyperparameters on the test set\n",
        "    - \n",
        "    \n",
        "\n",
        "5. `optimization in the industry` in here we are optimizing at random,\n",
        "    - in production, we would create hyperparameter of all of these settings, and we would draw lots of experiments, and then slowly scrutinize (meaning examine or inspect closely and thoroughly) whichever give us the best dev loss\n",
        "    - once we find all the hyperparameters that make the dev performance good, we take that model and evaluate on the test set a single time, and that is the number that we report\n",
        "    - CHATgpt: hyperparameter tuning in deep learning often requires special strategies to balance the computational cost with the need for performance improvements. Here are some practical approaches used in deep learning:\n",
        "        -  Smaller Subset of Data: One technique is to use a smaller subset of the data for hyperparameter tuning. This allows for faster iterations during tuning, although care must be taken to ensure that the smaller set is representative of the full dataset.\n",
        "\n",
        "        - Transfer Learning: Pre-trained models (e.g., models pre-trained on ImageNet) are often fine-tuned on specific tasks. This reduces training time and allows for effective hyperparameter tuning by focusing only on the fine-tuning stage.\n",
        "\n",
        "        - Automated Hyperparameter Optimization: Tools like Hyperopt, Optuna, or Ray Tune offer more efficient search algorithms, such as Bayesian optimization and Tree-structured Parzen Estimators (TPE), which can help narrow down good hyperparameter values with fewer trials.\n",
        "\n",
        "        - Asynchronous Successive Halving Algorithm (ASHA): ASHA prunes poorly performing trials early in the training process, which saves time and resources by focusing only on promising configurations.\n",
        "\n",
        "        - Population-based Training (PBT): PBT is a more advanced technique where multiple model copies are trained in parallel with different hyperparameter configurations. The less promising models can adopt the parameters of better-performing models, and the hyperparameters are tuned as training progresses.\n",
        "\n",
        "        - Learning Rate Schedulers and Optimizers: Instead of static learning rates, techniques like learning rate annealing, cyclical learning rates, or adaptive optimizers (like Adam or AdamW) can help improve training stability and performance without requiring exhaustive manual tuning.\n",
        "\n",
        "6. `learning rate`, how to roughly determine the starting learning rate? (mine: I think that will be done if we will babysit a model -unlike the above approach-)\n",
        "    - first we decide a range of learning rates that we want to explore (say from 0.001 ($10^{-3}$) to 1 ($10^0$))\n",
        "    - we sample from that range some number of learning rate candidates (say 1000)\n",
        "        - we do that on the log scale, so that we can explore wider range of learning rates\n",
        "        - so the $log_{10}(10^{-3})$ is -3 and the $log_{10}(10^0)$ is 0, so we take a linear space from -3 to 0 (on the exponent level), then we get the actual learning rates by taking 10 to the power of that exponent\n",
        "        ```python\n",
        "        learning_rate_exponents = torch.linspace(-3, 0, 1000)\n",
        "        learning_rates = 10 ** learning_rate_exponents\n",
        "        ```\n",
        "    - now we have 1000 exponentially spaced learning rates in the range above, we run for 1000 steps (for each learning rate candidate), and we update using each learning rate candidate starting from the smallest to the largest, and we keep track of the losses for each learning rate\n",
        "    - then we plot the losses against the learning rates (or much better the exponents to see the trend more clearly), and we see that it will start high loss and then decrease slowly because of the small learning rate candidates at the beginning, then it will reach a nice spot (at the bottom of the curve), then with higher learning rates than what's right, the loss starts to oscillate (it goes up and down)\n",
        "    - we simply choose the learning rate exponent that corresponds to the bottom of the curve, and the learning rate will be $10^{exponent}$ and this is the learning rate that we will use to train the model\n",
        "    - as we train, we will get to a point where the loss doesn't decrease anymore and kind of saturates or oscillates around a certain value, that is when we do learning rate decay, by taking the learning rate and lower it by a certain factor (like 10x) and train for a few more steps until the loss doesn't decrease anymore\n",
        "    - `tip: The process applies just the same with Adam and other optimizers`\n",
        "        - Andrej experience is that Adam is much more robust though. So a good learning rate in the case of SGD is very much problem and initialization -dependent and very narrow, while a good learning rate in the case of Adam is less problem-dependent and more forgiving. E.g. learning rate 3e-4 for Adam may not be optimal for all problems, but is almost always a pretty good baseline. You can't make a statement like that for SGD\n",
        "\n",
        "7. `mine: Performance concepts`\n",
        "    - we said that the job of the `validation set` is to ensure that lower loss means better performance -and not memorization- by making sure that the loss is the same on the training and validation set\n",
        "        - and we do that until the loss starts to slightly and slowly depart (becomes better on the training than the validation), which means that the model is starting to overfit (it is memorizing the training set)\n",
        "            - and as long as it has never reached that point yet, (meaning that the loss is the same on the training and validation set and it can't get lower), we are said to be underfitting (the model is not powerful enough)\n",
        "            - and we expect to gain performance improvements by scaling up the network (we keep scaling up and lowering both losses until they start to depart)\n",
        "                -  we should be smart too about scaling up, we should think about what is the bottleneck of the network right now, and scale up that part (just like we scaled the hidden layer size then we saw it didn't work, then we scaled up the embeddings and it turned out to be the bottleneck)\n",
        "                - so we keep scaling up the bottlenecks and see the next potential bottleneck and scale it up, and so on until the model becomes too powerful to the data\n",
        "    - i noticed the following \n",
        "        - lower validation loss with higher gap between the training and validation loss generated worse results than little higher validation loss with lower gap between the training and validation loss\n",
        "            - like training loss of 1.9 and validation loss 2.03 (gap is 0.13) did wrose than training loss 2.03 and validation loss 2.07 (gap is 0.04)\n",
        "        - i searched about it and i found the following \n",
        "            - Local optima vs. global behavior:\n",
        "                - A model with higher loss might have learned some useful global patterns or structures, even if it's not as good at predicting specific characters.\n",
        "                - Conversely, a model with lower loss might have overfitted to local patterns without capturing broader linguistic structures.\n",
        "        - that is why i used regularization above (led to slighly higher validation loss, and lower gap between the training and validation loss, but generated better results)\n",
        "        - maybe an explanation for this phenomenon is that binary cross entropy loss is not really the best metric to evaluate these models\n",
        "\n",
        "\n",
        "\n"
      ]
    }
  ],
  "metadata": {
    "accelerator": "GPU",
    "colab": {
      "gpuType": "T4",
      "provenance": []
    },
    "kernelspec": {
      "display_name": "Python 3",
      "name": "python3"
    },
    "language_info": {
      "codemirror_mode": {
        "name": "ipython",
        "version": 3
      },
      "file_extension": ".py",
      "mimetype": "text/x-python",
      "name": "python",
      "nbconvert_exporter": "python",
      "pygments_lexer": "ipython3",
      "version": "3.11.5"
    }
  },
  "nbformat": 4,
  "nbformat_minor": 0
}
