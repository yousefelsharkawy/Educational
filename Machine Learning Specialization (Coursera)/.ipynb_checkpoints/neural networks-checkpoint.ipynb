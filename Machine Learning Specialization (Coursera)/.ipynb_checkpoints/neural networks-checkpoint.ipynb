{
 "cells": [
  {
   "cell_type": "markdown",
   "id": "cd3f2375",
   "metadata": {},
   "source": [
    "# neural networks"
   ]
  },
  {
   "cell_type": "markdown",
   "id": "06db8186",
   "metadata": {},
   "source": [
    "- started by the motivation to mimic the brain (how the neurons in it interact with each other)\n",
    "- despite being different than how the brain learns (we still don't have alot of knowledge in this field), yet it turned out to be powerful learning algorithm\n",
    "- became rebranded with **deep learning** and became in favour after the increase of data due to digitization of our world and the increase in GPUs performance"
   ]
  },
  {
   "cell_type": "markdown",
   "id": "c8c7ccab",
   "metadata": {},
   "source": [
    "## Table of Contents\n",
    "<ul>\n",
    "<li><a href=\"#MakePredictionswithTrainedNeuralNetwork\">1- Make Predictions with Trained Neural Network</a>\n",
    "    <ul>\n",
    "        <li><a href=\"#UsingTensorFlow\">1A. Using Tensor Flow</a>\n",
    "- first on a single neuron \n",
    "- then on whole neural network \n",
    "- then on a succent way of doing it </li>\n",
    "        <li><a href=\"#manually\">1B. manually</a></li>\n",
    "    </ul></li>\n",
    "    <li><a href=\"#training\">2.Training a neural network</a></li>\n",
    "</ul>"
   ]
  },
  {
   "cell_type": "markdown",
   "id": "7c023b67",
   "metadata": {},
   "source": [
    "<a id='MakePredictionswithTrainedNeuralNetwork'></a>\n",
    "## 1- Make predictions with trained neural networks"
   ]
  },
  {
   "cell_type": "markdown",
   "id": "4d4c53d9",
   "metadata": {},
   "source": [
    "- **inference** : making predictions with a trained neural network\n",
    "- also called **Forward propagation**, as we propagate the activations forward through the layers from the firt to the last"
   ]
  },
  {
   "cell_type": "markdown",
   "id": "45ba50a8",
   "metadata": {},
   "source": [
    "<a id='UsingTensorFlow'></a>\n",
    "### 1A. using Tensor flow"
   ]
  },
  {
   "cell_type": "markdown",
   "id": "40d2a2cf",
   "metadata": {},
   "source": [
    "**Tensorflow and Keras**  \n",
    "Tensorflow is a machine learning package developed by Google. In 2019, Google integrated Keras into Tensorflow and released Tensorflow 2.0. Keras is a framework developed independently by François Chollet that creates a simple, layer-centric interface to Tensorflow. This course will be using the Keras interface. "
   ]
  },
  {
   "cell_type": "markdown",
   "id": "c1514ba1",
   "metadata": {},
   "source": [
    "#### First with a single neauron!\n",
    "- we will notice that a single neuron is similar to the models we studied in course 1 \n",
    "    - linear regression\n",
    "    - logistic regression"
   ]
  },
  {
   "cell_type": "code",
   "execution_count": 1,
   "id": "5f655c47",
   "metadata": {},
   "outputs": [],
   "source": [
    "import numpy as np\n",
    "import matplotlib.pyplot as plt\n",
    "import tensorflow as tf\n",
    "from tensorflow.keras.layers import Dense\n",
    "from tensorflow.keras import Sequential\n",
    "from tensorflow.keras.losses import MeanSquaredError, BinaryCrossentropy\n",
    "from tensorflow.keras.activations import sigmoid"
   ]
  },
  {
   "cell_type": "markdown",
   "id": "384fcea4",
   "metadata": {},
   "source": [
    "## About tensor flow "
   ]
  },
  {
   "cell_type": "markdown",
   "id": "e5daaad4",
   "metadata": {},
   "source": [
    "- **Dense**: The type of layers we are learning so far \n",
    "- **Activation function**: This is the model of the neuron, and they are called activation functions because they produce the activations \n",
    "    - we may have different kinds of activation functions but for now we use the sigmoid function as an activation function\n",
    "    - so with the sigmoid function , each neuron does logistic regression \n",
    "- The order of operations \n",
    "    1. it takes a number or multiple numbers\n",
    "    2. they do some calculations on them \n",
    "    3. they produce number of multiple numbers, that can be an input to another layer of neurons \n",
    "\n",
    "### Numpy and tensor flow integration\n",
    "- we usually load and manipulate the data using numpy arrays\n",
    "- but when we pass them to Tensor flow, we **Pass them as 2D numpy arrays** \n",
    "    - that is because Tensor Flow has its own data type (to operate efficeintly using it) **called Tensor** and the conversion can be done if it's 2D \n",
    "    - we can think of Tensor as a matrix (but it is more general than that)\n",
    "- TensorFlow hands back the rturned value as Tensor \n",
    "    - we may choose to keep it that way\n",
    "    - we may convert it back to numpy array using result.numpy()"
   ]
  },
  {
   "cell_type": "markdown",
   "id": "21f64e0f",
   "metadata": {},
   "source": [
    "### Regression/Linear Model \n",
    "The function implemented by a neuron with no activation is the same as in Course 1, linear regression:\n",
    "$$ f_{\\mathbf{w},b}(x^{(i)}) = \\mathbf{w}\\cdot x^{(i)} + b \\tag{1}$$\n",
    "\n"
   ]
  },
  {
   "cell_type": "code",
   "execution_count": 2,
   "id": "ab149960",
   "metadata": {},
   "outputs": [
    {
     "data": {
      "image/png": "[encoded data removed]",
      "text/plain": [
       "<Figure size 432x288 with 1 Axes>"
      ]
     },
     "metadata": {
      "needs_background": "light"
     },
     "output_type": "display_data"
    }
   ],
   "source": [
    "# we will use the same data we used in Linear regression for Housing problem\n",
    "X_train = np.array([[1.0], [2.0]], dtype=np.float32)           #(size in 1000 square feet)\n",
    "Y_train = np.array([[300.0], [500.0]], dtype=np.float32)       #(price in 1000s of dollars)\n",
    "\n",
    "fig, ax = plt.subplots(1,1)\n",
    "ax.scatter(X_train, Y_train, marker='x', c='r', label=\"Data Points\")\n",
    "ax.legend( fontsize='xx-large')\n",
    "ax.set_ylabel('Price (in 1000s of dollars)', fontsize='xx-large')\n",
    "ax.set_xlabel('Size (1000 sqft)', fontsize='xx-large')\n",
    "plt.show()"
   ]
  },
  {
   "cell_type": "markdown",
   "id": "16471a58",
   "metadata": {},
   "source": [
    "layer = tf.keras.layers.Dense(units = \"N\", activation = \" \")\n",
    "- here Dense creates a layer with **N** units/neurons and each one implement a certain activation function \n",
    "- the returned to layer which is actually a **function**\n",
    "    - if trained, we should have the parameter weights and load them to the layer \n",
    "    - we give it the input vector to the layer and it calculates the activation vector "
   ]
  },
  {
   "cell_type": "code",
   "execution_count": 3,
   "id": "d66eacc9",
   "metadata": {},
   "outputs": [],
   "source": [
    "linear_layer = tf.keras.layers.Dense(units = 1, activation = 'linear')"
   ]
  },
  {
   "cell_type": "code",
   "execution_count": 4,
   "id": "28e41867",
   "metadata": {},
   "outputs": [
    {
     "data": {
      "text/plain": [
       "[]"
      ]
     },
     "execution_count": 4,
     "metadata": {},
     "output_type": "execute_result"
    }
   ],
   "source": [
    "# to retreive the weights\n",
    "linear_layer.get_weights()"
   ]
  },
  {
   "cell_type": "markdown",
   "id": "2ffde902",
   "metadata": {},
   "source": [
    "There are no weights as the weights are not yet instantiated. Let's try the model on one example in `X_train`. This will trigger the instantiation of the weights. Note, the input to the layer must be 2-D, so we'll reshape it."
   ]
  },
  {
   "cell_type": "code",
   "execution_count": 5,
   "id": "0e0f2082",
   "metadata": {},
   "outputs": [
    {
     "data": {
      "text/plain": [
       "(2, 1)"
      ]
     },
     "execution_count": 5,
     "metadata": {},
     "output_type": "execute_result"
    }
   ],
   "source": [
    "X_train.shape #Xtrain as a whole is 2D but"
   ]
  },
  {
   "cell_type": "code",
   "execution_count": 6,
   "id": "7d9a6a0e",
   "metadata": {},
   "outputs": [
    {
     "data": {
      "text/plain": [
       "array([1.], dtype=float32)"
      ]
     },
     "execution_count": 6,
     "metadata": {},
     "output_type": "execute_result"
    }
   ],
   "source": [
    "X_train[0]"
   ]
  },
  {
   "cell_type": "code",
   "execution_count": 7,
   "id": "b3446ef1",
   "metadata": {},
   "outputs": [
    {
     "data": {
      "text/plain": [
       "(1,)"
      ]
     },
     "execution_count": 7,
     "metadata": {},
     "output_type": "execute_result"
    }
   ],
   "source": [
    "X_train[0].shape #one example here is 1D of length 1"
   ]
  },
  {
   "cell_type": "code",
   "execution_count": 8,
   "id": "fc7fb6f1",
   "metadata": {},
   "outputs": [
    {
     "data": {
      "text/plain": [
       "array([[1.]], dtype=float32)"
      ]
     },
     "execution_count": 8,
     "metadata": {},
     "output_type": "execute_result"
    }
   ],
   "source": [
    "X_train[0].reshape(1,1)"
   ]
  },
  {
   "cell_type": "code",
   "execution_count": 9,
   "id": "b3776c70",
   "metadata": {},
   "outputs": [
    {
     "data": {
      "text/plain": [
       "<tf.Tensor: shape=(1, 1), dtype=float32, numpy=array([[0.9627837]], dtype=float32)>"
      ]
     },
     "execution_count": 9,
     "metadata": {},
     "output_type": "execute_result"
    }
   ],
   "source": [
    "a1 = linear_layer(X_train[0].reshape(1,1))\n",
    "a1"
   ]
  },
  {
   "cell_type": "markdown",
   "id": "f7de97d8",
   "metadata": {},
   "source": [
    "The result is a tensor (another name for an array) with a shape of (1,1) or one entry.   \n",
    "Now let's look at the weights and bias. These weights are randomly initialized to small numbers and the bias defaults to being initialized to zero."
   ]
  },
  {
   "cell_type": "code",
   "execution_count": 10,
   "id": "4c4935de",
   "metadata": {},
   "outputs": [
    {
     "data": {
      "text/plain": [
       "(array([[0.9627837]], dtype=float32), array([0.], dtype=float32))"
      ]
     },
     "execution_count": 10,
     "metadata": {},
     "output_type": "execute_result"
    }
   ],
   "source": [
    "w, b = linear_layer.get_weights()\n",
    "w,b"
   ]
  },
  {
   "cell_type": "markdown",
   "id": "ab684409",
   "metadata": {},
   "source": [
    "- that's why we got the above random activation with the value of the randomly initialized w \n",
    "$$ a1 = w * (1) + 0 = w $$"
   ]
  },
  {
   "cell_type": "markdown",
   "id": "60d76e04",
   "metadata": {},
   "source": [
    "A linear regression model (1) with a single input feature will have a single weight and bias. This matches the dimensions of our `linear_layer` above.   \n",
    "- that means the size of the parameters got adjusted to the data \n",
    "    - **x** was 1x1 (scalar) so w was inititlzed as scalar\n",
    "\n",
    "The weights are initialized to random values so let's set them to some known values. (load them with the correct parameters)"
   ]
  },
  {
   "cell_type": "code",
   "execution_count": 11,
   "id": "0afe6be5",
   "metadata": {},
   "outputs": [],
   "source": [
    "# load the correct values to the neuron\n",
    "w = np.array([[200]])\n",
    "b = np.array([100]) #why scalar ? maybe because it is always scalar\n",
    "\n",
    "linear_layer.set_weights([w,b])"
   ]
  },
  {
   "cell_type": "code",
   "execution_count": 12,
   "id": "398f3b4a",
   "metadata": {},
   "outputs": [
    {
     "data": {
      "text/plain": [
       "[array([[200.]], dtype=float32), array([100.], dtype=float32)]"
      ]
     },
     "execution_count": 12,
     "metadata": {},
     "output_type": "execute_result"
    }
   ],
   "source": [
    "linear_layer.get_weights()"
   ]
  },
  {
   "cell_type": "markdown",
   "id": "0f1e8d73",
   "metadata": {},
   "source": [
    "let's predict manually and using the neuron"
   ]
  },
  {
   "cell_type": "code",
   "execution_count": 13,
   "id": "d6f0edc9",
   "metadata": {},
   "outputs": [
    {
     "name": "stdout",
     "output_type": "stream",
     "text": [
      "manual result:[300.], neuron result: [[300.]]\n"
     ]
    }
   ],
   "source": [
    "#manually \n",
    "y_prid0 = np.dot(X_train[0],w) + b\n",
    "#using the neuron \n",
    "y_prid = linear_layer(X_train[0].reshape(1,1))\n",
    "print(f\"manual result:{y_prid0}, neuron result: {y_prid}\")"
   ]
  },
  {
   "cell_type": "markdown",
   "id": "212bf759",
   "metadata": {},
   "source": [
    "They produce the same values!\n",
    "Now, we can use our linear layer to make predictions on our training data."
   ]
  },
  {
   "cell_type": "code",
   "execution_count": 14,
   "id": "a9748137",
   "metadata": {},
   "outputs": [],
   "source": [
    "predictions_tf = linear_layer(X_train)\n",
    "predictions_np = np.dot(X_train,w) + b"
   ]
  },
  {
   "cell_type": "code",
   "execution_count": 15,
   "id": "78d68630",
   "metadata": {},
   "outputs": [
    {
     "data": {
      "text/plain": [
       "<tf.Tensor: shape=(2, 1), dtype=float32, numpy=\n",
       "array([[300.],\n",
       "       [500.]], dtype=float32)>"
      ]
     },
     "execution_count": 15,
     "metadata": {},
     "output_type": "execute_result"
    }
   ],
   "source": [
    "predictions_tf"
   ]
  },
  {
   "cell_type": "code",
   "execution_count": 16,
   "id": "f6967351",
   "metadata": {},
   "outputs": [
    {
     "data": {
      "text/plain": [
       "tensorflow.python.framework.ops.EagerTensor"
      ]
     },
     "execution_count": 16,
     "metadata": {},
     "output_type": "execute_result"
    }
   ],
   "source": [
    "type(predictions_tf)"
   ]
  },
  {
   "cell_type": "code",
   "execution_count": 17,
   "id": "04654144",
   "metadata": {},
   "outputs": [
    {
     "data": {
      "text/plain": [
       "array([[300.],\n",
       "       [500.]])"
      ]
     },
     "execution_count": 17,
     "metadata": {},
     "output_type": "execute_result"
    }
   ],
   "source": [
    "predictions_np"
   ]
  },
  {
   "cell_type": "code",
   "execution_count": 18,
   "id": "a1823dbe",
   "metadata": {},
   "outputs": [
    {
     "data": {
      "text/plain": [
       "numpy.ndarray"
      ]
     },
     "execution_count": 18,
     "metadata": {},
     "output_type": "execute_result"
    }
   ],
   "source": [
    "type(predictions_np)"
   ]
  },
  {
   "cell_type": "markdown",
   "id": "303e63f1",
   "metadata": {},
   "source": [
    "## Neuron with Sigmoid activation\n",
    "The function implemented by a neuron/unit with a sigmoid activation is the same as in Course 1, logistic  regression:\n",
    "$$ f_{\\mathbf{w},b}(x^{(i)}) = g(\\mathbf{w}x^{(i)} + b) \\tag{2}$$\n",
    "where $$g(x) = sigmoid(x)$$ \n",
    "\n",
    "We'll use an example from Course 1, logistic regression.\n",
    "\n",
    "Let's set $w$ and $b$ to some known values and check the model.\n"
   ]
  },
  {
   "cell_type": "code",
   "execution_count": 19,
   "id": "9264fe5a",
   "metadata": {},
   "outputs": [],
   "source": [
    "X_train = np.array([0., 1, 2, 3, 4, 5], dtype=np.float32).reshape(-1,1)  # 2-D Matrix\n",
    "Y_train = np.array([0,  0, 0, 1, 1, 1], dtype=np.float32).reshape(-1,1)  # 2-D Matrix"
   ]
  },
  {
   "cell_type": "code",
   "execution_count": 20,
   "id": "3e130dbe",
   "metadata": {},
   "outputs": [
    {
     "data": {
      "image/png": "[encoded data removed]",
      "text/plain": [
       "<Figure size 288x216 with 1 Axes>"
      ]
     },
     "metadata": {
      "needs_background": "light"
     },
     "output_type": "display_data"
    }
   ],
   "source": [
    "pos = Y_train == 1\n",
    "neg = Y_train == 0\n",
    "\n",
    "fig,ax = plt.subplots(1,1,figsize=(4,3))\n",
    "ax.scatter(X_train[pos], Y_train[pos], marker='x', s=80, c = 'red', label=\"y=1\")\n",
    "ax.scatter(X_train[neg], Y_train[neg], marker='o', s=100, label=\"y=0\", c ='blue')\n",
    "\n",
    "ax.set_ylim(-0.08,1.1)\n",
    "ax.set_ylabel('y', fontsize=12)\n",
    "ax.set_xlabel('x', fontsize=12)\n",
    "ax.set_title('one variable plot')\n",
    "ax.legend(fontsize=12)\n",
    "plt.show()"
   ]
  },
  {
   "cell_type": "code",
   "execution_count": 21,
   "id": "a181c279",
   "metadata": {},
   "outputs": [],
   "source": [
    "logistic_layer = Dense(1, activation = 'sigmoid')"
   ]
  },
  {
   "cell_type": "code",
   "execution_count": 22,
   "id": "ab21a210",
   "metadata": {},
   "outputs": [
    {
     "data": {
      "text/plain": [
       "[]"
      ]
     },
     "execution_count": 22,
     "metadata": {},
     "output_type": "execute_result"
    }
   ],
   "source": [
    "logistic_layer.get_weights()"
   ]
  },
  {
   "cell_type": "code",
   "execution_count": 23,
   "id": "2e208fb4",
   "metadata": {},
   "outputs": [
    {
     "data": {
      "text/plain": [
       "<tf.Tensor: shape=(1, 1), dtype=float32, numpy=array([[0.5]], dtype=float32)>"
      ]
     },
     "execution_count": 23,
     "metadata": {},
     "output_type": "execute_result"
    }
   ],
   "source": [
    "logistic_layer(X_train[0].reshape(1,1))"
   ]
  },
  {
   "cell_type": "code",
   "execution_count": 24,
   "id": "f3e4f860",
   "metadata": {},
   "outputs": [],
   "source": [
    "# Load the correct parameters to the neuron\n",
    "set_w = np.array([[2]])\n",
    "set_b = np.array([-4.5])\n",
    "\n",
    "logistic_layer.set_weights([set_w,set_b])"
   ]
  },
  {
   "cell_type": "code",
   "execution_count": 25,
   "id": "56a818de",
   "metadata": {
    "scrolled": true
   },
   "outputs": [
    {
     "data": {
      "text/plain": [
       "[array([[2.]], dtype=float32), array([-4.5], dtype=float32)]"
      ]
     },
     "execution_count": 25,
     "metadata": {},
     "output_type": "execute_result"
    }
   ],
   "source": [
    "logistic_layer.get_weights()"
   ]
  },
  {
   "cell_type": "markdown",
   "id": "6ecfdd52",
   "metadata": {},
   "source": [
    "let's predict using the correct weights"
   ]
  },
  {
   "cell_type": "code",
   "execution_count": 26,
   "id": "8ed39fef",
   "metadata": {},
   "outputs": [
    {
     "data": {
      "text/plain": [
       "<tf.Tensor: shape=(6, 1), dtype=float32, numpy=\n",
       "array([[0.01098694],\n",
       "       [0.07585818],\n",
       "       [0.37754068],\n",
       "       [0.8175745 ],\n",
       "       [0.97068775],\n",
       "       [0.99592984]], dtype=float32)>"
      ]
     },
     "execution_count": 26,
     "metadata": {},
     "output_type": "execute_result"
    }
   ],
   "source": [
    "a1 = logistic_layer(X_train) \n",
    "a1"
   ]
  },
  {
   "cell_type": "code",
   "execution_count": 27,
   "id": "78d15359",
   "metadata": {},
   "outputs": [
    {
     "data": {
      "text/plain": [
       "TensorShape([6, 1])"
      ]
     },
     "execution_count": 27,
     "metadata": {},
     "output_type": "execute_result"
    }
   ],
   "source": [
    "a1.shape"
   ]
  },
  {
   "cell_type": "markdown",
   "id": "9861921b",
   "metadata": {},
   "source": [
    "- These are the probabilities of the output being 1 (the activation values)\n",
    "    - we can get binary output (0 or 1) by applying theshold\n",
    "    - we will use 0.5 as threshold\n",
    "- note that this is 6 examples of 1x1 input x and it will produce 6 examples of 1x1 (because that seemed like it dipicts the saying that a single neuron produces a single activation -that is correct for a vector of single example-)"
   ]
  },
  {
   "cell_type": "code",
   "execution_count": 28,
   "id": "3cb14f7d",
   "metadata": {},
   "outputs": [
    {
     "data": {
      "text/plain": [
       "array([[0.01098694],\n",
       "       [0.07585818],\n",
       "       [0.37754068],\n",
       "       [0.8175745 ],\n",
       "       [0.97068775],\n",
       "       [0.99592984]], dtype=float32)"
      ]
     },
     "execution_count": 28,
     "metadata": {},
     "output_type": "execute_result"
    }
   ],
   "source": [
    "a1 = a1.numpy()\n",
    "a1"
   ]
  },
  {
   "cell_type": "code",
   "execution_count": 29,
   "id": "0febb0fe",
   "metadata": {},
   "outputs": [],
   "source": [
    "a1 = (a1 > 0.5).astype(int)"
   ]
  },
  {
   "cell_type": "code",
   "execution_count": 30,
   "id": "d75b5d5b",
   "metadata": {},
   "outputs": [
    {
     "data": {
      "text/plain": [
       "array([[0],\n",
       "       [0],\n",
       "       [0],\n",
       "       [1],\n",
       "       [1],\n",
       "       [1]])"
      ]
     },
     "execution_count": 30,
     "metadata": {},
     "output_type": "execute_result"
    }
   ],
   "source": [
    "a1"
   ]
  },
  {
   "cell_type": "markdown",
   "id": "d2b10936",
   "metadata": {},
   "source": [
    "agrees with the correct labels y!"
   ]
  },
  {
   "cell_type": "markdown",
   "id": "e4de8dca",
   "metadata": {},
   "source": [
    "### Second with a whole network!"
   ]
  },
  {
   "cell_type": "markdown",
   "id": "4aed1ca2",
   "metadata": {},
   "source": [
    "<img  src=\"supplies/C2_W1_CoffeeRoasting.png\" width=\"400\" />\n",
    "\n",
    "we have a trained model on coffee data and we wanna use it to make **inference** (predictions) on new data "
   ]
  },
  {
   "cell_type": "markdown",
   "id": "4eadd6b9",
   "metadata": {},
   "source": [
    "## The model\n",
    "<center> <img  src=\"supplies/C2_W1_RoastingNetwork.PNG\" width=\"200\" />   <center/>  "
   ]
  },
  {
   "cell_type": "markdown",
   "id": "480154d2",
   "metadata": {},
   "source": [
    "- the architecture is 2 layers \n",
    "    - input layer (input vector) of length 2 (per example)\n",
    "    - one hidden layer with 3 neurons \n",
    "    - one final layer (output) layer\n",
    "- since the input is of length 2 so for the first layer we have $w_{1}^{[1]}$ and $w_{2}^{[1]}$ and $w_{3}^{[1]}$ of length 2 each and b are scalars for all of them\n",
    "- since the output of the first layer (activations) $a^{[1]}$ is a vector of length 3 so the parameter of the output layer is $w_{1}^{[3]}$ is of length 3 and b as scalar "
   ]
  },
  {
   "cell_type": "code",
   "execution_count": 31,
   "id": "aaaa21a2",
   "metadata": {},
   "outputs": [],
   "source": [
    "# load the trained parameters\n",
    "W1 = np.array([\n",
    "    [-8.94,  0.29, 12.89],\n",
    "    [-0.17, -7.34, 10.79]] )\n",
    "b1 = np.array([-9.87, -9.28,  1.01])\n",
    "W2 = np.array([\n",
    "    [-31.38],\n",
    "    [-27.86],\n",
    "    [-32.79]])\n",
    "b2 = np.array([15.54])"
   ]
  },
  {
   "cell_type": "markdown",
   "id": "7f4f3390",
   "metadata": {},
   "source": [
    "- W1 is the parameters of layer1\n",
    "    - each neuron's paramter is read vertically, so each column is w for a neuron\n",
    "    - and the vector length is spread horizontally \n",
    "- so here layer1 has 3 neurons each has parameter w of length 2\n",
    "    - so the matrix size is 2x3\n",
    "    \n",
    "Let's examine the weights and biases Tensorflow has instantiated.  The weights $W$ should be of size (number of features in input, number of units in the layer) while the bias $b$ size should match the number of units in the layer:\n",
    "- In the first layer with 3 units, we expect W to have a size of (2,3) and $b$ should have 3 elements.\n",
    "- In the second layer with 1 unit, we expect W to have a size of (3,1) and $b$ should have 1 element."
   ]
  },
  {
   "cell_type": "code",
   "execution_count": 32,
   "id": "ec8d2a18",
   "metadata": {},
   "outputs": [],
   "source": [
    "# create the neural network layer by layer\n",
    "layer1 = Dense(units = 3, input_dim = 2, activation = 'sigmoid')\n",
    "layer2 = Dense(units = 1, activation = 'sigmoid')"
   ]
  },
  {
   "cell_type": "code",
   "execution_count": 33,
   "id": "607272a3",
   "metadata": {},
   "outputs": [],
   "source": [
    "X_test = np.array([\n",
    "    [-0.47,0.42],  # postive example\n",
    "    [-0.47,3.16]])   # negative example\n",
    "# the new example here is after normalization because the original training data was normalized before training"
   ]
  },
  {
   "cell_type": "code",
   "execution_count": 34,
   "id": "046d0c3e",
   "metadata": {},
   "outputs": [],
   "source": [
    "# use an example to instantiate random weights before loading the correct ones, why?\n",
    "a1 = layer1(X_test[0].reshape(1,2))\n",
    "a2 = layer2(a1)"
   ]
  },
  {
   "cell_type": "code",
   "execution_count": 35,
   "id": "327aa22d",
   "metadata": {},
   "outputs": [],
   "source": [
    "layer1.set_weights([W1,b1])\n",
    "layer2.set_weights([W2,b2])"
   ]
  },
  {
   "cell_type": "code",
   "execution_count": 36,
   "id": "3b0b2e1f",
   "metadata": {},
   "outputs": [
    {
     "data": {
      "text/plain": [
       "[array([[-8.94,  0.29, 12.89],\n",
       "        [-0.17, -7.34, 10.79]], dtype=float32),\n",
       " array([-9.87, -9.28,  1.01], dtype=float32)]"
      ]
     },
     "execution_count": 36,
     "metadata": {},
     "output_type": "execute_result"
    }
   ],
   "source": [
    "layer1.get_weights()"
   ]
  },
  {
   "cell_type": "code",
   "execution_count": 37,
   "id": "44296aac",
   "metadata": {},
   "outputs": [
    {
     "data": {
      "text/plain": [
       "[array([[-31.38],\n",
       "        [-27.86],\n",
       "        [-32.79]], dtype=float32),\n",
       " array([15.54], dtype=float32)]"
      ]
     },
     "execution_count": 37,
     "metadata": {},
     "output_type": "execute_result"
    }
   ],
   "source": [
    "layer2.get_weights()"
   ]
  },
  {
   "cell_type": "markdown",
   "id": "9be6b11f",
   "metadata": {},
   "source": [
    "you can then use the model now to make predictions. Recall that the output of our model is a probability. In this case, the probability of a good roast. To make a decision, one must apply the probability to a threshold. In this case, we will use 0.5\n",
    "\n",
    "- here we carry out prediction manualy ourselves (not practical)"
   ]
  },
  {
   "cell_type": "code",
   "execution_count": 38,
   "id": "9e508969",
   "metadata": {
    "scrolled": true
   },
   "outputs": [
    {
     "data": {
      "text/plain": [
       "<tf.Tensor: shape=(2, 1), dtype=float32, numpy=\n",
       "array([[9.6032798e-01],\n",
       "       [3.0266833e-08]], dtype=float32)>"
      ]
     },
     "execution_count": 38,
     "metadata": {},
     "output_type": "execute_result"
    }
   ],
   "source": [
    "a1 = layer1(X_test)\n",
    "a2 = layer2(a1)\n",
    "a2"
   ]
  },
  {
   "cell_type": "code",
   "execution_count": 39,
   "id": "c3594400",
   "metadata": {
    "scrolled": true
   },
   "outputs": [
    {
     "data": {
      "text/plain": [
       "array([[1],\n",
       "       [0]])"
      ]
     },
     "execution_count": 39,
     "metadata": {},
     "output_type": "execute_result"
    }
   ],
   "source": [
    "# apply threshold (at 0.5) to make it 0 or 1\n",
    "result = a2.numpy()\n",
    "(result >= 0.5).astype(int)"
   ]
  },
  {
   "cell_type": "markdown",
   "id": "9a00d28e",
   "metadata": {},
   "source": [
    "### succent way of doing it  "
   ]
  },
  {
   "cell_type": "markdown",
   "id": "b3b62dab",
   "metadata": {},
   "source": [
    "- we used to explicitly carry out forward propagation (prediction) ourselves in the previous way \n",
    "- it turns out there is a different way of modeling and building a neural network\n",
    "    - makes it easier to predict (do forward propagation), and also make it easier in learning! (we will see later)\n",
    "- we will do that using the **sequential** function\n",
    "    - it takes the layers and string them together to make a neural network\n",
    "    - learning will be only using 2 functions!\n",
    "        - compile(...) \n",
    "        - fit(Xtrain,ytrain)\n",
    "    - inference or forward propagation can be done with only 1 function\n",
    "        - predict(Xnew): carries out forward propagation provided the input to the whole network that we compiled using the sequentail function "
   ]
  },
  {
   "cell_type": "code",
   "execution_count": 40,
   "id": "772d3597",
   "metadata": {},
   "outputs": [],
   "source": [
    "model = Sequential(\n",
    "[\n",
    "    tf.keras.Input(shape=(2,)), #for previously decide the size of the parameters (each record x is vector of length 2) so the parameters will be W (vector of length 2) and b (always scalar), otherwise it will be automatically adjusted on the given size during training\n",
    "    Dense(units = 3, activation = 'sigmoid',name='layer1'),\n",
    "    Dense(units = 1, activation = 'sigmoid',name='layer2')\n",
    "]\n",
    ")"
   ]
  },
  {
   "cell_type": "markdown",
   "id": "6ad4474d",
   "metadata": {},
   "source": [
    ">**Note 1:** The `tf.keras.Input(shape=(2,)),` specifies the expected shape of the input. This allows Tensorflow to size the weights and bias parameters at this point.  This is useful when exploring Tensorflow models. This statement can be omitted in practice and Tensorflow will size the network parameters when the input data is specified in the `model.fit` statement.  \n",
    ">**Note 2:** Including the sigmoid activation in the final layer is **not** considered best practice. It would instead be accounted for in the loss which improves numerical stability. This will be described in more detail in a later lab.\n",
    "\n",
    "The `model.summary()` provides a description of the network:"
   ]
  },
  {
   "cell_type": "code",
   "execution_count": 41,
   "id": "ebcaa73b",
   "metadata": {},
   "outputs": [
    {
     "name": "stdout",
     "output_type": "stream",
     "text": [
      "Model: \"sequential\"\n",
      "_________________________________________________________________\n",
      " Layer (type)                Output Shape              Param #   \n",
      "=================================================================\n",
      " layer1 (Dense)              (None, 3)                 9         \n",
      "                                                                 \n",
      " layer2 (Dense)              (None, 1)                 4         \n",
      "                                                                 \n",
      "=================================================================\n",
      "Total params: 13\n",
      "Trainable params: 13\n",
      "Non-trainable params: 0\n",
      "_________________________________________________________________\n"
     ]
    }
   ],
   "source": [
    "model.summary()"
   ]
  },
  {
   "cell_type": "markdown",
   "id": "f3a35090",
   "metadata": {},
   "source": [
    "- the first layer outputs a vetor of length 3, has 9 parameters\n",
    "    - w of size 2 + b that's 3 paramteres per neuron \n",
    "    - 3 * 3 neurons that's 9 parameters total\n",
    "- for layer 2 it outputs vector of length 1 and has 4 parameters\n",
    "    - vector w of length 3 and b that's 4 total "
   ]
  },
  {
   "cell_type": "code",
   "execution_count": 42,
   "id": "01cd739f",
   "metadata": {},
   "outputs": [
    {
     "name": "stdout",
     "output_type": "stream",
     "text": [
      "For layer 1 it has w(2, 3): [[ 0.65625525 -0.25639182  0.65546405]\n",
      " [ 0.71819067  0.22940159 -0.02074826]] and b(3,): [0. 0. 0.]\n",
      "For layer 2 it has w(3, 1): [[-0.68853444]\n",
      " [-0.29041433]\n",
      " [-0.5079181 ]] and b(1,): [0.]\n"
     ]
    }
   ],
   "source": [
    "# print the instantiated parametrs \n",
    "w1,b1 = model.get_layer(\"layer1\").get_weights()\n",
    "w2,b2 = model.get_layer(\"layer2\").get_weights()\n",
    "print(f\"For layer 1 it has w{w1.shape}: {w1} and b{b1.shape}: {b1}\")\n",
    "print(f\"For layer 2 it has w{w2.shape}: {w2} and b{b2.shape}: {b2}\")"
   ]
  },
  {
   "cell_type": "code",
   "execution_count": 43,
   "id": "5f919a32",
   "metadata": {},
   "outputs": [],
   "source": [
    "# load the correct parameters\n",
    "W1 = np.array([\n",
    "    [-8.94,  0.29, 12.89],\n",
    "    [-0.17, -7.34, 10.79]] )\n",
    "b1 = np.array([-9.87, -9.28,  1.01])\n",
    "W2 = np.array([\n",
    "    [-31.38],\n",
    "    [-27.86],\n",
    "    [-32.79]])\n",
    "b2 = np.array([15.54])\n",
    "model.get_layer('layer1').set_weights([W1,b1])\n",
    "model.get_layer('layer2').set_weights([W2,b2])"
   ]
  },
  {
   "cell_type": "code",
   "execution_count": 44,
   "id": "1743cff2",
   "metadata": {},
   "outputs": [
    {
     "data": {
      "text/plain": [
       "[array([[-8.94,  0.29, 12.89],\n",
       "        [-0.17, -7.34, 10.79]], dtype=float32),\n",
       " array([-9.87, -9.28,  1.01], dtype=float32)]"
      ]
     },
     "execution_count": 44,
     "metadata": {},
     "output_type": "execute_result"
    }
   ],
   "source": [
    "model.get_layer('layer1').get_weights()"
   ]
  },
  {
   "cell_type": "code",
   "execution_count": 45,
   "id": "5804c04f",
   "metadata": {},
   "outputs": [
    {
     "data": {
      "text/plain": [
       "[array([[-31.38],\n",
       "        [-27.86],\n",
       "        [-32.79]], dtype=float32),\n",
       " array([15.54], dtype=float32)]"
      ]
     },
     "execution_count": 45,
     "metadata": {},
     "output_type": "execute_result"
    }
   ],
   "source": [
    "model.get_layer('layer2').get_weights()"
   ]
  },
  {
   "cell_type": "code",
   "execution_count": 46,
   "id": "7ad32580",
   "metadata": {},
   "outputs": [],
   "source": [
    "# predict now with Xnew\n",
    "X_test = np.array([\n",
    "    [-0.47,0.42],  # postive example\n",
    "    [-0.47,3.16]])   # negative example\n",
    "# the new example here is after normalization because the original training data was normalized before training"
   ]
  },
  {
   "cell_type": "code",
   "execution_count": 47,
   "id": "984b8e4f",
   "metadata": {},
   "outputs": [
    {
     "name": "stdout",
     "output_type": "stream",
     "text": [
      "1/1 [==============================] - 1s 1s/step\n"
     ]
    },
    {
     "data": {
      "text/plain": [
       "array([[9.6032798e-01],\n",
       "       [3.0266833e-08]], dtype=float32)"
      ]
     },
     "execution_count": 47,
     "metadata": {},
     "output_type": "execute_result"
    }
   ],
   "source": [
    "predictions = model.predict(X_test)\n",
    "predictions"
   ]
  },
  {
   "cell_type": "code",
   "execution_count": 48,
   "id": "3c12f719",
   "metadata": {},
   "outputs": [
    {
     "data": {
      "text/plain": [
       "array([[ True],\n",
       "       [False]])"
      ]
     },
     "execution_count": 48,
     "metadata": {},
     "output_type": "execute_result"
    }
   ],
   "source": [
    "# apply threshold on the predictions (probabilities)\n",
    "mask = (predictions >= 0.5)\n",
    "mask"
   ]
  },
  {
   "cell_type": "code",
   "execution_count": 49,
   "id": "fb985b8b",
   "metadata": {
    "scrolled": true
   },
   "outputs": [
    {
     "data": {
      "text/plain": [
       "array([[1],\n",
       "       [0]])"
      ]
     },
     "execution_count": 49,
     "metadata": {},
     "output_type": "execute_result"
    }
   ],
   "source": [
    "mask.astype(int)"
   ]
  },
  {
   "cell_type": "markdown",
   "id": "7a117e10",
   "metadata": {},
   "source": [
    "<a id=\"manually\"></a>\n",
    "## 1B. Carry out predictions manually\n",
    "- we will define a function my dense \n",
    "    - it calculates carries out the calculations for a layer \n",
    "    - it takes the input vector to a layer and parameters of the layer then outputs the output vector of that layer"
   ]
  },
  {
   "cell_type": "code",
   "execution_count": 50,
   "id": "fd3e3ec3",
   "metadata": {},
   "outputs": [],
   "source": [
    "def sigmoid(z):\n",
    "    return 1 / (1 + np.exp(-z))"
   ]
  },
  {
   "cell_type": "code",
   "execution_count": 51,
   "id": "903485b3",
   "metadata": {},
   "outputs": [],
   "source": [
    "def my_dense(a_in, W, b, g): #correct\n",
    "    \"\"\"\n",
    "    Computes dense layer\n",
    "    Args:\n",
    "      a_in (ndarray (n, )) : Data, 1 example \n",
    "      W    (ndarray (n,j)) : Weight matrix, n features per unit, j units\n",
    "      b    (ndarray (j, )) : bias vector, j units  (vector because tf utilizes b as vector)\n",
    "    Returns\n",
    "      a_out (ndarray (j,))  : j units|\n",
    "    \"\"\"\n",
    "    neurons = b.shape[0]\n",
    "    a_out = np.zeros(neurons)\n",
    "    for j in range(neurons):\n",
    "        w = W[:,j] # each loop we take a column (parameter of ith neuron)\n",
    "        z = np.dot(w,a_in) + b[j]\n",
    "        a_out[j] = g(z)\n",
    "    return a_out"
   ]
  },
  {
   "cell_type": "markdown",
   "id": "cfe2f880",
   "metadata": {},
   "source": [
    "utilize `my_dense` function to make a neural network for coffee roast (we can do that for any number of layers in any network)"
   ]
  },
  {
   "cell_type": "code",
   "execution_count": 52,
   "id": "87617896",
   "metadata": {},
   "outputs": [],
   "source": [
    "def sequential(x,W1,b1,W2,b2,activation):\n",
    "    a1 = my_dense(x,W1,b1,activation)\n",
    "    a2 = my_dense(a1,W2,b2,activation)\n",
    "    return a2"
   ]
  },
  {
   "cell_type": "code",
   "execution_count": 53,
   "id": "9e19a0c2",
   "metadata": {},
   "outputs": [
    {
     "data": {
      "text/plain": [
       "array([0.96032792])"
      ]
     },
     "execution_count": 53,
     "metadata": {},
     "output_type": "execute_result"
    }
   ],
   "source": [
    "# Let's do the forward propagation we made on a new example\n",
    "X_test = np.array([-0.47,0.42])\n",
    "a2 = sequential(X_test,W1,b1,W2,b2,sigmoid)\n",
    "a2"
   ]
  },
  {
   "cell_type": "markdown",
   "id": "6ab69464",
   "metadata": {},
   "source": [
    "Let's start by writing a routine similar to Tensorflow's `model.predict()`. This will take a matrix $X$ with all $m$ examples in the rows and make a prediction by running the model."
   ]
  },
  {
   "cell_type": "code",
   "execution_count": 54,
   "id": "41ac1d2e",
   "metadata": {},
   "outputs": [],
   "source": [
    "def my_predict(X,W1,b1,W2,b2,activation):\n",
    "    m = X.shape[0]\n",
    "    predictions = np.zeros((m,1)) #why 2D?\n",
    "    for i in range(m):\n",
    "        predictions[i] = sequential(X[i],W1,b1,W2,b2,activation) # this is what we did above for one example\n",
    "    return predictions"
   ]
  },
  {
   "cell_type": "code",
   "execution_count": 55,
   "id": "e84fbc33",
   "metadata": {},
   "outputs": [],
   "source": [
    "X_test = np.array([\n",
    "    [-0.47,0.42],  # postive example\n",
    "    [-0.47,3.16]])   # negative example"
   ]
  },
  {
   "cell_type": "code",
   "execution_count": 56,
   "id": "d15e2851",
   "metadata": {},
   "outputs": [
    {
     "data": {
      "text/plain": [
       "array([[9.60327924e-01],\n",
       "       [3.02668433e-08]])"
      ]
     },
     "execution_count": 56,
     "metadata": {},
     "output_type": "execute_result"
    }
   ],
   "source": [
    "a2 = my_predict(X_test,W1,b1,W2,b2,sigmoid)\n",
    "a2"
   ]
  },
  {
   "cell_type": "code",
   "execution_count": 57,
   "id": "5311240c",
   "metadata": {},
   "outputs": [
    {
     "data": {
      "text/plain": [
       "array([[1],\n",
       "       [0]])"
      ]
     },
     "execution_count": 57,
     "metadata": {},
     "output_type": "execute_result"
    }
   ],
   "source": [
    "(a2 >= 0.5).astype(int)"
   ]
  },
  {
   "cell_type": "markdown",
   "id": "0fe704f2",
   "metadata": {},
   "source": [
    "## Vectorized implementation of forward propagation (predictions)"
   ]
  },
  {
   "cell_type": "code",
   "execution_count": 58,
   "id": "b648d4e7",
   "metadata": {},
   "outputs": [],
   "source": [
    "def my_dense_vect(a_in, W, b, g):\n",
    "     \"\"\"\n",
    "    Computes dense layer\n",
    "    Args:\n",
    "      A_in (ndarray (m,n)) : Data, m examples, n features each\n",
    "      W    (ndarray (n,j)) : Weight matrix, n features per unit, j units\n",
    "      b    (ndarray (1,j)) : bias vector, j units  \n",
    "      g    activation function (e.g. sigmoid, relu..)\n",
    "    Returns\n",
    "      A_out (ndarray (m,j)) : m examples, j units\n",
    "    \"\"\"\n",
    "    Z = np.matmul(a_in,W) + b\n",
    "    a_out = g(Z)\n",
    "    return a_out"
   ]
  },
  {
   "cell_type": "code",
   "execution_count": 64,
   "id": "3d348ed4",
   "metadata": {},
   "outputs": [],
   "source": [
    "def sequential_vect(x,W1,b1,W2,b2,activation): # the same but here we call the vectorized layer implementation\n",
    "    a1 = my_dense_vect(x,W1,b1,activation)\n",
    "    a2 = my_dense_vect(a1,W2,b2,activation)\n",
    "    return a2"
   ]
  },
  {
   "cell_type": "code",
   "execution_count": 66,
   "id": "ea5648ca",
   "metadata": {},
   "outputs": [
    {
     "data": {
      "text/plain": [
       "array([[0.96032792]])"
      ]
     },
     "execution_count": 66,
     "metadata": {},
     "output_type": "execute_result"
    }
   ],
   "source": [
    "# Let's do the forward propagation we made on a new example\n",
    "X_test = np.array([[-0.47,0.42]]) # now we make sure it is row vector (1x2 mul W1 which is here 2x3)\n",
    "a2 = sequential_vect(X_test,W1,b1,W2,b2,sigmoid)\n",
    "a2"
   ]
  },
  {
   "cell_type": "markdown",
   "id": "c4301ddb",
   "metadata": {},
   "source": [
    " `my_dense_vect` can also handle multiple examples! so no need to use something like `my_predict` "
   ]
  },
  {
   "cell_type": "code",
   "execution_count": 67,
   "id": "b8453b14",
   "metadata": {},
   "outputs": [],
   "source": [
    "X_test = np.array([\n",
    "    [-0.47,0.42],  # postive example\n",
    "    [-0.47,3.16]])   # negative example"
   ]
  },
  {
   "cell_type": "code",
   "execution_count": 68,
   "id": "bbd1fab2",
   "metadata": {},
   "outputs": [
    {
     "data": {
      "text/plain": [
       "array([[9.60327924e-01],\n",
       "       [3.02668433e-08]])"
      ]
     },
     "execution_count": 68,
     "metadata": {},
     "output_type": "execute_result"
    }
   ],
   "source": [
    "a2 = my_predict(X_test,W1,b1,W2,b2,sigmoid)\n",
    "a2"
   ]
  },
  {
   "cell_type": "code",
   "execution_count": 71,
   "id": "da04254e",
   "metadata": {},
   "outputs": [
    {
     "data": {
      "text/plain": [
       "array([[1],\n",
       "       [0]])"
      ]
     },
     "execution_count": 71,
     "metadata": {},
     "output_type": "execute_result"
    }
   ],
   "source": [
    "(a2 >= 0.5).astype(int)"
   ]
  },
  {
   "cell_type": "markdown",
   "id": "f1919697",
   "metadata": {},
   "source": [
    "matrix multiplication will work as long as we follow the convention of the input and writing W matrix for each layer in the right way mentioned above"
   ]
  },
  {
   "cell_type": "markdown",
   "id": "4993d20f",
   "metadata": {},
   "source": [
    "<a id=\"training\"></a>\n",
    "# Training a neural network"
   ]
  },
  {
   "cell_type": "markdown",
   "id": "d00989e9",
   "metadata": {},
   "source": [
    "- we will look at training a neural network in Tensor flow \n",
    "there are 3 steps to do that \n",
    "1. create the model (create the neural network and this correspondes to **creating the equation of $\\hat{y}$** given x and the parameters) and this includes \n",
    "- specifying the architecture of the model \n",
    "    - the number of layers \n",
    "    - the units in each layer \n",
    "- specifying the units activation functions\n",
    "    - for the output layer we naturally have systematic choices \n",
    "        - if we are doing **binary classification problem** then we use **sigmoid** activation function with one unit\n",
    "        - for **multicalss classification** we use **softmax acticvation functions** with number of neurons like the number of classes or categories that the value of y can take \n",
    "        - if we are doing **regression problem**:\n",
    "            - if y can be +ve and -ve (ex. stocks) we use **linear** activation function \n",
    "            - if y can only be +ve or 0 (non-negative) like housing problems then we use **Relu**\n",
    "    - for the **hidden** layers we use **Relu**\n",
    "2. compile the model, correspondes to **specifying the loss function** and this includes:\n",
    "- specifying the loss (therefor specifying the cost function as it is the average of all losses for all examples)\n",
    "3. fit the data **run gradient descent to minimize the algorithm**\n",
    "- give it the data and number of **epochs**: how many times we want the learning algorithm -like GD- to run\n",
    "- what it does is using backward propagation to calculate the partial derivatives (for every element in each w in each neuron in each layer and also the b for each neuron for each layer)"
   ]
  },
  {
   "cell_type": "code",
   "execution_count": null,
   "id": "56eaea83",
   "metadata": {},
   "outputs": [],
   "source": []
  },
  {
   "cell_type": "code",
   "execution_count": null,
   "id": "d2f32a48",
   "metadata": {},
   "outputs": [],
   "source": []
  },
  {
   "cell_type": "code",
   "execution_count": null,
   "id": "d7497825",
   "metadata": {},
   "outputs": [],
   "source": []
  },
  {
   "cell_type": "code",
   "execution_count": null,
   "id": "5140a3e5",
   "metadata": {},
   "outputs": [],
   "source": []
  },
  {
   "cell_type": "code",
   "execution_count": null,
   "id": "d9c8fbc8",
   "metadata": {},
   "outputs": [],
   "source": []
  },
  {
   "cell_type": "code",
   "execution_count": null,
   "id": "110f9d7e",
   "metadata": {},
   "outputs": [],
   "source": []
  },
  {
   "cell_type": "code",
   "execution_count": null,
   "id": "99daa4e5",
   "metadata": {},
   "outputs": [],
   "source": []
  },
  {
   "cell_type": "code",
   "execution_count": null,
   "id": "ee35e0de",
   "metadata": {},
   "outputs": [],
   "source": []
  },
  {
   "cell_type": "code",
   "execution_count": null,
   "id": "ee1d5ac1",
   "metadata": {},
   "outputs": [],
   "source": []
  },
  {
   "cell_type": "code",
   "execution_count": null,
   "id": "15e6bf12",
   "metadata": {},
   "outputs": [],
   "source": [
    "with open('supplies/test.npy', 'rb') as f:\n",
    "    X = np.load(f) # X is the temprature in celecius, And duration in minutes \n",
    "    Y = np.load(f) # Y is the label good coffee?"
   ]
  },
  {
   "cell_type": "code",
   "execution_count": null,
   "id": "09ddefab",
   "metadata": {},
   "outputs": [],
   "source": [
    "X[:5],Y[:5]"
   ]
  },
  {
   "cell_type": "code",
   "execution_count": null,
   "id": "0d5a654b",
   "metadata": {},
   "outputs": [],
   "source": [
    "X.shape,Y.shape"
   ]
  },
  {
   "cell_type": "code",
   "execution_count": null,
   "id": "b0515473",
   "metadata": {},
   "outputs": [],
   "source": [
    "X[:,0].max(),X[:,0].mean(),X[:,0].min() # The temprature column"
   ]
  },
  {
   "cell_type": "code",
   "execution_count": null,
   "id": "aab13e81",
   "metadata": {},
   "outputs": [],
   "source": [
    "X[:,1].max(),X[:,1].mean(),X[:,1].min() # the duration column"
   ]
  },
  {
   "cell_type": "markdown",
   "id": "ebaf45a2",
   "metadata": {},
   "source": [
    "### Tip: Normalize Data\n",
    "Fitting the weights to the data (back-propagation, covered in next week's lectures) will proceed more quickly if the data is normalized. This is the same procedure you used in Course 1 where features in the data are each normalized to have a similar range. \n",
    "The procedure below uses a Keras [normalization layer](https://keras.io/api/layers/preprocessing_layers/numerical/normalization/). It has the following steps:\n",
    "- create a \"Normalization Layer\". Note, as applied here, this is not a layer in your model.\n",
    "- 'adapt' the data. This learns the mean and variance of the data set and saves the values internally.\n",
    "- normalize the data.  \n",
    "It is important to apply normalization to any future data that utilizes the learned model."
   ]
  },
  {
   "cell_type": "code",
   "execution_count": null,
   "id": "07f51cd6",
   "metadata": {},
   "outputs": [],
   "source": [
    "normalization_layer = tf.keras.layers.Normalization(axis = -1)\n",
    "normalization_layer.adapt(X) #learns mean and variance\n",
    "Xn = normalization_layer(X)"
   ]
  },
  {
   "cell_type": "code",
   "execution_count": null,
   "id": "955afe89",
   "metadata": {},
   "outputs": [],
   "source": [
    "Xn = Xn.numpy()"
   ]
  },
  {
   "cell_type": "code",
   "execution_count": null,
   "id": "54554043",
   "metadata": {},
   "outputs": [],
   "source": [
    "Xn[:,0].max(),Xn[:,0].mean(),Xn[:,0].min()"
   ]
  },
  {
   "cell_type": "code",
   "execution_count": null,
   "id": "eb43717a",
   "metadata": {},
   "outputs": [],
   "source": [
    "Xn[:,1].max(),Xn[:,1].mean(),Xn[:,1].min()"
   ]
  }
 ],
 "metadata": {
  "kernelspec": {
   "display_name": "Python 3",
   "language": "python",
   "name": "python3"
  },
  "language_info": {
   "codemirror_mode": {
    "name": "ipython",
    "version": 3
   },
   "file_extension": ".py",
   "mimetype": "text/x-python",
   "name": "python",
   "nbconvert_exporter": "python",
   "pygments_lexer": "ipython3",
   "version": "3.8.8"
  }
 },
 "nbformat": 4,
 "nbformat_minor": 5
}
