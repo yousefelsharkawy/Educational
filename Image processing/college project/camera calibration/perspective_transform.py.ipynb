{
 "cells": [
  {
   "cell_type": "code",
   "execution_count": 1,
   "id": "e3dbf3c0",
   "metadata": {},
   "outputs": [],
   "source": [
    "def per_transform(img):\n",
    "    img_size = (img.shape[1],img.shape[0])\n",
    "    src = np.float32([[510,500], [785,470],[200,img_size[1]],[1180,650]])\n",
    "    offset = 100\n",
    "    dst = np.float32([[offset, offset], [img_size[0]-offset, offset], \n",
    "                                     [offset, img_size[1]-offset],\n",
    "                                     [img_size[0]-offset, img_size[1]-offset] \n",
    "                                    ])\n",
    "    M = cv2.getPerspectiveTransform(src, dst)\n",
    "    Minv = cv2.getPerspectiveTransform(dst, src)\n",
    "    warped = cv2.warpPerspective(img, M, img_size)\n",
    "    return warped"
   ]
  }
 ],
 "metadata": {
  "kernelspec": {
   "display_name": "Python 3",
   "language": "python",
   "name": "python3"
  },
  "language_info": {
   "codemirror_mode": {
    "name": "ipython",
    "version": 3
   },
   "file_extension": ".py",
   "mimetype": "text/x-python",
   "name": "python",
   "nbconvert_exporter": "python",
   "pygments_lexer": "ipython3",
   "version": "3.8.8"
  }
 },
 "nbformat": 4,
 "nbformat_minor": 5
}
