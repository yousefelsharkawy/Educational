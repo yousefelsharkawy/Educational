{
 "cells": [
  {
   "cell_type": "markdown",
   "id": "5b305410",
   "metadata": {},
   "source": [
    "# OpenCv \n",
    "- it is a computer vision library concerned about getting insights out of media files (images and videos)"
   ]
  },
  {
   "cell_type": "code",
   "execution_count": 1,
   "id": "32a5ec9e",
   "metadata": {},
   "outputs": [],
   "source": [
    "import cv2 as cv"
   ]
  },
  {
   "cell_type": "code",
   "execution_count": 2,
   "id": "bd1c28b6",
   "metadata": {},
   "outputs": [],
   "source": [
    "# pip install caer\n",
    "# help to speed up the workflow "
   ]
  },
  {
   "cell_type": "markdown",
   "id": "b7bd36e2",
   "metadata": {},
   "source": [
    "## Read and display images"
   ]
  },
  {
   "cell_type": "code",
   "execution_count": 3,
   "id": "7f3133b7",
   "metadata": {},
   "outputs": [],
   "source": [
    "#read the image\n",
    "cat = cv.imread('images/cat.jpg')"
   ]
  },
  {
   "cell_type": "code",
   "execution_count": 4,
   "id": "89ead764",
   "metadata": {},
   "outputs": [],
   "source": [
    "#display the image by user function interface \n",
    "def display(image,title):\n",
    "    cv.imshow(title, image)\n",
    "    cv.waitKey(0) #keyboard bound function, when we pass 0 it wait infinite amount of time for a key to be pressed"
   ]
  },
  {
   "cell_type": "code",
   "execution_count": 5,
   "id": "083fa5e2",
   "metadata": {},
   "outputs": [],
   "source": [
    "display(cat,'Cat')"
   ]
  },
  {
   "cell_type": "code",
   "execution_count": 6,
   "id": "4145541b",
   "metadata": {},
   "outputs": [],
   "source": [
    "# read a large image \n",
    "large_img = cv.imread('images/large.jpg')\n",
    "display(large_img,'Large')"
   ]
  },
  {
   "cell_type": "markdown",
   "id": "a7b6c922",
   "metadata": {},
   "source": [
    "- openCv doesnt have a built-in way to deal with images larger than the size of the monitor\n",
    "    - there are ways that will be discussed"
   ]
  },
  {
   "cell_type": "markdown",
   "id": "a3085c86",
   "metadata": {},
   "source": [
    "### Reading Videos\n",
    "- cv.Videocapter()\n",
    "    - takes an int or path to video\n",
    "        - integer in case of camera or webcame connected to the computer \n",
    "            - in this case 0 usually means the webcam\n",
    "            - if we have multiple cameras connected use different integers \n",
    "- read() keeps reading frame from a capture pointer, everytime it returns wiher the frame was successfully read and the frame itself"
   ]
  },
  {
   "cell_type": "code",
   "execution_count": 11,
   "id": "be72264c",
   "metadata": {},
   "outputs": [],
   "source": [
    "capture = cv.VideoCapture('Videos/Dog - 15305.mp4') #capture is instance of the videocapture class that contains the video given"
   ]
  },
  {
   "cell_type": "code",
   "execution_count": 12,
   "id": "3b669793",
   "metadata": {},
   "outputs": [],
   "source": [
    "while True:\n",
    "    isTrue,frame = capture.read() #read frame by frame\n",
    "    cv.imshow('Video', frame) #Display each frame\n",
    "    \n",
    "    if cv.waitKey(20) & 0xFF == ord('q'): #break if the letter q is pressed and wait for it 20 millesecond -make sure-\n",
    "        break\n",
    "capture.release() #relesase the capture pointer \n",
    "cv.destroyAllWindows() #and destroy all windows"
   ]
  },
  {
   "cell_type": "markdown",
   "id": "d898c03c",
   "metadata": {},
   "source": [
    "- once its done the video ends, it stops and we get an error \n",
    "    - -215 assertion failed\n",
    "    - that means the openCv couldn't find a media file at that location \n",
    "    - because the video ran out of frames so it broke of the loop by error or we actually specified a wrong path"
   ]
  }
 ],
 "metadata": {
  "kernelspec": {
   "display_name": "Python 3",
   "language": "python",
   "name": "python3"
  },
  "language_info": {
   "codemirror_mode": {
    "name": "ipython",
    "version": 3
   },
   "file_extension": ".py",
   "mimetype": "text/x-python",
   "name": "python",
   "nbconvert_exporter": "python",
   "pygments_lexer": "ipython3",
   "version": "3.8.8"
  }
 },
 "nbformat": 4,
 "nbformat_minor": 5
}
